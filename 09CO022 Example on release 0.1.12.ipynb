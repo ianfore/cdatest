{
 "cells": [
  {
   "cell_type": "markdown",
   "metadata": {},
   "source": [
    "## CDA Example for subject 09CO022 - tested on release 0.1.12\n",
    "\n",
    "This is an update to this example following the fix in https://github.com/CancerDataAggregator/cda-python/issues/16\n",
    "\n",
    "This notebook explores whether the genomic and proteomic data from a single CPTAC2 subject (person) become aggregated by the Cancer Data Aggregator (CDA). The following diagram shows, independent of CDA, a hierarchy of specimens and sub-specimens that were derived from that subject. In a sense one might say it is a 'ground truth' which it is useful to see whether CDA accurately represent. The subject was part of the TCGA Colon Cancer project and has the identifier 09CO022<sup>1</sup>. \n",
    "\n",
    "![09CO022](images/09CO022.jpg)\n",
    "\n",
    "In the Genomic Data Commons portal we can see the three specimens that were used for genomic analysis. The ids for the specimens match those in blue in the diagram above. Note that the specimen ids shown are those used by the TCGA/CPTAC2 projects, as opposed to the UUIDs within the GDC.\n",
    "![09CO022](images/09CO022_GDC.jpg)\n",
    "\n",
    "We'll leave aside for now how to do a query using the '09CO022' identifier. From the GDC portal page shown above we identify that the ResearchSubject.id that the CDA will use is c5421e34-e5c7-4ba5-aed9-146a5575fd8d.\n",
    "\n",
    "On to a query using that value.\n",
    "\n",
    "<sup>1</sup>Other identifiers were created for the subject in different systems but this identifier is used so we can refer to the subject independently of any of those specific systems. It is also a more convenient id to use than a UUID when writing or speaking."
   ]
  },
  {
   "cell_type": "code",
   "execution_count": 1,
   "metadata": {},
   "outputs": [],
   "source": [
    "from cdapython import Q, columns, unique_terms\n",
    "import json"
   ]
  },
  {
   "cell_type": "markdown",
   "metadata": {},
   "source": [
    "The following query is what one would expect to return the subject shown above. We'll save the json result to a file."
   ]
  },
  {
   "cell_type": "code",
   "execution_count": 3,
   "metadata": {},
   "outputs": [
    {
     "name": "stdout",
     "output_type": "stream",
     "text": [
      "\n",
      "Query: SELECT p.* FROM gdc-bq-sample.cda_mvp.v3 AS p, UNNEST(ResearchSubject) AS _ResearchSubject WHERE (_ResearchSubject.id = 'c5421e34-e5c7-4ba5-aed9-146a5575fd8d')\n",
      "Offset: 0\n",
      "Limit: 2\n",
      "Count: 1\n",
      "More pages: No\n",
      "\n"
     ]
    }
   ],
   "source": [
    "q1 = Q('ResearchSubject.id = \"c5421e34-e5c7-4ba5-aed9-146a5575fd8d\"')\n",
    "r = q1.run(limit=2) \n",
    "r.sql\n",
    "print(r)\n",
    "j = json.dumps(r[0], indent=3)\n",
    "with open('query_results/09CO022_fix.json', 'w') as f:\n",
    "    f.write(j)"
   ]
  },
  {
   "cell_type": "markdown",
   "metadata": {},
   "source": [
    "Worth noting that this gave one result, as would be expected for a query specifying a single subject id.\n",
    "\n",
    "The fix in https://github.com/CancerDataAggregator/cda-python/issues/16 fixes the problem that the ResearchSubject details are returned at the top level.\n",
    "\n",
    "The following indicates that we only get patient attributes at the top level."
   ]
  },
  {
   "cell_type": "code",
   "execution_count": 5,
   "metadata": {},
   "outputs": [
    {
     "name": "stdout",
     "output_type": "stream",
     "text": [
      "days_to_birth\n",
      "race\n",
      "sex\n",
      "ethnicity\n",
      "id\n",
      "ResearchSubject\n"
     ]
    }
   ],
   "source": [
    "for k in r[0].keys():\n",
    "    print(k)"
   ]
  },
  {
   "cell_type": "markdown",
   "metadata": {},
   "source": [
    "From the above we note that there are ResearchSubjects within ResearchSubjects. Looking at the specimens of the first nested ResearchSubject."
   ]
  },
  {
   "cell_type": "markdown",
   "metadata": {},
   "source": [
    "## The same subject as part of a query on subject attributes\n",
    "Querying via the id of a specific subject as above was useful in looking at how the CDA behaves when looking at a single subject. It isolates the query from other situations.\n",
    "\n",
    "Looking at the attributes of subject 09CO022 we can run the following query which should return 09CO022 alongside subjects with the same attributes."
   ]
  },
  {
   "cell_type": "code",
   "execution_count": 15,
   "metadata": {},
   "outputs": [
    {
     "name": "stdout",
     "output_type": "stream",
     "text": [
      "\n",
      "Query: SELECT p.* FROM gdc-bq-sample.cda_mvp.v3 AS p, UNNEST(ResearchSubject) AS _ResearchSubject, UNNEST(_ResearchSubject.Diagnosis) AS _Diagnosis WHERE (((_ResearchSubject.associated_project = 'CPTAC-2') AND (_Diagnosis.tumor_stage = 'Stage IIB')) AND (_ResearchSubject.primary_disease_site = 'Colon'))\n",
      "Offset: 0\n",
      "Limit: 100\n",
      "Count: 8\n",
      "More pages: No\n",
      "\n"
     ]
    }
   ],
   "source": [
    "qc1 = Q('ResearchSubject.associated_project = \"CPTAC-2\"')\n",
    "qc2 = Q('ResearchSubject.Diagnosis.tumor_stage = \"Stage IIB\"')\n",
    "qc3 = Q('ResearchSubject.primary_disease_site = \"Colon\"')\n",
    "\n",
    "q2 = qc1.And(qc2).And(qc3)\n",
    "r2 = q2.run(limit=100) \n",
    "r2.sql\n",
    "print(r2)"
   ]
  },
  {
   "cell_type": "markdown",
   "metadata": {},
   "source": [
    "This ha the modified SQL - so the root is still only patient. \n",
    "\n",
    "That tesult shows that we appear to have eight matches. The following explores what they are."
   ]
  },
  {
   "cell_type": "code",
   "execution_count": 20,
   "metadata": {},
   "outputs": [
    {
     "name": "stdout",
     "output_type": "stream",
     "text": [
      "Patient 15CO002\n",
      "nested subject: 15CO002\n",
      "\t system:GDC id:44ecd34b-aa2b-4ce1-ab23-c64aee162f69\n",
      "nested subject: None\n",
      "\t system:PDC id:d2b0df58-63d6-11e8-bcf1-0a2705229b82\n",
      "query_results/subj_1.json\n",
      "________________________________________________________________________________\n",
      "Patient 15CO002\n",
      "nested subject: 15CO002\n",
      "\t system:GDC id:44ecd34b-aa2b-4ce1-ab23-c64aee162f69\n",
      "nested subject: None\n",
      "\t system:PDC id:d2b0df58-63d6-11e8-bcf1-0a2705229b82\n",
      "query_results/subj_2.json\n",
      "________________________________________________________________________________\n",
      "Patient 09CO022\n",
      "nested subject: 09CO022\n",
      "\t system:GDC id:c5421e34-e5c7-4ba5-aed9-146a5575fd8d\n",
      "nested subject: None\n",
      "\t system:PDC id:459e3b69-63d6-11e8-bcf1-0a2705229b82\n",
      "query_results/subj_3.json\n",
      "________________________________________________________________________________\n",
      "Patient 09CO022\n",
      "nested subject: 09CO022\n",
      "\t system:GDC id:c5421e34-e5c7-4ba5-aed9-146a5575fd8d\n",
      "nested subject: None\n",
      "\t system:PDC id:459e3b69-63d6-11e8-bcf1-0a2705229b82\n",
      "query_results/subj_4.json\n",
      "________________________________________________________________________________\n",
      "Patient 05CO039\n",
      "nested subject: 05CO039\n",
      "\t system:GDC id:997475b1-6648-494a-9322-79aa17be272e\n",
      "nested subject: None\n",
      "\t system:PDC id:2254625e-63d6-11e8-bcf1-0a2705229b82\n",
      "query_results/subj_5.json\n",
      "________________________________________________________________________________\n",
      "Patient 05CO039\n",
      "nested subject: 05CO039\n",
      "\t system:GDC id:997475b1-6648-494a-9322-79aa17be272e\n",
      "nested subject: None\n",
      "\t system:PDC id:2254625e-63d6-11e8-bcf1-0a2705229b82\n",
      "query_results/subj_6.json\n",
      "________________________________________________________________________________\n",
      "Patient 05CO044\n",
      "nested subject: 05CO044\n",
      "\t system:GDC id:5e55cf3e-9f95-4b8c-8212-b540da3047cb\n",
      "nested subject: None\n",
      "\t system:PDC id:24cb0fcb-63d6-11e8-bcf1-0a2705229b82\n",
      "query_results/subj_7.json\n",
      "________________________________________________________________________________\n",
      "Patient 05CO044\n",
      "nested subject: 05CO044\n",
      "\t system:GDC id:5e55cf3e-9f95-4b8c-8212-b540da3047cb\n",
      "nested subject: None\n",
      "\t system:PDC id:24cb0fcb-63d6-11e8-bcf1-0a2705229b82\n",
      "query_results/subj_8.json\n",
      "________________________________________________________________________________\n"
     ]
    }
   ],
   "source": [
    "rn = 1\n",
    "for resItem in r2:\n",
    "    j = json.dumps(resItem, indent=3)\n",
    "    print('Patient {}'.format(resItem['id']))\n",
    "    for rs in resItem['ResearchSubject']:\n",
    "        subj_name = rs['Specimen'][0]['derived_from_subject']\n",
    "        print('nested subject: {}'.format(subj_name))\n",
    "        id = rs['identifier'][0]\n",
    "        print ('\\t system:{} id:{}'.format(id['system'],id['value']))     \n",
    "    fpath = 'query_results/subj_'+str(rn)+'.json'\n",
    "    print(fpath)\n",
    "    with open(fpath, 'w') as f:\n",
    "        f.write(j)\n",
    "    rn +=1\n",
    "    print('_'*80)"
   ]
  },
  {
   "cell_type": "markdown",
   "metadata": {},
   "source": [
    "In fact there are only four true patients here. For each of those four, there are two records in the results. \n",
    "\n",
    "### Issue 7\n",
    "Same subject is returned three times when queried on subject attributes."
   ]
  },
  {
   "cell_type": "code",
   "execution_count": 21,
   "metadata": {},
   "outputs": [],
   "source": [
    "import cda_client\n",
    "host='https://cda.cda-dev.broadinstitute.org'\n",
    "api_client = cda_client.ApiClient(configuration=cda_client.Configuration(host=host))\n",
    "api_instance = cda_client.QueryApi(api_client)"
   ]
  },
  {
   "cell_type": "code",
   "execution_count": 23,
   "metadata": {},
   "outputs": [],
   "source": [
    "import json\n",
    "query1 = ''' select * from gdc-bq-sample.cda_mvp.v3\n",
    "where id in\n",
    "(SELECT distinct p.id FROM gdc-bq-sample.cda_mvp.v3 AS p, \n",
    "UNNEST(ResearchSubject) AS _ResearchSubject, \n",
    "UNNEST(_ResearchSubject.Diagnosis) AS _Diagnosis \n",
    "WHERE (((_ResearchSubject.associated_project = 'CPTAC-2') \n",
    "AND (_Diagnosis.tumor_stage = 'Stage IIB')) \n",
    "AND (_ResearchSubject.primary_disease_site = 'Colon')) )'''\n",
    "api_response1 = api_instance.sql_query('v3',query1)\n",
    "\n",
    "# The results are bulky to list in a notebook - so we'll write them to a file\n",
    "#with open('query_results/09CO022_query1.json', 'w') as f:\n",
    "#    f.write(json.dumps(api_response1.result, indent=3))"
   ]
  },
  {
   "cell_type": "code",
   "execution_count": 24,
   "metadata": {},
   "outputs": [
    {
     "name": "stdout",
     "output_type": "stream",
     "text": [
      "Patient 15CO002\n",
      "nested subject: 15CO002\n",
      "\t system:GDC id:44ecd34b-aa2b-4ce1-ab23-c64aee162f69\n",
      "nested subject: None\n",
      "\t system:PDC id:d2b0df58-63d6-11e8-bcf1-0a2705229b82\n",
      "query_results/subj_1.json\n",
      "________________________________________________________________________________\n",
      "Patient 09CO022\n",
      "nested subject: 09CO022\n",
      "\t system:GDC id:c5421e34-e5c7-4ba5-aed9-146a5575fd8d\n",
      "nested subject: None\n",
      "\t system:PDC id:459e3b69-63d6-11e8-bcf1-0a2705229b82\n",
      "query_results/subj_2.json\n",
      "________________________________________________________________________________\n",
      "Patient 05CO039\n",
      "nested subject: 05CO039\n",
      "\t system:GDC id:997475b1-6648-494a-9322-79aa17be272e\n",
      "nested subject: None\n",
      "\t system:PDC id:2254625e-63d6-11e8-bcf1-0a2705229b82\n",
      "query_results/subj_3.json\n",
      "________________________________________________________________________________\n",
      "Patient 05CO044\n",
      "nested subject: 05CO044\n",
      "\t system:GDC id:5e55cf3e-9f95-4b8c-8212-b540da3047cb\n",
      "nested subject: None\n",
      "\t system:PDC id:24cb0fcb-63d6-11e8-bcf1-0a2705229b82\n",
      "query_results/subj_4.json\n",
      "________________________________________________________________________________\n"
     ]
    }
   ],
   "source": [
    "rn = 1\n",
    "for resItem in api_response1.result:\n",
    "    j = json.dumps(resItem, indent=3)\n",
    "    print('Patient {}'.format(resItem['id']))\n",
    "    for rs in resItem['ResearchSubject']:\n",
    "        subj_name = rs['Specimen'][0]['derived_from_subject']\n",
    "        print('nested subject: {}'.format(subj_name))\n",
    "        id = rs['identifier'][0]\n",
    "        print ('\\t system:{} id:{}'.format(id['system'],id['value']))     \n",
    "    fpath = 'query_results/subj_'+str(rn)+'.json'\n",
    "    print(fpath)\n",
    "    with open(fpath, 'w') as f:\n",
    "        f.write(j)\n",
    "    rn +=1\n",
    "    print('_'*80)"
   ]
  },
  {
   "cell_type": "code",
   "execution_count": null,
   "metadata": {},
   "outputs": [],
   "source": []
  }
 ],
 "metadata": {
  "kernelspec": {
   "display_name": "cda-env",
   "language": "python",
   "name": "cda-env"
  },
  "language_info": {
   "codemirror_mode": {
    "name": "ipython",
    "version": 3
   },
   "file_extension": ".py",
   "mimetype": "text/x-python",
   "name": "python",
   "nbconvert_exporter": "python",
   "pygments_lexer": "ipython3",
   "version": "3.7.3"
  }
 },
 "nbformat": 4,
 "nbformat_minor": 4
}
