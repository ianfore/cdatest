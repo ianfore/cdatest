{
 "cells": [
  {
   "cell_type": "markdown",
   "metadata": {},
   "source": [
    "Run a query which returns two columns"
   ]
  },
  {
   "cell_type": "code",
   "execution_count": 2,
   "metadata": {},
   "outputs": [
    {
     "data": {
      "text/plain": [
       "{'next_url': None,\n",
       " 'previous_url': None,\n",
       " 'query_sql': 'select p.id ,  s1.id\\n'\n",
       "              '    FROM gdc-bq-sample.cda_mvp.v3 p,\\n'\n",
       "              '    unnest(ResearchSubject) as s1,\\n'\n",
       "              '    UNNEST(s1.identifier) as i1,\\n'\n",
       "              '    UNNEST(s1.Diagnosis) as d1\\n'\n",
       "              \"    where i1.system ='GDC' \\n\"\n",
       "              '    order by p.id ',\n",
       " 'result': [{'id': 'be37f1f7-2f98-4f74-bc04-6dd2ae2afcad'},\n",
       "            {'id': 'e6915db0-7c89-484d-8f9f-15cca68b82fc'},\n",
       "            {'id': '16614d46-172b-479c-992b-e80a8e9a2c59'},\n",
       "            {'id': '567fc9e3-17a6-42b1-a896-5e9a9507d1d8'},\n",
       "            {'id': '54e89878-a1bc-4f5a-9d68-4842a469586e'},\n",
       "            {'id': 'a1c7b7b9-b8c8-48c3-9420-55497f9318fd'},\n",
       "            {'id': 'ce3c8b98-e275-4cfd-a379-940d675a564b'},\n",
       "            {'id': 'e4ce89ef-bcaa-418a-8a6b-3602793b9bbf'},\n",
       "            {'id': '19d3c861-8a5f-49a2-acc0-b55b25465c35'},\n",
       "            {'id': 'afae8dce-294a-4108-bb28-376f804ae5c4'}]}"
      ]
     },
     "execution_count": 2,
     "metadata": {},
     "output_type": "execute_result"
    }
   ],
   "source": [
    "import cda_client\n",
    "host='https://cda.cda-dev.broadinstitute.org'\n",
    "api_client = cda_client.ApiClient(configuration=cda_client.Configuration(host=host))\n",
    "api_instance = cda_client.QueryApi(api_client)\n",
    "\n",
    "two_id_query = '''select p.id ,  s1.id\n",
    "    FROM gdc-bq-sample.cda_mvp.v3 p,\n",
    "    unnest(ResearchSubject) as s1,\n",
    "    UNNEST(s1.identifier) as i1,\n",
    "    UNNEST(s1.Diagnosis) as d1\n",
    "    where i1.system ='GDC' \n",
    "    order by p.id '''\n",
    "api_instance.sql_query('v3',two_id_query,\n",
    "                      limit=10)"
   ]
  },
  {
   "cell_type": "markdown",
   "metadata": {},
   "source": [
    "Try the API directly. This demonstrates the issue occurs within the API, not the python client."
   ]
  },
  {
   "cell_type": "code",
   "execution_count": 3,
   "metadata": {},
   "outputs": [
    {
     "data": {
      "text/plain": [
       "{'query_sql': \"select p.id ,  s1.id\\n    FROM gdc-bq-sample.cda_mvp.v3 p,\\n    unnest(ResearchSubject) as s1,\\n    UNNEST(s1.identifier) as i1,\\n    UNNEST(s1.Diagnosis) as d1\\n    where i1.system ='GDC' \\n    order by p.id \",\n",
       " 'result': [{'id': 'be37f1f7-2f98-4f74-bc04-6dd2ae2afcad'},\n",
       "  {'id': 'e6915db0-7c89-484d-8f9f-15cca68b82fc'},\n",
       "  {'id': '16614d46-172b-479c-992b-e80a8e9a2c59'},\n",
       "  {'id': '567fc9e3-17a6-42b1-a896-5e9a9507d1d8'},\n",
       "  {'id': '54e89878-a1bc-4f5a-9d68-4842a469586e'},\n",
       "  {'id': 'a1c7b7b9-b8c8-48c3-9420-55497f9318fd'},\n",
       "  {'id': 'ce3c8b98-e275-4cfd-a379-940d675a564b'},\n",
       "  {'id': 'e4ce89ef-bcaa-418a-8a6b-3602793b9bbf'},\n",
       "  {'id': '19d3c861-8a5f-49a2-acc0-b55b25465c35'},\n",
       "  {'id': 'afae8dce-294a-4108-bb28-376f804ae5c4'}],\n",
       " 'previous_url': None,\n",
       " 'next_url': None}"
      ]
     },
     "execution_count": 3,
     "metadata": {},
     "output_type": "execute_result"
    }
   ],
   "source": [
    "import requests\n",
    "def runAPIQuery(querystring, limit=None):\n",
    "    cdaURL = 'https://cda.cda-dev.broadinstitute.org/api/v1/sql-query/v3'\n",
    "    #Using a limit:\n",
    "    if limit is not None:\n",
    "        cdaURL = \"{}?limit={}\".format(cdaURL, str(limit))\n",
    "        \n",
    "    headers = {'accept' : 'application/json', 'Content-Type' : 'text/plain'}\n",
    "\n",
    "    request = requests.post(cdaURL, headers = headers, data = querystring)\n",
    "\n",
    "    if request.status_code == 200:\n",
    "        return request.json()\n",
    "    else:\n",
    "        raise Exception (\"Query failed code {}. {}\".format(request.status_code,query))\n",
    "        \n",
    "runAPIQuery(two_id_query, limit=10)"
   ]
  },
  {
   "cell_type": "markdown",
   "metadata": {},
   "source": [
    "The SQL is legal, as demonstrated by the fact it runs. In this case what is actually returned by BigQuery can't be seen. However, the following comparable query to BigQuery also has two 'id' columns. BiqQuery returns these as 'id' and 'id_1'.\n",
    "\n",
    "` SELECT f.id, r.*, sa.id, f.object.aliquot_value.*\n",
    "FROM isbcgc-216220.1000Genomes.BDC_1000Genomes f, unnest (relations) as r\n",
    "join isbcgc-216220.1000Genomes.BDC_1000Genomes sa on r.dst_id = sa.id\n",
    "where f.name = 'aliquot' `\n"
   ]
  },
  {
   "cell_type": "code",
   "execution_count": 4,
   "metadata": {},
   "outputs": [
    {
     "data": {
      "text/plain": [
       "{'query_sql': 'select p.id ,  su.id, su_id.system, su_id.value, sp_id.system, sp_id.value\\n    FROM gdc-bq-sample.cda_mvp.v3 p,\\n    unnest(ResearchSubject) as su,\\n    UNNEST(su.Identifier) as su_id,\\n    unnest(Specimen) as sp,\\n    UNNEST(sp.Identifier) as sp_id\\n    order by p.id ',\n",
       " 'result': [{'id': 'be37f1f7-2f98-4f74-bc04-6dd2ae2afcad',\n",
       "   'system': 'GDC',\n",
       "   'value': '786c67dd-7425-5804-97ce-7b64e96569c1'},\n",
       "  {'id': 'be37f1f7-2f98-4f74-bc04-6dd2ae2afcad',\n",
       "   'system': 'GDC',\n",
       "   'value': 'dcc36b6e-7743-40b4-98eb-06580a694e0e'},\n",
       "  {'id': 'be37f1f7-2f98-4f74-bc04-6dd2ae2afcad',\n",
       "   'system': 'GDC',\n",
       "   'value': '721645ba-916b-5481-bf76-63891cb79836'},\n",
       "  {'id': 'be37f1f7-2f98-4f74-bc04-6dd2ae2afcad',\n",
       "   'system': 'GDC',\n",
       "   'value': '49602e48-0ccf-5f3c-9529-255fc3f3368f'},\n",
       "  {'id': 'be37f1f7-2f98-4f74-bc04-6dd2ae2afcad',\n",
       "   'system': 'GDC',\n",
       "   'value': '3ae5c716-7061-4236-8a90-bddc4e6e4834'},\n",
       "  {'id': 'be37f1f7-2f98-4f74-bc04-6dd2ae2afcad',\n",
       "   'system': 'GDC',\n",
       "   'value': 'e0c6965b-fe8a-4ada-bf8f-c6a00d506ecd'},\n",
       "  {'id': 'be37f1f7-2f98-4f74-bc04-6dd2ae2afcad',\n",
       "   'system': 'GDC',\n",
       "   'value': '7c2a9d5c-2315-57bd-ade5-e0932b421b0e'},\n",
       "  {'id': 'be37f1f7-2f98-4f74-bc04-6dd2ae2afcad',\n",
       "   'system': 'GDC',\n",
       "   'value': '65be1f28-b428-59e5-a187-22335ec57c17'},\n",
       "  {'id': 'be37f1f7-2f98-4f74-bc04-6dd2ae2afcad',\n",
       "   'system': 'GDC',\n",
       "   'value': '41d6aa10-181a-47cc-8eb5-3a28a8421a7d'},\n",
       "  {'id': 'be37f1f7-2f98-4f74-bc04-6dd2ae2afcad',\n",
       "   'system': 'GDC',\n",
       "   'value': '14fbb898-2e88-5dd5-b7f6-6783a89754f4'}],\n",
       " 'previous_url': None,\n",
       " 'next_url': None}"
      ]
     },
     "execution_count": 4,
     "metadata": {},
     "output_type": "execute_result"
    }
   ],
   "source": [
    "test_query = '''select p.id ,  su.id, su_id.system, su_id.value, sp_id.system, sp_id.value\n",
    "    FROM gdc-bq-sample.cda_mvp.v3 p,\n",
    "    unnest(ResearchSubject) as su,\n",
    "    UNNEST(su.Identifier) as su_id,\n",
    "    unnest(Specimen) as sp,\n",
    "    UNNEST(sp.Identifier) as sp_id\n",
    "    order by p.id '''\n",
    "runAPIQuery(test_query,\n",
    "                      limit=10)"
   ]
  },
  {
   "cell_type": "markdown",
   "metadata": {},
   "source": [
    "What happens if we look at the raw content of the API response?"
   ]
  },
  {
   "cell_type": "code",
   "execution_count": 13,
   "metadata": {},
   "outputs": [
    {
     "name": "stdout",
     "output_type": "stream",
     "text": [
      "b'{\"query_sql\":\"select p.id ,  s1.id\\\\n    FROM gdc-bq-sample.cda_mvp.v3 p,\\\\n    unnest(ResearchSubject) as s1,\\\\n    UNNEST(s1.identifier) as i1,\\\\n    UNNEST(s1.Diagnosis) as d1\\\\n    where i1.system =\\'GDC\\' \\\\n    order by p.id \",\"result\":[{\\n  \"id\": \"01BR001\",\\n  \"id\": \"be37f1f7-2f98-4f74-bc04-6dd2ae2afcad\"\\n}, {\\n  \"id\": \"01BR008\",\\n  \"id\": \"e6915db0-7c89-484d-8f9f-15cca68b82fc\"\\n}, {\\n  \"id\": \"01BR009\",\\n  \"id\": \"16614d46-172b-479c-992b-e80a8e9a2c59\"\\n}, {\\n  \"id\": \"01BR010\",\\n  \"id\": \"567fc9e3-17a6-42b1-a896-5e9a9507d1d8\"\\n}, {\\n  \"id\": \"01BR015\",\\n  \"id\": \"54e89878-a1bc-4f5a-9d68-4842a469586e\"\\n}, {\\n  \"id\": \"01BR017\",\\n  \"id\": \"a1c7b7b9-b8c8-48c3-9420-55497f9318fd\"\\n}, {\\n  \"id\": \"01BR018\",\\n  \"id\": \"ce3c8b98-e275-4cfd-a379-940d675a564b\"\\n}, {\\n  \"id\": \"01BR020\",\\n  \"id\": \"e4ce89ef-bcaa-418a-8a6b-3602793b9bbf\"\\n}, {\\n  \"id\": \"01BR023\",\\n  \"id\": \"19d3c861-8a5f-49a2-acc0-b55b25465c35\"\\n}, {\\n  \"id\": \"01BR025\",\\n  \"id\": \"afae8dce-294a-4108-bb28-376f804ae5c4\"\\n}],\"previous_url\":null,\"next_url\":null}'\n"
     ]
    }
   ],
   "source": [
    "cdaURL = 'https://cda.cda-dev.broadinstitute.org/api/v1/sql-query/v3?limit=10'\n",
    "\n",
    "headers = {'accept' : 'application/json', 'Content-Type' : 'text/plain'}\n",
    "\n",
    "request = requests.post(cdaURL, headers = headers, data = two_id_query)\n",
    "print (request.content)"
   ]
  },
  {
   "cell_type": "markdown",
   "metadata": {},
   "source": [
    "The multiple ids are present there in the raw content. As follows it is request.json() that eliminates them."
   ]
  },
  {
   "cell_type": "code",
   "execution_count": 14,
   "metadata": {},
   "outputs": [
    {
     "data": {
      "text/plain": [
       "{'query_sql': \"select p.id ,  s1.id\\n    FROM gdc-bq-sample.cda_mvp.v3 p,\\n    unnest(ResearchSubject) as s1,\\n    UNNEST(s1.identifier) as i1,\\n    UNNEST(s1.Diagnosis) as d1\\n    where i1.system ='GDC' \\n    order by p.id \",\n",
       " 'result': [{'id': 'be37f1f7-2f98-4f74-bc04-6dd2ae2afcad'},\n",
       "  {'id': 'e6915db0-7c89-484d-8f9f-15cca68b82fc'},\n",
       "  {'id': '16614d46-172b-479c-992b-e80a8e9a2c59'},\n",
       "  {'id': '567fc9e3-17a6-42b1-a896-5e9a9507d1d8'},\n",
       "  {'id': '54e89878-a1bc-4f5a-9d68-4842a469586e'},\n",
       "  {'id': 'a1c7b7b9-b8c8-48c3-9420-55497f9318fd'},\n",
       "  {'id': 'ce3c8b98-e275-4cfd-a379-940d675a564b'},\n",
       "  {'id': 'e4ce89ef-bcaa-418a-8a6b-3602793b9bbf'},\n",
       "  {'id': '19d3c861-8a5f-49a2-acc0-b55b25465c35'},\n",
       "  {'id': 'afae8dce-294a-4108-bb28-376f804ae5c4'}],\n",
       " 'previous_url': None,\n",
       " 'next_url': None}"
      ]
     },
     "execution_count": 14,
     "metadata": {},
     "output_type": "execute_result"
    }
   ],
   "source": [
    "request.json()"
   ]
  },
  {
   "cell_type": "markdown",
   "metadata": {},
   "source": [
    "That is a problem in the python requests module. The content is not legal json - so the requests module would be better raising an error rather than passing on an incomplete version of the content."
   ]
  },
  {
   "cell_type": "code",
   "execution_count": null,
   "metadata": {},
   "outputs": [],
   "source": [
    "The CDA REST API issue is that it should avoid passing back illegal j"
   ]
  }
 ],
 "metadata": {
  "kernelspec": {
   "display_name": "cda-env",
   "language": "python",
   "name": "cda-env"
  },
  "language_info": {
   "codemirror_mode": {
    "name": "ipython",
    "version": 3
   },
   "file_extension": ".py",
   "mimetype": "text/x-python",
   "name": "python",
   "nbconvert_exporter": "python",
   "pygments_lexer": "ipython3",
   "version": "3.7.3"
  }
 },
 "nbformat": 4,
 "nbformat_minor": 4
}
