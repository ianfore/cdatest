{
 "cells": [
  {
   "cell_type": "markdown",
   "metadata": {},
   "source": [
    "## Query 1\n",
    "'Find data from TCGA-BRCA project, with donors over age 50 with Stage IIIC cancer.'\n",
    "\n",
    "General note about this example - it is GDC only - there is no aggregation component to it. So not really a test of a Data Aggregator.\n",
    "\n",
    "The list of fields we can obtain as follows gives us some clues about how we could formulate the question above."
   ]
  },
  {
   "cell_type": "code",
   "execution_count": 9,
   "metadata": {},
   "outputs": [
    {
     "name": "stderr",
     "output_type": "stream",
     "text": [
      "SELECT field_path FROM `gdc-bq-sample.cda_mvp.INFORMATION_SCHEMA.COLUMN_FIELD_PATHS` WHERE table_name = 'v3'\n"
     ]
    },
    {
     "data": {
      "text/plain": [
       "['days_to_birth',\n",
       " 'race',\n",
       " 'sex',\n",
       " 'ethnicity',\n",
       " 'id',\n",
       " 'ResearchSubject',\n",
       " 'ResearchSubject.Diagnosis',\n",
       " 'ResearchSubject.Diagnosis.morphology',\n",
       " 'ResearchSubject.Diagnosis.tumor_stage',\n",
       " 'ResearchSubject.Diagnosis.tumor_grade',\n",
       " 'ResearchSubject.Diagnosis.Treatment',\n",
       " 'ResearchSubject.Diagnosis.Treatment.type',\n",
       " 'ResearchSubject.Diagnosis.Treatment.outcome',\n",
       " 'ResearchSubject.Diagnosis.id',\n",
       " 'ResearchSubject.Diagnosis.primary_diagnosis',\n",
       " 'ResearchSubject.Diagnosis.age_at_diagnosis',\n",
       " 'ResearchSubject.Specimen',\n",
       " 'ResearchSubject.Specimen.File',\n",
       " 'ResearchSubject.Specimen.File.label',\n",
       " 'ResearchSubject.Specimen.File.associated_project',\n",
       " 'ResearchSubject.Specimen.File.drs_uri',\n",
       " 'ResearchSubject.Specimen.File.identifier',\n",
       " 'ResearchSubject.Specimen.File.identifier.system',\n",
       " 'ResearchSubject.Specimen.File.identifier.value',\n",
       " 'ResearchSubject.Specimen.File.data_category',\n",
       " 'ResearchSubject.Specimen.File.byte_size',\n",
       " 'ResearchSubject.Specimen.File.type',\n",
       " 'ResearchSubject.Specimen.File.file_format',\n",
       " 'ResearchSubject.Specimen.File.checksum',\n",
       " 'ResearchSubject.Specimen.File.id',\n",
       " 'ResearchSubject.Specimen.File.data_type',\n",
       " 'ResearchSubject.Specimen.derived_from_specimen',\n",
       " 'ResearchSubject.Specimen.associated_project',\n",
       " 'ResearchSubject.Specimen.age_at_collection',\n",
       " 'ResearchSubject.Specimen.anatomical_site',\n",
       " 'ResearchSubject.Specimen.source_material_type',\n",
       " 'ResearchSubject.Specimen.derived_from_subject',\n",
       " 'ResearchSubject.Specimen.specimen_type',\n",
       " 'ResearchSubject.Specimen.id',\n",
       " 'ResearchSubject.Specimen.primary_disease_type',\n",
       " 'ResearchSubject.Specimen.identifier',\n",
       " 'ResearchSubject.Specimen.identifier.system',\n",
       " 'ResearchSubject.Specimen.identifier.value',\n",
       " 'ResearchSubject.associated_project',\n",
       " 'ResearchSubject.id',\n",
       " 'ResearchSubject.primary_disease_type',\n",
       " 'ResearchSubject.identifier',\n",
       " 'ResearchSubject.identifier.system',\n",
       " 'ResearchSubject.identifier.value',\n",
       " 'ResearchSubject.primary_disease_site']"
      ]
     },
     "execution_count": 9,
     "metadata": {},
     "output_type": "execute_result"
    }
   ],
   "source": [
    "from cdapython import Q, columns, unique_terms\n",
    "columns()"
   ]
  },
  {
   "cell_type": "markdown",
   "metadata": {},
   "source": [
    "\n",
    "\n",
    "### TCGA-BRCA project\n",
    "There are three immediately obvious project columns at increasing levels of nesting\n",
    "```\n",
    "ResearchSubject.associated_project\n",
    "ResearchSubject.Specimen.associated_project\n",
    "ResearchSubject.Specimen.File.associated_project\n",
    "```\n",
    "From knowledge of TCGA my guess is that ResearchSubject.associated_project is the most appropriate to use.\n",
    "\n",
    "(Various caveats about that)\n",
    "\n",
    "#### Issue\n",
    "The lower level project fields are likely redundant. In the interests of a minimal model - suggest they are removed.\n",
    "\n",
    "We can check whether the field contains a value corresponding to the TCGA-BRCA project \n",
    "\n",
    "(Note that while this may seem obvious, we should not take it for granted. In this case we found an exact match. That won't always be the case. "
   ]
  },
  {
   "cell_type": "code",
   "execution_count": 10,
   "metadata": {},
   "outputs": [
    {
     "name": "stderr",
     "output_type": "stream",
     "text": [
      "SELECT DISTINCT(_ResearchSubject.associated_project) FROM `gdc-bq-sample.cda_mvp.v3`, UNNEST(ResearchSubject) AS _ResearchSubject ORDER BY _ResearchSubject.associated_project\n"
     ]
    },
    {
     "name": "stdout",
     "output_type": "stream",
     "text": [
      "['Academia Sinica LUAD-100', 'BEATAML1.0-COHORT', 'BEATAML1.0-CRENOLANIB', 'CGCI-BLGSP']\n",
      "['CGCI-HTMCP-CC', 'CMI-ASC', 'CMI-MBC', 'CMI-MPC']\n",
      "['CPTAC-2', 'CPTAC-3', 'CPTAC-TCGA', 'CPTAC2 Retrospective']\n",
      "['CPTAC3-Discovery', 'CTSP-DLBCL1', 'FM-AD', 'GENIE-DFCI']\n",
      "['GENIE-GRCC', 'GENIE-JHU', 'GENIE-MDA', 'GENIE-MSK']\n",
      "['GENIE-NKI', 'GENIE-UHN', 'GENIE-VICC', 'Georgetown Lung Cancer Proteomics Study']\n",
      "['HCMI-CMDC', 'Human Early-Onset Gastric Cancer - Korea University', 'Integrated Proteogenomic Characterization of HBV-related Hepatocellular carcinoma', 'MMRF-COMMPASS']\n",
      "['NCICCR-DLBCL', 'OHSU-CNL', 'ORGANOID-PANCREATIC', 'Oral Squamous Cell Carcinoma - Chang Gung University']\n",
      "['PJ25730263', 'Proteogenomic Analysis of Pediatric Brain Cancer Tumors Pilot Study', 'TARGET-ALL-P1', 'TARGET-ALL-P2']\n",
      "['TARGET-ALL-P3', 'TARGET-AML', 'TARGET-CCSK', 'TARGET-NBL']\n",
      "['TARGET-OS', 'TARGET-RT', 'TARGET-WT', 'TCGA-ACC']\n",
      "['TCGA-BLCA', 'TCGA-BRCA', 'TCGA-CESC', 'TCGA-CHOL']\n",
      "['TCGA-COAD', 'TCGA-DLBC', 'TCGA-ESCA', 'TCGA-GBM']\n",
      "['TCGA-HNSC', 'TCGA-KICH', 'TCGA-KIRC', 'TCGA-KIRP']\n",
      "['TCGA-LAML', 'TCGA-LGG', 'TCGA-LIHC', 'TCGA-LUAD']\n",
      "['TCGA-LUSC', 'TCGA-MESO', 'TCGA-OV', 'TCGA-PAAD']\n",
      "['TCGA-PCPG', 'TCGA-PRAD', 'TCGA-READ', 'TCGA-SARC']\n",
      "['TCGA-SKCM', 'TCGA-STAD', 'TCGA-TGCT', 'TCGA-THCA']\n",
      "['TCGA-THYM', 'TCGA-UCEC', 'TCGA-UCS', 'TCGA-UVM']\n",
      "['VAREPOP-APOLLO', 'WCDT-MCRPC']\n"
     ]
    }
   ],
   "source": [
    "ut = unique_terms(\"ResearchSubject.associated_project\")\n",
    "\n",
    "# define a function to list values from a List more compactly\n",
    "def formatList(lst, cols=4):\n",
    "    for i in range(0, len(lst), cols):\n",
    "        print( lst[i:i + cols])\n",
    "\n",
    "formatList(ut)"
   ]
  },
  {
   "cell_type": "markdown",
   "metadata": {},
   "source": [
    "### 'Over age 50'\n",
    "There are three columns shown above which one might choose to formulate the query\n",
    "days_to_birth\n",
    "ResearchSubject.Diagnosis.age_at_diagnosis\n",
    "ResearchSubject.Specimen.age_at_collection"
   ]
  },
  {
   "cell_type": "code",
   "execution_count": 11,
   "metadata": {},
   "outputs": [],
   "source": [
    "def runQuery1(p, a, s = None):\n",
    "    bigquery = p.And(a)\n",
    "    if s != None:\n",
    "        bigquery = bigquery.And(s)\n",
    "    r4 = bigquery.run(limit=1000) \n",
    "    r4.sql\n",
    "    print(r4)"
   ]
  },
  {
   "cell_type": "code",
   "execution_count": 12,
   "metadata": {},
   "outputs": [
    {
     "name": "stdout",
     "output_type": "stream",
     "text": [
      "\n",
      "Query: SELECT * FROM gdc-bq-sample.cda_mvp.v3, UNNEST(ResearchSubject) AS _ResearchSubject WHERE ((_ResearchSubject.associated_project = \"TCGA-BRCA\" ) AND (v3.days_to_birth > 365.25*50))\n",
      "Offset: 0\n",
      "Limit: 1000\n",
      "Count: 0\n",
      "More pages: No\n",
      "\n"
     ]
    }
   ],
   "source": [
    "ageq = Q('days_to_birth > 365.25*50')\n",
    "projq = Q('ResearchSubject.associated_project = \"TCGA-BRCA\" ')\n",
    "\n",
    "runQuery1(projq, ageq)\n"
   ]
  },
  {
   "cell_type": "code",
   "execution_count": 13,
   "metadata": {},
   "outputs": [
    {
     "name": "stdout",
     "output_type": "stream",
     "text": [
      "\n",
      "Query: SELECT * FROM gdc-bq-sample.cda_mvp.v3, UNNEST(ResearchSubject) AS _ResearchSubject, UNNEST(_ResearchSubject.Diagnosis) AS _Diagnosis WHERE ((_ResearchSubject.associated_project = \"TCGA-BRCA\" ) AND (_Diagnosis.age_at_diagnosis > 365.25*50))\n",
      "Offset: 0\n",
      "Limit: 1000\n",
      "Count: 794\n",
      "More pages: No\n",
      "\n"
     ]
    }
   ],
   "source": [
    "ageq = Q('ResearchSubject.Diagnosis.age_at_diagnosis > 365.25*50')\n",
    "#And try again\n",
    "runQuery1(projq, ageq)"
   ]
  },
  {
   "cell_type": "markdown",
   "metadata": {},
   "source": []
  },
  {
   "cell_type": "markdown",
   "metadata": {},
   "source": [
    "### Stage IIIC cancer\n",
    "As far as fields go, this seems less ambiguous. ResearchSubject.Diagnosis.tumor_stage seems to be the field to use. We can go straight to looking at its list of values."
   ]
  },
  {
   "cell_type": "code",
   "execution_count": 14,
   "metadata": {},
   "outputs": [
    {
     "name": "stderr",
     "output_type": "stream",
     "text": [
      "SELECT DISTINCT(_Diagnosis.tumor_stage) FROM `gdc-bq-sample.cda_mvp.v3`, UNNEST(ResearchSubject) AS _ResearchSubject,UNNEST(_ResearchSubject.Diagnosis) AS _Diagnosis ORDER BY _Diagnosis.tumor_stage\n"
     ]
    },
    {
     "name": "stdout",
     "output_type": "stream",
     "text": [
      "[None, '', '1B', '2A', '2B', '3']\n",
      "['4', 'Adverse', 'Favorable', 'FavorableOrIntermediate', 'I', 'I b']\n",
      "['IA', 'IB', 'IC', 'II', 'II b', 'IIA']\n",
      "['IIB', 'III', 'IIIA', 'IIIB', 'IIIC', 'IPI:0']\n",
      "['IPI:1', 'IPI:12', 'IPI:13', 'IPI:14', 'IPI:15', 'IPI:2']\n",
      "['IPI:23', 'IPI:24', 'IPI:25', 'IPI:3', 'IPI:34', 'IPI:35']\n",
      "['IPI:4', 'IPI:45', 'IPI:5', 'IV', 'IVA', 'IVB']\n",
      "['IVa', 'IVb', 'Intermediate', 'IntermediateOrAdverse', 'N/A', 'Normal']\n",
      "['Not Performed', 'Not Reported', 'Not Reported/ Unknown', 'Not Reported/Unknown', 'PT4apN0', 'Stage 1B']\n",
      "['Stage I', 'Stage IA', 'Stage IA3', 'Stage IB', 'Stage IC', 'Stage II']\n",
      "['Stage IIA', 'Stage IIB', 'Stage III', 'Stage IIIA', 'Stage IIIB', 'Stage IIIC']\n",
      "['Stage IV', 'Stage IVA', 'Stage IVB', 'Stage1', 'T1N0Mx', 'T1aN0M0']\n",
      "['T2', 'TxNxM1', 'Unknown', 'i', 'i/ii nos', 'ii']\n",
      "['ii/v', 'iii', 'iii/v', 'iiib', 'iiib/v', 'is']\n",
      "['iv', 'iv/v', 'na', 'no resection', 'not reported', 'pT1']\n",
      "['pT1a', 'pT1b', 'pT1pN0', 'pT1pNx', 'pT2 N0', 'pT2, pN2,  pM not applicable']\n",
      "['pT2, pN2, pM not applicable', 'pT2N0', 'pT2N0Mx', 'pT2N1', 'pT2N2', 'pT2pN0']\n",
      "['pT2pN2b', 'pT2pNx', 'pT3', 'pT3 N2 M(Not Applicable)', 'pT3a', 'pT3pN0']\n",
      "['pT3pN2b', 'pT3pNx', 'pT4', 'pT4N0', 'pT4apN0', 'pT4apN2b']\n",
      "['pT4apN2c', 'stage 0', 'stage 4', 'stage i', 'stage ia', 'stage ib']\n",
      "['stage ii', 'stage iia', 'stage iib', 'stage iic', 'stage iii', 'stage iiia']\n",
      "['stage iiib', 'stage iiic', 'stage iv', 'stage iva', 'stage ivb', 'stage ivc']\n",
      "['stage x', 'u', 'unknown', 'v']\n"
     ]
    }
   ],
   "source": [
    "stage_terms = unique_terms(\"ResearchSubject.Diagnosis.tumor_stage\")\n",
    "formatList(stage_terms, 6)"
   ]
  },
  {
   "cell_type": "markdown",
   "metadata": {},
   "source": [
    "However, we have a number of choices for the value which corresponds for Stage IIIc.\n",
    "\n",
    "```\n",
    "'IIIC',\n",
    " 'Stage IIIC',\n",
    " 'stage iiic',\n",
    "```\n",
    "\n",
    "Looking at the values listed (e.g. 'iiib' and 'iiib/v' it's only by luck that 'iiic' wasn't used also.\n",
    "\n",
    "Note: I hadn't fully taken on board that what is passed through to Q is a query as a string literal. Formally stated,  this is not really a python binding for the query language. Effectively this is a pass through to the specifics of the underlying query language. That begs the question of what the purpose of that layer is. It is not really providing the separation from the implementation that was sought. \n",
    "\n",
    "We might guess at the following as an approach to searching for all the variants of stage iiib.\n"
   ]
  },
  {
   "cell_type": "code",
   "execution_count": 15,
   "metadata": {},
   "outputs": [
    {
     "ename": "ValueError",
     "evalue": "Invalid value for `node_type` (in), must be one of ['column', 'quoted', 'unquoted', '>=', '<=', '<', '>', '=', '~', 'AND', 'OR', 'NOT', 'SUBQUERY']",
     "output_type": "error",
     "traceback": [
      "\u001b[0;31m---------------------------------------------------------------------------\u001b[0m",
      "\u001b[0;31mValueError\u001b[0m                                Traceback (most recent call last)",
      "\u001b[0;32m<ipython-input-15-7f98e07a9d9a>\u001b[0m in \u001b[0;36m<module>\u001b[0;34m\u001b[0m\n\u001b[0;32m----> 1\u001b[0;31m \u001b[0mqc2\u001b[0m \u001b[0;34m=\u001b[0m \u001b[0mQ\u001b[0m\u001b[0;34m(\u001b[0m\u001b[0;34m'ResearchSubject.Diagnosis.tumor_stage in (\"IIIC\",\"Stage IIIC\",\"stage iiic\") '\u001b[0m\u001b[0;34m)\u001b[0m\u001b[0;34m\u001b[0m\u001b[0;34m\u001b[0m\u001b[0m\n\u001b[0m\u001b[1;32m      2\u001b[0m \u001b[0mr3\u001b[0m \u001b[0;34m=\u001b[0m \u001b[0mqc2\u001b[0m\u001b[0;34m.\u001b[0m\u001b[0mrun\u001b[0m\u001b[0;34m(\u001b[0m\u001b[0mlimit\u001b[0m\u001b[0;34m=\u001b[0m\u001b[0;36m1000\u001b[0m\u001b[0;34m)\u001b[0m\u001b[0;34m\u001b[0m\u001b[0;34m\u001b[0m\u001b[0m\n\u001b[1;32m      3\u001b[0m \u001b[0mr3\u001b[0m\u001b[0;34m.\u001b[0m\u001b[0msql\u001b[0m\u001b[0;34m\u001b[0m\u001b[0;34m\u001b[0m\u001b[0m\n\u001b[1;32m      4\u001b[0m \u001b[0mprint\u001b[0m\u001b[0;34m(\u001b[0m\u001b[0mr3\u001b[0m\u001b[0;34m)\u001b[0m\u001b[0;34m\u001b[0m\u001b[0;34m\u001b[0m\u001b[0m\n",
      "\u001b[0;32m~/imfenvs/cda-env/lib/python3.7/site-packages/cdapython.py\u001b[0m in \u001b[0;36m__init__\u001b[0;34m(self, *args)\u001b[0m\n\u001b[1;32m     54\u001b[0m             \u001b[0m_r\u001b[0m \u001b[0;34m=\u001b[0m \u001b[0minfer_quote\u001b[0m\u001b[0;34m(\u001b[0m\u001b[0margs\u001b[0m\u001b[0;34m[\u001b[0m\u001b[0;36m2\u001b[0m\u001b[0;34m]\u001b[0m\u001b[0;34m)\u001b[0m\u001b[0;34m\u001b[0m\u001b[0;34m\u001b[0m\u001b[0m\n\u001b[1;32m     55\u001b[0m \u001b[0;34m\u001b[0m\u001b[0m\n\u001b[0;32m---> 56\u001b[0;31m         \u001b[0mself\u001b[0m\u001b[0;34m.\u001b[0m\u001b[0mquery\u001b[0m\u001b[0;34m.\u001b[0m\u001b[0mnode_type\u001b[0m \u001b[0;34m=\u001b[0m \u001b[0m_op\u001b[0m\u001b[0;34m\u001b[0m\u001b[0;34m\u001b[0m\u001b[0m\n\u001b[0m\u001b[1;32m     57\u001b[0m         \u001b[0mself\u001b[0m\u001b[0;34m.\u001b[0m\u001b[0mquery\u001b[0m\u001b[0;34m.\u001b[0m\u001b[0ml\u001b[0m \u001b[0;34m=\u001b[0m \u001b[0m_l\u001b[0m\u001b[0;34m\u001b[0m\u001b[0;34m\u001b[0m\u001b[0m\n\u001b[1;32m     58\u001b[0m         \u001b[0mself\u001b[0m\u001b[0;34m.\u001b[0m\u001b[0mquery\u001b[0m\u001b[0;34m.\u001b[0m\u001b[0mr\u001b[0m \u001b[0;34m=\u001b[0m \u001b[0m_r\u001b[0m\u001b[0;34m\u001b[0m\u001b[0;34m\u001b[0m\u001b[0m\n",
      "\u001b[0;32m~/imfenvs/cda-env/lib/python3.7/site-packages/cda_client/models/query.py\u001b[0m in \u001b[0;36mnode_type\u001b[0;34m(self, node_type)\u001b[0m\n\u001b[1;32m     90\u001b[0m             raise ValueError(\n\u001b[1;32m     91\u001b[0m                 \u001b[0;34m\"Invalid value for `node_type` ({0}), must be one of {1}\"\u001b[0m  \u001b[0;31m# noqa: E501\u001b[0m\u001b[0;34m\u001b[0m\u001b[0;34m\u001b[0m\u001b[0m\n\u001b[0;32m---> 92\u001b[0;31m                 \u001b[0;34m.\u001b[0m\u001b[0mformat\u001b[0m\u001b[0;34m(\u001b[0m\u001b[0mnode_type\u001b[0m\u001b[0;34m,\u001b[0m \u001b[0mallowed_values\u001b[0m\u001b[0;34m)\u001b[0m\u001b[0;34m\u001b[0m\u001b[0;34m\u001b[0m\u001b[0m\n\u001b[0m\u001b[1;32m     93\u001b[0m             )\n\u001b[1;32m     94\u001b[0m \u001b[0;34m\u001b[0m\u001b[0m\n",
      "\u001b[0;31mValueError\u001b[0m: Invalid value for `node_type` (in), must be one of ['column', 'quoted', 'unquoted', '>=', '<=', '<', '>', '=', '~', 'AND', 'OR', 'NOT', 'SUBQUERY']"
     ]
    }
   ],
   "source": [
    "qc2 = Q('ResearchSubject.Diagnosis.tumor_stage in (\"IIIC\",\"Stage IIIC\",\"stage iiic\") ')\n",
    "r3 = qc2.run(limit=1000) \n",
    "r3.sql\n",
    "print(r3)"
   ]
  },
  {
   "cell_type": "markdown",
   "metadata": {},
   "source": [
    "That syntax doesn't seem to be allowed, but the following approach seems to work."
   ]
  },
  {
   "cell_type": "code",
   "execution_count": 16,
   "metadata": {},
   "outputs": [
    {
     "name": "stdout",
     "output_type": "stream",
     "text": [
      "\n",
      "Query: SELECT * FROM gdc-bq-sample.cda_mvp.v3, UNNEST(ResearchSubject) AS _ResearchSubject, UNNEST(_ResearchSubject.Diagnosis) AS _Diagnosis WHERE (((_Diagnosis.tumor_stage = \"Stage IIIC\" ) OR (_Diagnosis.tumor_stage = \"IIIC\" )) OR (_Diagnosis.tumor_stage = \"stage iiic\" ))\n",
      "Offset: 0\n",
      "Limit: 1000\n",
      "Count: 420\n",
      "More pages: No\n",
      "\n"
     ]
    }
   ],
   "source": [
    "stageq1 = Q('ResearchSubject.Diagnosis.tumor_stage = \"Stage IIIC\" ')\n",
    "stageq2 = Q('ResearchSubject.Diagnosis.tumor_stage = \"IIIC\" ')\n",
    "stageq3 = Q('ResearchSubject.Diagnosis.tumor_stage = \"stage iiic\" ')\n",
    "\n",
    "stageq = stageq1.Or(stageq2).Or(stageq3)\n",
    "r3 = stageq.run(limit=1000) \n",
    "r3.sql\n",
    "print(r3)"
   ]
  },
  {
   "cell_type": "markdown",
   "metadata": {},
   "source": [
    "### Combining all three parts of Query 1"
   ]
  },
  {
   "cell_type": "code",
   "execution_count": 17,
   "metadata": {},
   "outputs": [
    {
     "name": "stdout",
     "output_type": "stream",
     "text": [
      "\n",
      "Query: SELECT * FROM gdc-bq-sample.cda_mvp.v3, UNNEST(ResearchSubject) AS _ResearchSubject, UNNEST(_ResearchSubject.Diagnosis) AS _Diagnosis WHERE (((_ResearchSubject.associated_project = \"TCGA-BRCA\" ) AND (_Diagnosis.age_at_diagnosis > 365.25*50)) AND (((_Diagnosis.tumor_stage = \"Stage IIIC\" ) OR (_Diagnosis.tumor_stage = \"IIIC\" )) OR (_Diagnosis.tumor_stage = \"stage iiic\" )))\n",
      "Offset: 0\n",
      "Limit: 1000\n",
      "Count: 45\n",
      "More pages: No\n",
      "\n"
     ]
    }
   ],
   "source": [
    "runQuery1(projq, ageq, stageq)"
   ]
  },
  {
   "cell_type": "markdown",
   "metadata": {},
   "source": [
    "As a check: compare the results for each value of stage individually"
   ]
  },
  {
   "cell_type": "code",
   "execution_count": 18,
   "metadata": {},
   "outputs": [
    {
     "name": "stdout",
     "output_type": "stream",
     "text": [
      "\n",
      "Query: SELECT * FROM gdc-bq-sample.cda_mvp.v3, UNNEST(ResearchSubject) AS _ResearchSubject, UNNEST(_ResearchSubject.Diagnosis) AS _Diagnosis WHERE (((_ResearchSubject.associated_project = \"TCGA-BRCA\" ) AND (_Diagnosis.age_at_diagnosis > 365.25*50)) AND (_Diagnosis.tumor_stage = \"IIIC\" ))\n",
      "Offset: 0\n",
      "Limit: 1000\n",
      "Count: 0\n",
      "More pages: No\n",
      "\n",
      "________________________________________________________________________________\n",
      "\n",
      "Query: SELECT * FROM gdc-bq-sample.cda_mvp.v3, UNNEST(ResearchSubject) AS _ResearchSubject, UNNEST(_ResearchSubject.Diagnosis) AS _Diagnosis WHERE (((_ResearchSubject.associated_project = \"TCGA-BRCA\" ) AND (_Diagnosis.age_at_diagnosis > 365.25*50)) AND (_Diagnosis.tumor_stage = \"Stage IIIC\" ))\n",
      "Offset: 0\n",
      "Limit: 1000\n",
      "Count: 0\n",
      "More pages: No\n",
      "\n",
      "________________________________________________________________________________\n",
      "\n",
      "Query: SELECT * FROM gdc-bq-sample.cda_mvp.v3, UNNEST(ResearchSubject) AS _ResearchSubject, UNNEST(_ResearchSubject.Diagnosis) AS _Diagnosis WHERE (((_ResearchSubject.associated_project = \"TCGA-BRCA\" ) AND (_Diagnosis.age_at_diagnosis > 365.25*50)) AND (_Diagnosis.tumor_stage = \"stage iiic\" ))\n",
      "Offset: 0\n",
      "Limit: 1000\n",
      "Count: 45\n",
      "More pages: No\n",
      "\n",
      "________________________________________________________________________________\n"
     ]
    }
   ],
   "source": [
    "stages = ['IIIC', 'Stage IIIC', 'stage iiic']\n",
    "\n",
    "for stage in stages:\n",
    "    qText = 'ResearchSubject.Diagnosis.tumor_stage = \"{}\" '.format(stage)\n",
    "    stageq = Q(qText)\n",
    "    runQuery1(projq, ageq, stageq)\n",
    "    print('_'*80)"
   ]
  },
  {
   "cell_type": "markdown",
   "metadata": {},
   "source": [
    "So it seems all the results are where the stage value is \"stage iiic\". As noted in Slack the data have not been harmonized. It seems likely that stage was reported in this form in the TCGA-BRCA project, at least.\n",
    "\n",
    "This is informative in the scope of the harmonization problem, and in informing what approaches might be taken to deal with it.\n",
    "\n",
    "Can we do unique_terms() specific to a project? Or would we have to code this ourselves?"
   ]
  },
  {
   "cell_type": "markdown",
   "metadata": {},
   "source": [
    "### Back to Age\n",
    "What about ResearchSubject.Specimen.age_at_collection"
   ]
  },
  {
   "cell_type": "code",
   "execution_count": 27,
   "metadata": {},
   "outputs": [
    {
     "name": "stdout",
     "output_type": "stream",
     "text": [
      "\n",
      "Query: SELECT * FROM gdc-bq-sample.cda_mvp.v3, UNNEST(ResearchSubject) AS _ResearchSubject, UNNEST(_ResearchSubject.Specimen) AS _Specimen, UNNEST(_ResearchSubject.Diagnosis) AS _Diagnosis WHERE (((_ResearchSubject.associated_project = \"TCGA-BRCA\" ) AND (_Specimen.age_at_collection > 365.25*50)) AND (((_Diagnosis.tumor_stage = \"Stage IIIC\" ) OR (_Diagnosis.tumor_stage = \"IIIC\" )) OR (_Diagnosis.tumor_stage = \"stage iiic\" )))\n",
      "Offset: 0\n",
      "Limit: 1000\n",
      "Count: 0\n",
      "More pages: No\n",
      "\n"
     ]
    }
   ],
   "source": [
    "stageq = stageq1.Or(stageq2).Or(stageq3)\n",
    "collection_ageq = Q('ResearchSubject.Specimen.age_at_collection > 365.25*50')\n",
    "runQuery1(projq, collection_ageq, stageq )"
   ]
  },
  {
   "cell_type": "code",
   "execution_count": 26,
   "metadata": {},
   "outputs": [
    {
     "name": "stdout",
     "output_type": "stream",
     "text": [
      "\n",
      "Query: SELECT * FROM gdc-bq-sample.cda_mvp.v3, UNNEST(ResearchSubject) AS _ResearchSubject, UNNEST(_ResearchSubject.Specimen) AS _Specimen, UNNEST(_ResearchSubject.Diagnosis) AS _Diagnosis WHERE (((_ResearchSubject.associated_project = \"TCGA-BRCA\" ) AND (_Specimen.age_at_collection > 50)) AND (((_Diagnosis.tumor_stage = \"Stage IIIC\" ) OR (_Diagnosis.tumor_stage = \"IIIC\" )) OR (_Diagnosis.tumor_stage = \"stage iiic\" )))\n",
      "Offset: 0\n",
      "Limit: 1000\n",
      "Count: 0\n",
      "More pages: No\n",
      "\n"
     ]
    }
   ],
   "source": [
    "collection_ageq = Q('ResearchSubject.Specimen.age_at_collection > 50')\n",
    "runQuery1(projq, collection_ageq, stageq )"
   ]
  },
  {
   "cell_type": "code",
   "execution_count": 28,
   "metadata": {},
   "outputs": [
    {
     "name": "stdout",
     "output_type": "stream",
     "text": [
      "\n",
      "Query: SELECT * FROM gdc-bq-sample.cda_mvp.v3, UNNEST(ResearchSubject) AS _ResearchSubject, UNNEST(_ResearchSubject.Specimen) AS _Specimen, UNNEST(_ResearchSubject.Diagnosis) AS _Diagnosis WHERE (((_ResearchSubject.associated_project = \"TCGA-BRCA\" ) AND (_Specimen.age_at_collection > 0)) AND (((_Diagnosis.tumor_stage = \"Stage IIIC\" ) OR (_Diagnosis.tumor_stage = \"IIIC\" )) OR (_Diagnosis.tumor_stage = \"stage iiic\" )))\n",
      "Offset: 0\n",
      "Limit: 1000\n",
      "Count: 0\n",
      "More pages: No\n",
      "\n"
     ]
    }
   ],
   "source": [
    "collection_ageq = Q('ResearchSubject.Specimen.age_at_collection > 0')\n",
    "runQuery1(projq, collection_ageq, stageq )"
   ]
  },
  {
   "cell_type": "code",
   "execution_count": 31,
   "metadata": {},
   "outputs": [
    {
     "ename": "ApiException",
     "evalue": "(400)\nReason: \nHTTP response headers: HTTPHeaderDict({'Content-Type': 'application/json', 'Transfer-Encoding': 'chunked', 'Date': 'Fri, 09 Apr 2021 21:16:53 GMT', 'Via': '1.1 google', 'Alt-Svc': 'clear'})\nHTTP response body: {\"message\":\"Error calling BigQuery: 'SELECT * FROM gdc-bq-sample.cda_mvp.v3, UNNEST(ResearchSubject) AS _ResearchSubject, UNNEST(_ResearchSubject.Specimen) AS _Specimen, UNNEST(_ResearchSubject.Diagnosis) AS _Diagnosis WHERE (((_ResearchSubject.associated_project = \\\"TCGA-BRCA\\\" ) AND (NOT _Specimen.age_at_collection)) AND (((_Diagnosis.tumor_stage = \\\"Stage IIIC\\\" ) OR (_Diagnosis.tumor_stage = \\\"IIIC\\\" )) OR (_Diagnosis.tumor_stage = \\\"stage iiic\\\" ))) LIMIT 1000 OFFSET 0'\",\"statusCode\":400,\"causes\":[\"Error calling BigQuery: 'SELECT * FROM gdc-bq-sample.cda_mvp.v3, UNNEST(ResearchSubject) AS _ResearchSubject, UNNEST(_ResearchSubject.Specimen) AS _Specimen, UNNEST(_ResearchSubject.Diagnosis) AS _Diagnosis WHERE (((_ResearchSubject.associated_project = \\\"TCGA-BRCA\\\" ) AND (NOT _Specimen.age_at_collection)) AND (((_Diagnosis.tumor_stage = \\\"Stage IIIC\\\" ) OR (_Diagnosis.tumor_stage = \\\"IIIC\\\" )) OR (_Diagnosis.tumor_stage = \\\"stage iiic\\\" ))) LIMIT 1000 OFFSET 0'\",\"No matching signature for operator NOT for argument types: INT64. Supported signature: NOT (BOOL) at [1:285]\",\"400 Bad Request\\nGET https://www.googleapis.com/bigquery/v2/projects/broad-cda-dev/queries/a755be75-7bdb-4f2f-8071-466ef758a209?location=US&maxResults=0&prettyPrint=false\\n{\\n  \\\"code\\\" : 400,\\n  \\\"errors\\\" : [ {\\n    \\\"domain\\\" : \\\"global\\\",\\n    \\\"location\\\" : \\\"q\\\",\\n    \\\"locationType\\\" : \\\"parameter\\\",\\n    \\\"message\\\" : \\\"No matching signature for operator NOT for argument types: INT64. Supported signature: NOT (BOOL) at [1:285]\\\",\\n    \\\"reason\\\" : \\\"invalidQuery\\\"\\n  } ],\\n  \\\"message\\\" : \\\"No matching signature for operator NOT for argument types: INT64. Supported signature: NOT (BOOL) at [1:285]\\\",\\n  \\\"status\\\" : \\\"INVALID_ARGUMENT\\\"\\n}\"]}\n",
     "output_type": "error",
     "traceback": [
      "\u001b[0;31m---------------------------------------------------------------------------\u001b[0m",
      "\u001b[0;31mApiException\u001b[0m                              Traceback (most recent call last)",
      "\u001b[0;32m<ipython-input-31-012aa4d0ef2d>\u001b[0m in \u001b[0;36m<module>\u001b[0;34m\u001b[0m\n\u001b[1;32m      1\u001b[0m \u001b[0mcollection_ageq\u001b[0m \u001b[0;34m=\u001b[0m \u001b[0mQ\u001b[0m\u001b[0;34m(\u001b[0m\u001b[0;34m'ResearchSubject.Specimen.age_at_collection NOT null'\u001b[0m\u001b[0;34m)\u001b[0m\u001b[0;34m\u001b[0m\u001b[0;34m\u001b[0m\u001b[0m\n\u001b[0;32m----> 2\u001b[0;31m \u001b[0mrunQuery1\u001b[0m\u001b[0;34m(\u001b[0m\u001b[0mprojq\u001b[0m\u001b[0;34m,\u001b[0m \u001b[0mcollection_ageq\u001b[0m\u001b[0;34m,\u001b[0m \u001b[0mstageq\u001b[0m \u001b[0;34m)\u001b[0m\u001b[0;34m\u001b[0m\u001b[0;34m\u001b[0m\u001b[0m\n\u001b[0m",
      "\u001b[0;32m<ipython-input-11-733f30ae9d72>\u001b[0m in \u001b[0;36mrunQuery1\u001b[0;34m(p, a, s)\u001b[0m\n\u001b[1;32m      3\u001b[0m     \u001b[0;32mif\u001b[0m \u001b[0ms\u001b[0m \u001b[0;34m!=\u001b[0m \u001b[0;32mNone\u001b[0m\u001b[0;34m:\u001b[0m\u001b[0;34m\u001b[0m\u001b[0;34m\u001b[0m\u001b[0m\n\u001b[1;32m      4\u001b[0m         \u001b[0mbigquery\u001b[0m \u001b[0;34m=\u001b[0m \u001b[0mbigquery\u001b[0m\u001b[0;34m.\u001b[0m\u001b[0mAnd\u001b[0m\u001b[0;34m(\u001b[0m\u001b[0ms\u001b[0m\u001b[0;34m)\u001b[0m\u001b[0;34m\u001b[0m\u001b[0;34m\u001b[0m\u001b[0m\n\u001b[0;32m----> 5\u001b[0;31m     \u001b[0mr4\u001b[0m \u001b[0;34m=\u001b[0m \u001b[0mbigquery\u001b[0m\u001b[0;34m.\u001b[0m\u001b[0mrun\u001b[0m\u001b[0;34m(\u001b[0m\u001b[0mlimit\u001b[0m\u001b[0;34m=\u001b[0m\u001b[0;36m1000\u001b[0m\u001b[0;34m)\u001b[0m\u001b[0;34m\u001b[0m\u001b[0;34m\u001b[0m\u001b[0m\n\u001b[0m\u001b[1;32m      6\u001b[0m     \u001b[0mr4\u001b[0m\u001b[0;34m.\u001b[0m\u001b[0msql\u001b[0m\u001b[0;34m\u001b[0m\u001b[0;34m\u001b[0m\u001b[0m\n\u001b[1;32m      7\u001b[0m     \u001b[0mprint\u001b[0m\u001b[0;34m(\u001b[0m\u001b[0mr4\u001b[0m\u001b[0;34m)\u001b[0m\u001b[0;34m\u001b[0m\u001b[0;34m\u001b[0m\u001b[0m\n",
      "\u001b[0;32m~/imfenvs/cda-env/lib/python3.7/site-packages/cdapython.py\u001b[0m in \u001b[0;36mrun\u001b[0;34m(self, offset, limit, version, host, dry_run)\u001b[0m\n\u001b[1;32m     69\u001b[0m             \u001b[0;31m# Execute boolean query\u001b[0m\u001b[0;34m\u001b[0m\u001b[0;34m\u001b[0m\u001b[0;34m\u001b[0m\u001b[0m\n\u001b[1;32m     70\u001b[0m             api_response = api_instance.boolean_query(\n\u001b[0;32m---> 71\u001b[0;31m                 \u001b[0mversion\u001b[0m\u001b[0;34m,\u001b[0m \u001b[0mquery\u001b[0m\u001b[0;34m,\u001b[0m \u001b[0moffset\u001b[0m\u001b[0;34m=\u001b[0m\u001b[0moffset\u001b[0m\u001b[0;34m,\u001b[0m \u001b[0mlimit\u001b[0m\u001b[0;34m=\u001b[0m\u001b[0mlimit\u001b[0m\u001b[0;34m,\u001b[0m \u001b[0mdry_run\u001b[0m\u001b[0;34m=\u001b[0m\u001b[0mdry_run\u001b[0m\u001b[0;34m\u001b[0m\u001b[0;34m\u001b[0m\u001b[0m\n\u001b[0m\u001b[1;32m     72\u001b[0m             )\n\u001b[1;32m     73\u001b[0m             \u001b[0;32mreturn\u001b[0m \u001b[0mResult\u001b[0m\u001b[0;34m(\u001b[0m\u001b[0mapi_response\u001b[0m\u001b[0;34m,\u001b[0m \u001b[0moffset\u001b[0m\u001b[0;34m,\u001b[0m \u001b[0mlimit\u001b[0m\u001b[0;34m,\u001b[0m \u001b[0mversion\u001b[0m\u001b[0;34m,\u001b[0m \u001b[0mhost\u001b[0m\u001b[0;34m)\u001b[0m\u001b[0;34m\u001b[0m\u001b[0;34m\u001b[0m\u001b[0m\n",
      "\u001b[0;32m~/imfenvs/cda-env/lib/python3.7/site-packages/cda_client/api/query_api.py\u001b[0m in \u001b[0;36mboolean_query\u001b[0;34m(self, version, query, **kwargs)\u001b[0m\n\u001b[1;32m     64\u001b[0m         \"\"\"\n\u001b[1;32m     65\u001b[0m         \u001b[0mkwargs\u001b[0m\u001b[0;34m[\u001b[0m\u001b[0;34m'_return_http_data_only'\u001b[0m\u001b[0;34m]\u001b[0m \u001b[0;34m=\u001b[0m \u001b[0;32mTrue\u001b[0m\u001b[0;34m\u001b[0m\u001b[0;34m\u001b[0m\u001b[0m\n\u001b[0;32m---> 66\u001b[0;31m         \u001b[0;32mreturn\u001b[0m \u001b[0mself\u001b[0m\u001b[0;34m.\u001b[0m\u001b[0mboolean_query_with_http_info\u001b[0m\u001b[0;34m(\u001b[0m\u001b[0mversion\u001b[0m\u001b[0;34m,\u001b[0m \u001b[0mquery\u001b[0m\u001b[0;34m,\u001b[0m \u001b[0;34m**\u001b[0m\u001b[0mkwargs\u001b[0m\u001b[0;34m)\u001b[0m  \u001b[0;31m# noqa: E501\u001b[0m\u001b[0;34m\u001b[0m\u001b[0;34m\u001b[0m\u001b[0m\n\u001b[0m\u001b[1;32m     67\u001b[0m \u001b[0;34m\u001b[0m\u001b[0m\n\u001b[1;32m     68\u001b[0m     \u001b[0;32mdef\u001b[0m \u001b[0mboolean_query_with_http_info\u001b[0m\u001b[0;34m(\u001b[0m\u001b[0mself\u001b[0m\u001b[0;34m,\u001b[0m \u001b[0mversion\u001b[0m\u001b[0;34m,\u001b[0m \u001b[0mquery\u001b[0m\u001b[0;34m,\u001b[0m \u001b[0;34m**\u001b[0m\u001b[0mkwargs\u001b[0m\u001b[0;34m)\u001b[0m\u001b[0;34m:\u001b[0m  \u001b[0;31m# noqa: E501\u001b[0m\u001b[0;34m\u001b[0m\u001b[0;34m\u001b[0m\u001b[0m\n",
      "\u001b[0;32m~/imfenvs/cda-env/lib/python3.7/site-packages/cda_client/api/query_api.py\u001b[0m in \u001b[0;36mboolean_query_with_http_info\u001b[0;34m(self, version, query, **kwargs)\u001b[0m\n\u001b[1;32m    177\u001b[0m             \u001b[0m_preload_content\u001b[0m\u001b[0;34m=\u001b[0m\u001b[0mlocal_var_params\u001b[0m\u001b[0;34m.\u001b[0m\u001b[0mget\u001b[0m\u001b[0;34m(\u001b[0m\u001b[0;34m'_preload_content'\u001b[0m\u001b[0;34m,\u001b[0m \u001b[0;32mTrue\u001b[0m\u001b[0;34m)\u001b[0m\u001b[0;34m,\u001b[0m\u001b[0;34m\u001b[0m\u001b[0;34m\u001b[0m\u001b[0m\n\u001b[1;32m    178\u001b[0m             \u001b[0m_request_timeout\u001b[0m\u001b[0;34m=\u001b[0m\u001b[0mlocal_var_params\u001b[0m\u001b[0;34m.\u001b[0m\u001b[0mget\u001b[0m\u001b[0;34m(\u001b[0m\u001b[0;34m'_request_timeout'\u001b[0m\u001b[0;34m)\u001b[0m\u001b[0;34m,\u001b[0m\u001b[0;34m\u001b[0m\u001b[0;34m\u001b[0m\u001b[0m\n\u001b[0;32m--> 179\u001b[0;31m             collection_formats=collection_formats)\n\u001b[0m\u001b[1;32m    180\u001b[0m \u001b[0;34m\u001b[0m\u001b[0m\n\u001b[1;32m    181\u001b[0m     \u001b[0;32mdef\u001b[0m \u001b[0mbulk_data\u001b[0m\u001b[0;34m(\u001b[0m\u001b[0mself\u001b[0m\u001b[0;34m,\u001b[0m \u001b[0mversion\u001b[0m\u001b[0;34m,\u001b[0m \u001b[0;34m**\u001b[0m\u001b[0mkwargs\u001b[0m\u001b[0;34m)\u001b[0m\u001b[0;34m:\u001b[0m  \u001b[0;31m# noqa: E501\u001b[0m\u001b[0;34m\u001b[0m\u001b[0;34m\u001b[0m\u001b[0m\n",
      "\u001b[0;32m~/imfenvs/cda-env/lib/python3.7/site-packages/cda_client/api_client.py\u001b[0m in \u001b[0;36mcall_api\u001b[0;34m(self, resource_path, method, path_params, query_params, header_params, body, post_params, files, response_type, auth_settings, async_req, _return_http_data_only, collection_formats, _preload_content, _request_timeout, _host)\u001b[0m\n\u001b[1;32m    367\u001b[0m                                    \u001b[0mresponse_type\u001b[0m\u001b[0;34m,\u001b[0m \u001b[0mauth_settings\u001b[0m\u001b[0;34m,\u001b[0m\u001b[0;34m\u001b[0m\u001b[0;34m\u001b[0m\u001b[0m\n\u001b[1;32m    368\u001b[0m                                    \u001b[0m_return_http_data_only\u001b[0m\u001b[0;34m,\u001b[0m \u001b[0mcollection_formats\u001b[0m\u001b[0;34m,\u001b[0m\u001b[0;34m\u001b[0m\u001b[0;34m\u001b[0m\u001b[0m\n\u001b[0;32m--> 369\u001b[0;31m                                    _preload_content, _request_timeout, _host)\n\u001b[0m\u001b[1;32m    370\u001b[0m \u001b[0;34m\u001b[0m\u001b[0m\n\u001b[1;32m    371\u001b[0m         return self.pool.apply_async(self.__call_api, (resource_path,\n",
      "\u001b[0;32m~/imfenvs/cda-env/lib/python3.7/site-packages/cda_client/api_client.py\u001b[0m in \u001b[0;36m__call_api\u001b[0;34m(self, resource_path, method, path_params, query_params, header_params, body, post_params, files, response_type, auth_settings, _return_http_data_only, collection_formats, _preload_content, _request_timeout, _host)\u001b[0m\n\u001b[1;32m    186\u001b[0m         \u001b[0;32mexcept\u001b[0m \u001b[0mApiException\u001b[0m \u001b[0;32mas\u001b[0m \u001b[0me\u001b[0m\u001b[0;34m:\u001b[0m\u001b[0;34m\u001b[0m\u001b[0;34m\u001b[0m\u001b[0m\n\u001b[1;32m    187\u001b[0m             \u001b[0me\u001b[0m\u001b[0;34m.\u001b[0m\u001b[0mbody\u001b[0m \u001b[0;34m=\u001b[0m \u001b[0me\u001b[0m\u001b[0;34m.\u001b[0m\u001b[0mbody\u001b[0m\u001b[0;34m.\u001b[0m\u001b[0mdecode\u001b[0m\u001b[0;34m(\u001b[0m\u001b[0;34m'utf-8'\u001b[0m\u001b[0;34m)\u001b[0m \u001b[0;32mif\u001b[0m \u001b[0msix\u001b[0m\u001b[0;34m.\u001b[0m\u001b[0mPY3\u001b[0m \u001b[0;32melse\u001b[0m \u001b[0me\u001b[0m\u001b[0;34m.\u001b[0m\u001b[0mbody\u001b[0m\u001b[0;34m\u001b[0m\u001b[0;34m\u001b[0m\u001b[0m\n\u001b[0;32m--> 188\u001b[0;31m             \u001b[0;32mraise\u001b[0m \u001b[0me\u001b[0m\u001b[0;34m\u001b[0m\u001b[0;34m\u001b[0m\u001b[0m\n\u001b[0m\u001b[1;32m    189\u001b[0m \u001b[0;34m\u001b[0m\u001b[0m\n\u001b[1;32m    190\u001b[0m         \u001b[0mcontent_type\u001b[0m \u001b[0;34m=\u001b[0m \u001b[0mresponse_data\u001b[0m\u001b[0;34m.\u001b[0m\u001b[0mgetheader\u001b[0m\u001b[0;34m(\u001b[0m\u001b[0;34m'content-type'\u001b[0m\u001b[0;34m)\u001b[0m\u001b[0;34m\u001b[0m\u001b[0;34m\u001b[0m\u001b[0m\n",
      "\u001b[0;32m~/imfenvs/cda-env/lib/python3.7/site-packages/cda_client/api_client.py\u001b[0m in \u001b[0;36m__call_api\u001b[0;34m(self, resource_path, method, path_params, query_params, header_params, body, post_params, files, response_type, auth_settings, _return_http_data_only, collection_formats, _preload_content, _request_timeout, _host)\u001b[0m\n\u001b[1;32m    183\u001b[0m                 \u001b[0mpost_params\u001b[0m\u001b[0;34m=\u001b[0m\u001b[0mpost_params\u001b[0m\u001b[0;34m,\u001b[0m \u001b[0mbody\u001b[0m\u001b[0;34m=\u001b[0m\u001b[0mbody\u001b[0m\u001b[0;34m,\u001b[0m\u001b[0;34m\u001b[0m\u001b[0;34m\u001b[0m\u001b[0m\n\u001b[1;32m    184\u001b[0m                 \u001b[0m_preload_content\u001b[0m\u001b[0;34m=\u001b[0m\u001b[0m_preload_content\u001b[0m\u001b[0;34m,\u001b[0m\u001b[0;34m\u001b[0m\u001b[0;34m\u001b[0m\u001b[0m\n\u001b[0;32m--> 185\u001b[0;31m                 _request_timeout=_request_timeout)\n\u001b[0m\u001b[1;32m    186\u001b[0m         \u001b[0;32mexcept\u001b[0m \u001b[0mApiException\u001b[0m \u001b[0;32mas\u001b[0m \u001b[0me\u001b[0m\u001b[0;34m:\u001b[0m\u001b[0;34m\u001b[0m\u001b[0;34m\u001b[0m\u001b[0m\n\u001b[1;32m    187\u001b[0m             \u001b[0me\u001b[0m\u001b[0;34m.\u001b[0m\u001b[0mbody\u001b[0m \u001b[0;34m=\u001b[0m \u001b[0me\u001b[0m\u001b[0;34m.\u001b[0m\u001b[0mbody\u001b[0m\u001b[0;34m.\u001b[0m\u001b[0mdecode\u001b[0m\u001b[0;34m(\u001b[0m\u001b[0;34m'utf-8'\u001b[0m\u001b[0;34m)\u001b[0m \u001b[0;32mif\u001b[0m \u001b[0msix\u001b[0m\u001b[0;34m.\u001b[0m\u001b[0mPY3\u001b[0m \u001b[0;32melse\u001b[0m \u001b[0me\u001b[0m\u001b[0;34m.\u001b[0m\u001b[0mbody\u001b[0m\u001b[0;34m\u001b[0m\u001b[0;34m\u001b[0m\u001b[0m\n",
      "\u001b[0;32m~/imfenvs/cda-env/lib/python3.7/site-packages/cda_client/api_client.py\u001b[0m in \u001b[0;36mrequest\u001b[0;34m(self, method, url, query_params, headers, post_params, body, _preload_content, _request_timeout)\u001b[0m\n\u001b[1;32m    411\u001b[0m                                          \u001b[0m_preload_content\u001b[0m\u001b[0;34m=\u001b[0m\u001b[0m_preload_content\u001b[0m\u001b[0;34m,\u001b[0m\u001b[0;34m\u001b[0m\u001b[0;34m\u001b[0m\u001b[0m\n\u001b[1;32m    412\u001b[0m                                          \u001b[0m_request_timeout\u001b[0m\u001b[0;34m=\u001b[0m\u001b[0m_request_timeout\u001b[0m\u001b[0;34m,\u001b[0m\u001b[0;34m\u001b[0m\u001b[0;34m\u001b[0m\u001b[0m\n\u001b[0;32m--> 413\u001b[0;31m                                          body=body)\n\u001b[0m\u001b[1;32m    414\u001b[0m         \u001b[0;32melif\u001b[0m \u001b[0mmethod\u001b[0m \u001b[0;34m==\u001b[0m \u001b[0;34m\"PUT\"\u001b[0m\u001b[0;34m:\u001b[0m\u001b[0;34m\u001b[0m\u001b[0;34m\u001b[0m\u001b[0m\n\u001b[1;32m    415\u001b[0m             return self.rest_client.PUT(url,\n",
      "\u001b[0;32m~/imfenvs/cda-env/lib/python3.7/site-packages/cda_client/rest.py\u001b[0m in \u001b[0;36mPOST\u001b[0;34m(self, url, headers, query_params, post_params, body, _preload_content, _request_timeout)\u001b[0m\n\u001b[1;32m    269\u001b[0m                             \u001b[0m_preload_content\u001b[0m\u001b[0;34m=\u001b[0m\u001b[0m_preload_content\u001b[0m\u001b[0;34m,\u001b[0m\u001b[0;34m\u001b[0m\u001b[0;34m\u001b[0m\u001b[0m\n\u001b[1;32m    270\u001b[0m                             \u001b[0m_request_timeout\u001b[0m\u001b[0;34m=\u001b[0m\u001b[0m_request_timeout\u001b[0m\u001b[0;34m,\u001b[0m\u001b[0;34m\u001b[0m\u001b[0;34m\u001b[0m\u001b[0m\n\u001b[0;32m--> 271\u001b[0;31m                             body=body)\n\u001b[0m\u001b[1;32m    272\u001b[0m \u001b[0;34m\u001b[0m\u001b[0m\n\u001b[1;32m    273\u001b[0m     def PUT(self, url, headers=None, query_params=None, post_params=None,\n",
      "\u001b[0;32m~/imfenvs/cda-env/lib/python3.7/site-packages/cda_client/rest.py\u001b[0m in \u001b[0;36mrequest\u001b[0;34m(self, method, url, query_params, headers, body, post_params, _preload_content, _request_timeout)\u001b[0m\n\u001b[1;32m    222\u001b[0m \u001b[0;34m\u001b[0m\u001b[0m\n\u001b[1;32m    223\u001b[0m         \u001b[0;32mif\u001b[0m \u001b[0;32mnot\u001b[0m \u001b[0;36m200\u001b[0m \u001b[0;34m<=\u001b[0m \u001b[0mr\u001b[0m\u001b[0;34m.\u001b[0m\u001b[0mstatus\u001b[0m \u001b[0;34m<=\u001b[0m \u001b[0;36m299\u001b[0m\u001b[0;34m:\u001b[0m\u001b[0;34m\u001b[0m\u001b[0;34m\u001b[0m\u001b[0m\n\u001b[0;32m--> 224\u001b[0;31m             \u001b[0;32mraise\u001b[0m \u001b[0mApiException\u001b[0m\u001b[0;34m(\u001b[0m\u001b[0mhttp_resp\u001b[0m\u001b[0;34m=\u001b[0m\u001b[0mr\u001b[0m\u001b[0;34m)\u001b[0m\u001b[0;34m\u001b[0m\u001b[0;34m\u001b[0m\u001b[0m\n\u001b[0m\u001b[1;32m    225\u001b[0m \u001b[0;34m\u001b[0m\u001b[0m\n\u001b[1;32m    226\u001b[0m         \u001b[0;32mreturn\u001b[0m \u001b[0mr\u001b[0m\u001b[0;34m\u001b[0m\u001b[0;34m\u001b[0m\u001b[0m\n",
      "\u001b[0;31mApiException\u001b[0m: (400)\nReason: \nHTTP response headers: HTTPHeaderDict({'Content-Type': 'application/json', 'Transfer-Encoding': 'chunked', 'Date': 'Fri, 09 Apr 2021 21:16:53 GMT', 'Via': '1.1 google', 'Alt-Svc': 'clear'})\nHTTP response body: {\"message\":\"Error calling BigQuery: 'SELECT * FROM gdc-bq-sample.cda_mvp.v3, UNNEST(ResearchSubject) AS _ResearchSubject, UNNEST(_ResearchSubject.Specimen) AS _Specimen, UNNEST(_ResearchSubject.Diagnosis) AS _Diagnosis WHERE (((_ResearchSubject.associated_project = \\\"TCGA-BRCA\\\" ) AND (NOT _Specimen.age_at_collection)) AND (((_Diagnosis.tumor_stage = \\\"Stage IIIC\\\" ) OR (_Diagnosis.tumor_stage = \\\"IIIC\\\" )) OR (_Diagnosis.tumor_stage = \\\"stage iiic\\\" ))) LIMIT 1000 OFFSET 0'\",\"statusCode\":400,\"causes\":[\"Error calling BigQuery: 'SELECT * FROM gdc-bq-sample.cda_mvp.v3, UNNEST(ResearchSubject) AS _ResearchSubject, UNNEST(_ResearchSubject.Specimen) AS _Specimen, UNNEST(_ResearchSubject.Diagnosis) AS _Diagnosis WHERE (((_ResearchSubject.associated_project = \\\"TCGA-BRCA\\\" ) AND (NOT _Specimen.age_at_collection)) AND (((_Diagnosis.tumor_stage = \\\"Stage IIIC\\\" ) OR (_Diagnosis.tumor_stage = \\\"IIIC\\\" )) OR (_Diagnosis.tumor_stage = \\\"stage iiic\\\" ))) LIMIT 1000 OFFSET 0'\",\"No matching signature for operator NOT for argument types: INT64. Supported signature: NOT (BOOL) at [1:285]\",\"400 Bad Request\\nGET https://www.googleapis.com/bigquery/v2/projects/broad-cda-dev/queries/a755be75-7bdb-4f2f-8071-466ef758a209?location=US&maxResults=0&prettyPrint=false\\n{\\n  \\\"code\\\" : 400,\\n  \\\"errors\\\" : [ {\\n    \\\"domain\\\" : \\\"global\\\",\\n    \\\"location\\\" : \\\"q\\\",\\n    \\\"locationType\\\" : \\\"parameter\\\",\\n    \\\"message\\\" : \\\"No matching signature for operator NOT for argument types: INT64. Supported signature: NOT (BOOL) at [1:285]\\\",\\n    \\\"reason\\\" : \\\"invalidQuery\\\"\\n  } ],\\n  \\\"message\\\" : \\\"No matching signature for operator NOT for argument types: INT64. Supported signature: NOT (BOOL) at [1:285]\\\",\\n  \\\"status\\\" : \\\"INVALID_ARGUMENT\\\"\\n}\"]}\n"
     ]
    }
   ],
   "source": [
    "collection_ageq = Q('ResearchSubject.Specimen.age_at_collection NOT null')\n",
    "runQuery1(projq, collection_ageq, stageq )"
   ]
  },
  {
   "cell_type": "markdown",
   "metadata": {},
   "source": [
    "### Looking at precedence\n",
    "All of the following behave as one would wish. Are things like this covered in unit testing by the CDA team?"
   ]
  },
  {
   "cell_type": "code",
   "execution_count": 23,
   "metadata": {},
   "outputs": [
    {
     "name": "stdout",
     "output_type": "stream",
     "text": [
      "\n",
      "Query: SELECT * FROM gdc-bq-sample.cda_mvp.v3, UNNEST(ResearchSubject) AS _ResearchSubject, UNNEST(_ResearchSubject.Diagnosis) AS _Diagnosis WHERE (((((_Diagnosis.tumor_stage = \"Stage IIIC\" ) OR (_Diagnosis.tumor_stage = \"IIIC\" )) OR (_Diagnosis.tumor_stage = \"stage iiic\" )) AND (_ResearchSubject.associated_project = \"TCGA-BRCA\" )) AND (_Diagnosis.age_at_diagnosis > 365.25*50))\n",
      "Offset: 0\n",
      "Limit: 1000\n",
      "Count: 45\n",
      "More pages: No\n",
      "\n"
     ]
    }
   ],
   "source": [
    "stageq = stageq1.Or(stageq2).Or(stageq3)\n",
    "runQuery1(stageq, projq, ageq )"
   ]
  },
  {
   "cell_type": "code",
   "execution_count": 24,
   "metadata": {},
   "outputs": [
    {
     "name": "stdout",
     "output_type": "stream",
     "text": [
      "\n",
      "Query: SELECT * FROM gdc-bq-sample.cda_mvp.v3, UNNEST(ResearchSubject) AS _ResearchSubject, UNNEST(_ResearchSubject.Diagnosis) AS _Diagnosis WHERE (((_Diagnosis.age_at_diagnosis > 365.25*50) AND (((_Diagnosis.tumor_stage = \"Stage IIIC\" ) OR (_Diagnosis.tumor_stage = \"IIIC\" )) OR (_Diagnosis.tumor_stage = \"stage iiic\" ))) AND (_ResearchSubject.associated_project = \"TCGA-BRCA\" ))\n",
      "Offset: 0\n",
      "Limit: 1000\n",
      "Count: 45\n",
      "More pages: No\n",
      "\n"
     ]
    }
   ],
   "source": [
    "runQuery1(ageq, stageq, projq)"
   ]
  },
  {
   "cell_type": "code",
   "execution_count": null,
   "metadata": {},
   "outputs": [],
   "source": []
  }
 ],
 "metadata": {
  "kernelspec": {
   "display_name": "cda-env",
   "language": "python",
   "name": "cda-env"
  },
  "language_info": {
   "codemirror_mode": {
    "name": "ipython",
    "version": 3
   },
   "file_extension": ".py",
   "mimetype": "text/x-python",
   "name": "python",
   "nbconvert_exporter": "python",
   "pygments_lexer": "ipython3",
   "version": "3.7.3"
  }
 },
 "nbformat": 4,
 "nbformat_minor": 4
}
