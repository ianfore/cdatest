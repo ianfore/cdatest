{
 "cells": [
  {
   "cell_type": "markdown",
   "metadata": {},
   "source": [
    "Query2 was given as find cases with proteomic and genomic data. Noted that the query was formulated as \"data ina PDC and GDC\" which is not the same thing as a query on data type.\n",
    "\n",
    "We do today have examples of find cases with proteomic and imaging data that would cross nodes.\n"
   ]
  },
  {
   "cell_type": "code",
   "execution_count": 1,
   "metadata": {},
   "outputs": [
    {
     "name": "stderr",
     "output_type": "stream",
     "text": [
      "SELECT DISTINCT(_File.data_category) FROM `gdc-bq-sample.cda_mvp.v3`, UNNEST(ResearchSubject) AS _ResearchSubject,UNNEST(_ResearchSubject.Specimen) AS _Specimen,UNNEST(_Specimen.File) AS _File ORDER BY _File.data_category\n"
     ]
    },
    {
     "data": {
      "text/plain": [
       "['Biospecimen',\n",
       " 'Combined Nucleotide Variation',\n",
       " 'Copy Number Variation',\n",
       " 'DNA Methylation',\n",
       " 'Peptide Spectral Matches',\n",
       " 'Processed Mass Spectra',\n",
       " 'Raw Mass Spectra',\n",
       " 'Sequencing Reads',\n",
       " 'Simple Nucleotide Variation',\n",
       " 'Somatic Structural Variation',\n",
       " 'Structural Variation',\n",
       " 'Transcriptome Profiling']"
      ]
     },
     "execution_count": 1,
     "metadata": {},
     "output_type": "execute_result"
    }
   ],
   "source": [
    "from cdapython import Q, columns, unique_terms\n",
    "unique_terms('ResearchSubject.Specimen.File.data_category')"
   ]
  },
  {
   "cell_type": "markdown",
   "metadata": {},
   "source": [
    "Nothing there on imaging\n"
   ]
  },
  {
   "cell_type": "code",
   "execution_count": 2,
   "metadata": {},
   "outputs": [
    {
     "name": "stderr",
     "output_type": "stream",
     "text": [
      "SELECT DISTINCT(_File.data_type) FROM `gdc-bq-sample.cda_mvp.v3`, UNNEST(ResearchSubject) AS _ResearchSubject,UNNEST(_ResearchSubject.Specimen) AS _Specimen,UNNEST(_Specimen.File) AS _File ORDER BY _File.data_type\n"
     ]
    },
    {
     "data": {
      "text/plain": [
       "['Aggregated Somatic Mutation',\n",
       " 'Aligned Reads',\n",
       " 'Allele-specific Copy Number Segment',\n",
       " 'Annotated Somatic Mutation',\n",
       " 'Copy Number Segment',\n",
       " 'Differential Gene Expression',\n",
       " 'Gene Expression Quantification',\n",
       " 'Gene Level Copy Number',\n",
       " 'Gene Level Copy Number Scores',\n",
       " 'Isoform Expression Quantification',\n",
       " 'Masked Annotated Somatic Mutation',\n",
       " 'Masked Copy Number Segment',\n",
       " 'Masked Somatic Mutation',\n",
       " 'Methylation Beta Value',\n",
       " 'Open Standard',\n",
       " 'Proprietary',\n",
       " 'Raw CGI Variant',\n",
       " 'Raw Simple Somatic Mutation',\n",
       " 'Single Cell Analysis',\n",
       " 'Slide Image',\n",
       " 'Splice Junction Quantification',\n",
       " 'Structural Rearrangement',\n",
       " 'Text',\n",
       " 'Transcript Fusion',\n",
       " 'miRNA Expression Quantification']"
      ]
     },
     "execution_count": 2,
     "metadata": {},
     "output_type": "execute_result"
    }
   ],
   "source": [
    "unique_terms('ResearchSubject.Specimen.File.data_type')"
   ]
  },
  {
   "cell_type": "code",
   "execution_count": 3,
   "metadata": {},
   "outputs": [
    {
     "name": "stderr",
     "output_type": "stream",
     "text": [
      "SELECT DISTINCT(_File.file_format) FROM `gdc-bq-sample.cda_mvp.v3`, UNNEST(ResearchSubject) AS _ResearchSubject,UNNEST(_ResearchSubject.Specimen) AS _Specimen,UNNEST(_Specimen.File) AS _File ORDER BY _File.file_format\n"
     ]
    },
    {
     "data": {
      "text/plain": [
       "[None, 'mzIdentML', 'mzML', 'tsv', 'vendor-specific']"
      ]
     },
     "execution_count": 3,
     "metadata": {},
     "output_type": "execute_result"
    }
   ],
   "source": [
    "unique_terms('ResearchSubject.Specimen.File.file_format')"
   ]
  },
  {
   "cell_type": "code",
   "execution_count": 4,
   "metadata": {},
   "outputs": [
    {
     "name": "stderr",
     "output_type": "stream",
     "text": [
      "SELECT DISTINCT(_File.type) FROM `gdc-bq-sample.cda_mvp.v3`, UNNEST(ResearchSubject) AS _ResearchSubject,UNNEST(_ResearchSubject.Specimen) AS _Specimen,UNNEST(_Specimen.File) AS _File ORDER BY _File.type\n"
     ]
    },
    {
     "data": {
      "text/plain": [
       "[None]"
      ]
     },
     "execution_count": 4,
     "metadata": {},
     "output_type": "execute_result"
    }
   ],
   "source": [
    "unique_terms('ResearchSubject.Specimen.File.type')"
   ]
  },
  {
   "cell_type": "code",
   "execution_count": 5,
   "metadata": {
    "scrolled": true
   },
   "outputs": [
    {
     "data": {
      "text/plain": [
       "{'next_url': None,\n",
       " 'previous_url': None,\n",
       " 'query_sql': 'SELECT COUNT(DISTINCT p.id) patientCount FROM \\n'\n",
       "              '                    gdc-bq-sample.cda_mvp.v3 p,\\n'\n",
       "              '                    \\n'\n",
       "              '                    UNNEST(p.ResearchSubject) AS su1, \\n'\n",
       "              '                    UNNEST(su1.Specimen) AS sp1, \\n'\n",
       "              '                    UNNEST(sp1.File) AS f1, \\n'\n",
       "              '                    \\n'\n",
       "              '\\n'\n",
       "              '                    UNNEST(p.ResearchSubject) AS su2, \\n'\n",
       "              '                    UNNEST(su2.Specimen) AS sp2, \\n'\n",
       "              '                    UNNEST(sp2.File) AS f2\\n'\n",
       "              '                    \\n'\n",
       "              '                    \\n'\n",
       "              '                    WHERE (\\n'\n",
       "              \"                    ( f1.data_type in ( 'Slide Image'  ) )\\n\"\n",
       "              '                    AND\\n'\n",
       "              \"                    ( f2.data_category in ('Peptide Spectral \"\n",
       "              \"Matches',\\n\"\n",
       "              \"                                            'Processed Mass \"\n",
       "              \"Spectra',\\n\"\n",
       "              \"                                             'Raw Mass \"\n",
       "              \"Spectra'                                         )\\n\"\n",
       "              '                    )\\n'\n",
       "              '                    )',\n",
       " 'result': [{'patientCount': 369}]}"
      ]
     },
     "execution_count": 5,
     "metadata": {},
     "output_type": "execute_result"
    }
   ],
   "source": [
    "import cda_client\n",
    "host='https://cda.cda-dev.broadinstitute.org'\n",
    "api_client = cda_client.ApiClient(configuration=cda_client.Configuration(host=host))\n",
    "api_instance = cda_client.QueryApi(api_client)\n",
    "\n",
    "datatypeQueryCount =  '''SELECT COUNT(DISTINCT p.id) patientCount FROM \n",
    "                    gdc-bq-sample.cda_mvp.v3 p,\n",
    "                    \n",
    "                    UNNEST(p.ResearchSubject) AS su1, \n",
    "                    UNNEST(su1.Specimen) AS sp1, \n",
    "                    UNNEST(sp1.File) AS f1, \n",
    "                    \n",
    "\n",
    "                    UNNEST(p.ResearchSubject) AS su2, \n",
    "                    UNNEST(su2.Specimen) AS sp2, \n",
    "                    UNNEST(sp2.File) AS f2\n",
    "                    \n",
    "                    \n",
    "                    WHERE (\n",
    "                    ( f1.data_type in ( 'Slide Image'  ) )\n",
    "                    AND\n",
    "                    ( f2.data_category in ('Peptide Spectral Matches',\n",
    "                                            'Processed Mass Spectra',\n",
    "                                             'Raw Mass Spectra'                                         )\n",
    "                    )\n",
    "                    )'''\n",
    "\n",
    "api_instance.sql_query('v3',datatypeQueryCount)"
   ]
  },
  {
   "cell_type": "markdown",
   "metadata": {},
   "source": [
    "The disconcerting thing about that is that it gives exactly the same number of Patients as the query in Query 2."
   ]
  },
  {
   "cell_type": "code",
   "execution_count": 20,
   "metadata": {},
   "outputs": [],
   "source": [
    "def queryModV3(api_instance, query, limit=None):\n",
    "    modQuery = '''\n",
    "    with new_v3 as (select p.*,  d1.Treatment as treatment\n",
    "    FROM gdc-bq-sample.cda_mvp.v3 p,\n",
    "    unnest(ResearchSubject) as s1,\n",
    "    UNNEST(s1.identifier) as i1,\n",
    "    UNNEST(s1.Diagnosis) as d1\n",
    "    where i1.system = 'GDC') \n",
    "    {}\n",
    "    '''.format(query)\n",
    "    return api_instance.sql_query('v3',modQuery, limit=limit)\n",
    "\n"
   ]
  },
  {
   "cell_type": "code",
   "execution_count": 29,
   "metadata": {},
   "outputs": [
    {
     "data": {
      "text/plain": [
       "{'next_url': None,\n",
       " 'previous_url': None,\n",
       " 'query_sql': '\\n'\n",
       "              '    with new_v3 as (select p.*,  d1.Treatment as treatment\\n'\n",
       "              '    FROM gdc-bq-sample.cda_mvp.v3 p,\\n'\n",
       "              '    unnest(ResearchSubject) as s1,\\n'\n",
       "              '    UNNEST(s1.identifier) as i1,\\n'\n",
       "              '    UNNEST(s1.Diagnosis) as d1\\n'\n",
       "              \"    where i1.system = 'GDC') \\n\"\n",
       "              '    \\n'\n",
       "              'select count(distinct new_v3.id) patientCount\\n'\n",
       "              'from new_v3, unnest(new_v3.treatment) as tx,\\n'\n",
       "              '\\n'\n",
       "              'unnest(ResearchSubject) as s1,\\n'\n",
       "              'UNNEST(s1.identifier) as i1,\\n'\n",
       "              '\\n'\n",
       "              'unnest(ResearchSubject) as s2,\\n'\n",
       "              'UNNEST(s2.identifier) as i2\\n'\n",
       "              '\\n'\n",
       "              \"where tx.type = 'Radiation Therapy, NOS'\\n\"\n",
       "              \"and i1.system = 'GDC'\\n\"\n",
       "              \"and i2.system = 'PDC'\\n\"\n",
       "              '\\n'\n",
       "              '\\n'\n",
       "              '    ',\n",
       " 'result': [{'patientCount': 369}]}"
      ]
     },
     "execution_count": 29,
     "metadata": {},
     "output_type": "execute_result"
    }
   ],
   "source": [
    "tq2 = '''\n",
    "select count(distinct new_v3.id) patientCount\n",
    "from new_v3, unnest(new_v3.treatment) as tx,\n",
    "\n",
    "unnest(ResearchSubject) as s1,\n",
    "UNNEST(s1.identifier) as i1,\n",
    "\n",
    "unnest(ResearchSubject) as s2,\n",
    "UNNEST(s2.identifier) as i2\n",
    "\n",
    "where tx.type = 'Radiation Therapy, NOS'\n",
    "and i1.system = 'GDC'\n",
    "and i2.system = 'PDC'\n",
    "\n",
    "'''\n",
    "res2 = queryModV3(api_instance, tq2)\n",
    "res2"
   ]
  },
  {
   "cell_type": "code",
   "execution_count": 52,
   "metadata": {},
   "outputs": [],
   "source": [
    "datatypeQueryIds =  '''SELECT DISTINCT p.id FROM \n",
    "                    gdc-bq-sample.cda_mvp.v3 p,\n",
    "                    \n",
    "                    UNNEST(p.ResearchSubject) AS su1, \n",
    "                    UNNEST(su1.Specimen) AS sp1, \n",
    "                    UNNEST(sp1.File) AS f1, \n",
    "                    \n",
    "\n",
    "                    UNNEST(p.ResearchSubject) AS su2, \n",
    "                    UNNEST(su2.Specimen) AS sp2, \n",
    "                    UNNEST(sp2.File) AS f2\n",
    "                    \n",
    "                    \n",
    "                    WHERE (\n",
    "                    ( f1.data_type in ( 'Slide Image'  ) )\n",
    "                    AND\n",
    "                    ( f2.data_category in ('Peptide Spectral Matches',\n",
    "                                            'Processed Mass Spectra',\n",
    "                                             'Raw Mass Spectra'                                         )\n",
    "                    )\n",
    "                    ) order by id'''\n",
    "\n",
    "res = api_instance.sql_query('v3',datatypeQueryIds, limit=500)"
   ]
  },
  {
   "cell_type": "code",
   "execution_count": 53,
   "metadata": {},
   "outputs": [
    {
     "name": "stdout",
     "output_type": "stream",
     "text": [
      "369\n"
     ]
    }
   ],
   "source": [
    "print(len(res.result))"
   ]
  },
  {
   "cell_type": "code",
   "execution_count": 54,
   "metadata": {},
   "outputs": [
    {
     "name": "stdout",
     "output_type": "stream",
     "text": [
      "369\n"
     ]
    }
   ],
   "source": [
    "datatypeQuery2Ids = '''\n",
    "select distinct new_v3.id\n",
    "from new_v3, unnest(new_v3.treatment) as tx,\n",
    "\n",
    "unnest(ResearchSubject) as s1,\n",
    "UNNEST(s1.identifier) as i1,\n",
    "\n",
    "unnest(ResearchSubject) as s2,\n",
    "UNNEST(s2.identifier) as i2\n",
    "\n",
    "where tx.type = 'Radiation Therapy, NOS'\n",
    "and i1.system = 'GDC'\n",
    "and i2.system = 'PDC'\n",
    "order by id\n",
    "'''\n",
    "res2 = queryModV3(api_instance, datatypeQuery2Ids, limit=500)\n",
    "print(len(res2.result))"
   ]
  },
  {
   "cell_type": "code",
   "execution_count": 55,
   "metadata": {},
   "outputs": [
    {
     "data": {
      "text/plain": [
       "True"
      ]
     },
     "execution_count": 55,
     "metadata": {},
     "output_type": "execute_result"
    }
   ],
   "source": [
    "res2.result == res.result"
   ]
  },
  {
   "cell_type": "code",
   "execution_count": 51,
   "metadata": {},
   "outputs": [
    {
     "data": {
      "text/plain": [
       "[{'id': 'TCGA-AA-3554'},\n",
       " {'id': 'TCGA-AA-3552'},\n",
       " {'id': 'TCGA-AA-A00K'},\n",
       " {'id': 'TCGA-AA-3561'},\n",
       " {'id': 'TCGA-AA-A01Z'},\n",
       " {'id': 'TCGA-AA-3818'},\n",
       " {'id': 'TCGA-AA-3710'},\n",
       " {'id': 'TCGA-AA-A00F'},\n",
       " {'id': 'TCGA-AA-3518'},\n",
       " {'id': 'TCGA-AA-3534'},\n",
       " {'id': 'TCGA-AA-A01F'},\n",
       " {'id': 'TCGA-AA-A004'},\n",
       " {'id': 'TCGA-AA-A01C'},\n",
       " {'id': 'TCGA-AA-3864'},\n",
       " {'id': 'TCGA-AA-3986'},\n",
       " {'id': 'TCGA-AA-A02Y'},\n",
       " {'id': 'TCGA-AA-3526'},\n",
       " {'id': 'TCGA-AA-3695'},\n",
       " {'id': 'TCGA-A6-3807'},\n",
       " {'id': 'TCGA-AA-3664'},\n",
       " {'id': 'TCGA-AA-A01V'},\n",
       " {'id': 'TCGA-AA-A02R'},\n",
       " {'id': 'TCGA-AA-A02H'},\n",
       " {'id': 'TCGA-AA-A022'},\n",
       " {'id': 'TCGA-A6-3810'},\n",
       " {'id': 'TCGA-AG-3593'},\n",
       " {'id': 'TCGA-AG-A014'},\n",
       " {'id': 'TCGA-AG-3580'},\n",
       " {'id': 'TCGA-AG-4007'},\n",
       " {'id': 'TCGA-AG-A015'},\n",
       " {'id': 'TCGA-AG-A011'},\n",
       " {'id': 'TCGA-AG-A00Y'},\n",
       " {'id': 'TCGA-AG-A00H'},\n",
       " {'id': 'TCGA-AG-3574'},\n",
       " {'id': 'TCGA-AG-A026'},\n",
       " {'id': 'TCGA-AG-A032'},\n",
       " {'id': 'TCGA-AG-3584'},\n",
       " {'id': 'TCGA-AG-A00C'},\n",
       " {'id': 'TCGA-42-2588'},\n",
       " {'id': 'TCGA-25-2404'},\n",
       " {'id': 'TCGA-25-1313'},\n",
       " {'id': 'TCGA-25-2396'},\n",
       " {'id': 'TCGA-30-1887'},\n",
       " {'id': 'TCGA-24-1920'},\n",
       " {'id': 'TCGA-25-1628'},\n",
       " {'id': 'TCGA-25-1631'},\n",
       " {'id': 'TCGA-24-1544'},\n",
       " {'id': 'TCGA-36-1578'},\n",
       " {'id': 'TCGA-36-1569'},\n",
       " {'id': 'TCGA-36-1580'},\n",
       " {'id': 'TCGA-36-2529'},\n",
       " {'id': 'TCGA-24-1557'},\n",
       " {'id': 'TCGA-36-1576'},\n",
       " {'id': 'TCGA-29-1770'},\n",
       " {'id': 'TCGA-25-1630'},\n",
       " {'id': 'TCGA-25-1320'},\n",
       " {'id': 'TCGA-24-1552'},\n",
       " {'id': 'TCGA-36-2534'},\n",
       " {'id': 'TCGA-61-1919'},\n",
       " {'id': 'TCGA-29-1769'},\n",
       " {'id': 'TCGA-13-1483'},\n",
       " {'id': 'TCGA-13-1497'},\n",
       " {'id': 'TCGA-24-1428'},\n",
       " {'id': 'TCGA-29-2427'},\n",
       " {'id': 'TCGA-29-1711'},\n",
       " {'id': 'TCGA-29-1697'},\n",
       " {'id': 'TCGA-24-1435'},\n",
       " {'id': 'TCGA-24-2289'},\n",
       " {'id': 'TCGA-24-2033'},\n",
       " {'id': 'TCGA-25-2399'},\n",
       " {'id': 'TCGA-25-1322'},\n",
       " {'id': 'TCGA-25-1312'},\n",
       " {'id': 'TCGA-13-2065'},\n",
       " {'id': 'TCGA-13-2059'},\n",
       " {'id': 'TCGA-59-2352'},\n",
       " {'id': 'TCGA-24-1565'},\n",
       " {'id': 'TCGA-59-2351'},\n",
       " {'id': 'TCGA-24-2267'},\n",
       " {'id': 'TCGA-24-1603'},\n",
       " {'id': 'TCGA-29-1763'},\n",
       " {'id': 'TCGA-29-1688'},\n",
       " {'id': 'TCGA-24-1562'},\n",
       " {'id': 'TCGA-29-1702'},\n",
       " {'id': 'TCGA-61-1910'},\n",
       " {'id': 'TCGA-29-1768'},\n",
       " {'id': 'TCGA-09-1664'},\n",
       " {'id': 'TCGA-61-2094'},\n",
       " {'id': 'TCGA-24-2260'},\n",
       " {'id': 'TCGA-24-2298'},\n",
       " {'id': 'TCGA-61-1914'},\n",
       " {'id': 'TCGA-36-2530'},\n",
       " {'id': 'TCGA-36-2542'},\n",
       " {'id': 'TCGA-42-2590'},\n",
       " {'id': 'TCGA-13-2061'},\n",
       " {'id': 'TCGA-36-2543'},\n",
       " {'id': 'TCGA-61-1727'},\n",
       " {'id': 'TCGA-61-2096'},\n",
       " {'id': 'TCGA-59-2372'},\n",
       " {'id': 'TCGA-13-2071'},\n",
       " {'id': 'TCGA-29-1698'},\n",
       " {'id': 'TCGA-61-2008'},\n",
       " {'id': 'TCGA-24-1466'},\n",
       " {'id': 'TCGA-13-1504'},\n",
       " {'id': 'TCGA-13-1485'},\n",
       " {'id': 'TCGA-13-1482'},\n",
       " {'id': 'TCGA-61-1915'},\n",
       " {'id': 'TCGA-24-1467'},\n",
       " {'id': 'TCGA-24-2290'},\n",
       " {'id': 'TCGA-29-1705'},\n",
       " {'id': 'TCGA-24-1104'},\n",
       " {'id': 'TCGA-13-1501'},\n",
       " {'id': 'TCGA-30-1891'},\n",
       " {'id': 'TCGA-24-1464'},\n",
       " {'id': 'TCGA-13-2060'},\n",
       " {'id': 'TCGA-24-2288'},\n",
       " {'id': 'TCGA-13-1499'},\n",
       " {'id': 'TCGA-25-1329'},\n",
       " {'id': 'TCGA-61-1741'},\n",
       " {'id': 'TCGA-29-1696'},\n",
       " {'id': 'TCGA-13-1410'},\n",
       " {'id': 'TCGA-09-2056'},\n",
       " {'id': 'TCGA-24-1550'},\n",
       " {'id': 'TCGA-29-1785'},\n",
       " {'id': 'TCGA-25-2397'},\n",
       " {'id': 'TCGA-13-1492'},\n",
       " {'id': 'TCGA-59-2348'},\n",
       " {'id': 'TCGA-23-1124'},\n",
       " {'id': 'TCGA-AA-A03F'},\n",
       " {'id': 'TCGA-AA-3684'},\n",
       " {'id': 'TCGA-AA-A01D'},\n",
       " {'id': 'TCGA-AG-A020'},\n",
       " {'id': 'TCGA-AF-3400'},\n",
       " {'id': 'TCGA-BH-A0C7'},\n",
       " {'id': 'TCGA-AO-A0JL'},\n",
       " {'id': 'TCGA-A2-A0D0'},\n",
       " {'id': 'TCGA-A2-A0EQ'},\n",
       " {'id': 'TCGA-C8-A12T'},\n",
       " {'id': 'TCGA-AR-A0TV'},\n",
       " {'id': 'TCGA-C8-A12V'},\n",
       " {'id': 'TCGA-AR-A1AS'},\n",
       " {'id': 'TCGA-A2-A0T3'},\n",
       " {'id': 'TCGA-C8-A12Z'},\n",
       " {'id': 'TCGA-BH-A0AV'},\n",
       " {'id': 'TCGA-C8-A131'},\n",
       " {'id': 'TCGA-E2-A159'},\n",
       " {'id': 'TCGA-BH-A0E1'},\n",
       " {'id': 'TCGA-A8-A09G'},\n",
       " {'id': 'TCGA-A2-A0T2'},\n",
       " {'id': 'TCGA-C8-A135'},\n",
       " {'id': 'TCGA-BH-A18R'},\n",
       " {'id': 'TCGA-D8-A13Y'},\n",
       " {'id': 'TCGA-A7-A13F'},\n",
       " {'id': 'TCGA-AO-A126'},\n",
       " {'id': 'TCGA-BH-A0HK'},\n",
       " {'id': 'TCGA-AN-A04A'},\n",
       " {'id': 'TCGA-AO-A0JE'},\n",
       " {'id': 'TCGA-A7-A0CJ'},\n",
       " {'id': 'TCGA-AN-A0AS'},\n",
       " {'id': 'TCGA-A2-A0T7'},\n",
       " {'id': 'TCGA-AR-A0TX'},\n",
       " {'id': 'TCGA-AR-A0TT'},\n",
       " {'id': 'TCGA-BH-A18V'},\n",
       " {'id': 'TCGA-E2-A15A'},\n",
       " {'id': 'TCGA-A2-A0D1'},\n",
       " {'id': 'TCGA-A2-A0D2'},\n",
       " {'id': 'TCGA-AN-A0AM'},\n",
       " {'id': 'TCGA-A7-A0CD'},\n",
       " {'id': 'TCGA-AR-A0TR'},\n",
       " {'id': 'TCGA-C8-A12L'},\n",
       " {'id': 'TCGA-AR-A0TY'},\n",
       " {'id': 'TCGA-BH-A0E0'},\n",
       " {'id': 'TCGA-A2-A0EY'},\n",
       " {'id': 'TCGA-BH-A0EE'},\n",
       " {'id': 'TCGA-AO-A12F'},\n",
       " {'id': 'TCGA-BH-A0BZ'},\n",
       " {'id': 'TCGA-A2-A0YF'},\n",
       " {'id': 'TCGA-AO-A0J9'},\n",
       " {'id': 'TCGA-AO-A12E'},\n",
       " {'id': 'TCGA-A2-A0EX'},\n",
       " {'id': 'TCGA-A2-A0YD'},\n",
       " {'id': 'TCGA-BH-A0C1'},\n",
       " {'id': 'TCGA-BH-A0E9'},\n",
       " {'id': 'TCGA-AO-A0JJ'},\n",
       " {'id': 'TCGA-A2-A0T6'},\n",
       " {'id': 'TCGA-AN-A0AJ'},\n",
       " {'id': 'TCGA-AA-A00E'},\n",
       " {'id': 'TCGA-AA-A00A'},\n",
       " {'id': 'TCGA-AA-A00U'},\n",
       " {'id': 'TCGA-AA-A00O'},\n",
       " {'id': 'TCGA-AA-A02E'},\n",
       " {'id': 'TCGA-AA-3558'},\n",
       " {'id': 'TCGA-AA-A01I'},\n",
       " {'id': 'TCGA-AA-A01P'},\n",
       " {'id': 'TCGA-AA-A00R'},\n",
       " {'id': 'TCGA-AA-3525'},\n",
       " {'id': 'TCGA-AA-A02J'},\n",
       " {'id': 'TCGA-AA-3672'},\n",
       " {'id': 'TCGA-AA-3989'},\n",
       " {'id': 'TCGA-AA-3848'},\n",
       " {'id': 'TCGA-AA-3666'},\n",
       " {'id': 'TCGA-AA-3529'},\n",
       " {'id': 'TCGA-AA-A01S'},\n",
       " {'id': 'TCGA-AA-A01T'},\n",
       " {'id': 'TCGA-AA-A02O'},\n",
       " {'id': 'TCGA-A6-3808'},\n",
       " {'id': 'TCGA-AA-A017'},\n",
       " {'id': 'TCGA-AA-A01K'},\n",
       " {'id': 'TCGA-AA-A010'},\n",
       " {'id': 'TCGA-AA-A03J'},\n",
       " {'id': 'TCGA-AA-A029'},\n",
       " {'id': 'TCGA-AA-A01X'},\n",
       " {'id': 'TCGA-AA-3531'},\n",
       " {'id': 'TCGA-AF-2692'},\n",
       " {'id': 'TCGA-AG-A01W'},\n",
       " {'id': 'TCGA-AG-A02X'},\n",
       " {'id': 'TCGA-AG-A01L'},\n",
       " {'id': 'TCGA-AF-3913'},\n",
       " {'id': 'TCGA-AG-A01N'},\n",
       " {'id': 'TCGA-AG-A016'},\n",
       " {'id': 'TCGA-AF-2691'},\n",
       " {'id': 'TCGA-AG-A01Y'},\n",
       " {'id': 'TCGA-AG-A01J'},\n",
       " {'id': 'TCGA-AG-A036'},\n",
       " {'id': 'TCGA-AG-A02N'},\n",
       " {'id': 'TCGA-AG-A002'},\n",
       " {'id': 'TCGA-25-1316'},\n",
       " {'id': 'TCGA-25-1321'},\n",
       " {'id': 'TCGA-25-2400'},\n",
       " {'id': 'TCGA-24-1548'},\n",
       " {'id': 'TCGA-30-1866'},\n",
       " {'id': 'TCGA-24-2027'},\n",
       " {'id': 'TCGA-24-1923'},\n",
       " {'id': 'TCGA-36-1577'},\n",
       " {'id': 'TCGA-36-1581'},\n",
       " {'id': 'TCGA-24-1558'},\n",
       " {'id': 'TCGA-36-1570'},\n",
       " {'id': 'TCGA-25-1635'},\n",
       " {'id': 'TCGA-24-1105'},\n",
       " {'id': 'TCGA-24-1556'},\n",
       " {'id': 'TCGA-24-1555'},\n",
       " {'id': 'TCGA-24-1604'},\n",
       " {'id': 'TCGA-24-1553'},\n",
       " {'id': 'TCGA-61-1918'},\n",
       " {'id': 'TCGA-24-2020'},\n",
       " {'id': 'TCGA-24-2023'},\n",
       " {'id': 'TCGA-36-2549'},\n",
       " {'id': 'TCGA-24-1545'},\n",
       " {'id': 'TCGA-29-2414'},\n",
       " {'id': 'TCGA-36-1571'},\n",
       " {'id': 'TCGA-25-1623'},\n",
       " {'id': 'TCGA-25-1318'},\n",
       " {'id': 'TCGA-61-1724'},\n",
       " {'id': 'TCGA-13-1489'},\n",
       " {'id': 'TCGA-25-1323'},\n",
       " {'id': 'TCGA-13-2066'},\n",
       " {'id': 'TCGA-23-1122'},\n",
       " {'id': 'TCGA-36-2532'},\n",
       " {'id': 'TCGA-36-2545'},\n",
       " {'id': 'TCGA-36-2544'},\n",
       " {'id': 'TCGA-36-2547'},\n",
       " {'id': 'TCGA-24-2295'},\n",
       " {'id': 'TCGA-13-1494'},\n",
       " {'id': 'TCGA-24-1416'},\n",
       " {'id': 'TCGA-29-2431'},\n",
       " {'id': 'TCGA-29-1775'},\n",
       " {'id': 'TCGA-13-1409'},\n",
       " {'id': 'TCGA-25-2409'},\n",
       " {'id': 'TCGA-13-1511'},\n",
       " {'id': 'TCGA-24-1551'},\n",
       " {'id': 'TCGA-24-1430'},\n",
       " {'id': 'TCGA-61-2088'},\n",
       " {'id': 'TCGA-61-1911'},\n",
       " {'id': 'TCGA-61-1907'},\n",
       " {'id': 'TCGA-61-2613'},\n",
       " {'id': 'TCGA-61-2612'},\n",
       " {'id': 'TCGA-24-1927'},\n",
       " {'id': 'TCGA-36-2537'},\n",
       " {'id': 'TCGA-29-2432'},\n",
       " {'id': 'TCGA-61-2087'},\n",
       " {'id': 'TCGA-61-2095'},\n",
       " {'id': 'TCGA-23-1121'},\n",
       " {'id': 'TCGA-24-2030'},\n",
       " {'id': 'TCGA-13-1484'},\n",
       " {'id': 'TCGA-13-1500'},\n",
       " {'id': 'TCGA-24-1436'},\n",
       " {'id': 'TCGA-29-1771'},\n",
       " {'id': 'TCGA-24-1103'},\n",
       " {'id': 'TCGA-24-2024'},\n",
       " {'id': 'TCGA-29-1710'},\n",
       " {'id': 'TCGA-29-1693'},\n",
       " {'id': 'TCGA-29-1762'},\n",
       " {'id': 'TCGA-24-1431'},\n",
       " {'id': 'TCGA-24-1422'},\n",
       " {'id': 'TCGA-13-1488'},\n",
       " {'id': 'TCGA-61-1995'},\n",
       " {'id': 'TCGA-13-1507'},\n",
       " {'id': 'TCGA-13-1495'},\n",
       " {'id': 'TCGA-29-1690'},\n",
       " {'id': 'TCGA-29-1766'},\n",
       " {'id': 'TCGA-24-1563'},\n",
       " {'id': 'TCGA-24-1474'},\n",
       " {'id': 'TCGA-29-1774'},\n",
       " {'id': 'TCGA-29-1776'},\n",
       " {'id': 'TCGA-61-1900'},\n",
       " {'id': 'TCGA-29-1777'},\n",
       " {'id': 'TCGA-24-2261'},\n",
       " {'id': 'TCGA-13-1404'},\n",
       " {'id': 'TCGA-25-1319'},\n",
       " {'id': 'TCGA-13-1487'},\n",
       " {'id': 'TCGA-23-1123'},\n",
       " {'id': 'TCGA-AA-A00J'},\n",
       " {'id': 'TCGA-AA-A00N'},\n",
       " {'id': 'TCGA-AA-A01R'},\n",
       " {'id': 'TCGA-AA-A024'},\n",
       " {'id': 'TCGA-AG-A008'},\n",
       " {'id': 'TCGA-AG-3594'},\n",
       " {'id': 'TCGA-AR-A0U4'},\n",
       " {'id': 'TCGA-A8-A09I'},\n",
       " {'id': 'TCGA-A8-A079'},\n",
       " {'id': 'TCGA-AN-A0FK'},\n",
       " {'id': 'TCGA-A8-A06Z'},\n",
       " {'id': 'TCGA-AN-A0FL'},\n",
       " {'id': 'TCGA-C8-A12Q'},\n",
       " {'id': 'TCGA-A2-A0YG'},\n",
       " {'id': 'TCGA-AO-A12D'},\n",
       " {'id': 'TCGA-AR-A1AP'},\n",
       " {'id': 'TCGA-AR-A1AQ'},\n",
       " {'id': 'TCGA-E2-A10A'},\n",
       " {'id': 'TCGA-C8-A138'},\n",
       " {'id': 'TCGA-C8-A134'},\n",
       " {'id': 'TCGA-BH-A0DG'},\n",
       " {'id': 'TCGA-AR-A1AW'},\n",
       " {'id': 'TCGA-E2-A154'},\n",
       " {'id': 'TCGA-E2-A150'},\n",
       " {'id': 'TCGA-BH-A18N'},\n",
       " {'id': 'TCGA-AO-A0J6'},\n",
       " {'id': 'TCGA-A8-A08Z'},\n",
       " {'id': 'TCGA-C8-A12P'},\n",
       " {'id': 'TCGA-A2-A0YM'},\n",
       " {'id': 'TCGA-BH-A18Q'},\n",
       " {'id': 'TCGA-A2-A0EV'},\n",
       " {'id': 'TCGA-A2-A0SW'},\n",
       " {'id': 'TCGA-A2-A0YC'},\n",
       " {'id': 'TCGA-A8-A06N'},\n",
       " {'id': 'TCGA-A7-A0CE'},\n",
       " {'id': 'TCGA-AO-A12B'},\n",
       " {'id': 'TCGA-BH-A0BV'},\n",
       " {'id': 'TCGA-A2-A0SX'},\n",
       " {'id': 'TCGA-E2-A158'},\n",
       " {'id': 'TCGA-C8-A12W'},\n",
       " {'id': 'TCGA-BH-A18U'},\n",
       " {'id': 'TCGA-AR-A1AV'},\n",
       " {'id': 'TCGA-BH-A0C0'},\n",
       " {'id': 'TCGA-AO-A0JC'},\n",
       " {'id': 'TCGA-A2-A0CM'},\n",
       " {'id': 'TCGA-A8-A076'},\n",
       " {'id': 'TCGA-AN-A0AL'},\n",
       " {'id': 'TCGA-AO-A03O'},\n",
       " {'id': 'TCGA-A8-A08G'},\n",
       " {'id': 'TCGA-A2-A0T1'},\n",
       " {'id': 'TCGA-D8-A142'},\n",
       " {'id': 'TCGA-BH-A0DD'},\n",
       " {'id': 'TCGA-AO-A0JM'},\n",
       " {'id': 'TCGA-C8-A130'},\n",
       " {'id': 'TCGA-C8-A12U'},\n",
       " {'id': 'TCGA-BH-A0HP'},\n",
       " {'id': 'TCGA-A2-A0YL'},\n",
       " {'id': 'TCGA-A2-A0YI'},\n",
       " {'id': 'TCGA-AA-3715'}]"
      ]
     },
     "execution_count": 51,
     "metadata": {},
     "output_type": "execute_result"
    }
   ],
   "source": [
    "res.result"
   ]
  },
  {
   "cell_type": "code",
   "execution_count": 59,
   "metadata": {},
   "outputs": [
    {
     "name": "stdout",
     "output_type": "stream",
     "text": [
      "{'next_url': None,\n",
      " 'previous_url': None,\n",
      " 'query_sql': '\\n'\n",
      "              '    with new_v3 as (select p.*,  d1.Treatment as treatment\\n'\n",
      "              '    FROM gdc-bq-sample.cda_mvp.v3 p,\\n'\n",
      "              '    unnest(ResearchSubject) as s1,\\n'\n",
      "              '    UNNEST(s1.identifier) as i1,\\n'\n",
      "              '    UNNEST(s1.Diagnosis) as d1\\n'\n",
      "              \"    where i1.system = 'GDC') \\n\"\n",
      "              '    \\n'\n",
      "              'select count (distinct new_v3.id) patientCount\\n'\n",
      "              'from new_v3, unnest(new_v3.treatment) as tx,\\n'\n",
      "              '\\n'\n",
      "              'unnest(ResearchSubject) as s1,\\n'\n",
      "              'UNNEST(s1.identifier) as i1,\\n'\n",
      "              '\\n'\n",
      "              'unnest(ResearchSubject) as s2,\\n'\n",
      "              'UNNEST(s2.identifier) as i2\\n'\n",
      "              '\\n'\n",
      "              \"where i1.system = 'GDC'\\n\"\n",
      "              \"and i2.system = 'PDC'\\n\"\n",
      "              '\\n'\n",
      "              '    ',\n",
      " 'result': [{'patientCount': 369}]}\n"
     ]
    }
   ],
   "source": [
    "allGDC_PDC = '''\n",
    "select count (distinct new_v3.id) patientCount\n",
    "from new_v3, unnest(new_v3.treatment) as tx,\n",
    "\n",
    "unnest(ResearchSubject) as s1,\n",
    "UNNEST(s1.identifier) as i1,\n",
    "\n",
    "unnest(ResearchSubject) as s2,\n",
    "UNNEST(s2.identifier) as i2\n",
    "\n",
    "where i1.system = 'GDC'\n",
    "and i2.system = 'PDC'\n",
    "'''\n",
    "res2 = queryModV3(api_instance, allGDC_PDC)\n",
    "print(res2)\n",
    "\n"
   ]
  },
  {
   "cell_type": "code",
   "execution_count": 61,
   "metadata": {},
   "outputs": [
    {
     "name": "stdout",
     "output_type": "stream",
     "text": [
      "{'next_url': None,\n",
      " 'previous_url': None,\n",
      " 'query_sql': '\\n'\n",
      "              '    with new_v3 as (select p.*,  d1.Treatment as treatment\\n'\n",
      "              '    FROM gdc-bq-sample.cda_mvp.v3 p,\\n'\n",
      "              '    unnest(ResearchSubject) as s1,\\n'\n",
      "              '    UNNEST(s1.identifier) as i1,\\n'\n",
      "              '    UNNEST(s1.Diagnosis) as d1\\n'\n",
      "              \"    where i1.system = 'GDC') \\n\"\n",
      "              '    \\n'\n",
      "              'select count (*) patientCount\\n'\n",
      "              'from new_v3\\n'\n",
      "              '\\n'\n",
      "              '    ',\n",
      " 'result': [{'patientCount': 84206}]}\n"
     ]
    }
   ],
   "source": [
    "newv3count = '''\n",
    "select count (*) patientCount\n",
    "from new_v3\n",
    "'''\n",
    "res2 = queryModV3(api_instance, newv3count)\n",
    "print(res2)"
   ]
  },
  {
   "cell_type": "code",
   "execution_count": 62,
   "metadata": {},
   "outputs": [
    {
     "name": "stdout",
     "output_type": "stream",
     "text": [
      "{'next_url': None,\n",
      " 'previous_url': None,\n",
      " 'query_sql': '\\n'\n",
      "              '    with new_v3 as (select p.*,  d1.Treatment as treatment\\n'\n",
      "              '    FROM gdc-bq-sample.cda_mvp.v3 p,\\n'\n",
      "              '    unnest(ResearchSubject) as s1,\\n'\n",
      "              '    UNNEST(s1.identifier) as i1,\\n'\n",
      "              '    UNNEST(s1.Diagnosis) as d1\\n'\n",
      "              \"    where i1.system = 'GDC') \\n\"\n",
      "              '    \\n'\n",
      "              'select count (distinct new_v3.id) patientCount\\n'\n",
      "              'from new_v3\\n'\n",
      "              '\\n'\n",
      "              '    ',\n",
      " 'result': [{'patientCount': 84152}]}\n"
     ]
    }
   ],
   "source": [
    "newv3count = '''\n",
    "select count (distinct new_v3.id) patientCount\n",
    "from new_v3\n",
    "'''\n",
    "res2 = queryModV3(api_instance, newv3count)\n",
    "print(res2)"
   ]
  },
  {
   "cell_type": "code",
   "execution_count": null,
   "metadata": {},
   "outputs": [],
   "source": []
  }
 ],
 "metadata": {
  "kernelspec": {
   "display_name": "cda-env",
   "language": "python",
   "name": "cda-env"
  },
  "language_info": {
   "codemirror_mode": {
    "name": "ipython",
    "version": 3
   },
   "file_extension": ".py",
   "mimetype": "text/x-python",
   "name": "python",
   "nbconvert_exporter": "python",
   "pygments_lexer": "ipython3",
   "version": "3.7.3"
  }
 },
 "nbformat": 4,
 "nbformat_minor": 4
}
