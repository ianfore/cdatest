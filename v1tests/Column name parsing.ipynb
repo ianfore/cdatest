{
 "cells": [
  {
   "cell_type": "markdown",
   "metadata": {},
   "source": [
    "Run a query which returns two columns"
   ]
  },
  {
   "cell_type": "code",
   "execution_count": 1,
   "metadata": {},
   "outputs": [
    {
     "data": {
      "text/plain": [
       "{'next_url': None,\n",
       " 'previous_url': None,\n",
       " 'query_sql': 'select p.id ,  s1.id\\n'\n",
       "              '    FROM gdc-bq-sample.cda_mvp.v3 p,\\n'\n",
       "              '    unnest(ResearchSubject) as s1,\\n'\n",
       "              '    UNNEST(s1.identifier) as i1,\\n'\n",
       "              '    UNNEST(s1.Diagnosis) as d1\\n'\n",
       "              \"    where i1.system ='GDC' \\n\"\n",
       "              '    order by p.id ',\n",
       " 'result': [{'id': 'be37f1f7-2f98-4f74-bc04-6dd2ae2afcad'},\n",
       "            {'id': 'e6915db0-7c89-484d-8f9f-15cca68b82fc'},\n",
       "            {'id': '16614d46-172b-479c-992b-e80a8e9a2c59'},\n",
       "            {'id': '567fc9e3-17a6-42b1-a896-5e9a9507d1d8'},\n",
       "            {'id': '54e89878-a1bc-4f5a-9d68-4842a469586e'},\n",
       "            {'id': 'a1c7b7b9-b8c8-48c3-9420-55497f9318fd'},\n",
       "            {'id': 'ce3c8b98-e275-4cfd-a379-940d675a564b'},\n",
       "            {'id': 'e4ce89ef-bcaa-418a-8a6b-3602793b9bbf'},\n",
       "            {'id': '19d3c861-8a5f-49a2-acc0-b55b25465c35'},\n",
       "            {'id': 'afae8dce-294a-4108-bb28-376f804ae5c4'}]}"
      ]
     },
     "execution_count": 1,
     "metadata": {},
     "output_type": "execute_result"
    }
   ],
   "source": [
    "import cda_client\n",
    "host='https://cda.cda-dev.broadinstitute.org'\n",
    "api_client = cda_client.ApiClient(configuration=cda_client.Configuration(host=host))\n",
    "api_instance = cda_client.QueryApi(api_client)\n",
    "\n",
    "two_id_query = '''select p.id ,  s1.id\n",
    "    FROM gdc-bq-sample.cda_mvp.v3 p,\n",
    "    unnest(ResearchSubject) as s1,\n",
    "    UNNEST(s1.identifier) as i1,\n",
    "    UNNEST(s1.Diagnosis) as d1\n",
    "    where i1.system ='GDC' \n",
    "    order by p.id '''\n",
    "api_instance.sql_query('v3',two_id_query,\n",
    "                      limit=10)"
   ]
  },
  {
   "cell_type": "markdown",
   "metadata": {},
   "source": [
    "Try the API directly. This demonstrates the issue occurs within the API, not the python client."
   ]
  },
  {
   "cell_type": "code",
   "execution_count": 2,
   "metadata": {},
   "outputs": [
    {
     "data": {
      "text/plain": [
       "{'query_sql': \"select p.id ,  s1.id\\n    FROM gdc-bq-sample.cda_mvp.v3 p,\\n    unnest(ResearchSubject) as s1,\\n    UNNEST(s1.identifier) as i1,\\n    UNNEST(s1.Diagnosis) as d1\\n    where i1.system ='GDC' \\n    order by p.id \",\n",
       " 'result': [{'id': 'be37f1f7-2f98-4f74-bc04-6dd2ae2afcad'},\n",
       "  {'id': 'e6915db0-7c89-484d-8f9f-15cca68b82fc'},\n",
       "  {'id': '16614d46-172b-479c-992b-e80a8e9a2c59'},\n",
       "  {'id': '567fc9e3-17a6-42b1-a896-5e9a9507d1d8'},\n",
       "  {'id': '54e89878-a1bc-4f5a-9d68-4842a469586e'},\n",
       "  {'id': 'a1c7b7b9-b8c8-48c3-9420-55497f9318fd'},\n",
       "  {'id': 'ce3c8b98-e275-4cfd-a379-940d675a564b'},\n",
       "  {'id': 'e4ce89ef-bcaa-418a-8a6b-3602793b9bbf'},\n",
       "  {'id': '19d3c861-8a5f-49a2-acc0-b55b25465c35'},\n",
       "  {'id': 'afae8dce-294a-4108-bb28-376f804ae5c4'}],\n",
       " 'previous_url': None,\n",
       " 'next_url': None}"
      ]
     },
     "execution_count": 2,
     "metadata": {},
     "output_type": "execute_result"
    }
   ],
   "source": [
    "import requests\n",
    "def runAPIQuery(querystring, limit=None):\n",
    "    cdaURL = 'https://cda.cda-dev.broadinstitute.org/api/v1/sql-query/v3'\n",
    "    #Using a limit:\n",
    "    if limit is not None:\n",
    "        cdaURL = \"{}?limit={}\".format(cdaURL, str(limit))\n",
    "        \n",
    "    headers = {'accept' : 'application/json', 'Content-Type' : 'text/plain'}\n",
    "\n",
    "    request = requests.post(cdaURL, headers = headers, data = querystring)\n",
    "\n",
    "    if request.status_code == 200:\n",
    "        return request.json()\n",
    "    else:\n",
    "        raise Exception (\"Query failed code {}. {}\".format(request.status_code,query))\n",
    "        \n",
    "runAPIQuery(two_id_query, limit=10)"
   ]
  },
  {
   "cell_type": "markdown",
   "metadata": {},
   "source": [
    "The SQL is legal, as demonstrated by the fact it runs. In this case what is actually returned by BigQuery can't be seen. However, the following comparable query to the BigQuery API also has two 'id' columns. BiqQuery returns these as 'id' and 'id_1'.\n",
    "\n",
    "` SELECT f.id, r.*, sa.id, f.object.aliquot_value.*\n",
    "FROM isbcgc-216220.1000Genomes.BDC_1000Genomes f, unnest (relations) as r\n",
    "join isbcgc-216220.1000Genomes.BDC_1000Genomes sa on r.dst_id = sa.id\n",
    "where f.name = 'aliquot' `\n"
   ]
  },
  {
   "cell_type": "code",
   "execution_count": 3,
   "metadata": {},
   "outputs": [
    {
     "data": {
      "text/plain": [
       "{'query_sql': 'select p.id ,  su.id, su_id.system, su_id.value, sp_id.system, sp_id.value\\n    FROM gdc-bq-sample.cda_mvp.v3 p,\\n    unnest(ResearchSubject) as su,\\n    UNNEST(su.Identifier) as su_id,\\n    unnest(Specimen) as sp,\\n    UNNEST(sp.Identifier) as sp_id\\n    order by p.id ',\n",
       " 'result': [{'id': 'be37f1f7-2f98-4f74-bc04-6dd2ae2afcad',\n",
       "   'system': 'GDC',\n",
       "   'value': '786c67dd-7425-5804-97ce-7b64e96569c1'},\n",
       "  {'id': 'be37f1f7-2f98-4f74-bc04-6dd2ae2afcad',\n",
       "   'system': 'GDC',\n",
       "   'value': 'dcc36b6e-7743-40b4-98eb-06580a694e0e'},\n",
       "  {'id': 'be37f1f7-2f98-4f74-bc04-6dd2ae2afcad',\n",
       "   'system': 'GDC',\n",
       "   'value': '721645ba-916b-5481-bf76-63891cb79836'},\n",
       "  {'id': 'be37f1f7-2f98-4f74-bc04-6dd2ae2afcad',\n",
       "   'system': 'GDC',\n",
       "   'value': '49602e48-0ccf-5f3c-9529-255fc3f3368f'},\n",
       "  {'id': 'be37f1f7-2f98-4f74-bc04-6dd2ae2afcad',\n",
       "   'system': 'GDC',\n",
       "   'value': '3ae5c716-7061-4236-8a90-bddc4e6e4834'},\n",
       "  {'id': 'be37f1f7-2f98-4f74-bc04-6dd2ae2afcad',\n",
       "   'system': 'GDC',\n",
       "   'value': 'e0c6965b-fe8a-4ada-bf8f-c6a00d506ecd'},\n",
       "  {'id': 'be37f1f7-2f98-4f74-bc04-6dd2ae2afcad',\n",
       "   'system': 'GDC',\n",
       "   'value': '7c2a9d5c-2315-57bd-ade5-e0932b421b0e'},\n",
       "  {'id': 'be37f1f7-2f98-4f74-bc04-6dd2ae2afcad',\n",
       "   'system': 'GDC',\n",
       "   'value': '65be1f28-b428-59e5-a187-22335ec57c17'},\n",
       "  {'id': 'be37f1f7-2f98-4f74-bc04-6dd2ae2afcad',\n",
       "   'system': 'GDC',\n",
       "   'value': '41d6aa10-181a-47cc-8eb5-3a28a8421a7d'},\n",
       "  {'id': 'be37f1f7-2f98-4f74-bc04-6dd2ae2afcad',\n",
       "   'system': 'GDC',\n",
       "   'value': '14fbb898-2e88-5dd5-b7f6-6783a89754f4'}],\n",
       " 'previous_url': None,\n",
       " 'next_url': None}"
      ]
     },
     "execution_count": 3,
     "metadata": {},
     "output_type": "execute_result"
    }
   ],
   "source": [
    "test_query = '''select p.id ,  su.id, su_id.system, su_id.value, sp_id.system, sp_id.value\n",
    "    FROM gdc-bq-sample.cda_mvp.v3 p,\n",
    "    unnest(ResearchSubject) as su,\n",
    "    UNNEST(su.Identifier) as su_id,\n",
    "    unnest(Specimen) as sp,\n",
    "    UNNEST(sp.Identifier) as sp_id\n",
    "    order by p.id '''\n",
    "runAPIQuery(test_query,\n",
    "                      limit=10)"
   ]
  },
  {
   "cell_type": "markdown",
   "metadata": {},
   "source": [
    "What happens if we look at the raw content of the API response?"
   ]
  },
  {
   "cell_type": "code",
   "execution_count": 4,
   "metadata": {},
   "outputs": [
    {
     "name": "stdout",
     "output_type": "stream",
     "text": [
      "b'{\"query_sql\":\"select p.id ,  s1.id\\\\n    FROM gdc-bq-sample.cda_mvp.v3 p,\\\\n    unnest(ResearchSubject) as s1,\\\\n    UNNEST(s1.identifier) as i1,\\\\n    UNNEST(s1.Diagnosis) as d1\\\\n    where i1.system =\\'GDC\\' \\\\n    order by p.id \",\"result\":[{\\n  \"id\": \"01BR001\",\\n  \"id\": \"be37f1f7-2f98-4f74-bc04-6dd2ae2afcad\"\\n}, {\\n  \"id\": \"01BR008\",\\n  \"id\": \"e6915db0-7c89-484d-8f9f-15cca68b82fc\"\\n}, {\\n  \"id\": \"01BR009\",\\n  \"id\": \"16614d46-172b-479c-992b-e80a8e9a2c59\"\\n}, {\\n  \"id\": \"01BR010\",\\n  \"id\": \"567fc9e3-17a6-42b1-a896-5e9a9507d1d8\"\\n}, {\\n  \"id\": \"01BR015\",\\n  \"id\": \"54e89878-a1bc-4f5a-9d68-4842a469586e\"\\n}, {\\n  \"id\": \"01BR017\",\\n  \"id\": \"a1c7b7b9-b8c8-48c3-9420-55497f9318fd\"\\n}, {\\n  \"id\": \"01BR018\",\\n  \"id\": \"ce3c8b98-e275-4cfd-a379-940d675a564b\"\\n}, {\\n  \"id\": \"01BR020\",\\n  \"id\": \"e4ce89ef-bcaa-418a-8a6b-3602793b9bbf\"\\n}, {\\n  \"id\": \"01BR023\",\\n  \"id\": \"19d3c861-8a5f-49a2-acc0-b55b25465c35\"\\n}, {\\n  \"id\": \"01BR025\",\\n  \"id\": \"afae8dce-294a-4108-bb28-376f804ae5c4\"\\n}],\"previous_url\":null,\"next_url\":null}'\n"
     ]
    }
   ],
   "source": [
    "cdaURL = 'https://cda.cda-dev.broadinstitute.org/api/v1/sql-query/v3?limit=10'\n",
    "\n",
    "headers = {'accept' : 'application/json', 'Content-Type' : 'text/plain'}\n",
    "\n",
    "request = requests.post(cdaURL, headers = headers, data = two_id_query)\n",
    "print (request.content)"
   ]
  },
  {
   "cell_type": "markdown",
   "metadata": {},
   "source": [
    "The multiple ids are present there in the raw content. As follows it is request.json() that eliminates them."
   ]
  },
  {
   "cell_type": "code",
   "execution_count": 5,
   "metadata": {},
   "outputs": [
    {
     "data": {
      "text/plain": [
       "{'query_sql': \"select p.id ,  s1.id\\n    FROM gdc-bq-sample.cda_mvp.v3 p,\\n    unnest(ResearchSubject) as s1,\\n    UNNEST(s1.identifier) as i1,\\n    UNNEST(s1.Diagnosis) as d1\\n    where i1.system ='GDC' \\n    order by p.id \",\n",
       " 'result': [{'id': 'be37f1f7-2f98-4f74-bc04-6dd2ae2afcad'},\n",
       "  {'id': 'e6915db0-7c89-484d-8f9f-15cca68b82fc'},\n",
       "  {'id': '16614d46-172b-479c-992b-e80a8e9a2c59'},\n",
       "  {'id': '567fc9e3-17a6-42b1-a896-5e9a9507d1d8'},\n",
       "  {'id': '54e89878-a1bc-4f5a-9d68-4842a469586e'},\n",
       "  {'id': 'a1c7b7b9-b8c8-48c3-9420-55497f9318fd'},\n",
       "  {'id': 'ce3c8b98-e275-4cfd-a379-940d675a564b'},\n",
       "  {'id': 'e4ce89ef-bcaa-418a-8a6b-3602793b9bbf'},\n",
       "  {'id': '19d3c861-8a5f-49a2-acc0-b55b25465c35'},\n",
       "  {'id': 'afae8dce-294a-4108-bb28-376f804ae5c4'}],\n",
       " 'previous_url': None,\n",
       " 'next_url': None}"
      ]
     },
     "execution_count": 5,
     "metadata": {},
     "output_type": "execute_result"
    }
   ],
   "source": [
    "request.json()"
   ]
  },
  {
   "cell_type": "markdown",
   "metadata": {},
   "source": [
    "That is a problem in the python requests module. The content is not legal json - so the requests module would be better raising an error rather than passing on an incomplete version of the content. We can't do much about that here."
   ]
  },
  {
   "cell_type": "markdown",
   "metadata": {},
   "source": [
    "#### CDA Issues\n",
    "The CDA REST API issues are\n",
    " * It would be preferable if the API validates that it is returning legal json.\n",
    " * That the API passes throough the column names returned by the BigQuery API.\n",
    "\n",
    " "
   ]
  },
  {
   "cell_type": "markdown",
   "metadata": {},
   "source": [
    "Follow up on the request.json() not reporting on illegal json. Per the [docs on Python requests](https://docs.python-requests.org/en/master/user/quickstart/#json-response-content)   it should raise an exception.\n",
    "\n",
    "What version of requests are we using?"
   ]
  },
  {
   "cell_type": "code",
   "execution_count": 6,
   "metadata": {},
   "outputs": [
    {
     "name": "stdout",
     "output_type": "stream",
     "text": [
      "2.25.1\n"
     ]
    }
   ],
   "source": [
    "print(requests.__version__)"
   ]
  },
  {
   "cell_type": "markdown",
   "metadata": {},
   "source": [
    "That is current and matches the documentation about how .json() should raise an exception on illegal json.\n",
    "\n",
    "Worse - it seems even the json module is not recognizing illegal json."
   ]
  },
  {
   "cell_type": "code",
   "execution_count": 10,
   "metadata": {},
   "outputs": [
    {
     "name": "stdout",
     "output_type": "stream",
     "text": [
      "{\"query_sql\":\"select p.id ,  s1.id\\n    FROM gdc-bq-sample.cda_mvp.v3 p,\\n    unnest(ResearchSubject) as s1,\\n    UNNEST(s1.identifier) as i1,\\n    UNNEST(s1.Diagnosis) as d1\\n    where i1.system ='GDC' \\n    order by p.id \",\"result\":[{\n",
      "  \"id\": \"01BR001\",\n",
      "  \"id\": \"be37f1f7-2f98-4f74-bc04-6dd2ae2afcad\"\n",
      "}, {\n",
      "  \"id\": \"01BR008\",\n",
      "  \"id\": \"e6915db0-7c89-484d-8f9f-15cca68b82fc\"\n",
      "}, {\n",
      "  \"id\": \"01BR009\",\n",
      "  \"id\": \"16614d46-172b-479c-992b-e80a8e9a2c59\"\n",
      "}, {\n",
      "  \"id\": \"01BR010\",\n",
      "  \"id\": \"567fc9e3-17a6-42b1-a896-5e9a9507d1d8\"\n",
      "}, {\n",
      "  \"id\": \"01BR015\",\n",
      "  \"id\": \"54e89878-a1bc-4f5a-9d68-4842a469586e\"\n",
      "}, {\n",
      "  \"id\": \"01BR017\",\n",
      "  \"id\": \"a1c7b7b9-b8c8-48c3-9420-55497f9318fd\"\n",
      "}, {\n",
      "  \"id\": \"01BR018\",\n",
      "  \"id\": \"ce3c8b98-e275-4cfd-a379-940d675a564b\"\n",
      "}, {\n",
      "  \"id\": \"01BR020\",\n",
      "  \"id\": \"e4ce89ef-bcaa-418a-8a6b-3602793b9bbf\"\n",
      "}, {\n",
      "  \"id\": \"01BR023\",\n",
      "  \"id\": \"19d3c861-8a5f-49a2-acc0-b55b25465c35\"\n",
      "}, {\n",
      "  \"id\": \"01BR025\",\n",
      "  \"id\": \"afae8dce-294a-4108-bb28-376f804ae5c4\"\n",
      "}],\"previous_url\":null,\"next_url\":null}\n"
     ]
    }
   ],
   "source": [
    "textResponse = request.text\n",
    "print(textResponse)"
   ]
  },
  {
   "cell_type": "code",
   "execution_count": 15,
   "metadata": {},
   "outputs": [
    {
     "data": {
      "text/plain": [
       "{'query_sql': \"select p.id ,  s1.id\\n    FROM gdc-bq-sample.cda_mvp.v3 p,\\n    unnest(ResearchSubject) as s1,\\n    UNNEST(s1.identifier) as i1,\\n    UNNEST(s1.Diagnosis) as d1\\n    where i1.system ='GDC' \\n    order by p.id \",\n",
       " 'result': [{'id': 'be37f1f7-2f98-4f74-bc04-6dd2ae2afcad'},\n",
       "  {'id': 'e6915db0-7c89-484d-8f9f-15cca68b82fc'},\n",
       "  {'id': '16614d46-172b-479c-992b-e80a8e9a2c59'},\n",
       "  {'id': '567fc9e3-17a6-42b1-a896-5e9a9507d1d8'},\n",
       "  {'id': '54e89878-a1bc-4f5a-9d68-4842a469586e'},\n",
       "  {'id': 'a1c7b7b9-b8c8-48c3-9420-55497f9318fd'},\n",
       "  {'id': 'ce3c8b98-e275-4cfd-a379-940d675a564b'},\n",
       "  {'id': 'e4ce89ef-bcaa-418a-8a6b-3602793b9bbf'},\n",
       "  {'id': '19d3c861-8a5f-49a2-acc0-b55b25465c35'},\n",
       "  {'id': 'afae8dce-294a-4108-bb28-376f804ae5c4'}],\n",
       " 'previous_url': None,\n",
       " 'next_url': None}"
      ]
     },
     "execution_count": 15,
     "metadata": {},
     "output_type": "execute_result"
    }
   ],
   "source": [
    "import json\n",
    "j = json.loads(textResponse)\n",
    "j"
   ]
  },
  {
   "cell_type": "markdown",
   "metadata": {},
   "source": [
    "Surely we can get json.loads to raise an exception on some egregiously bad json. Say a semi-colon in place of a colon."
   ]
  },
  {
   "cell_type": "code",
   "execution_count": 18,
   "metadata": {},
   "outputs": [
    {
     "ename": "JSONDecodeError",
     "evalue": "Expecting ':' delimiter: line 1 column 48 (char 47)",
     "output_type": "error",
     "traceback": [
      "\u001b[0;31m---------------------------------------------------------------------------\u001b[0m",
      "\u001b[0;31mJSONDecodeError\u001b[0m                           Traceback (most recent call last)",
      "\u001b[0;32m<ipython-input-18-e928589847e6>\u001b[0m in \u001b[0;36m<module>\u001b[0;34m\u001b[0m\n\u001b[1;32m      1\u001b[0m \u001b[0mbadString\u001b[0m \u001b[0;34m=\u001b[0m \u001b[0;34m'{\"line1\":\"Is there anybody in there? \", \"line2\";\"Just nod if you can hear me\"}'\u001b[0m\u001b[0;34m\u001b[0m\u001b[0;34m\u001b[0m\u001b[0m\n\u001b[0;32m----> 2\u001b[0;31m \u001b[0mjson\u001b[0m\u001b[0;34m.\u001b[0m\u001b[0mloads\u001b[0m\u001b[0;34m(\u001b[0m\u001b[0mbadString\u001b[0m\u001b[0;34m)\u001b[0m\u001b[0;34m\u001b[0m\u001b[0;34m\u001b[0m\u001b[0m\n\u001b[0m",
      "\u001b[0;32m/usr/local/Cellar/python/3.7.3/Frameworks/Python.framework/Versions/3.7/lib/python3.7/json/__init__.py\u001b[0m in \u001b[0;36mloads\u001b[0;34m(s, encoding, cls, object_hook, parse_float, parse_int, parse_constant, object_pairs_hook, **kw)\u001b[0m\n\u001b[1;32m    346\u001b[0m             \u001b[0mparse_int\u001b[0m \u001b[0;32mis\u001b[0m \u001b[0;32mNone\u001b[0m \u001b[0;32mand\u001b[0m \u001b[0mparse_float\u001b[0m \u001b[0;32mis\u001b[0m \u001b[0;32mNone\u001b[0m \u001b[0;32mand\u001b[0m\u001b[0;34m\u001b[0m\u001b[0;34m\u001b[0m\u001b[0m\n\u001b[1;32m    347\u001b[0m             parse_constant is None and object_pairs_hook is None and not kw):\n\u001b[0;32m--> 348\u001b[0;31m         \u001b[0;32mreturn\u001b[0m \u001b[0m_default_decoder\u001b[0m\u001b[0;34m.\u001b[0m\u001b[0mdecode\u001b[0m\u001b[0;34m(\u001b[0m\u001b[0ms\u001b[0m\u001b[0;34m)\u001b[0m\u001b[0;34m\u001b[0m\u001b[0;34m\u001b[0m\u001b[0m\n\u001b[0m\u001b[1;32m    349\u001b[0m     \u001b[0;32mif\u001b[0m \u001b[0mcls\u001b[0m \u001b[0;32mis\u001b[0m \u001b[0;32mNone\u001b[0m\u001b[0;34m:\u001b[0m\u001b[0;34m\u001b[0m\u001b[0;34m\u001b[0m\u001b[0m\n\u001b[1;32m    350\u001b[0m         \u001b[0mcls\u001b[0m \u001b[0;34m=\u001b[0m \u001b[0mJSONDecoder\u001b[0m\u001b[0;34m\u001b[0m\u001b[0;34m\u001b[0m\u001b[0m\n",
      "\u001b[0;32m/usr/local/Cellar/python/3.7.3/Frameworks/Python.framework/Versions/3.7/lib/python3.7/json/decoder.py\u001b[0m in \u001b[0;36mdecode\u001b[0;34m(self, s, _w)\u001b[0m\n\u001b[1;32m    335\u001b[0m \u001b[0;34m\u001b[0m\u001b[0m\n\u001b[1;32m    336\u001b[0m         \"\"\"\n\u001b[0;32m--> 337\u001b[0;31m         \u001b[0mobj\u001b[0m\u001b[0;34m,\u001b[0m \u001b[0mend\u001b[0m \u001b[0;34m=\u001b[0m \u001b[0mself\u001b[0m\u001b[0;34m.\u001b[0m\u001b[0mraw_decode\u001b[0m\u001b[0;34m(\u001b[0m\u001b[0ms\u001b[0m\u001b[0;34m,\u001b[0m \u001b[0midx\u001b[0m\u001b[0;34m=\u001b[0m\u001b[0m_w\u001b[0m\u001b[0;34m(\u001b[0m\u001b[0ms\u001b[0m\u001b[0;34m,\u001b[0m \u001b[0;36m0\u001b[0m\u001b[0;34m)\u001b[0m\u001b[0;34m.\u001b[0m\u001b[0mend\u001b[0m\u001b[0;34m(\u001b[0m\u001b[0;34m)\u001b[0m\u001b[0;34m)\u001b[0m\u001b[0;34m\u001b[0m\u001b[0;34m\u001b[0m\u001b[0m\n\u001b[0m\u001b[1;32m    338\u001b[0m         \u001b[0mend\u001b[0m \u001b[0;34m=\u001b[0m \u001b[0m_w\u001b[0m\u001b[0;34m(\u001b[0m\u001b[0ms\u001b[0m\u001b[0;34m,\u001b[0m \u001b[0mend\u001b[0m\u001b[0;34m)\u001b[0m\u001b[0;34m.\u001b[0m\u001b[0mend\u001b[0m\u001b[0;34m(\u001b[0m\u001b[0;34m)\u001b[0m\u001b[0;34m\u001b[0m\u001b[0;34m\u001b[0m\u001b[0m\n\u001b[1;32m    339\u001b[0m         \u001b[0;32mif\u001b[0m \u001b[0mend\u001b[0m \u001b[0;34m!=\u001b[0m \u001b[0mlen\u001b[0m\u001b[0;34m(\u001b[0m\u001b[0ms\u001b[0m\u001b[0;34m)\u001b[0m\u001b[0;34m:\u001b[0m\u001b[0;34m\u001b[0m\u001b[0;34m\u001b[0m\u001b[0m\n",
      "\u001b[0;32m/usr/local/Cellar/python/3.7.3/Frameworks/Python.framework/Versions/3.7/lib/python3.7/json/decoder.py\u001b[0m in \u001b[0;36mraw_decode\u001b[0;34m(self, s, idx)\u001b[0m\n\u001b[1;32m    351\u001b[0m         \"\"\"\n\u001b[1;32m    352\u001b[0m         \u001b[0;32mtry\u001b[0m\u001b[0;34m:\u001b[0m\u001b[0;34m\u001b[0m\u001b[0;34m\u001b[0m\u001b[0m\n\u001b[0;32m--> 353\u001b[0;31m             \u001b[0mobj\u001b[0m\u001b[0;34m,\u001b[0m \u001b[0mend\u001b[0m \u001b[0;34m=\u001b[0m \u001b[0mself\u001b[0m\u001b[0;34m.\u001b[0m\u001b[0mscan_once\u001b[0m\u001b[0;34m(\u001b[0m\u001b[0ms\u001b[0m\u001b[0;34m,\u001b[0m \u001b[0midx\u001b[0m\u001b[0;34m)\u001b[0m\u001b[0;34m\u001b[0m\u001b[0;34m\u001b[0m\u001b[0m\n\u001b[0m\u001b[1;32m    354\u001b[0m         \u001b[0;32mexcept\u001b[0m \u001b[0mStopIteration\u001b[0m \u001b[0;32mas\u001b[0m \u001b[0merr\u001b[0m\u001b[0;34m:\u001b[0m\u001b[0;34m\u001b[0m\u001b[0;34m\u001b[0m\u001b[0m\n\u001b[1;32m    355\u001b[0m             \u001b[0;32mraise\u001b[0m \u001b[0mJSONDecodeError\u001b[0m\u001b[0;34m(\u001b[0m\u001b[0;34m\"Expecting value\"\u001b[0m\u001b[0;34m,\u001b[0m \u001b[0ms\u001b[0m\u001b[0;34m,\u001b[0m \u001b[0merr\u001b[0m\u001b[0;34m.\u001b[0m\u001b[0mvalue\u001b[0m\u001b[0;34m)\u001b[0m \u001b[0;32mfrom\u001b[0m \u001b[0;32mNone\u001b[0m\u001b[0;34m\u001b[0m\u001b[0;34m\u001b[0m\u001b[0m\n",
      "\u001b[0;31mJSONDecodeError\u001b[0m: Expecting ':' delimiter: line 1 column 48 (char 47)"
     ]
    }
   ],
   "source": [
    "badJson = '{\"line1\":\"Is there anybody in there? \", \"line2\";\"Just nod if you can hear me\"}'\n",
    "json.loads(badJson)"
   ]
  },
  {
   "cell_type": "markdown",
   "metadata": {},
   "source": [
    "Someone is listening! \n",
    "\n",
    "Just to confirm independently that it is doesn't raise an exception on duplicate keys."
   ]
  },
  {
   "cell_type": "code",
   "execution_count": 30,
   "metadata": {},
   "outputs": [
    {
     "data": {
      "text/plain": [
       "{'line1': 'Just nod if you can hear me'}"
      ]
     },
     "execution_count": 30,
     "metadata": {},
     "output_type": "execute_result"
    }
   ],
   "source": [
    "dupKeys = '{\"line1\":\"Is there anybody in there? \", \"line1\":\"Just nod if you can hear me\"}'\n",
    "json.loads(dupKeys)"
   ]
  },
  {
   "cell_type": "markdown",
   "metadata": {},
   "source": [
    "On further inspection [this note in the json decoder spec](https://docs.python.org/3/library/json.html#repeated-names-within-an-object) indicates that this is known/intentional. the ability to add a hook function to deal with it exists, but is probably more than we want to get into for this purpose. Better to avoid creating duplicates in the first place. "
   ]
  },
  {
   "cell_type": "code",
   "execution_count": 32,
   "metadata": {},
   "outputs": [
    {
     "name": "stdout",
     "output_type": "stream",
     "text": [
      "[('line1', 'Is there anybody in there? '), ('line1', 'Just nod if you can hear me')]\n"
     ]
    }
   ],
   "source": [
    "def myHook(pairs):\n",
    "    print(pairs)\n",
    "    \n",
    "json.loads(dupKeys, object_pairs_hook=myHook)"
   ]
  },
  {
   "cell_type": "code",
   "execution_count": null,
   "metadata": {},
   "outputs": [],
   "source": []
  }
 ],
 "metadata": {
  "kernelspec": {
   "display_name": "cda-env",
   "language": "python",
   "name": "cda-env"
  },
  "language_info": {
   "codemirror_mode": {
    "name": "ipython",
    "version": 3
   },
   "file_extension": ".py",
   "mimetype": "text/x-python",
   "name": "python",
   "nbconvert_exporter": "python",
   "pygments_lexer": "ipython3",
   "version": "3.7.3"
  }
 },
 "nbformat": 4,
 "nbformat_minor": 4
}
