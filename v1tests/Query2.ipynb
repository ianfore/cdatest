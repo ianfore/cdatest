{
 "cells": [
  {
   "cell_type": "markdown",
   "metadata": {},
   "source": [
    "\n",
    "## Query 2\n",
    "\n",
    "### Find data from all patients who have been treated with \"Radiation Therapy, NOS\" and have both genomic and proteomic data\n",
    "\n",
    "In this notebook, the question \"and have both genomic and and proteomic data\" is asked as \"and have data in both the genomic and proteomic data commons\". That is a useful thing to do in testing CDA as it represents a true aggregation use case across CRDC nodes. However, we should not lose sight of the fact that the query examples here are not expressed in terms of the type of data being queried. Cases already exist in CRDC where data of a given type are present in more than one node See [related workbook](./Query2%20by%20datatype.ipynb) for an exploration of that. That point made, on with the examples that query according to the node in which data resides.\n",
    "\n",
    "The queries here start with the examples posted in this workbook https://github.com/pihltd/CDA-Testing/blob/master/OfficialCDATesting.ipynb\n",
    "\n",
    "Set up for SQL Queries using cda_client."
   ]
  },
  {
   "cell_type": "code",
   "execution_count": null,
   "metadata": {},
   "outputs": [],
   "source": []
  },
  {
   "cell_type": "code",
   "execution_count": 1,
   "metadata": {},
   "outputs": [],
   "source": [
    "import cda_client\n",
    "host='https://cda.cda-dev.broadinstitute.org'\n",
    "api_client = cda_client.ApiClient(configuration=cda_client.Configuration(host=host))\n",
    "api_instance = cda_client.QueryApi(api_client)"
   ]
  },
  {
   "cell_type": "markdown",
   "metadata": {},
   "source": [
    "Using the exploratory work in the source notebook we can jumop straight to the SQL examples used there. It seems direct SQL was necessary to fulfill this query.\n",
    "\n",
    "The following query is the same as in the source notebook and gives the same results."
   ]
  },
  {
   "cell_type": "code",
   "execution_count": 5,
   "metadata": {},
   "outputs": [
    {
     "data": {
      "text/plain": [
       "{'next_url': None,\n",
       " 'previous_url': None,\n",
       " 'query_sql': 'SELECT COUNT(DISTINCT _ResearchSubject.id) as rsidcount FROM '\n",
       "              'gdc-bq-sample.cda_mvp.v3,\\n'\n",
       "              '     UNNEST(ResearchSubject) AS _ResearchSubject, '\n",
       "              'UNNEST(_ResearchSubject.Diagnosis) AS _Diagnosis, '\n",
       "              'UNNEST(_Diagnosis.Treatment) AS _Treatment \\n'\n",
       "              '     WHERE _Treatment.type = \"Radiation Therapy, NOS\" ',\n",
       " 'result': [{'rsidcount': 11507}]}"
      ]
     },
     "execution_count": 5,
     "metadata": {},
     "output_type": "execute_result"
    }
   ],
   "source": [
    "query1 = (\n",
    "    '''SELECT COUNT(DISTINCT _ResearchSubject.id) as rsidcount \n",
    "     FROM gdc-bq-sample.cda_mvp.v3,\n",
    "     UNNEST(ResearchSubject) AS _ResearchSubject, \n",
    "     UNNEST(_ResearchSubject.Diagnosis) AS _Diagnosis, \n",
    "     UNNEST(_Diagnosis.Treatment) AS _Treatment \n",
    "     WHERE _Treatment.type = \"Radiation Therapy, NOS\" '''\n",
    ")\n",
    "api_instance.sql_query('v3',query1)"
   ]
  },
  {
   "cell_type": "markdown",
   "metadata": {},
   "source": [
    "Our first modification is to count patients we should query for distinct patient ids rather than subject ids."
   ]
  },
  {
   "cell_type": "code",
   "execution_count": 8,
   "metadata": {},
   "outputs": [
    {
     "data": {
      "text/plain": [
       "{'next_url': None,\n",
       " 'previous_url': None,\n",
       " 'query_sql': 'SELECT COUNT(DISTINCT p.id) as rsidcount FROM '\n",
       "              'gdc-bq-sample.cda_mvp.v3 p,\\n'\n",
       "              '     UNNEST(ResearchSubject) AS _ResearchSubject, '\n",
       "              'UNNEST(_ResearchSubject.Diagnosis) AS _Diagnosis, '\n",
       "              'UNNEST(_Diagnosis.Treatment) AS _Treatment \\n'\n",
       "              '     WHERE _Treatment.type = \"Radiation Therapy, NOS\" ',\n",
       " 'result': [{'rsidcount': 11507}]}"
      ]
     },
     "execution_count": 8,
     "metadata": {},
     "output_type": "execute_result"
    }
   ],
   "source": [
    "query2 = (\n",
    "    '''SELECT COUNT(DISTINCT p.id) as rsidcount FROM gdc-bq-sample.cda_mvp.v3 p,\n",
    "     UNNEST(ResearchSubject) AS _ResearchSubject, UNNEST(_ResearchSubject.Diagnosis) AS _Diagnosis, UNNEST(_Diagnosis.Treatment) AS _Treatment \n",
    "     WHERE _Treatment.type = \"Radiation Therapy, NOS\" '''\n",
    ")\n",
    "api_instance.sql_query('v3',query2)"
   ]
  },
  {
   "cell_type": "markdown",
   "metadata": {},
   "source": [
    "Again skipping some exploratory steps in the source workbook, we can jump straight to the combination query which seems to give a sensible result to the intended use  case."
   ]
  },
  {
   "cell_type": "code",
   "execution_count": 14,
   "metadata": {},
   "outputs": [
    {
     "data": {
      "text/plain": [
       "{'next_url': None,\n",
       " 'previous_url': None,\n",
       " 'query_sql': 'SELECT COUNT(DISTINCT _ResearchSubject.id) FROM (SELECT * FROM '\n",
       "              'gdc-bq-sample.cda_mvp.v3, \\n'\n",
       "              '    UNNEST(ResearchSubject) AS _ResearchSubject, '\n",
       "              'UNNEST(_ResearchSubject.Diagnosis) AS _Diagnosis, '\n",
       "              'UNNEST(_Diagnosis.Treatment) AS _Treatment, \\n'\n",
       "              '    UNNEST(_ResearchSubject.Specimen) AS _Specimen, '\n",
       "              'UNNEST(_Specimen.identifier) as _identifier \\n'\n",
       "              '    WHERE ((_Treatment.type = \"Radiation Therapy, NOS\") AND '\n",
       "              '(_identifier.system = \"GDC\"))), \\n'\n",
       "              '    UNNEST(ResearchSubject) AS _ResearchSubject, '\n",
       "              'UNNEST(_ResearchSubject.identifier) AS _identifier WHERE '\n",
       "              '(_identifier.system = \"PDC\")',\n",
       " 'result': [{'': 369}]}"
      ]
     },
     "execution_count": 14,
     "metadata": {},
     "output_type": "execute_result"
    }
   ],
   "source": [
    "comboquery = '''SELECT COUNT(DISTINCT _ResearchSubject.id) \n",
    "FROM (SELECT * FROM gdc-bq-sample.cda_mvp.v3, \n",
    "    UNNEST(ResearchSubject) AS _ResearchSubject, \n",
    "    UNNEST(_ResearchSubject.Diagnosis) AS _Diagnosis, \n",
    "    UNNEST(_Diagnosis.Treatment) AS _Treatment, \n",
    "    UNNEST(_ResearchSubject.Specimen) AS _Specimen, \n",
    "    UNNEST(_Specimen.identifier) as _identifier \n",
    "    WHERE ((_Treatment.type = \"Radiation Therapy, NOS\") AND (_identifier.system = \"GDC\"))\n",
    "    ),\n",
    "    UNNEST(ResearchSubject) AS _ResearchSubject, \n",
    "    UNNEST(_ResearchSubject.identifier) AS _identifier \n",
    "    WHERE (_identifier.system = \"PDC\")'''\n",
    "api_instance.sql_query('v3',comboquery)"
   ]
  },
  {
   "cell_type": "markdown",
   "metadata": {},
   "source": [
    "Again modifying the query to count patients rather than subjects."
   ]
  },
  {
   "cell_type": "code",
   "execution_count": 17,
   "metadata": {},
   "outputs": [
    {
     "data": {
      "text/plain": [
       "{'next_url': None,\n",
       " 'previous_url': None,\n",
       " 'query_sql': 'SELECT COUNT(DISTINCT pp.id) FROM \\n'\n",
       "              '                    (SELECT p.* FROM gdc-bq-sample.cda_mvp.v3 '\n",
       "              'p, \\n'\n",
       "              '                        UNNEST(ResearchSubject) AS '\n",
       "              '_ResearchSubject, \\n'\n",
       "              '                        UNNEST(_ResearchSubject.Diagnosis) AS '\n",
       "              '_Diagnosis, \\n'\n",
       "              '                        UNNEST(_Diagnosis.Treatment) AS '\n",
       "              '_Treatment, \\n'\n",
       "              '                        UNNEST(_ResearchSubject.Specimen) AS '\n",
       "              '_Specimen, \\n'\n",
       "              '                        UNNEST(_Specimen.identifier) as '\n",
       "              '_identifier \\n'\n",
       "              '                        WHERE ((_Treatment.type = \"Radiation '\n",
       "              'Therapy, NOS\") AND (_identifier.system = \"GDC\"))\\n'\n",
       "              '                    ) pp, \\n'\n",
       "              '                    UNNEST(ResearchSubject) AS '\n",
       "              '_ResearchSubject, \\n'\n",
       "              '                    UNNEST(_ResearchSubject.identifier) AS '\n",
       "              '_identifier WHERE \\n'\n",
       "              '                    (_identifier.system = \"PDC\")',\n",
       " 'result': [{'': 369}]}"
      ]
     },
     "execution_count": 17,
     "metadata": {},
     "output_type": "execute_result"
    }
   ],
   "source": [
    "comboquery2 = '''SELECT COUNT(DISTINCT pa.id) FROM \n",
    "                    (SELECT p.* FROM gdc-bq-sample.cda_mvp.v3 p, \n",
    "                        UNNEST(ResearchSubject) AS _ResearchSubject, \n",
    "                        UNNEST(_ResearchSubject.Diagnosis) AS _Diagnosis, \n",
    "                        UNNEST(_Diagnosis.Treatment) AS _Treatment, \n",
    "                        UNNEST(_ResearchSubject.Specimen) AS _Specimen, \n",
    "                        UNNEST(_Specimen.identifier) as _identifier \n",
    "                        WHERE ((_Treatment.type = \"Radiation Therapy, NOS\") AND (_identifier.system = \"GDC\"))\n",
    "                    ) pa, \n",
    "                    UNNEST(ResearchSubject) AS _ResearchSubject, \n",
    "                    UNNEST(_ResearchSubject.identifier) AS _identifier WHERE \n",
    "                    (_identifier.system = \"PDC\")'''\n",
    "api_instance.sql_query('v3',comboquery2)"
   ]
  },
  {
   "cell_type": "markdown",
   "metadata": {},
   "source": [
    "There is a discrepanvy in how the query is done for GDC and PDC. The GDC identifier query is done on the Specimen identifier while the PDC query uses the subject identifier.\n",
    "We can remove an unnest from the query by using the ResearchSubject identifier. \n",
    "\n",
    "* there are issues with this. In fact in TCGA/CPTC it is the specimens that were specific to Genomics and Proteomics. Physically distinct materials (whether we choose to call them specimens, portions or aliquots) are what go to for analysis on different platforms and results in different types of data."
   ]
  },
  {
   "cell_type": "markdown",
   "metadata": {},
   "source": [
    "However, it was not straightforward to create this query. Refer to the source notebook for the  preliminary queries to used to determine that the treatment type was only specified for GDC Research Subjects. \n",
    "\n",
    "This is important to formulating the correct query. The following is the same query but with PDC and GDC swapped. No matches occur. "
   ]
  },
  {
   "cell_type": "code",
   "execution_count": 39,
   "metadata": {},
   "outputs": [
    {
     "data": {
      "text/plain": [
       "{'next_url': None,\n",
       " 'previous_url': None,\n",
       " 'query_sql': 'SELECT COUNT(DISTINCT pa.id) FROM \\n'\n",
       "              '                    (SELECT p.* FROM gdc-bq-sample.cda_mvp.v3 '\n",
       "              'p, \\n'\n",
       "              '                        UNNEST(ResearchSubject) AS '\n",
       "              '_ResearchSubject, \\n'\n",
       "              '                        UNNEST(_ResearchSubject.Diagnosis) AS '\n",
       "              '_Diagnosis, \\n'\n",
       "              '                        UNNEST(_Diagnosis.Treatment) AS '\n",
       "              '_Treatment, \\n'\n",
       "              '                        UNNEST(_ResearchSubject.Specimen) AS '\n",
       "              '_Specimen, \\n'\n",
       "              '                        UNNEST(_Specimen.identifier) as '\n",
       "              '_identifier \\n'\n",
       "              '                        WHERE ((_Treatment.type = \"Radiation '\n",
       "              'Therapy, NOS\") AND (_identifier.system = \"PDC\"))\\n'\n",
       "              '                    ) pa, \\n'\n",
       "              '                    UNNEST(ResearchSubject) AS '\n",
       "              '_ResearchSubject, \\n'\n",
       "              '                    UNNEST(_ResearchSubject.identifier) AS '\n",
       "              '_identifier WHERE \\n'\n",
       "              '                    (_identifier.system = \"GDC\")',\n",
       " 'result': [{'': 0}]}"
      ]
     },
     "execution_count": 39,
     "metadata": {},
     "output_type": "execute_result"
    }
   ],
   "source": [
    "comboquery2b =  '''SELECT COUNT(DISTINCT pa.id) FROM \n",
    "                    (SELECT p.* FROM gdc-bq-sample.cda_mvp.v3 p, \n",
    "                        UNNEST(ResearchSubject) AS _ResearchSubject, \n",
    "                        UNNEST(_ResearchSubject.Diagnosis) AS _Diagnosis, \n",
    "                        UNNEST(_Diagnosis.Treatment) AS _Treatment, \n",
    "                        UNNEST(_ResearchSubject.identifier) AS _identifier \n",
    "                        WHERE ((_Treatment.type = \"Radiation Therapy, NOS\") AND (_identifier.system = \"PDC\"))\n",
    "                    ) pa, \n",
    "                    UNNEST(ResearchSubject) AS _ResearchSubject, \n",
    "                    UNNEST(_ResearchSubject.identifier) AS _identifier WHERE \n",
    "                    (_identifier.system = \"GDC\")'''\n",
    "api_instance.sql_query('v3',comboquery2b)"
   ]
  },
  {
   "cell_type": "markdown",
   "metadata": {},
   "source": [
    "We imagine that the following might fix the problem. This should work whichever of the ResearchSubjects has the Diagnosis and Treatment."
   ]
  },
  {
   "cell_type": "code",
   "execution_count": 69,
   "metadata": {},
   "outputs": [
    {
     "data": {
      "text/plain": [
       "{'next_url': None,\n",
       " 'previous_url': None,\n",
       " 'query_sql': 'SELECT COUNT(DISTINCT p.id) patientCount FROM \\n'\n",
       "              '                    gdc-bq-sample.cda_mvp.v3 p, \\n'\n",
       "              '                        UNNEST(p.ResearchSubject) AS '\n",
       "              '_ResearchSubject, \\n'\n",
       "              '                        UNNEST(_ResearchSubject.Diagnosis) AS '\n",
       "              '_Diagnosis, \\n'\n",
       "              '                        UNNEST(_Diagnosis.Treatment) AS '\n",
       "              '_Treatment, \\n'\n",
       "              '                        UNNEST(_ResearchSubject.identifier) AS '\n",
       "              '_identifier ,\\n'\n",
       "              '                    UNNEST(p.ResearchSubject) AS '\n",
       "              '_ResearchSubject2, \\n'\n",
       "              '                    UNNEST(_ResearchSubject2.Diagnosis) AS '\n",
       "              '_Diagnosis2, \\n'\n",
       "              '                    UNNEST(_Diagnosis2.Treatment) AS '\n",
       "              '_Treatment2,\\n'\n",
       "              '                    UNNEST(_ResearchSubject2.identifier) AS '\n",
       "              '_identifier2\\n'\n",
       "              '                    WHERE (\\n'\n",
       "              '                    ( (_identifier.system = \"GDC\") AND '\n",
       "              '(_identifier2.system = \"PDC\") )\\n'\n",
       "              '                    AND\\n'\n",
       "              '                    ( (_Treatment.type = \"Radiation Therapy, '\n",
       "              'NOS\") OR (_Treatment2.type = \"Radiation Therapy, NOS\"))\\n'\n",
       "              '                    )',\n",
       " 'result': [{'patientCount': 0}]}"
      ]
     },
     "execution_count": 69,
     "metadata": {},
     "output_type": "execute_result"
    }
   ],
   "source": [
    "comboquery2c =  '''SELECT COUNT(DISTINCT p.id) patientCount FROM \n",
    "                    gdc-bq-sample.cda_mvp.v3 p,\n",
    "                    \n",
    "                    UNNEST(p.ResearchSubject) AS _ResearchSubject, \n",
    "                    UNNEST(_ResearchSubject.Diagnosis) AS _Diagnosis, \n",
    "                    UNNEST(_Diagnosis.Treatment) AS _Treatment, \n",
    "                    UNNEST(_ResearchSubject.identifier) AS _identifier ,\n",
    "                    \n",
    "                    UNNEST(p.ResearchSubject) AS _ResearchSubject2, \n",
    "                    UNNEST(_ResearchSubject2.Diagnosis) AS _Diagnosis2, \n",
    "                    UNNEST(_Diagnosis2.Treatment) AS _Treatment2,\n",
    "                    UNNEST(_ResearchSubject2.identifier) AS _identifier2\n",
    "                    \n",
    "                    WHERE (\n",
    "                    ( (_identifier.system = \"GDC\") AND (_identifier2.system = \"PDC\") )\n",
    "                    AND\n",
    "                    ( (_Treatment.type = \"Radiation Therapy, NOS\") OR (_Treatment2.type = \"Radiation Therapy, NOS\"))\n",
    "                    )'''\n",
    "\n",
    "api_instance.sql_query('v3',comboquery2c)"
   ]
  },
  {
   "cell_type": "markdown",
   "metadata": {},
   "source": [
    "The issue is likely that there is no nested Diagnosis and/or Treatment within the PDC ResearchSubject - so the unnest does not generate any rows to match with the GDC subject."
   ]
  },
  {
   "cell_type": "markdown",
   "metadata": {},
   "source": [
    "We could continue to try and find workarounds for this, but it is probably better to take a step back.\n",
    "\n",
    "All this is trying to work around a model that does not reflect what actually happened in these studies. There were not separete diagnoses performed for the data in the GDC and PDC data. The tree shown for 09CO022 is more of the reality. If the data model reflected this reality, and the treatment is at the Patient level rather than ResearchSubject the whole query is simplified. That is true both from a query language point of view and from the scientists mental msp of the studies.\n",
    "\n",
    "\n",
    "For demo purposes we can create treatment at the patient level as follows. \n",
    "\n",
    "`select p.*,  _d1.Treatment as treatment\n",
    "FROM gdc-bq-sample.cda_mvp.v3 p,\n",
    "unnest(ResearchSubject) as _s1,\n",
    "UNNEST(_s1.identifier) as _i1,\n",
    "UNNEST(_s1.Diagnosis) as _d1\n",
    "where _i1.system = 'GDC' `\n",
    "\n",
    "We can create that table on the fly via a with clause and execute a relatively clean query against it. We'll hide our modified table in a function. \n"
   ]
  },
  {
   "cell_type": "code",
   "execution_count": 2,
   "metadata": {},
   "outputs": [],
   "source": [
    "def queryModV3(api_instance, query, limit=None):\n",
    "    modQuery = '''\n",
    "    with new_v3 as (select p.*,  d1.Treatment as treatment\n",
    "    FROM gdc-bq-sample.cda_mvp.v3 p,\n",
    "    unnest(ResearchSubject) as s1,\n",
    "    UNNEST(s1.identifier) as i1,\n",
    "    UNNEST(s1.Diagnosis) as d1\n",
    "    where i1.system = 'GDC') \n",
    "    {}\n",
    "    '''.format(query)\n",
    "    return api_instance.sql_query('v3',modQuery, limit=10)"
   ]
  },
  {
   "cell_type": "markdown",
   "metadata": {},
   "source": [
    "Now we can pretend we're querying against a better model of TCGA/CPTAC."
   ]
  },
  {
   "cell_type": "code",
   "execution_count": 3,
   "metadata": {},
   "outputs": [
    {
     "name": "stdout",
     "output_type": "stream",
     "text": [
      "{'next_url': None,\n",
      " 'previous_url': None,\n",
      " 'query_sql': '\\n'\n",
      "              '    with new_v3 as (select p.*,  d1.Treatment as treatment\\n'\n",
      "              '    FROM gdc-bq-sample.cda_mvp.v3 p,\\n'\n",
      "              '    unnest(ResearchSubject) as s1,\\n'\n",
      "              '    UNNEST(s1.identifier) as i1,\\n'\n",
      "              '    UNNEST(s1.Diagnosis) as d1\\n'\n",
      "              \"    where i1.system = 'GDC') \\n\"\n",
      "              '    \\n'\n",
      "              'select count(distinct new_v3.id) patientCount\\n'\n",
      "              'from new_v3, unnest(new_v3.treatment) as tx,\\n'\n",
      "              '\\n'\n",
      "              'unnest(ResearchSubject) as s1,\\n'\n",
      "              'UNNEST(s1.identifier) as i1,\\n'\n",
      "              '\\n'\n",
      "              'unnest(ResearchSubject) as s2,\\n'\n",
      "              'UNNEST(s2.identifier) as i2\\n'\n",
      "              '\\n'\n",
      "              \"where tx.type = 'Radiation Therapy, NOS'\\n\"\n",
      "              \"and i1.system = 'GDC'\\n\"\n",
      "              \"and i2.system = 'PDC'\\n\"\n",
      "              '\\n'\n",
      "              '\\n'\n",
      "              '    ',\n",
      " 'result': [{'patientCount': 369}]}\n"
     ]
    }
   ],
   "source": [
    "tq2 = '''\n",
    "select count(distinct new_v3.id) patientCount\n",
    "from new_v3, unnest(new_v3.treatment) as tx,\n",
    "\n",
    "unnest(ResearchSubject) as s1,\n",
    "UNNEST(s1.identifier) as i1,\n",
    "\n",
    "unnest(ResearchSubject) as s2,\n",
    "UNNEST(s2.identifier) as i2\n",
    "\n",
    "where tx.type = 'Radiation Therapy, NOS'\n",
    "and i1.system = 'GDC'\n",
    "and i2.system = 'PDC'\n",
    "\n",
    "'''\n",
    "print(queryModV3(api_instance, tq2))"
   ]
  },
  {
   "cell_type": "markdown",
   "metadata": {},
   "source": [
    "We no longer have to pay careful attention to whether i1 or i2 has to be GDC and which is PDC, We get the same result either way."
   ]
  },
  {
   "cell_type": "code",
   "execution_count": null,
   "metadata": {},
   "outputs": [],
   "source": [
    "tq3 = '''\n",
    "select count(distinct new_v3.id) patientCount\n",
    "from new_v3, unnest(new_v3.treatment) as tx,\n",
    "\n",
    "unnest(ResearchSubject) as s1,\n",
    "UNNEST(s1.identifier) as i1,\n",
    "\n",
    "unnest(ResearchSubject) as s2,\n",
    "UNNEST(s2.identifier) as i2\n",
    "\n",
    "where tx.type = 'Radiation Therapy, NOS'\n",
    "and i1.system = 'PDC'\n",
    "and i2.system = 'GDC'\n",
    "\n",
    "'''\n",
    "print(queryModV3(api_instance, tq3))"
   ]
  },
  {
   "cell_type": "markdown",
   "metadata": {},
   "source": [
    "Note: putting the treatment at the patient level works for TCGA/CPTAC because there was only one diagnostic event. In many studies that won't be true. The required model will be slightly more complex than we were able to get away with here, but the required model is fairly well known (e.g. in MAGE, FuGE, HCA data model and OpenSpecimen) .  In some of these models the event has sometimes been called SpecimenCollectionEvent - representing some event on the study or treatment protocol. \n",
    "\n",
    "The 'with' statement creates that table for us on the fly. In reality the preferable solution would be that the CDA ETL creates it as part of a revised model.\n",
    "\n",
    "Even better would be that in forward looking planned studies data managament would not create the problem in the first place."
   ]
  },
  {
   "cell_type": "markdown",
   "metadata": {},
   "source": [
    "### What are the studies which have both GDC and PDC data."
   ]
  },
  {
   "cell_type": "code",
   "execution_count": 153,
   "metadata": {},
   "outputs": [
    {
     "data": {
      "text/html": [
       "<div>\n",
       "<style scoped>\n",
       "    .dataframe tbody tr th:only-of-type {\n",
       "        vertical-align: middle;\n",
       "    }\n",
       "\n",
       "    .dataframe tbody tr th {\n",
       "        vertical-align: top;\n",
       "    }\n",
       "\n",
       "    .dataframe thead th {\n",
       "        text-align: right;\n",
       "    }\n",
       "</style>\n",
       "<table border=\"1\" class=\"dataframe\">\n",
       "  <thead>\n",
       "    <tr style=\"text-align: right;\">\n",
       "      <th></th>\n",
       "      <th>pdcproject</th>\n",
       "      <th>gdcproject</th>\n",
       "      <th>common_subjects</th>\n",
       "    </tr>\n",
       "  </thead>\n",
       "  <tbody>\n",
       "    <tr>\n",
       "      <th>0</th>\n",
       "      <td>CPTAC3-Discovery</td>\n",
       "      <td>CPTAC-3</td>\n",
       "      <td>794</td>\n",
       "    </tr>\n",
       "    <tr>\n",
       "      <th>1</th>\n",
       "      <td>CPTAC-2</td>\n",
       "      <td>CPTAC-2</td>\n",
       "      <td>323</td>\n",
       "    </tr>\n",
       "    <tr>\n",
       "      <th>2</th>\n",
       "      <td>CPTAC-TCGA</td>\n",
       "      <td>TCGA-COAD</td>\n",
       "      <td>60</td>\n",
       "    </tr>\n",
       "    <tr>\n",
       "      <th>3</th>\n",
       "      <td>CPTAC-TCGA</td>\n",
       "      <td>TCGA-READ</td>\n",
       "      <td>30</td>\n",
       "    </tr>\n",
       "    <tr>\n",
       "      <th>4</th>\n",
       "      <td>CPTAC-TCGA</td>\n",
       "      <td>TCGA-OV</td>\n",
       "      <td>174</td>\n",
       "    </tr>\n",
       "    <tr>\n",
       "      <th>5</th>\n",
       "      <td>CPTAC-TCGA</td>\n",
       "      <td>TCGA-BRCA</td>\n",
       "      <td>105</td>\n",
       "    </tr>\n",
       "    <tr>\n",
       "      <th>6</th>\n",
       "      <td>Integrated Proteogenomic Characterization of H...</td>\n",
       "      <td>ORGANOID-PANCREATIC</td>\n",
       "      <td>70</td>\n",
       "    </tr>\n",
       "    <tr>\n",
       "      <th>7</th>\n",
       "      <td>Human Early-Onset Gastric Cancer - Korea Unive...</td>\n",
       "      <td>ORGANOID-PANCREATIC</td>\n",
       "      <td>70</td>\n",
       "    </tr>\n",
       "  </tbody>\n",
       "</table>\n",
       "</div>"
      ],
      "text/plain": [
       "                                          pdcproject           gdcproject  \\\n",
       "0                                   CPTAC3-Discovery              CPTAC-3   \n",
       "1                                            CPTAC-2              CPTAC-2   \n",
       "2                                         CPTAC-TCGA            TCGA-COAD   \n",
       "3                                         CPTAC-TCGA            TCGA-READ   \n",
       "4                                         CPTAC-TCGA              TCGA-OV   \n",
       "5                                         CPTAC-TCGA            TCGA-BRCA   \n",
       "6  Integrated Proteogenomic Characterization of H...  ORGANOID-PANCREATIC   \n",
       "7  Human Early-Onset Gastric Cancer - Korea Unive...  ORGANOID-PANCREATIC   \n",
       "\n",
       "   common_subjects  \n",
       "0              794  \n",
       "1              323  \n",
       "2               60  \n",
       "3               30  \n",
       "4              174  \n",
       "5              105  \n",
       "6               70  \n",
       "7               70  "
      ]
     },
     "execution_count": 153,
     "metadata": {},
     "output_type": "execute_result"
    }
   ],
   "source": [
    "projectQuery = '''\n",
    "select  s1.associated_project pdcproject, s2.associated_project gdcproject, count(*) common_subjects\n",
    "from gdc-bq-sample.cda_mvp.v3,\n",
    "\n",
    "unnest(ResearchSubject) as s1,\n",
    "UNNEST(s1.identifier) as i1,\n",
    "\n",
    "unnest(ResearchSubject) as s2,\n",
    "UNNEST(s2.identifier) as i2\n",
    "\n",
    "where i1.system = 'PDC'\n",
    "and i2.system = 'GDC'\n",
    "\n",
    "group by s1.associated_project, s2.associated_project\n",
    "\n",
    "'''\n",
    "gdc_pdc_projects = api_instance.sql_query('v3',projectQuery)\n",
    "import pandas as pd\n",
    "pd.DataFrame(gdc_pdc_projects.result)\n"
   ]
  },
  {
   "cell_type": "code",
   "execution_count": null,
   "metadata": {},
   "outputs": [],
   "source": []
  }
 ],
 "metadata": {
  "kernelspec": {
   "display_name": "cda-env",
   "language": "python",
   "name": "cda-env"
  },
  "language_info": {
   "codemirror_mode": {
    "name": "ipython",
    "version": 3
   },
   "file_extension": ".py",
   "mimetype": "text/x-python",
   "name": "python",
   "nbconvert_exporter": "python",
   "pygments_lexer": "ipython3",
   "version": "3.7.3"
  }
 },
 "nbformat": 4,
 "nbformat_minor": 4
}
