{
 "cells": [
  {
   "cell_type": "markdown",
   "metadata": {},
   "source": [
    "## CPTAC TCGA Colom samples\n",
    "\n",
    "This notebook explores whether the genomic and proteomic data from a single CPTAC2 subject (person) become aggregated by the Cancer Data Aggregator (CDA). The following diagram shows, independent of CDA, a hierarchy of specimens and sub-specimens that were derived from that subject. In a sense one might say it is a 'ground truth' which it is useful to see whether CDA accurately represent. The subject was part of the TCGA Colon Cancer project and has the identifier 09CO022<sup>1</sup>. \n",
    "\n",
    "We'll leave aside for now how to do a query using the '09CO022' identifier. From the GDC portal page shown above we identify that the ResearchSubject.id that the CDA will use is c5421e34-e5c7-4ba5-aed9-146a5575fd8d.\n",
    "\n",
    "On to a query using that value.\n",
    "\n",
    "<sup>1</sup>Other identifiers were created for the subject in different systems but this identifier is used so we can refer to the subject independently of any of those specific systems. It is also a more convenient id to use than a UUID when writing or speaking."
   ]
  },
  {
   "cell_type": "code",
   "execution_count": 1,
   "metadata": {},
   "outputs": [],
   "source": [
    "from cdapython import Q, columns, unique_terms\n",
    "import json"
   ]
  },
  {
   "cell_type": "markdown",
   "metadata": {},
   "source": [
    "The following query is what one would expect to return the subject shown above. We'll save the json result to a file."
   ]
  },
  {
   "cell_type": "code",
   "execution_count": 18,
   "metadata": {},
   "outputs": [
    {
     "ename": "TypeError",
     "evalue": "object of type 'NoneType' has no len()",
     "output_type": "error",
     "traceback": [
      "\u001b[0;31m---------------------------------------------------------------------------\u001b[0m",
      "\u001b[0;31mTypeError\u001b[0m                                 Traceback (most recent call last)",
      "\u001b[0;32m<ipython-input-18-95d035954fea>\u001b[0m in \u001b[0;36m<module>\u001b[0;34m\u001b[0m\n\u001b[1;32m      2\u001b[0m \u001b[0mq1\u001b[0m \u001b[0;34m=\u001b[0m \u001b[0mQ\u001b[0m\u001b[0;34m(\u001b[0m\u001b[0;34m'ResearchSubject.id = \"c5421e34-e5c7-4ba5-aed9-146a5575fd8d\"'\u001b[0m\u001b[0;34m)\u001b[0m\u001b[0;34m\u001b[0m\u001b[0;34m\u001b[0m\u001b[0m\n\u001b[1;32m      3\u001b[0m \u001b[0mr\u001b[0m \u001b[0;34m=\u001b[0m \u001b[0mq1\u001b[0m\u001b[0;34m.\u001b[0m\u001b[0mrun\u001b[0m\u001b[0;34m(\u001b[0m\u001b[0mlimit\u001b[0m\u001b[0;34m=\u001b[0m\u001b[0;36m2\u001b[0m\u001b[0;34m)\u001b[0m\u001b[0;34m\u001b[0m\u001b[0;34m\u001b[0m\u001b[0m\n\u001b[0;32m----> 4\u001b[0;31m \u001b[0mprint\u001b[0m\u001b[0;34m(\u001b[0m\u001b[0mr\u001b[0m\u001b[0;34m)\u001b[0m\u001b[0;34m\u001b[0m\u001b[0;34m\u001b[0m\u001b[0m\n\u001b[0m\u001b[1;32m      5\u001b[0m \u001b[0;31m#print(r.pretty_print)\u001b[0m\u001b[0;34m\u001b[0m\u001b[0;34m\u001b[0m\u001b[0;34m\u001b[0m\u001b[0m\n\u001b[1;32m      6\u001b[0m \u001b[0;31m#r.next_page\u001b[0m\u001b[0;34m\u001b[0m\u001b[0;34m\u001b[0m\u001b[0;34m\u001b[0m\u001b[0m\n",
      "\u001b[0;32m~/imfenvs/cda-env/lib/python3.7/site-packages/cdapython.py\u001b[0m in \u001b[0;36m__str__\u001b[0;34m(self)\u001b[0m\n\u001b[1;32m    100\u001b[0m \u001b[0mCount\u001b[0m\u001b[0;34m:\u001b[0m \u001b[0;34m{\u001b[0m\u001b[0mself\u001b[0m\u001b[0;34m.\u001b[0m\u001b[0mcount\u001b[0m\u001b[0;34m}\u001b[0m\u001b[0;34m\u001b[0m\u001b[0;34m\u001b[0m\u001b[0m\n\u001b[1;32m    101\u001b[0m \u001b[0mMore\u001b[0m \u001b[0mpages\u001b[0m\u001b[0;34m:\u001b[0m \u001b[0;34m{\u001b[0m\u001b[0;34m\"No\"\u001b[0m \u001b[0;32mif\u001b[0m \u001b[0mself\u001b[0m\u001b[0;34m.\u001b[0m\u001b[0mcount\u001b[0m \u001b[0;34m<\u001b[0m \u001b[0mself\u001b[0m\u001b[0;34m.\u001b[0m\u001b[0m_limit\u001b[0m \u001b[0;32melse\u001b[0m \u001b[0;34m\"Yes\"\u001b[0m\u001b[0;34m}\u001b[0m\u001b[0;34m\u001b[0m\u001b[0;34m\u001b[0m\u001b[0m\n\u001b[0;32m--> 102\u001b[0;31m \"\"\"\n\u001b[0m\u001b[1;32m    103\u001b[0m \u001b[0;34m\u001b[0m\u001b[0m\n\u001b[1;32m    104\u001b[0m     \u001b[0;34m@\u001b[0m\u001b[0mproperty\u001b[0m\u001b[0;34m\u001b[0m\u001b[0;34m\u001b[0m\u001b[0m\n",
      "\u001b[0;32m~/imfenvs/cda-env/lib/python3.7/site-packages/cdapython.py\u001b[0m in \u001b[0;36mcount\u001b[0;34m(self)\u001b[0m\n\u001b[1;32m    108\u001b[0m     \u001b[0;34m@\u001b[0m\u001b[0mproperty\u001b[0m\u001b[0;34m\u001b[0m\u001b[0;34m\u001b[0m\u001b[0m\n\u001b[1;32m    109\u001b[0m     \u001b[0;32mdef\u001b[0m \u001b[0mcount\u001b[0m\u001b[0;34m(\u001b[0m\u001b[0mself\u001b[0m\u001b[0;34m)\u001b[0m\u001b[0;34m:\u001b[0m\u001b[0;34m\u001b[0m\u001b[0;34m\u001b[0m\u001b[0m\n\u001b[0;32m--> 110\u001b[0;31m         \u001b[0;32mreturn\u001b[0m \u001b[0mlen\u001b[0m\u001b[0;34m(\u001b[0m\u001b[0mself\u001b[0m\u001b[0;34m.\u001b[0m\u001b[0m_api_response\u001b[0m\u001b[0;34m.\u001b[0m\u001b[0mresult\u001b[0m\u001b[0;34m)\u001b[0m\u001b[0;34m\u001b[0m\u001b[0;34m\u001b[0m\u001b[0m\n\u001b[0m\u001b[1;32m    111\u001b[0m \u001b[0;34m\u001b[0m\u001b[0m\n\u001b[1;32m    112\u001b[0m     \u001b[0;32mdef\u001b[0m \u001b[0m__getitem__\u001b[0m\u001b[0;34m(\u001b[0m\u001b[0mself\u001b[0m\u001b[0;34m,\u001b[0m \u001b[0midx\u001b[0m\u001b[0;34m)\u001b[0m\u001b[0;34m:\u001b[0m\u001b[0;34m\u001b[0m\u001b[0;34m\u001b[0m\u001b[0m\n",
      "\u001b[0;31mTypeError\u001b[0m: object of type 'NoneType' has no len()"
     ]
    }
   ],
   "source": [
    "#q1 = Q('ResearchSubject.Specimen.id = \"670a67f3-641f-11e8-bcf1-0a2705229b82\"')\n",
    "q1 = Q('ResearchSubject.id = \"c5421e34-e5c7-4ba5-aed9-146a5575fd8d\"')\n",
    "r = q1.run(limit=2) \n",
    "print(r)\n",
    "#print(r.pretty_print)\n",
    "#r.next_page\n",
    "#r.count\n",
    "#j = json.dumps(r[0], indent=3)\n",
    "#with open('query_results/09CO022.json', 'w') as f:\n",
    "#    f.write(j)"
   ]
  },
  {
   "cell_type": "markdown",
   "metadata": {},
   "source": [
    "Worth noting that this gave one result, as would be expected for a query specifying a single subject id.\n",
    "\n",
    "Did this return the expected specimens from the diagram? First, a count of those specimens."
   ]
  },
  {
   "cell_type": "code",
   "execution_count": 4,
   "metadata": {},
   "outputs": [
    {
     "data": {
      "text/plain": [
       "11"
      ]
     },
     "execution_count": 4,
     "metadata": {},
     "output_type": "execute_result"
    }
   ],
   "source": [
    "specimensFromRoot = r[0]['Specimen']\n",
    "len(specimensFromRoot)"
   ]
  },
  {
   "cell_type": "markdown",
   "metadata": {},
   "source": [
    "That's more that what we might expect. However, the following exploration of the specimens shows that the count of 11 is exactly the same hierarchy as in the GDC screenshot above. Namely, two parent samples, leading to three aliquots on which genomic sequencing was performed."
   ]
  },
  {
   "cell_type": "code",
   "execution_count": 5,
   "metadata": {},
   "outputs": [
    {
     "data": {
      "text/html": [
       "<div>\n",
       "<style scoped>\n",
       "    .dataframe tbody tr th:only-of-type {\n",
       "        vertical-align: middle;\n",
       "    }\n",
       "\n",
       "    .dataframe tbody tr th {\n",
       "        vertical-align: top;\n",
       "    }\n",
       "\n",
       "    .dataframe thead th {\n",
       "        text-align: right;\n",
       "    }\n",
       "</style>\n",
       "<table border=\"1\" class=\"dataframe\">\n",
       "  <thead>\n",
       "    <tr style=\"text-align: right;\">\n",
       "      <th></th>\n",
       "      <th>identifier</th>\n",
       "      <th>derived_from_specimen</th>\n",
       "      <th>specimen_type</th>\n",
       "      <th>source_material</th>\n",
       "    </tr>\n",
       "  </thead>\n",
       "  <tbody>\n",
       "    <tr>\n",
       "      <th>0</th>\n",
       "      <td>4591a53d-5668-4a70-b44b-e08a3d59267e</td>\n",
       "      <td>Initial sample</td>\n",
       "      <td>sample</td>\n",
       "      <td>Primary Tumor</td>\n",
       "    </tr>\n",
       "    <tr>\n",
       "      <th>1</th>\n",
       "      <td>c53c4d60-2ddb-5da8-932e-00a86fa2347f</td>\n",
       "      <td>4591a53d-5668-4a70-b44b-e08a3d59267e</td>\n",
       "      <td>portion</td>\n",
       "      <td>Primary Tumor</td>\n",
       "    </tr>\n",
       "    <tr>\n",
       "      <th>2</th>\n",
       "      <td>31075cfa-7aef-59f1-bf54-a1cddb5ee0fd</td>\n",
       "      <td>c53c4d60-2ddb-5da8-932e-00a86fa2347f</td>\n",
       "      <td>analyte</td>\n",
       "      <td>Primary Tumor</td>\n",
       "    </tr>\n",
       "    <tr>\n",
       "      <th>3</th>\n",
       "      <td>0d8adcbf-13f0-48c3-83df-3fa205b79ae8</td>\n",
       "      <td>31075cfa-7aef-59f1-bf54-a1cddb5ee0fd</td>\n",
       "      <td>aliquot</td>\n",
       "      <td>Primary Tumor</td>\n",
       "    </tr>\n",
       "    <tr>\n",
       "      <th>4</th>\n",
       "      <td>d085ebd9-7605-54a0-abb9-10867f5fa1b1</td>\n",
       "      <td>4591a53d-5668-4a70-b44b-e08a3d59267e</td>\n",
       "      <td>portion</td>\n",
       "      <td>Primary Tumor</td>\n",
       "    </tr>\n",
       "    <tr>\n",
       "      <th>5</th>\n",
       "      <td>a31724b6-e550-552b-bd61-41341c534e28</td>\n",
       "      <td>d085ebd9-7605-54a0-abb9-10867f5fa1b1</td>\n",
       "      <td>analyte</td>\n",
       "      <td>Primary Tumor</td>\n",
       "    </tr>\n",
       "    <tr>\n",
       "      <th>6</th>\n",
       "      <td>9250d96e-1cdc-4d68-8a56-f7b186a6fab5</td>\n",
       "      <td>a31724b6-e550-552b-bd61-41341c534e28</td>\n",
       "      <td>aliquot</td>\n",
       "      <td>Primary Tumor</td>\n",
       "    </tr>\n",
       "    <tr>\n",
       "      <th>7</th>\n",
       "      <td>b12c257d-7409-4858-9384-c430929a075a</td>\n",
       "      <td>Initial sample</td>\n",
       "      <td>sample</td>\n",
       "      <td>Blood Derived Normal</td>\n",
       "    </tr>\n",
       "    <tr>\n",
       "      <th>8</th>\n",
       "      <td>702d7ba0-9558-5b2d-af4d-cd797485b8c1</td>\n",
       "      <td>b12c257d-7409-4858-9384-c430929a075a</td>\n",
       "      <td>portion</td>\n",
       "      <td>Blood Derived Normal</td>\n",
       "    </tr>\n",
       "    <tr>\n",
       "      <th>9</th>\n",
       "      <td>f0003f0a-07ea-548e-b1f7-7e6d1b27d47a</td>\n",
       "      <td>702d7ba0-9558-5b2d-af4d-cd797485b8c1</td>\n",
       "      <td>analyte</td>\n",
       "      <td>Blood Derived Normal</td>\n",
       "    </tr>\n",
       "    <tr>\n",
       "      <th>10</th>\n",
       "      <td>ce309009-9257-4c13-9241-83fc629c35a0</td>\n",
       "      <td>f0003f0a-07ea-548e-b1f7-7e6d1b27d47a</td>\n",
       "      <td>aliquot</td>\n",
       "      <td>Blood Derived Normal</td>\n",
       "    </tr>\n",
       "  </tbody>\n",
       "</table>\n",
       "</div>"
      ],
      "text/plain": [
       "                              identifier  \\\n",
       "0   4591a53d-5668-4a70-b44b-e08a3d59267e   \n",
       "1   c53c4d60-2ddb-5da8-932e-00a86fa2347f   \n",
       "2   31075cfa-7aef-59f1-bf54-a1cddb5ee0fd   \n",
       "3   0d8adcbf-13f0-48c3-83df-3fa205b79ae8   \n",
       "4   d085ebd9-7605-54a0-abb9-10867f5fa1b1   \n",
       "5   a31724b6-e550-552b-bd61-41341c534e28   \n",
       "6   9250d96e-1cdc-4d68-8a56-f7b186a6fab5   \n",
       "7   b12c257d-7409-4858-9384-c430929a075a   \n",
       "8   702d7ba0-9558-5b2d-af4d-cd797485b8c1   \n",
       "9   f0003f0a-07ea-548e-b1f7-7e6d1b27d47a   \n",
       "10  ce309009-9257-4c13-9241-83fc629c35a0   \n",
       "\n",
       "                   derived_from_specimen specimen_type       source_material  \n",
       "0                         Initial sample        sample         Primary Tumor  \n",
       "1   4591a53d-5668-4a70-b44b-e08a3d59267e       portion         Primary Tumor  \n",
       "2   c53c4d60-2ddb-5da8-932e-00a86fa2347f       analyte         Primary Tumor  \n",
       "3   31075cfa-7aef-59f1-bf54-a1cddb5ee0fd       aliquot         Primary Tumor  \n",
       "4   4591a53d-5668-4a70-b44b-e08a3d59267e       portion         Primary Tumor  \n",
       "5   d085ebd9-7605-54a0-abb9-10867f5fa1b1       analyte         Primary Tumor  \n",
       "6   a31724b6-e550-552b-bd61-41341c534e28       aliquot         Primary Tumor  \n",
       "7                         Initial sample        sample  Blood Derived Normal  \n",
       "8   b12c257d-7409-4858-9384-c430929a075a       portion  Blood Derived Normal  \n",
       "9   702d7ba0-9558-5b2d-af4d-cd797485b8c1       analyte  Blood Derived Normal  \n",
       "10  f0003f0a-07ea-548e-b1f7-7e6d1b27d47a       aliquot  Blood Derived Normal  "
      ]
     },
     "execution_count": 5,
     "metadata": {},
     "output_type": "execute_result"
    }
   ],
   "source": [
    "import pandas as pd\n",
    "rowsFromRoot = []\n",
    "for s in specimensFromRoot:\n",
    "    rowsFromRoot.append([s['identifier'][0]['value'], s['derived_from_specimen'], s['specimen_type'], s['source_material_type']])\n",
    "df = pd.DataFrame(rowsFromRoot)\n",
    "df.columns = ['identifier','derived_from_specimen','specimen_type','source_material']\n",
    "df"
   ]
  },
  {
   "cell_type": "markdown",
   "metadata": {},
   "source": [
    "What else is returned by CDA in the single result? \n",
    "\n",
    "### Issue 1\n",
    "The designation of the parent specimen as derived from Initial Sample breaks the tree. Both are derived from the Subject. (actually from a particular event in the Subject's history). Derived_from_specimen is misleading, it could be read that roes 0 and 7 above derive from the same sample.  Derived_from_specimen also has mixed meaning (semantics); in some cases it is a link to the parent object, in others it is a human readable description. A preferable solution would be derived_from_biomaterial where the biomaterial is a specimen or subject as appropriate. This is a common pattern; present in MAGE, FuGE, the Human Cell Atlas, and other standards and systems.\n",
    "\n",
    "### Note \n",
    "The fidelity with which the tree is represented will become more important as the imaging data is added. If the 'ground truth' example is as shown in the diagram at top, there is a particular relationship between the image file and one of the genomic samples which does not exist for the other genomic sample. Let's say that an examination of the image let us determine '% neoplastic cellularity'; that might help us interpret the data from the closely related sample. We would need to be careful in assuming that any data derived from that image had any relevance to the second genomic sample."
   ]
  },
  {
   "cell_type": "code",
   "execution_count": 6,
   "metadata": {},
   "outputs": [
    {
     "name": "stdout",
     "output_type": "stream",
     "text": [
      "days_to_birth\n",
      "race\n",
      "sex\n",
      "ethnicity\n",
      "id\n",
      "ResearchSubject\n",
      "Diagnosis\n",
      "Specimen\n",
      "associated_project\n",
      "primary_disease_type\n",
      "identifier\n",
      "primary_disease_site\n"
     ]
    }
   ],
   "source": [
    "for k in r[0].keys():\n",
    "    print(k)"
   ]
  },
  {
   "cell_type": "markdown",
   "metadata": {},
   "source": [
    "So far we just looked at Specimen. \n",
    "\n",
    "Diagnosis is as follows"
   ]
  },
  {
   "cell_type": "code",
   "execution_count": 7,
   "metadata": {},
   "outputs": [
    {
     "data": {
      "text/plain": [
       "[{'morphology': '8140/3',\n",
       "  'tumor_stage': 'Stage IIB',\n",
       "  'tumor_grade': 'Not Reported',\n",
       "  'Treatment': [],\n",
       "  'id': '7b8d36ba-ab84-48ad-ac2c-11ac40d3d0eb',\n",
       "  'primary_diagnosis': 'Adenocarcinoma, NOS',\n",
       "  'age_at_diagnosis': None}]"
      ]
     },
     "execution_count": 7,
     "metadata": {},
     "output_type": "execute_result"
    }
   ],
   "source": [
    "r[0]['Diagnosis']"
   ]
  },
  {
   "cell_type": "markdown",
   "metadata": {},
   "source": [
    "That's useful information. Morphology is cryptic in that it provides no information about the value shown. Some, but by no means all, users would be informed enough . \n",
    "\n",
    "Perhaps there's a schema somewhere that tells us the 'value set' used for morphology, but there's nothing here to tell is what that schema is.\n",
    "\n",
    "Some would say that human readbility is not the point, this is an API off which UIs will be built. Fair enough, but there's not enough for a machine to work off either. \n",
    "\n",
    "### Issue 2\n",
    "* Code system for morphology is not clear.\n",
    "* Link between 'morphology' and 'primary_diagnosis' is not clear."
   ]
  },
  {
   "cell_type": "markdown",
   "metadata": {},
   "source": [
    "From the above we note that there are ResearchSubjects within ResearchSubjects. Looking at the specimens of the first nested ResearchSubject."
   ]
  },
  {
   "cell_type": "code",
   "execution_count": 8,
   "metadata": {},
   "outputs": [],
   "source": [
    "specimensFromRS = r[0]['ResearchSubject'][0]['Specimen']"
   ]
  },
  {
   "cell_type": "code",
   "execution_count": 9,
   "metadata": {},
   "outputs": [
    {
     "data": {
      "text/plain": [
       "11"
      ]
     },
     "execution_count": 9,
     "metadata": {},
     "output_type": "execute_result"
    }
   ],
   "source": [
    "len(specimensFromRS)"
   ]
  },
  {
   "cell_type": "markdown",
   "metadata": {},
   "source": [
    "That's the same count as before. Looking at the details."
   ]
  },
  {
   "cell_type": "code",
   "execution_count": 10,
   "metadata": {},
   "outputs": [
    {
     "data": {
      "text/html": [
       "<div>\n",
       "<style scoped>\n",
       "    .dataframe tbody tr th:only-of-type {\n",
       "        vertical-align: middle;\n",
       "    }\n",
       "\n",
       "    .dataframe tbody tr th {\n",
       "        vertical-align: top;\n",
       "    }\n",
       "\n",
       "    .dataframe thead th {\n",
       "        text-align: right;\n",
       "    }\n",
       "</style>\n",
       "<table border=\"1\" class=\"dataframe\">\n",
       "  <thead>\n",
       "    <tr style=\"text-align: right;\">\n",
       "      <th></th>\n",
       "      <th>0</th>\n",
       "      <th>1</th>\n",
       "      <th>2</th>\n",
       "      <th>3</th>\n",
       "    </tr>\n",
       "  </thead>\n",
       "  <tbody>\n",
       "    <tr>\n",
       "      <th>0</th>\n",
       "      <td>4591a53d-5668-4a70-b44b-e08a3d59267e</td>\n",
       "      <td>Initial sample</td>\n",
       "      <td>sample</td>\n",
       "      <td>Primary Tumor</td>\n",
       "    </tr>\n",
       "    <tr>\n",
       "      <th>1</th>\n",
       "      <td>c53c4d60-2ddb-5da8-932e-00a86fa2347f</td>\n",
       "      <td>4591a53d-5668-4a70-b44b-e08a3d59267e</td>\n",
       "      <td>portion</td>\n",
       "      <td>Primary Tumor</td>\n",
       "    </tr>\n",
       "    <tr>\n",
       "      <th>2</th>\n",
       "      <td>31075cfa-7aef-59f1-bf54-a1cddb5ee0fd</td>\n",
       "      <td>c53c4d60-2ddb-5da8-932e-00a86fa2347f</td>\n",
       "      <td>analyte</td>\n",
       "      <td>Primary Tumor</td>\n",
       "    </tr>\n",
       "    <tr>\n",
       "      <th>3</th>\n",
       "      <td>0d8adcbf-13f0-48c3-83df-3fa205b79ae8</td>\n",
       "      <td>31075cfa-7aef-59f1-bf54-a1cddb5ee0fd</td>\n",
       "      <td>aliquot</td>\n",
       "      <td>Primary Tumor</td>\n",
       "    </tr>\n",
       "    <tr>\n",
       "      <th>4</th>\n",
       "      <td>d085ebd9-7605-54a0-abb9-10867f5fa1b1</td>\n",
       "      <td>4591a53d-5668-4a70-b44b-e08a3d59267e</td>\n",
       "      <td>portion</td>\n",
       "      <td>Primary Tumor</td>\n",
       "    </tr>\n",
       "    <tr>\n",
       "      <th>5</th>\n",
       "      <td>a31724b6-e550-552b-bd61-41341c534e28</td>\n",
       "      <td>d085ebd9-7605-54a0-abb9-10867f5fa1b1</td>\n",
       "      <td>analyte</td>\n",
       "      <td>Primary Tumor</td>\n",
       "    </tr>\n",
       "    <tr>\n",
       "      <th>6</th>\n",
       "      <td>9250d96e-1cdc-4d68-8a56-f7b186a6fab5</td>\n",
       "      <td>a31724b6-e550-552b-bd61-41341c534e28</td>\n",
       "      <td>aliquot</td>\n",
       "      <td>Primary Tumor</td>\n",
       "    </tr>\n",
       "    <tr>\n",
       "      <th>7</th>\n",
       "      <td>b12c257d-7409-4858-9384-c430929a075a</td>\n",
       "      <td>Initial sample</td>\n",
       "      <td>sample</td>\n",
       "      <td>Blood Derived Normal</td>\n",
       "    </tr>\n",
       "    <tr>\n",
       "      <th>8</th>\n",
       "      <td>702d7ba0-9558-5b2d-af4d-cd797485b8c1</td>\n",
       "      <td>b12c257d-7409-4858-9384-c430929a075a</td>\n",
       "      <td>portion</td>\n",
       "      <td>Blood Derived Normal</td>\n",
       "    </tr>\n",
       "    <tr>\n",
       "      <th>9</th>\n",
       "      <td>f0003f0a-07ea-548e-b1f7-7e6d1b27d47a</td>\n",
       "      <td>702d7ba0-9558-5b2d-af4d-cd797485b8c1</td>\n",
       "      <td>analyte</td>\n",
       "      <td>Blood Derived Normal</td>\n",
       "    </tr>\n",
       "    <tr>\n",
       "      <th>10</th>\n",
       "      <td>ce309009-9257-4c13-9241-83fc629c35a0</td>\n",
       "      <td>f0003f0a-07ea-548e-b1f7-7e6d1b27d47a</td>\n",
       "      <td>aliquot</td>\n",
       "      <td>Blood Derived Normal</td>\n",
       "    </tr>\n",
       "  </tbody>\n",
       "</table>\n",
       "</div>"
      ],
      "text/plain": [
       "                                       0  \\\n",
       "0   4591a53d-5668-4a70-b44b-e08a3d59267e   \n",
       "1   c53c4d60-2ddb-5da8-932e-00a86fa2347f   \n",
       "2   31075cfa-7aef-59f1-bf54-a1cddb5ee0fd   \n",
       "3   0d8adcbf-13f0-48c3-83df-3fa205b79ae8   \n",
       "4   d085ebd9-7605-54a0-abb9-10867f5fa1b1   \n",
       "5   a31724b6-e550-552b-bd61-41341c534e28   \n",
       "6   9250d96e-1cdc-4d68-8a56-f7b186a6fab5   \n",
       "7   b12c257d-7409-4858-9384-c430929a075a   \n",
       "8   702d7ba0-9558-5b2d-af4d-cd797485b8c1   \n",
       "9   f0003f0a-07ea-548e-b1f7-7e6d1b27d47a   \n",
       "10  ce309009-9257-4c13-9241-83fc629c35a0   \n",
       "\n",
       "                                       1        2                     3  \n",
       "0                         Initial sample   sample         Primary Tumor  \n",
       "1   4591a53d-5668-4a70-b44b-e08a3d59267e  portion         Primary Tumor  \n",
       "2   c53c4d60-2ddb-5da8-932e-00a86fa2347f  analyte         Primary Tumor  \n",
       "3   31075cfa-7aef-59f1-bf54-a1cddb5ee0fd  aliquot         Primary Tumor  \n",
       "4   4591a53d-5668-4a70-b44b-e08a3d59267e  portion         Primary Tumor  \n",
       "5   d085ebd9-7605-54a0-abb9-10867f5fa1b1  analyte         Primary Tumor  \n",
       "6   a31724b6-e550-552b-bd61-41341c534e28  aliquot         Primary Tumor  \n",
       "7                         Initial sample   sample  Blood Derived Normal  \n",
       "8   b12c257d-7409-4858-9384-c430929a075a  portion  Blood Derived Normal  \n",
       "9   702d7ba0-9558-5b2d-af4d-cd797485b8c1  analyte  Blood Derived Normal  \n",
       "10  f0003f0a-07ea-548e-b1f7-7e6d1b27d47a  aliquot  Blood Derived Normal  "
      ]
     },
     "execution_count": 10,
     "metadata": {},
     "output_type": "execute_result"
    }
   ],
   "source": [
    "rowsFromRS = []\n",
    "for s in specimensFromRS:\n",
    "    rowsFromRS.append([s['identifier'][0]['value'], s['derived_from_specimen'], s['specimen_type'], s['source_material_type']])\n",
    "df = pd.DataFrame(rowsFromRS)\n",
    "df"
   ]
  },
  {
   "cell_type": "markdown",
   "metadata": {},
   "source": [
    "Compare what we got for both \"Research Subjects\". They are the same"
   ]
  },
  {
   "cell_type": "code",
   "execution_count": 11,
   "metadata": {},
   "outputs": [
    {
     "data": {
      "text/plain": [
       "True"
      ]
     },
     "execution_count": 11,
     "metadata": {},
     "output_type": "execute_result"
    }
   ],
   "source": [
    "rowsFromRS == rowsFromRoot"
   ]
  },
  {
   "cell_type": "markdown",
   "metadata": {},
   "source": [
    "Compare the specimens. They are also the same."
   ]
  },
  {
   "cell_type": "code",
   "execution_count": 12,
   "metadata": {},
   "outputs": [
    {
     "data": {
      "text/plain": [
       "True"
      ]
     },
     "execution_count": 12,
     "metadata": {},
     "output_type": "execute_result"
    }
   ],
   "source": [
    "specimensFromRS == specimensFromRoot"
   ]
  },
  {
   "cell_type": "markdown",
   "metadata": {},
   "source": [
    "In fact we can compare all of the content of the nested ResearchSubject with the content of the top level as follows"
   ]
  },
  {
   "cell_type": "code",
   "execution_count": 13,
   "metadata": {},
   "outputs": [
    {
     "name": "stdout",
     "output_type": "stream",
     "text": [
      "dict_keys(['days_to_birth', 'race', 'sex', 'ethnicity', 'id', 'ResearchSubject', 'Diagnosis', 'Specimen', 'associated_project', 'primary_disease_type', 'identifier', 'primary_disease_site'])\n",
      "________________________________________________________________________________\n",
      "dict_keys(['Diagnosis', 'Specimen', 'associated_project', 'id', 'primary_disease_type', 'identifier', 'primary_disease_site'])\n",
      "________________________________________________________________________________\n",
      "Diagnosis True\n",
      "primary_disease_type True\n",
      "identifier True\n",
      "Specimen True\n",
      "id True\n",
      "associated_project True\n",
      "primary_disease_site True\n"
     ]
    }
   ],
   "source": [
    "rootKeys = r[0].keys()\n",
    "print(rootKeys)\n",
    "print('_'*80)\n",
    "researchSubjectKeys = r[0]['ResearchSubject'][0].keys()\n",
    "print(researchSubjectKeys)\n",
    "# get the keys that are in both the top level and within ResearchSubject\n",
    "print('_'*80)\n",
    "commonKeys = list(set(researchSubjectKeys) & set(rootKeys))\n",
    "for k in commonKeys:\n",
    "    print(k, r[0][k] == r[0]['ResearchSubject'][0][k])\n"
   ]
  },
  {
   "cell_type": "markdown",
   "metadata": {},
   "source": [
    "This shows that the entire content of the nested ResearchSubject repeats content that is also available at the top level.\n",
    "\n",
    "### Issue 3\n",
    "Results contain repetition which is unnecessary and complicates understanding the response. In terms of the number of lines, 20.2% of the file is repeated, but that is a poor measure of the additional complication caused.\n",
    "\n",
    "This was further explored in the SQL Exploration notebook in this repository and an underlying cause identified. This issue was created.\n",
    "https://github.com/CancerDataAggregator/cda-python/issues/16"
   ]
  },
  {
   "cell_type": "markdown",
   "metadata": {},
   "source": [
    "## Second Research Subject\n",
    "Looking at the file, there is a second ResearchSubject present. What is it? It has two specimens."
   ]
  },
  {
   "cell_type": "code",
   "execution_count": 14,
   "metadata": {},
   "outputs": [
    {
     "data": {
      "text/plain": [
       "2"
      ]
     },
     "execution_count": 14,
     "metadata": {},
     "output_type": "execute_result"
    }
   ],
   "source": [
    "subject2 = r[0]['ResearchSubject'][1]\n",
    "len(subject2['Specimen'])"
   ]
  },
  {
   "cell_type": "code",
   "execution_count": 15,
   "metadata": {},
   "outputs": [
    {
     "name": "stdout",
     "output_type": "stream",
     "text": [
      "Diagnosis has 1 items\n",
      "Specimen has 11 items\n",
      "associated_project : CPTAC-2\n",
      "id : c5421e34-e5c7-4ba5-aed9-146a5575fd8d\n",
      "primary_disease_type : Adenomas and Adenocarcinomas\n",
      "identifier has 1 items\n",
      "primary_disease_site : Colon\n",
      "________________________________________________________________________________\n",
      "Diagnosis has 1 items\n",
      "Specimen has 2 items\n",
      "associated_project : CPTAC-2\n",
      "id : 459e3b69-63d6-11e8-bcf1-0a2705229b82\n",
      "primary_disease_type : Colon Adenocarcinoma\n",
      "identifier has 1 items\n",
      "primary_disease_site : Colon\n",
      "________________________________________________________________________________\n"
     ]
    }
   ],
   "source": [
    "for subj in r[0]['ResearchSubject']:\n",
    "    for k, v in subj.items():\n",
    "        if v.__class__.__name__ == 'list':\n",
    "            print ('{} has {} items'.format(k, len(v)))\n",
    "        else:\n",
    "            print ('{} : {}'.format(k, v))\n",
    "\n",
    "    print('_'*80)"
   ]
  },
  {
   "cell_type": "markdown",
   "metadata": {},
   "source": [
    "Looking back at the original query, it asked for c5421e34-e5c7-4ba5-aed9-146a5575fd8d. That is the first of the two subjects returned. It's not clear why the second is returned."
   ]
  },
  {
   "cell_type": "code",
   "execution_count": 16,
   "metadata": {},
   "outputs": [
    {
     "data": {
      "text/plain": [
       "[{'morphology': '8140/3',\n",
       "  'tumor_stage': 'Stage IIB',\n",
       "  'tumor_grade': 'Not Reported',\n",
       "  'Treatment': [],\n",
       "  'id': '7b8d36ba-ab84-48ad-ac2c-11ac40d3d0eb',\n",
       "  'primary_diagnosis': 'Adenocarcinoma, NOS',\n",
       "  'age_at_diagnosis': None}]"
      ]
     },
     "execution_count": 16,
     "metadata": {},
     "output_type": "execute_result"
    }
   ],
   "source": [
    "subject1 = r[0]['ResearchSubject'][0]\n",
    "subject1['Diagnosis']"
   ]
  },
  {
   "cell_type": "code",
   "execution_count": 17,
   "metadata": {},
   "outputs": [
    {
     "data": {
      "text/plain": [
       "[{'morphology': '8140/3',\n",
       "  'tumor_stage': 'Stage IIB',\n",
       "  'tumor_grade': 'Not Reported',\n",
       "  'Treatment': [],\n",
       "  'id': 'ff301535-70ca-11e8-bcf1-0a2705229b82',\n",
       "  'primary_diagnosis': 'Adenocarcinoma, NOS',\n",
       "  'age_at_diagnosis': None}]"
      ]
     },
     "execution_count": 17,
     "metadata": {},
     "output_type": "execute_result"
    }
   ],
   "source": [
    "subject2['Diagnosis']"
   ]
  },
  {
   "cell_type": "markdown",
   "metadata": {},
   "source": [
    "The diagnosis for these two subjects is identical. That's insufficient to say they are the same subject, but this seems worth pursuing.\n",
    "\n",
    "Let's look at the Specimens for this subject."
   ]
  },
  {
   "cell_type": "code",
   "execution_count": 18,
   "metadata": {},
   "outputs": [
    {
     "name": "stdout",
     "output_type": "stream",
     "text": [
      "13CPTAC_COprospective_W_PNNL_20170123_B4S1_f03.raw.cap.psm\n",
      "13CPTAC_COprospective_W_PNNL_20170123_B4S1_f02.mzML.gz\n",
      "13CPTAC_COprospective_W_PNNL_20170123_B4S1_f02.mzid.gz\n",
      "13CPTAC_COprospective_P_PNNL_20170215_B4S1_f06.mzid.gz\n",
      "13CPTAC_COprospective_W_PNNL_20170123_B4S1_f04.mzid.gz\n",
      "13CPTAC_COprospective_P_PNNL_20170215_B4S1_f06.raw\n",
      "13CPTAC_COprospective_W_PNNL_20170123_B4S1_f06.mzML.gz\n",
      "13CPTAC_COprospective_W_PNNL_20170123_B4S1_f06.raw.cap.psm\n",
      "13CPTAC_COprospective_W_PNNL_20170123_B4S1_f07.mzid.gz\n",
      "13CPTAC_COprospective_P_PNNL_20170215_B4S1_f05.raw.cap.psm\n",
      "13CPTAC_COprospective_W_PNNL_20170123_B4S1_f12.raw\n",
      "13CPTAC_COprospective_W_PNNL_20170123_B4S1_f02.raw.cap.psm\n",
      "13CPTAC_COprospective_W_PNNL_20170123_B4S1_f10.raw.cap.psm\n",
      "13CPTAC_COprospective_W_PNNL_20170123_B4S1_f09.mzML.gz\n",
      "13CPTAC_COprospective_W_PNNL_20170123_B4S1_f08.mzML.gz\n",
      "13CPTAC_COprospective_W_PNNL_20170123_B4S1_f09.raw\n",
      "13CPTAC_COprospective_W_PNNL_20170123_B4S1_f01.raw\n",
      "13CPTAC_COprospective_P_PNNL_20170215_B4S1_f02.mzid.gz\n",
      "13CPTAC_COprospective_P_PNNL_20170215_B4S1_f04.raw.cap.psm\n",
      "13CPTAC_COprospective_W_PNNL_20170123_B4S1_f09.mzid.gz\n",
      "13CPTAC_COprospective_W_PNNL_20170123_B4S1_f10.mzid.gz\n",
      "13CPTAC_COprospective_P_PNNL_20170215_B4S1_f05.mzid.gz\n",
      "13CPTAC_COprospective_P_PNNL_20170215_B4S1_f02.mzML.gz\n",
      "13CPTAC_COprospective_W_PNNL_20170123_B4S1_f12.mzid.gz\n",
      "13CPTAC_COprospective_P_PNNL_20170215_B4S1_f03.mzid.gz\n",
      "13CPTAC_COprospective_P_PNNL_20170215_B4S1_f03.mzML.gz\n",
      "13CPTAC_COprospective_W_PNNL_20170123_B4S1_f05.raw.cap.psm\n",
      "13CPTAC_COprospective_P_PNNL_20170215_B4S1_f03.raw\n",
      "13CPTAC_COprospective_W_PNNL_20170123_B4S1_f06.raw\n",
      "13CPTAC_COprospective_P_PNNL_20170215_B4S1_f01.raw.cap.psm\n",
      "13CPTAC_COprospective_W_PNNL_20170123_B4S1_f08.mzid.gz\n",
      "13CPTAC_COprospective_W_PNNL_20170123_B4S1_f01.mzid.gz\n",
      "13CPTAC_COprospective_W_PNNL_20170123_B4S1_f05.mzid.gz\n",
      "13CPTAC_COprospective_P_PNNL_20170215_B4S1_f03.raw.cap.psm\n",
      "13CPTAC_COprospective_P_PNNL_20170215_B4S1_f01.raw\n",
      "13CPTAC_COprospective_W_PNNL_20170123_B4S1_f12.raw.cap.psm\n",
      "13CPTAC_COprospective_P_PNNL_20170215_B4S1_f06.raw.cap.psm\n",
      "13CPTAC_COprospective_P_PNNL_20170215_B4S1_f05.raw\n",
      "13CPTAC_COprospective_W_PNNL_20170123_B4S1_f11.raw.cap.psm\n",
      "13CPTAC_COprospective_W_PNNL_20170123_B4S1_f10.mzML.gz\n",
      "13CPTAC_COprospective_W_PNNL_20170123_B4S1_f03.mzid.gz\n",
      "13CPTAC_COprospective_W_PNNL_20170123_B4S1_f03.mzML.gz\n",
      "13CPTAC_COprospective_W_PNNL_20170123_B4S1_f11.mzML.gz\n",
      "13CPTAC_COprospective_W_PNNL_20170123_B4S1_f11.raw\n",
      "13CPTAC_COprospective_P_PNNL_20170215_B4S1_f05.mzML.gz\n",
      "13CPTAC_COprospective_W_PNNL_20170123_B4S1_f07.mzML.gz\n",
      "13CPTAC_COprospective_W_PNNL_20170123_B4S1_f09.raw.cap.psm\n",
      "13CPTAC_COprospective_P_PNNL_20170215_B4S1_f04.mzML.gz\n",
      "13CPTAC_COprospective_P_PNNL_20170215_B4S1_f06.mzML.gz\n",
      "13CPTAC_COprospective_P_PNNL_20170215_B4S1_f04.mzid.gz\n",
      "13CPTAC_COprospective_W_PNNL_20170123_B4S1_f04.raw.cap.psm\n",
      "13CPTAC_COprospective_W_PNNL_20170123_B4S1_f03.raw\n",
      "13CPTAC_COprospective_P_PNNL_20170215_B4S1_f02.raw.cap.psm\n",
      "13CPTAC_COprospective_W_PNNL_20170123_B4S1_f10.raw\n",
      "13CPTAC_COprospective_W_PNNL_20170123_B4S1_f04.mzML.gz\n",
      "13CPTAC_COprospective_P_PNNL_20170215_B4S1_f04.raw\n",
      "13CPTAC_COprospective_W_PNNL_20170123_B4S1_f05.raw\n",
      "13CPTAC_COprospective_P_PNNL_20170215_B4S1_f01.mzid.gz\n",
      "13CPTAC_COprospective_W_PNNL_20170123_B4S1_f02.raw\n",
      "13CPTAC_COprospective_W_PNNL_20170123_B4S1_f01.raw.cap.psm\n",
      "13CPTAC_COprospective_W_PNNL_20170123_B4S1_f07.raw.cap.psm\n",
      "13CPTAC_COprospective_P_PNNL_20170215_B4S1_f02.raw\n",
      "13CPTAC_COprospective_W_PNNL_20170123_B4S1_f08.raw\n",
      "13CPTAC_COprospective_W_PNNL_20170123_B4S1_f01.mzML.gz\n",
      "13CPTAC_COprospective_W_PNNL_20170123_B4S1_f08.raw.cap.psm\n",
      "13CPTAC_COprospective_W_PNNL_20170123_B4S1_f04.raw\n",
      "13CPTAC_COprospective_W_PNNL_20170123_B4S1_f07.raw\n",
      "13CPTAC_COprospective_W_PNNL_20170123_B4S1_f12.mzML.gz\n",
      "13CPTAC_COprospective_W_PNNL_20170123_B4S1_f05.mzML.gz\n",
      "13CPTAC_COprospective_P_PNNL_20170215_B4S1_f01.mzML.gz\n",
      "13CPTAC_COprospective_W_PNNL_20170123_B4S1_f11.mzid.gz\n",
      "13CPTAC_COprospective_W_PNNL_20170123_B4S1_f06.mzid.gz\n",
      "derived_from_specimen : Initial specimen\n",
      "associated_project : CPTAC-2\n",
      "age_at_collection : None\n",
      "anatomical_site : Not Reported\n",
      "source_material_type : Solid Tissue Normal\n",
      "derived_from_subject : None\n",
      "specimen_type : sample\n",
      "id : f4af3e4d-641b-11e8-bcf1-0a2705229b82\n",
      "primary_disease_type : Colon Adenocarcinoma\n",
      "identifier [{'system': 'PDC', 'value': 'f4af3e4d-641b-11e8-bcf1-0a2705229b82'}]\n",
      "________________________________________________________________________________\n",
      "16CPTAC_COprospective_P_PNNL_20170215_B4S4_f02.raw\n",
      "87CPTAC_COprospective_W_VU_20160701_09CO022_f04.raw\n",
      "16CPTAC_COprospective_W_PNNL_20170123_B4S4_f09.mzid.gz\n",
      "16CPTAC_COprospective_W_PNNL_20170123_B4S4_f02.raw\n",
      "16CPTAC_COprospective_P_PNNL_20170215_B4S4_f01.raw\n",
      "87CPTAC_COprospective_W_VU_20160701_09CO022_f02.mzid.gz\n",
      "87CPTAC_COprospective_W_VU_20160701_09CO022_f01.raw.cap.psm\n",
      "16CPTAC_COprospective_W_PNNL_20170123_B4S4_f10.raw.cap.psm\n",
      "87CPTAC_COprospective_W_VU_20160701_09CO022_f05.raw.cap.psm\n",
      "16CPTAC_COprospective_W_PNNL_20170123_B4S4_f05.mzML.gz\n",
      "16CPTAC_COprospective_W_PNNL_20170123_B4S4_f07.raw.cap.psm\n",
      "87CPTAC_COprospective_W_VU_20160701_09CO022_f01.mzML.gz\n",
      "87CPTAC_COprospective_W_VU_20160701_09CO022_f05.mzid.gz\n",
      "87CPTAC_COprospective_W_VU_20160701_09CO022_f03.mzML.gz\n",
      "16CPTAC_COprospective_W_PNNL_20170123_B4S4_f03.raw.cap.psm\n",
      "87CPTAC_COprospective_W_VU_20160701_09CO022_f06.raw\n",
      "16CPTAC_COprospective_W_PNNL_20170123_B4S4_f09.raw\n",
      "16CPTAC_COprospective_W_PNNL_20170123_B4S4_f07.mzML.gz\n",
      "16CPTAC_COprospective_W_PNNL_20170123_B4S4_f01.mzid.gz\n",
      "16CPTAC_COprospective_P_PNNL_20170215_B4S4_f02.mzid.gz\n",
      "16CPTAC_COprospective_W_PNNL_20170123_B4S4_f01.raw.cap.psm\n",
      "16CPTAC_COprospective_W_PNNL_20170123_B4S4_f01.raw\n",
      "16CPTAC_COprospective_P_PNNL_20170215_B4S4_f04.raw\n",
      "16CPTAC_COprospective_W_PNNL_20170123_B4S4_f05.mzid.gz\n",
      "16CPTAC_COprospective_W_PNNL_20170123_B4S4_f04.raw\n",
      "16CPTAC_COprospective_P_PNNL_20170215_B4S4_f02.mzML.gz\n",
      "16CPTAC_COprospective_P_PNNL_20170215_B4S4_f06.raw.cap.psm\n",
      "16CPTAC_COprospective_P_PNNL_20170215_B4S4_f05.mzML.gz\n",
      "16CPTAC_COprospective_P_PNNL_20170215_B4S4_f06.mzid.gz\n",
      "87CPTAC_COprospective_W_VU_20160701_09CO022_f06.raw.cap.psm\n",
      "16CPTAC_COprospective_P_PNNL_20170215_B4S4_f03.raw\n",
      "16CPTAC_COprospective_W_PNNL_20170123_B4S4_f11.raw.cap.psm\n",
      "16CPTAC_COprospective_W_PNNL_20170123_B4S4_f01.mzML.gz\n",
      "16CPTAC_COprospective_W_PNNL_20170123_B4S4_f08.raw\n",
      "16CPTAC_COprospective_W_PNNL_20170123_B4S4_f08.raw.cap.psm\n",
      "16CPTAC_COprospective_W_PNNL_20170123_B4S4_f03.mzML.gz\n",
      "16CPTAC_COprospective_W_PNNL_20170123_B4S4_f06.mzML.gz\n",
      "16CPTAC_COprospective_P_PNNL_20170215_B4S4_f05.raw\n",
      "16CPTAC_COprospective_W_PNNL_20170123_B4S4_f09.mzML.gz\n",
      "16CPTAC_COprospective_W_PNNL_20170123_B4S4_f03.mzid.gz\n",
      "16CPTAC_COprospective_W_PNNL_20170123_B4S4_f09.raw.cap.psm\n",
      "87CPTAC_COprospective_W_VU_20160701_09CO022_f04.mzid.gz\n",
      "16CPTAC_COprospective_W_PNNL_20170123_B4S4_f10.mzML.gz\n",
      "16CPTAC_COprospective_W_PNNL_20170123_B4S4_f08.mzid.gz\n",
      "87CPTAC_COprospective_W_VU_20160701_09CO022_f06.mzML.gz\n",
      "87CPTAC_COprospective_W_VU_20160701_09CO022_f03.mzid.gz\n",
      "87CPTAC_COprospective_W_VU_20160701_09CO022_f04.mzML.gz\n",
      "16CPTAC_COprospective_W_PNNL_20170123_B4S4_f04.mzML.gz\n",
      "16CPTAC_COprospective_W_PNNL_20170123_B4S4_f02.raw.cap.psm\n",
      "16CPTAC_COprospective_P_PNNL_20170215_B4S4_f06.raw\n",
      "16CPTAC_COprospective_P_PNNL_20170215_B4S4_f03.mzid.gz\n",
      "16CPTAC_COprospective_W_PNNL_20170123_B4S4_f03.raw\n",
      "16CPTAC_COprospective_W_PNNL_20170123_B4S4_f06.raw.cap.psm\n",
      "16CPTAC_COprospective_P_PNNL_20170215_B4S4_f01.raw.cap.psm\n",
      "16CPTAC_COprospective_P_PNNL_20170215_B4S4_f04.raw.cap.psm\n",
      "87CPTAC_COprospective_W_VU_20160701_09CO022_f01.mzid.gz\n",
      "16CPTAC_COprospective_W_PNNL_20170123_B4S4_f11.mzML.gz\n",
      "16CPTAC_COprospective_W_PNNL_20170123_B4S4_f02.mzid.gz\n",
      "16CPTAC_COprospective_P_PNNL_20170215_B4S4_f05.raw.cap.psm\n",
      "16CPTAC_COprospective_P_PNNL_20170215_B4S4_f03.mzML.gz\n",
      "16CPTAC_COprospective_W_PNNL_20170123_B4S4_f11.mzid.gz\n",
      "16CPTAC_COprospective_W_PNNL_20170123_B4S4_f02.mzML.gz\n",
      "16CPTAC_COprospective_W_PNNL_20170123_B4S4_f04.mzid.gz\n",
      "87CPTAC_COprospective_W_VU_20160701_09CO022_f01.raw\n",
      "87CPTAC_COprospective_W_VU_20160701_09CO022_f04.raw.cap.psm\n",
      "16CPTAC_COprospective_P_PNNL_20170215_B4S4_f02.raw.cap.psm\n",
      "16CPTAC_COprospective_P_PNNL_20170215_B4S4_f04.mzML.gz\n",
      "16CPTAC_COprospective_P_PNNL_20170215_B4S4_f05.mzid.gz\n",
      "16CPTAC_COprospective_W_PNNL_20170123_B4S4_f05.raw\n",
      "16CPTAC_COprospective_W_PNNL_20170123_B4S4_f11.raw\n",
      "87CPTAC_COprospective_W_VU_20160701_09CO022_f03.raw.cap.psm\n",
      "16CPTAC_COprospective_P_PNNL_20170215_B4S4_f04.mzid.gz\n",
      "16CPTAC_COprospective_W_PNNL_20170123_B4S4_f10.mzid.gz\n",
      "16CPTAC_COprospective_W_PNNL_20170123_B4S4_f07.raw\n",
      "87CPTAC_COprospective_W_VU_20160701_09CO022_f05.mzML.gz\n",
      "16CPTAC_COprospective_P_PNNL_20170215_B4S4_f06.mzML.gz\n",
      "16CPTAC_COprospective_W_PNNL_20170123_B4S4_f12.mzML.gz\n",
      "16CPTAC_COprospective_P_PNNL_20170215_B4S4_f01.mzid.gz\n",
      "16CPTAC_COprospective_W_PNNL_20170123_B4S4_f05.raw.cap.psm\n",
      "87CPTAC_COprospective_W_VU_20160701_09CO022_f02.raw\n",
      "16CPTAC_COprospective_W_PNNL_20170123_B4S4_f12.raw.cap.psm\n",
      "16CPTAC_COprospective_W_PNNL_20170123_B4S4_f06.raw\n",
      "87CPTAC_COprospective_W_VU_20160701_09CO022_f06.mzid.gz\n",
      "16CPTAC_COprospective_W_PNNL_20170123_B4S4_f12.mzid.gz\n",
      "16CPTAC_COprospective_W_PNNL_20170123_B4S4_f04.raw.cap.psm\n",
      "16CPTAC_COprospective_P_PNNL_20170215_B4S4_f01.mzML.gz\n",
      "16CPTAC_COprospective_W_PNNL_20170123_B4S4_f10.raw\n",
      "16CPTAC_COprospective_W_PNNL_20170123_B4S4_f07.mzid.gz\n",
      "16CPTAC_COprospective_W_PNNL_20170123_B4S4_f06.mzid.gz\n",
      "16CPTAC_COprospective_W_PNNL_20170123_B4S4_f08.mzML.gz\n",
      "87CPTAC_COprospective_W_VU_20160701_09CO022_f02.mzML.gz\n",
      "16CPTAC_COprospective_W_PNNL_20170123_B4S4_f12.raw\n",
      "87CPTAC_COprospective_W_VU_20160701_09CO022_f05.raw\n",
      "87CPTAC_COprospective_W_VU_20160701_09CO022_f03.raw\n",
      "16CPTAC_COprospective_P_PNNL_20170215_B4S4_f03.raw.cap.psm\n",
      "87CPTAC_COprospective_W_VU_20160701_09CO022_f02.raw.cap.psm\n",
      "derived_from_specimen : Initial specimen\n",
      "associated_project : CPTAC-2\n",
      "age_at_collection : None\n",
      "anatomical_site : Not Reported\n",
      "source_material_type : Primary Tumor\n",
      "derived_from_subject : None\n",
      "specimen_type : sample\n",
      "id : f6cce507-641b-11e8-bcf1-0a2705229b82\n",
      "primary_disease_type : Colon Adenocarcinoma\n",
      "identifier [{'system': 'PDC', 'value': 'f6cce507-641b-11e8-bcf1-0a2705229b82'}]\n",
      "________________________________________________________________________________\n"
     ]
    }
   ],
   "source": [
    "for s2 in subject2['Specimen']:\n",
    "    for k, v in s2.items():\n",
    "        if v.__class__.__name__ == 'list':\n",
    "            if len(v) < 2:\n",
    "                print(k, v)\n",
    "            else:\n",
    "                if k == 'File':\n",
    "                    for f in v:\n",
    "                        print(f['label'])\n",
    "                else:    \n",
    "                    print ('{} has {} items'.format(k, len(v)))\n",
    "        else:\n",
    "            print ('{} : {}'.format(k, v))\n",
    "\n",
    "    print('_'*80)"
   ]
  },
  {
   "cell_type": "markdown",
   "metadata": {},
   "source": [
    "Detective work lets us determine that these two specimens are the three :-) specimens in the 'ground truth'. We have to look at the file names to give us this clue, notably PNNL and VU in the file names for the tumor sample and PNNL only for the Normal sample. The ground truth tells us that the tumor went to Pacific Northwestern Laboratory (PNNL) and Vanderbilt University (VU), and the Normal blood tp PNNL. \n",
    "\n",
    "### Issue 4\n",
    "Given that these specimens went to locations more than 2000 miles apart they must have been physically separate materials. The ground truth model shows that - with the two specimens having visibly different ids. That has been lost in the PDC/CDA representation. The second specimen represents the parent not the physically distinct samples at each site.\n",
    "\n",
    "### Issue 5\n",
    "There should not be two subjects in the results returned from this query. This is not the same use case as 'connect the EHRs from the same patient when they visit'. These are all data from the same study, and there was only one encounter of the subject with the study. The problem here is breaking the chain/tree which shows how the samples are derived from one another. \n",
    "\n",
    "This is a known issue, referred to in the [CDA Release 1 Testing Guide](https://docs.google.com/document/d/1jzvSJu3xWv-UtoPWpZTLbxPq_wqI1vRyfNlJf1V22cU/edit). It is explored here in the context of the other issues raised so that the CDA extensions for release 1 can be evaluated, and in order to identify how the CCDH model can best represent the data.\n",
    "\n",
    "The CDA extension has allowed association between subjects to be made. The CCDH model should allow association at the specimen level as opposed to subject. See next issue.\n",
    "\n",
    "### Issue 6\n",
    "This also misses that the proteomic and genomic data derive from the same specimen. The information as preseented shows that the Genomic and Proteomic specimens derive from the same subject but this is insufficient. The PDC sample should indicate as its parent the same parent as the genomic sample."
   ]
  },
  {
   "cell_type": "markdown",
   "metadata": {},
   "source": [
    "## The same subject as part of a query on subject attributes\n",
    "Querying via the id of a specific subject as above was useful in looking at how the CDA behaves when looking at a single subject. It isolates the query from other situations.\n",
    "\n",
    "Looking at the attributes of subject 09CO022 we can run the following query which should return 09CO022 alongside subjects with the same attributes."
   ]
  },
  {
   "cell_type": "code",
   "execution_count": 19,
   "metadata": {},
   "outputs": [
    {
     "name": "stdout",
     "output_type": "stream",
     "text": [
      "\n",
      "Query: SELECT * FROM gdc-bq-sample.cda_mvp.v3, UNNEST(ResearchSubject) AS _ResearchSubject, UNNEST(_ResearchSubject.Diagnosis) AS _Diagnosis WHERE (((_ResearchSubject.associated_project = 'CPTAC-2') AND (_Diagnosis.tumor_stage = 'Stage IIB')) AND (_ResearchSubject.primary_disease_site = 'Colon'))\n",
      "Offset: 0\n",
      "Limit: 100\n",
      "Count: 8\n",
      "More pages: No\n",
      "\n"
     ]
    }
   ],
   "source": [
    "qc1 = Q('ResearchSubject.associated_project = \"CPTAC-2\"')\n",
    "qc2 = Q('ResearchSubject.Diagnosis.tumor_stage = \"Stage IIB\"')\n",
    "qc3 = Q('ResearchSubject.primary_disease_site = \"Colon\"')\n",
    "\n",
    "q2 = qc1.And(qc2).And(qc3)\n",
    "r2 = q2.run(limit=100) \n",
    "r2.sql\n",
    "print(r2)"
   ]
  },
  {
   "cell_type": "markdown",
   "metadata": {},
   "source": [
    "This shows that we appear to have eight matches. The following explores what they are."
   ]
  },
  {
   "cell_type": "code",
   "execution_count": 20,
   "metadata": {},
   "outputs": [
    {
     "name": "stdout",
     "output_type": "stream",
     "text": [
      "Subject [{'system': 'GDC', 'value': '44ecd34b-aa2b-4ce1-ab23-c64aee162f69'}]\n",
      "nested subject: 15CO002\n",
      "\t system:GDC id:44ecd34b-aa2b-4ce1-ab23-c64aee162f69\n",
      "nested subject: None\n",
      "\t system:PDC id:d2b0df58-63d6-11e8-bcf1-0a2705229b82\n",
      "query_results/subj_1.json\n",
      "________________________________________________________________________________\n",
      "Subject [{'system': 'PDC', 'value': 'd2b0df58-63d6-11e8-bcf1-0a2705229b82'}]\n",
      "nested subject: 15CO002\n",
      "\t system:GDC id:44ecd34b-aa2b-4ce1-ab23-c64aee162f69\n",
      "nested subject: None\n",
      "\t system:PDC id:d2b0df58-63d6-11e8-bcf1-0a2705229b82\n",
      "query_results/subj_2.json\n",
      "________________________________________________________________________________\n",
      "Subject [{'system': 'GDC', 'value': 'c5421e34-e5c7-4ba5-aed9-146a5575fd8d'}]\n",
      "nested subject: 09CO022\n",
      "\t system:GDC id:c5421e34-e5c7-4ba5-aed9-146a5575fd8d\n",
      "nested subject: None\n",
      "\t system:PDC id:459e3b69-63d6-11e8-bcf1-0a2705229b82\n",
      "query_results/subj_3.json\n",
      "________________________________________________________________________________\n",
      "Subject [{'system': 'PDC', 'value': '459e3b69-63d6-11e8-bcf1-0a2705229b82'}]\n",
      "nested subject: 09CO022\n",
      "\t system:GDC id:c5421e34-e5c7-4ba5-aed9-146a5575fd8d\n",
      "nested subject: None\n",
      "\t system:PDC id:459e3b69-63d6-11e8-bcf1-0a2705229b82\n",
      "query_results/subj_4.json\n",
      "________________________________________________________________________________\n",
      "Subject [{'system': 'GDC', 'value': '997475b1-6648-494a-9322-79aa17be272e'}]\n",
      "nested subject: 05CO039\n",
      "\t system:GDC id:997475b1-6648-494a-9322-79aa17be272e\n",
      "nested subject: None\n",
      "\t system:PDC id:2254625e-63d6-11e8-bcf1-0a2705229b82\n",
      "query_results/subj_5.json\n",
      "________________________________________________________________________________\n",
      "Subject [{'system': 'PDC', 'value': '2254625e-63d6-11e8-bcf1-0a2705229b82'}]\n",
      "nested subject: 05CO039\n",
      "\t system:GDC id:997475b1-6648-494a-9322-79aa17be272e\n",
      "nested subject: None\n",
      "\t system:PDC id:2254625e-63d6-11e8-bcf1-0a2705229b82\n",
      "query_results/subj_6.json\n",
      "________________________________________________________________________________\n",
      "Subject [{'system': 'GDC', 'value': '5e55cf3e-9f95-4b8c-8212-b540da3047cb'}]\n",
      "nested subject: 05CO044\n",
      "\t system:GDC id:5e55cf3e-9f95-4b8c-8212-b540da3047cb\n",
      "nested subject: None\n",
      "\t system:PDC id:24cb0fcb-63d6-11e8-bcf1-0a2705229b82\n",
      "query_results/subj_7.json\n",
      "________________________________________________________________________________\n",
      "Subject [{'system': 'PDC', 'value': '24cb0fcb-63d6-11e8-bcf1-0a2705229b82'}]\n",
      "nested subject: 05CO044\n",
      "\t system:GDC id:5e55cf3e-9f95-4b8c-8212-b540da3047cb\n",
      "nested subject: None\n",
      "\t system:PDC id:24cb0fcb-63d6-11e8-bcf1-0a2705229b82\n",
      "query_results/subj_8.json\n",
      "________________________________________________________________________________\n"
     ]
    }
   ],
   "source": [
    "rn = 1\n",
    "for resItem in r2:\n",
    "    j = json.dumps(resItem, indent=3)\n",
    "    print('Subject {}'.format(resItem['identifier']))\n",
    "    for rs in resItem['ResearchSubject']:\n",
    "        subj_name = rs['Specimen'][0]['derived_from_subject']\n",
    "        print('nested subject: {}'.format(subj_name))\n",
    "        id = rs['identifier'][0]\n",
    "        print ('\\t system:{} id:{}'.format(id['system'],id['value']))     \n",
    "    fpath = 'query_results/subj_'+str(rn)+'.json'\n",
    "    print(fpath)\n",
    "    with open(fpath, 'w') as f:\n",
    "        f.write(j)\n",
    "    rn +=1\n",
    "    print('_'*80)"
   ]
  },
  {
   "cell_type": "markdown",
   "metadata": {},
   "source": [
    "In fact there are only four true subjects here. For each of those four, there are two subjects in the results. One with a GDC id and one with a PDC id. In each case, there are two subjects nested within the parent. One is a repetition of the parent, and the second is corresponding subject from the other system. Overall within the search the data is repeated three times.\n",
    "\n",
    "On reflection this is unsurprizing, it all follows as a natural consequence of what we saw above in the isolated query. The basic issues are those already listed. Beyond that, this example illustrates that the duplication and complication becomes a bigger issue when a realistic query on subject atttributes is performed.\n",
    "\n",
    "### Issue 7\n",
    "Same subject is returned three times when queried on subject attributes."
   ]
  },
  {
   "cell_type": "code",
   "execution_count": null,
   "metadata": {},
   "outputs": [],
   "source": []
  }
 ],
 "metadata": {
  "kernelspec": {
   "display_name": "cda-env",
   "language": "python",
   "name": "cda-env"
  },
  "language_info": {
   "codemirror_mode": {
    "name": "ipython",
    "version": 3
   },
   "file_extension": ".py",
   "mimetype": "text/x-python",
   "name": "python",
   "nbconvert_exporter": "python",
   "pygments_lexer": "ipython3",
   "version": "3.7.3"
  }
 },
 "nbformat": 4,
 "nbformat_minor": 4
}
