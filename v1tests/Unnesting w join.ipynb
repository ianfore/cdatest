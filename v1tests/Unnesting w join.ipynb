{
 "cells": [
  {
   "cell_type": "code",
   "execution_count": 1,
   "metadata": {},
   "outputs": [],
   "source": [
    "import cda_client\n",
    "host='https://cda.cda-dev.broadinstitute.org'\n",
    "api_client = cda_client.ApiClient(configuration=cda_client.Configuration(host=host))\n",
    "api_instance = cda_client.QueryApi(api_client)"
   ]
  },
  {
   "cell_type": "code",
   "execution_count": 22,
   "metadata": {},
   "outputs": [
    {
     "data": {
      "text/plain": [
       "85111"
      ]
     },
     "execution_count": 22,
     "metadata": {},
     "output_type": "execute_result"
    }
   ],
   "source": [
    "total_rows_query = \n",
    "res = api_instance.sql_query('v3',\n",
    "                             'select count(*) row_count from gdc-bq-sample.cda_mvp.v3')\n",
    "total_rows = res.result[0]['row_count']\n",
    "total_rows"
   ]
  },
  {
   "cell_type": "code",
   "execution_count": 73,
   "metadata": {},
   "outputs": [
    {
     "data": {
      "text/plain": [
       "85111"
      ]
     },
     "execution_count": 73,
     "metadata": {},
     "output_type": "execute_result"
    }
   ],
   "source": [
    "res = api_instance.sql_query('v3',\n",
    "                             'select count(distinct id) row_count from gdc-bq-sample.cda_mvp.v3 ')\n",
    "total_unique_patients = res.result[0]['row_count']\n",
    "total_unique_patients"
   ]
  },
  {
   "cell_type": "code",
   "execution_count": 74,
   "metadata": {},
   "outputs": [
    {
     "data": {
      "text/plain": [
       "85111"
      ]
     },
     "execution_count": 74,
     "metadata": {},
     "output_type": "execute_result"
    }
   ],
   "source": [
    "res = api_instance.sql_query('v3',\n",
    "                             '''select count(distinct p.id) row_count\n",
    "    FROM gdc-bq-sample.cda_mvp.v3 p,\n",
    "    unnest(ResearchSubject) as s1,\n",
    "    UNNEST(s1.identifier) as i1''')\n",
    "total_unique_patients_w_subject_ids = res.result[0]['row_count']\n",
    "total_unique_patients_w_subject_ids"
   ]
  },
  {
   "cell_type": "code",
   "execution_count": 75,
   "metadata": {},
   "outputs": [
    {
     "data": {
      "text/plain": [
       "84775"
      ]
     },
     "execution_count": 75,
     "metadata": {},
     "output_type": "execute_result"
    }
   ],
   "source": [
    "res = api_instance.sql_query('v3',\n",
    "                             '''select count(distinct p.id) row_count\n",
    "    FROM gdc-bq-sample.cda_mvp.v3 p,\n",
    "    unnest(ResearchSubject) as s1,\n",
    "    UNNEST(s1.Diagnosis) as d1''')\n",
    "total_unique_patients_w_diagnoses = res.result[0]['row_count']\n",
    "total_unique_patients_w_diagnoses"
   ]
  },
  {
   "cell_type": "code",
   "execution_count": 76,
   "metadata": {},
   "outputs": [
    {
     "data": {
      "text/plain": [
       "336"
      ]
     },
     "execution_count": 76,
     "metadata": {},
     "output_type": "execute_result"
    }
   ],
   "source": [
    "total_unique_patients - total_unique_patients_w_diagnoses"
   ]
  },
  {
   "cell_type": "markdown",
   "metadata": {},
   "source": [
    "List their ids"
   ]
  },
  {
   "cell_type": "code",
   "execution_count": 43,
   "metadata": {},
   "outputs": [
    {
     "data": {
      "text/plain": [
       "[{'id': 'HTMCP-03-06-02177'},\n",
       " {'id': 'TARGET-40-NAAWHJ'},\n",
       " {'id': 'TARGET-40-NAAWEN'},\n",
       " {'id': 'TARGET-40-NAAWEA'},\n",
       " {'id': 'TARGET-40-NAAWGZ'},\n",
       " {'id': 'TARGET-40-NAAWHK'},\n",
       " {'id': 'TARGET-40-NAAWEG'},\n",
       " {'id': 'TARGET-40-NAAWDS'},\n",
       " {'id': 'TARGET-10-PARMGY'},\n",
       " {'id': 'TARGET-40-NAAWEK'},\n",
       " {'id': 'TARGET-40-NAAWFX'},\n",
       " {'id': 'TARGET-00-BM4387'},\n",
       " {'id': 'TARGET-40-NAAWGS'},\n",
       " {'id': 'TARGET-40-NAAWDY'},\n",
       " {'id': 'TARGET-40-NAAWEF'},\n",
       " {'id': 'TARGET-40-NAAWFE'},\n",
       " {'id': 'TARGET-40-NAAWDV'},\n",
       " {'id': 'TARGET-10-SJALL040058'},\n",
       " {'id': 'TARGET-40-NAAWGY'},\n",
       " {'id': 'TARGET-00-NAAENL'},\n",
       " {'id': 'TARGET-40-NAAWFG'},\n",
       " {'id': 'TARGET-40-NAAWET'},\n",
       " {'id': 'TARGET-40-NAAWDR'},\n",
       " {'id': 'TARGET-40-NAAWDM'},\n",
       " {'id': 'TARGET-10-SJBALL014594'},\n",
       " {'id': 'TARGET-40-NAAWEL'},\n",
       " {'id': 'TARGET-40-NAAWGF'},\n",
       " {'id': 'TARGET-40-NAAWFN'},\n",
       " {'id': 'TARGET-40-NAAWGT'},\n",
       " {'id': 'TARGET-40-NAAWGH'},\n",
       " {'id': 'TARGET-00-NAAEPE'},\n",
       " {'id': 'TARGET-40-NAAWDN'},\n",
       " {'id': 'TARGET-40-NAAWFD'},\n",
       " {'id': 'TARGET-10-PARAMR'},\n",
       " {'id': 'TARGET-40-NAAWEP'},\n",
       " {'id': 'TARGET-40-NAAWFB'},\n",
       " {'id': 'TARGET-40-NAAWHB'},\n",
       " {'id': 'C3L-07037'},\n",
       " {'id': 'TARGET-40-NAAWFZ'},\n",
       " {'id': 'TARGET-40-NAAWEB'},\n",
       " {'id': 'TARGET-10-SJBALL021816'},\n",
       " {'id': 'TARGET-00-NAAENR'},\n",
       " {'id': 'TARGET-00-NAAENJ'},\n",
       " {'id': 'TARGET-40-NAAWFL'},\n",
       " {'id': 'TARGET-00-BM4003'},\n",
       " {'id': 'TCGA-06-0676'},\n",
       " {'id': 'TCGA-08-0623'},\n",
       " {'id': 'TCGA-08-0626'},\n",
       " {'id': 'TARGET-00-BM5571'},\n",
       " {'id': 'TARGET-00-BM5563'},\n",
       " {'id': 'TARGET-00-BM5233'},\n",
       " {'id': 'TCGA-GS-6632'},\n",
       " {'id': 'TCGA-GZ-6637'},\n",
       " {'id': 'TCGA-GZ-6640'},\n",
       " {'id': 'TCGA-GZ-6638'},\n",
       " {'id': 'TCGA-GS-6630'},\n",
       " {'id': 'TARGET-00-SJNORM016096'},\n",
       " {'id': 'TARGET-10-SJBALL004182'},\n",
       " {'id': 'TARGET-00-SJNORM018231'},\n",
       " {'id': 'TCGA-17-Z006'},\n",
       " {'id': 'TARGET-00-BM5776'},\n",
       " {'id': 'TARGET-00-BM5759'},\n",
       " {'id': 'TCGA-13-0922'},\n",
       " {'id': 'TCGA-01-0642'},\n",
       " {'id': 'TCGA-01-0639'},\n",
       " {'id': 'TCGA-01-0636'},\n",
       " {'id': 'TCGA-72-4238'},\n",
       " {'id': 'TCGA-72-4241'},\n",
       " {'id': 'TCGA-72-4231'},\n",
       " {'id': 'TCGA-72-4232'},\n",
       " {'id': 'TCGA-36-2539'},\n",
       " {'id': 'TCGA-06-0680'},\n",
       " {'id': 'TCGA-06-0681'},\n",
       " {'id': 'TCGA-06-0678'},\n",
       " {'id': 'TCGA-28-2501'},\n",
       " {'id': 'TCGA-28-2510'},\n",
       " {'id': 'TCGA-5A-A8ZF'},\n",
       " {'id': 'TCGA-5M-AAT5'},\n",
       " {'id': 'TCGA-5M-AATA'},\n",
       " {'id': 'TCGA-17-Z040'},\n",
       " {'id': 'TCGA-17-Z024'},\n",
       " {'id': 'TCGA-17-Z038'},\n",
       " {'id': 'TCGA-17-Z012'},\n",
       " {'id': 'TCGA-17-Z008'},\n",
       " {'id': 'TCGA-17-Z035'},\n",
       " {'id': 'TCGA-17-Z034'},\n",
       " {'id': 'TCGA-17-Z055'},\n",
       " {'id': 'TCGA-17-Z057'},\n",
       " {'id': 'TCGA-17-Z014'},\n",
       " {'id': 'TCGA-17-Z041'},\n",
       " {'id': 'TCGA-17-Z021'},\n",
       " {'id': 'TCGA-17-Z056'},\n",
       " {'id': 'TCGA-17-Z004'},\n",
       " {'id': 'TCGA-17-Z031'},\n",
       " {'id': 'TCGA-17-Z019'},\n",
       " {'id': 'TCGA-17-Z059'},\n",
       " {'id': 'TCGA-17-Z053'},\n",
       " {'id': 'TCGA-17-Z037'},\n",
       " {'id': 'TCGA-17-Z052'},\n",
       " {'id': 'TCGA-17-Z045'},\n",
       " {'id': 'TCGA-17-Z026'},\n",
       " {'id': 'TCGA-17-Z049'},\n",
       " {'id': 'TCGA-17-Z028'},\n",
       " {'id': 'TCGA-17-Z015'},\n",
       " {'id': 'TCGA-17-Z032'},\n",
       " {'id': 'TCGA-17-Z027'},\n",
       " {'id': 'TCGA-17-Z002'},\n",
       " {'id': 'TCGA-17-Z054'},\n",
       " {'id': 'TCGA-17-Z001'},\n",
       " {'id': 'TCGA-17-Z050'},\n",
       " {'id': 'TCGA-17-Z033'},\n",
       " {'id': 'TCGA-17-Z018'},\n",
       " {'id': 'TCGA-17-Z022'},\n",
       " {'id': 'TCGA-17-Z047'},\n",
       " {'id': 'TCGA-17-Z061'},\n",
       " {'id': 'TCGA-17-Z017'},\n",
       " {'id': 'TCGA-17-Z062'},\n",
       " {'id': 'TCGA-17-Z010'},\n",
       " {'id': 'TCGA-F5-6810'},\n",
       " {'id': 'TCGA-2G-AALF'},\n",
       " {'id': 'TCGA-2G-AALY'},\n",
       " {'id': 'TCGA-2G-AALX'},\n",
       " {'id': 'TCGA-2G-AALR'},\n",
       " {'id': 'TCGA-2G-AAM4'},\n",
       " {'id': 'TCGA-2G-AAM2'},\n",
       " {'id': 'TCGA-2G-AALO'},\n",
       " {'id': 'TCGA-2G-AALW'},\n",
       " {'id': 'TCGA-FL-A1YV'},\n",
       " {'id': 'TCGA-FL-A1YT'},\n",
       " {'id': 'TCGA-FL-A1YL'},\n",
       " {'id': 'TCGA-FL-A1YI'},\n",
       " {'id': 'TCGA-FL-A1YG'},\n",
       " {'id': 'TCGA-FL-A1YF'},\n",
       " {'id': 'TCGA-FL-A1YN'},\n",
       " {'id': 'TARGET-00-RO02214'},\n",
       " {'id': 'TARGET-00-RO02815'},\n",
       " {'id': 'TARGET-20-MV411AZAD11'},\n",
       " {'id': 'TARGET-00-RO02265'},\n",
       " {'id': 'TARGET-00-RO02391'},\n",
       " {'id': 'TARGET-00-RO02505'},\n",
       " {'id': 'TARGET-00-RO02401'},\n",
       " {'id': 'TARGET-00-RO02280'},\n",
       " {'id': 'TARGET-00-RO02417'},\n",
       " {'id': 'TARGET-00-RO02205'},\n",
       " {'id': 'TARGET-00-RO02605'},\n",
       " {'id': 'TARGET-00-RO02213'},\n",
       " {'id': 'TARGET-00-RO02210'},\n",
       " {'id': 'TARGET-00-BM4203'},\n",
       " {'id': 'TARGET-00-RO02776'},\n",
       " {'id': 'TARGET-00-RO02224'},\n",
       " {'id': 'TARGET-00-RO02496'},\n",
       " {'id': 'TARGET-20-PANISJ'},\n",
       " {'id': 'TARGET-00-RO02176'},\n",
       " {'id': 'TARGET-00-RO02209'},\n",
       " {'id': 'TARGET-00-RO02619'},\n",
       " {'id': 'TARGET-00-RO02177'},\n",
       " {'id': 'TARGET-00-RO02216'},\n",
       " {'id': 'TARGET-00-RO02756'},\n",
       " {'id': 'TARGET-00-RO02208'},\n",
       " {'id': 'TARGET-00-RO02652'},\n",
       " {'id': 'TARGET-00-RO02590'},\n",
       " {'id': 'TARGET-20-KasumiAZAD11'},\n",
       " {'id': 'TARGET-20-KasumiAZAD5'},\n",
       " {'id': 'TARGET-00-RO02201'},\n",
       " {'id': 'TARGET-00-RO02249'},\n",
       " {'id': 'TARGET-00-BM5756'},\n",
       " {'id': 'TARGET-00-BM4641'},\n",
       " {'id': 'TARGET-00-BM5751'},\n",
       " {'id': 'TARGET-00-BM3969'},\n",
       " {'id': 'TARGET-40-NAAWES'},\n",
       " {'id': 'TARGET-40-NAAWEE'},\n",
       " {'id': 'TARGET-00-NAAENN'},\n",
       " {'id': 'TARGET-40-NAAWGE'},\n",
       " {'id': 'TARGET-40-NAAWEC'},\n",
       " {'id': 'TARGET-00-NAAENG'},\n",
       " {'id': 'TARGET-40-NAAWHF'},\n",
       " {'id': 'TARGET-40-NAAWFW'},\n",
       " {'id': 'TARGET-40-NAAWHC'},\n",
       " {'id': 'TARGET-40-NAAWDP'},\n",
       " {'id': 'TARGET-40-NAAWGX'},\n",
       " {'id': 'TARGET-40-NAAWFA'},\n",
       " {'id': 'TARGET-40-NAAWGU'},\n",
       " {'id': 'TARGET-10-PATDKH'},\n",
       " {'id': 'TARGET-40-NAAWEV'},\n",
       " {'id': 'TARGET-00-NAAENI'},\n",
       " {'id': 'TARGET-40-NAAWEU'},\n",
       " {'id': 'TARGET-40-NAAWED'},\n",
       " {'id': 'TARGET-40-NAAWGW'},\n",
       " {'id': 'TARGET-40-NAAWEM'},\n",
       " {'id': 'TARGET-40-NAAWHE'},\n",
       " {'id': 'TARGET-40-NAAWFJ'},\n",
       " {'id': 'TARGET-10-SJBALL014146'},\n",
       " {'id': 'TARGET-40-NAAWFH'},\n",
       " {'id': 'TARGET-20-PAPYRB'},\n",
       " {'id': 'TARGET-40-NAAWFP'},\n",
       " {'id': 'TARGET-40-NAAWFF'},\n",
       " {'id': 'TARGET-40-NAAWFM'},\n",
       " {'id': 'TARGET-40-NAAWGB'},\n",
       " {'id': 'TARGET-40-NAAWDL'},\n",
       " {'id': 'TARGET-40-NAAWDW'},\n",
       " {'id': 'TARGET-20-PASSGZ'},\n",
       " {'id': 'TARGET-00-NAAENM'},\n",
       " {'id': 'TARGET-40-NAAWGL'},\n",
       " {'id': 'TARGET-40-NAAWGK'},\n",
       " {'id': 'TARGET-00-NAAENK'},\n",
       " {'id': 'TARGET-10-PATXKD'},\n",
       " {'id': 'TARGET-40-NAAWGV'},\n",
       " {'id': 'TARGET-40-NAAWFS'},\n",
       " {'id': 'TARGET-40-NAAWFY'},\n",
       " {'id': 'TARGET-40-NAAWDU'},\n",
       " {'id': 'TARGET-00-NAAENP'},\n",
       " {'id': 'TARGET-40-NAAWHI'},\n",
       " {'id': 'TARGET-40-NAAWFI'},\n",
       " {'id': 'TARGET-40-NAAWFU'},\n",
       " {'id': 'TARGET-40-NAAWEJ'},\n",
       " {'id': 'TARGET-40-NAAWGA'},\n",
       " {'id': 'TARGET-20-PARXFJ'},\n",
       " {'id': 'TARGET-40-NAAWGM'},\n",
       " {'id': 'TARGET-40-NAAWFR'},\n",
       " {'id': 'TARGET-40-NAAWHA'},\n",
       " {'id': 'TARGET-40-NAAWFV'},\n",
       " {'id': 'TARGET-00-NAAENH'},\n",
       " {'id': 'TARGET-00-BM5779'},\n",
       " {'id': 'TARGET-40-NAAWHD'},\n",
       " {'id': 'TARGET-40-NAAWEI'},\n",
       " {'id': 'TARGET-40-NAAWFK'},\n",
       " {'id': 'TARGET-40-NAAWGD'},\n",
       " {'id': 'TARGET-00-NAAENF'},\n",
       " {'id': 'TARGET-40-NAAWGN'},\n",
       " {'id': 'TARGET-40-NAAWFC'},\n",
       " {'id': 'TCGA-08-0627'},\n",
       " {'id': 'TCGA-08-0625'},\n",
       " {'id': 'TARGET-00-BM5136'},\n",
       " {'id': 'TCGA-06-0673'},\n",
       " {'id': 'TARGET-00-BM5108'},\n",
       " {'id': 'TCGA-GS-6631'},\n",
       " {'id': 'TCGA-GZ-6639'},\n",
       " {'id': 'TCGA-GS-6629'},\n",
       " {'id': 'TARGET-00-SJNORM054698'},\n",
       " {'id': 'TARGET-00-SJNORM016314'},\n",
       " {'id': 'TCGA-13-0914'},\n",
       " {'id': 'TCGA-17-Z029'},\n",
       " {'id': 'TCGA-17-Z039'},\n",
       " {'id': 'TARGET-00-BM4616'},\n",
       " {'id': 'TARGET-00-BM5682'},\n",
       " {'id': 'TCGA-01-0631'},\n",
       " {'id': 'TCGA-01-0628'},\n",
       " {'id': 'TCGA-01-0633'},\n",
       " {'id': 'TCGA-01-0630'},\n",
       " {'id': 'TCGA-01-0637'},\n",
       " {'id': 'TCGA-72-4235'},\n",
       " {'id': 'TCGA-72-4240'},\n",
       " {'id': 'TCGA-72-4233'},\n",
       " {'id': 'TCGA-72-4234'},\n",
       " {'id': 'TCGA-72-4236'},\n",
       " {'id': 'TCGA-72-4237'},\n",
       " {'id': 'TCGA-02-0329'},\n",
       " {'id': 'TCGA-02-0250'},\n",
       " {'id': 'TCGA-02-0336'},\n",
       " {'id': 'TCGA-06-0121'},\n",
       " {'id': 'TCGA-06-0675'},\n",
       " {'id': 'TCGA-06-AABW'},\n",
       " {'id': 'TCGA-16-1048'},\n",
       " {'id': 'TCGA-R8-A6YH'},\n",
       " {'id': 'TCGA-BH-A0B2'},\n",
       " {'id': 'TCGA-ZK-AAYZ'},\n",
       " {'id': 'TCGA-5A-A8ZG'},\n",
       " {'id': 'TCGA-GS-6633'},\n",
       " {'id': 'TCGA-GS-6634'},\n",
       " {'id': 'TCGA-17-Z046'},\n",
       " {'id': 'TCGA-17-Z051'},\n",
       " {'id': 'TCGA-17-Z009'},\n",
       " {'id': 'TCGA-17-Z036'},\n",
       " {'id': 'TCGA-17-Z023'},\n",
       " {'id': 'TCGA-17-Z013'},\n",
       " {'id': 'TCGA-17-Z005'},\n",
       " {'id': 'TCGA-17-Z007'},\n",
       " {'id': 'TCGA-17-Z060'},\n",
       " {'id': 'TCGA-17-Z003'},\n",
       " {'id': 'TCGA-17-Z042'},\n",
       " {'id': 'TCGA-17-Z044'},\n",
       " {'id': 'TCGA-17-Z048'},\n",
       " {'id': 'TCGA-17-Z020'},\n",
       " {'id': 'TCGA-17-Z016'},\n",
       " {'id': 'TCGA-17-Z011'},\n",
       " {'id': 'TCGA-17-Z000'},\n",
       " {'id': 'TCGA-17-Z030'},\n",
       " {'id': 'TCGA-17-Z025'},\n",
       " {'id': 'TCGA-17-Z058'},\n",
       " {'id': 'TCGA-17-Z043'},\n",
       " {'id': 'TCGA-2G-AAM3'},\n",
       " {'id': 'TCGA-2G-AAKO'},\n",
       " {'id': 'TCGA-2G-AALG'},\n",
       " {'id': 'TCGA-2G-AALN'},\n",
       " {'id': 'TCGA-2G-AALS'},\n",
       " {'id': 'TCGA-2G-AALZ'},\n",
       " {'id': 'TCGA-2G-AALQ'},\n",
       " {'id': 'TCGA-2G-AALT'},\n",
       " {'id': 'TCGA-FL-A3WE'},\n",
       " {'id': 'TCGA-FL-A1YM'},\n",
       " {'id': 'TCGA-FL-A1YH'},\n",
       " {'id': 'TCGA-FL-A1YU'},\n",
       " {'id': 'TCGA-FL-A1YQ'},\n",
       " {'id': 'TARGET-00-RO02434'},\n",
       " {'id': 'TARGET-00-RO02239'},\n",
       " {'id': 'TARGET-00-RO02609'},\n",
       " {'id': 'TARGET-00-RO02431'},\n",
       " {'id': 'TARGET-00-RO02297'},\n",
       " {'id': 'TARGET-00-RO02240'},\n",
       " {'id': 'TARGET-00-RO02327'},\n",
       " {'id': 'TARGET-00-RO02466'},\n",
       " {'id': 'TARGET-00-RO02356'},\n",
       " {'id': 'TARGET-00-RO02191'},\n",
       " {'id': 'TARGET-00-RO02379'},\n",
       " {'id': 'TARGET-20-MV411D1'},\n",
       " {'id': 'TARGET-00-RO02380'},\n",
       " {'id': 'TARGET-20-KasumiD1'},\n",
       " {'id': 'TARGET-00-RO02580'},\n",
       " {'id': 'TARGET-00-RO02645'},\n",
       " {'id': 'TARGET-00-RO02361'},\n",
       " {'id': 'TARGET-00-RO02395'},\n",
       " {'id': 'TARGET-00-RO02722'},\n",
       " {'id': 'TARGET-00-RO02211'},\n",
       " {'id': 'TARGET-00-RO02447'},\n",
       " {'id': 'TARGET-00-RO02462'},\n",
       " {'id': 'TARGET-20-PANMTU'},\n",
       " {'id': 'TARGET-00-RO02485'},\n",
       " {'id': 'TARGET-00-RO02441'},\n",
       " {'id': 'TARGET-00-RO02748'},\n",
       " {'id': 'TARGET-20-PAUTGJ'},\n",
       " {'id': 'TARGET-20-MV411AZAD5'},\n",
       " {'id': 'TARGET-00-BM4473'},\n",
       " {'id': 'TARGET-00-BM4404'},\n",
       " {'id': 'TARGET-00-BM4508'},\n",
       " {'id': 'TARGET-00-BM3897'},\n",
       " {'id': 'TARGET-10-DCC002'}]"
      ]
     },
     "execution_count": 43,
     "metadata": {},
     "output_type": "execute_result"
    }
   ],
   "source": [
    "res = api_instance.sql_query('v3',\n",
    "                             '''select distinct p.id\n",
    "    FROM gdc-bq-sample.cda_mvp.v3 p,\n",
    "    unnest(ResearchSubject) as s1,\n",
    "    UNNEST(s1.identifier) as i1\n",
    "    where p.id not in (\n",
    "    select distinct p2.id\n",
    "    FROM gdc-bq-sample.cda_mvp.v3 p2,\n",
    "    unnest(ResearchSubject) as s2,\n",
    "    UNNEST(s2.Diagnosis) as d2\n",
    "    )\n",
    "    ''',\n",
    "                            limit=100000)\n",
    "unique_patients_w_subject_ids = res.result\n",
    "unique_patients_w_subject_ids"
   ]
  },
  {
   "cell_type": "markdown",
   "metadata": {},
   "source": [
    "Look at one of them"
   ]
  },
  {
   "cell_type": "code",
   "execution_count": 49,
   "metadata": {},
   "outputs": [
    {
     "data": {
      "text/plain": [
       "{'next_url': None,\n",
       " 'previous_url': None,\n",
       " 'query_sql': 'select p.*\\n'\n",
       "              '    FROM gdc-bq-sample.cda_mvp.v3 p\\n'\n",
       "              \"    where id = 'TARGET-40-NAAWGS' \",\n",
       " 'result': [{'ResearchSubject': [{'Diagnosis': [],\n",
       "                                  'Specimen': [{'File': [],\n",
       "                                                'age_at_collection': None,\n",
       "                                                'anatomical_site': None,\n",
       "                                                'associated_project': 'TARGET-OS',\n",
       "                                                'derived_from_specimen': 'Initial '\n",
       "                                                                         'sample',\n",
       "                                                'derived_from_subject': 'TARGET-40-NAAWGS',\n",
       "                                                'id': 'd0d90625-eead-5278-ba91-43ac95dcaa4e',\n",
       "                                                'identifier': [{'system': 'GDC',\n",
       "                                                                'value': 'd0d90625-eead-5278-ba91-43ac95dcaa4e'}],\n",
       "                                                'primary_disease_type': 'Osseous '\n",
       "                                                                        'and '\n",
       "                                                                        'Chondromatous '\n",
       "                                                                        'Neoplasms',\n",
       "                                                'source_material_type': 'Primary '\n",
       "                                                                        'Tumor',\n",
       "                                                'specimen_type': 'sample'},\n",
       "                                               {'File': [],\n",
       "                                                'age_at_collection': None,\n",
       "                                                'anatomical_site': None,\n",
       "                                                'associated_project': 'TARGET-OS',\n",
       "                                                'derived_from_specimen': 'd0d90625-eead-5278-ba91-43ac95dcaa4e',\n",
       "                                                'derived_from_subject': 'TARGET-40-NAAWGS',\n",
       "                                                'id': '3cb64fd7-5e38-5ea6-a463-6076d4afdaa0',\n",
       "                                                'identifier': [{'system': 'GDC',\n",
       "                                                                'value': '3cb64fd7-5e38-5ea6-a463-6076d4afdaa0'}],\n",
       "                                                'primary_disease_type': 'Osseous '\n",
       "                                                                        'and '\n",
       "                                                                        'Chondromatous '\n",
       "                                                                        'Neoplasms',\n",
       "                                                'source_material_type': 'Primary '\n",
       "                                                                        'Tumor',\n",
       "                                                'specimen_type': 'portion'},\n",
       "                                               {'File': [],\n",
       "                                                'age_at_collection': None,\n",
       "                                                'anatomical_site': None,\n",
       "                                                'associated_project': 'TARGET-OS',\n",
       "                                                'derived_from_specimen': '3cb64fd7-5e38-5ea6-a463-6076d4afdaa0',\n",
       "                                                'derived_from_subject': 'TARGET-40-NAAWGS',\n",
       "                                                'id': 'c4fbbee7-f7e7-554a-8dea-b5a38db07a79',\n",
       "                                                'identifier': [{'system': 'GDC',\n",
       "                                                                'value': 'c4fbbee7-f7e7-554a-8dea-b5a38db07a79'}],\n",
       "                                                'primary_disease_type': 'Osseous '\n",
       "                                                                        'and '\n",
       "                                                                        'Chondromatous '\n",
       "                                                                        'Neoplasms',\n",
       "                                                'source_material_type': 'Primary '\n",
       "                                                                        'Tumor',\n",
       "                                                'specimen_type': 'analyte'},\n",
       "                                               {'File': [],\n",
       "                                                'age_at_collection': None,\n",
       "                                                'anatomical_site': None,\n",
       "                                                'associated_project': 'TARGET-OS',\n",
       "                                                'derived_from_specimen': 'c4fbbee7-f7e7-554a-8dea-b5a38db07a79',\n",
       "                                                'derived_from_subject': 'TARGET-40-NAAWGS',\n",
       "                                                'id': '112f3c93-af3e-4ad2-b8c3-f7fb790dbf2e',\n",
       "                                                'identifier': [{'system': 'GDC',\n",
       "                                                                'value': '112f3c93-af3e-4ad2-b8c3-f7fb790dbf2e'}],\n",
       "                                                'primary_disease_type': 'Osseous '\n",
       "                                                                        'and '\n",
       "                                                                        'Chondromatous '\n",
       "                                                                        'Neoplasms',\n",
       "                                                'source_material_type': 'Primary '\n",
       "                                                                        'Tumor',\n",
       "                                                'specimen_type': 'aliquot'}],\n",
       "                                  'associated_project': 'TARGET-OS',\n",
       "                                  'id': '52cf84af-c9f8-5f44-a9c6-5e22833abe23',\n",
       "                                  'identifier': [{'system': 'GDC',\n",
       "                                                  'value': '52cf84af-c9f8-5f44-a9c6-5e22833abe23'}],\n",
       "                                  'primary_disease_site': 'Not Reported',\n",
       "                                  'primary_disease_type': 'Osseous and '\n",
       "                                                          'Chondromatous '\n",
       "                                                          'Neoplasms'}],\n",
       "             'days_to_birth': None,\n",
       "             'ethnicity': None,\n",
       "             'id': 'TARGET-40-NAAWGS',\n",
       "             'race': None,\n",
       "             'sex': None}]}"
      ]
     },
     "execution_count": 49,
     "metadata": {},
     "output_type": "execute_result"
    }
   ],
   "source": [
    "api_instance.sql_query('v3',\n",
    "                             '''select p.*\n",
    "    FROM gdc-bq-sample.cda_mvp.v3 p\n",
    "    where id = 'TARGET-40-NAAWGS' ''',\n",
    "                      limit=100)"
   ]
  },
  {
   "cell_type": "markdown",
   "metadata": {},
   "source": [
    "Get ids for some with diagnoses"
   ]
  },
  {
   "cell_type": "code",
   "execution_count": 50,
   "metadata": {},
   "outputs": [
    {
     "data": {
      "text/plain": [
       "{'next_url': None,\n",
       " 'previous_url': None,\n",
       " 'query_sql': 'select distinct p.id \\n'\n",
       "              '    FROM gdc-bq-sample.cda_mvp.v3 p,\\n'\n",
       "              '    unnest(ResearchSubject) as s1,\\n'\n",
       "              '    UNNEST(s1.Diagnosis) as d1',\n",
       " 'result': [{'id': 'C3L-03513'},\n",
       "            {'id': 'GTEX-QVJO-0011-R10A-SM-HAKXV'},\n",
       "            {'id': 'GTEX-NPJ7-0011-R10A-SM-HAKXW'},\n",
       "            {'id': 'GTEX-RN5K-0011-R10A-SM-HAKXU'},\n",
       "            {'id': 'GTEX-R55F-0011-R10A-SM-HAKXY'},\n",
       "            {'id': 'GENIE-MSK-P-0015550'},\n",
       "            {'id': 'GENIE-MSK-P-0012319'},\n",
       "            {'id': 'GENIE-DFCI-003418'},\n",
       "            {'id': 'GENIE-DFCI-002519'},\n",
       "            {'id': 'GENIE-GRCC-134c6659'},\n",
       "            {'id': 'GENIE-GRCC-e2229b2f'},\n",
       "            {'id': 'GENIE-JHU-03864'},\n",
       "            {'id': 'GENIE-JHU-03879'},\n",
       "            {'id': 'GENIE-JHU-03582'},\n",
       "            {'id': 'GENIE-JHU-00590'},\n",
       "            {'id': 'GENIE-JHU-03295'},\n",
       "            {'id': 'GENIE-JHU-03596'},\n",
       "            {'id': 'GENIE-JHU-03873'},\n",
       "            {'id': 'GENIE-JHU-00835'},\n",
       "            {'id': 'GENIE-MDA-6079'},\n",
       "            {'id': 'GENIE-MDA-4952'},\n",
       "            {'id': 'GENIE-MDA-1256'},\n",
       "            {'id': 'GENIE-MDA-2745'},\n",
       "            {'id': 'GENIE-MDA-3476'},\n",
       "            {'id': 'GENIE-MDA-3527'},\n",
       "            {'id': 'GENIE-MDA-5096'},\n",
       "            {'id': 'GENIE-MDA-6607'},\n",
       "            {'id': 'GENIE-MDA-1190'},\n",
       "            {'id': 'GENIE-MDA-2875'},\n",
       "            {'id': 'GENIE-MDA-3897'},\n",
       "            {'id': 'GENIE-MDA-5806'},\n",
       "            {'id': 'GENIE-MDA-1037'},\n",
       "            {'id': 'GENIE-MDA-2425'},\n",
       "            {'id': 'GENIE-MDA-2101'},\n",
       "            {'id': 'GENIE-MDA-2013'},\n",
       "            {'id': 'GENIE-MDA-3225'},\n",
       "            {'id': 'GENIE-MDA-4100'},\n",
       "            {'id': 'GENIE-MDA-5901'},\n",
       "            {'id': 'GENIE-MDA-6346'},\n",
       "            {'id': 'GENIE-MDA-3425'},\n",
       "            {'id': 'GENIE-MDA-2393'},\n",
       "            {'id': 'GENIE-MDA-1633'},\n",
       "            {'id': 'GENIE-MDA-1432'},\n",
       "            {'id': 'GENIE-MDA-4342'},\n",
       "            {'id': 'GENIE-MDA-3168'},\n",
       "            {'id': 'GENIE-MDA-1568'},\n",
       "            {'id': 'GENIE-MDA-1612'},\n",
       "            {'id': 'GENIE-MDA-5117'},\n",
       "            {'id': 'GENIE-MDA-5937'},\n",
       "            {'id': 'GENIE-MDA-8035'},\n",
       "            {'id': 'GENIE-MDA-1239'},\n",
       "            {'id': 'GENIE-MDA-6048'},\n",
       "            {'id': 'GENIE-MDA-6404'},\n",
       "            {'id': 'GENIE-MDA-5707'},\n",
       "            {'id': 'GENIE-MDA-5681'},\n",
       "            {'id': 'GENIE-MDA-2033'},\n",
       "            {'id': 'GENIE-MDA-2922'},\n",
       "            {'id': 'GENIE-MDA-1448'},\n",
       "            {'id': 'GENIE-MDA-384'},\n",
       "            {'id': 'GENIE-MDA-875'},\n",
       "            {'id': 'GENIE-MDA-4825'},\n",
       "            {'id': 'GENIE-MDA-2704'},\n",
       "            {'id': 'GENIE-MDA-6114'},\n",
       "            {'id': 'GENIE-MDA-2399'},\n",
       "            {'id': 'GENIE-MDA-1761'},\n",
       "            {'id': 'GENIE-MDA-4980'},\n",
       "            {'id': 'GENIE-MDA-491'},\n",
       "            {'id': 'GENIE-MDA-1123'},\n",
       "            {'id': 'GENIE-MDA-3199'},\n",
       "            {'id': 'GENIE-MDA-3569'},\n",
       "            {'id': 'GENIE-MDA-3094'},\n",
       "            {'id': 'GENIE-MDA-3417'},\n",
       "            {'id': 'GENIE-MDA-2214'},\n",
       "            {'id': 'GENIE-MDA-5020'},\n",
       "            {'id': 'GENIE-MDA-3651'},\n",
       "            {'id': 'GENIE-MDA-6538'},\n",
       "            {'id': 'GENIE-MDA-6351'},\n",
       "            {'id': 'GENIE-MDA-2951'},\n",
       "            {'id': 'GENIE-MDA-6137'},\n",
       "            {'id': 'GENIE-MDA-3067'},\n",
       "            {'id': 'GENIE-MDA-4951'},\n",
       "            {'id': 'GENIE-MDA-2213'},\n",
       "            {'id': 'GENIE-MDA-6741'},\n",
       "            {'id': 'GENIE-MDA-1490'},\n",
       "            {'id': 'GENIE-MDA-916'},\n",
       "            {'id': 'GENIE-MDA-2856'},\n",
       "            {'id': 'GENIE-MDA-1532'},\n",
       "            {'id': 'GENIE-MDA-1101'},\n",
       "            {'id': 'GENIE-MDA-3020'},\n",
       "            {'id': 'GENIE-MDA-6171'},\n",
       "            {'id': 'GENIE-MDA-4314'},\n",
       "            {'id': 'GENIE-MDA-3612'},\n",
       "            {'id': 'GENIE-MDA-3410'},\n",
       "            {'id': 'GENIE-MDA-1446'},\n",
       "            {'id': 'GENIE-MDA-3462'},\n",
       "            {'id': 'GENIE-MDA-2918'},\n",
       "            {'id': 'GENIE-MDA-2409'},\n",
       "            {'id': 'GENIE-MDA-8302'},\n",
       "            {'id': 'GENIE-MDA-3294'},\n",
       "            {'id': 'GENIE-MDA-18988'}]}"
      ]
     },
     "execution_count": 50,
     "metadata": {},
     "output_type": "execute_result"
    }
   ],
   "source": [
    "api_instance.sql_query('v3',\n",
    "                             '''select distinct p.id \n",
    "    FROM gdc-bq-sample.cda_mvp.v3 p,\n",
    "    unnest(ResearchSubject) as s1,\n",
    "    UNNEST(s1.Diagnosis) as d1''',\n",
    "                      limit=100)"
   ]
  },
  {
   "cell_type": "markdown",
   "metadata": {},
   "source": [
    "Look at one of them"
   ]
  },
  {
   "cell_type": "code",
   "execution_count": 51,
   "metadata": {},
   "outputs": [
    {
     "data": {
      "text/plain": [
       "{'next_url': None,\n",
       " 'previous_url': None,\n",
       " 'query_sql': 'select p.*\\n'\n",
       "              '    FROM gdc-bq-sample.cda_mvp.v3 p\\n'\n",
       "              \"    where id = 'GENIE-MDA-2875' \",\n",
       " 'result': [{'ResearchSubject': [{'Diagnosis': [{'Treatment': [],\n",
       "                                                 'age_at_diagnosis': None,\n",
       "                                                 'id': 'bdf63356-3d32-4f37-b4c5-edb461ddaf5c',\n",
       "                                                 'morphology': '8000/3',\n",
       "                                                 'primary_diagnosis': 'Neoplasm, '\n",
       "                                                                      'malignant',\n",
       "                                                 'tumor_grade': 'Not Reported',\n",
       "                                                 'tumor_stage': 'not '\n",
       "                                                                'reported'}],\n",
       "                                  'Specimen': [{'File': [{'associated_project': ['GENIE-MDA'],\n",
       "                                                          'byte_size': 983,\n",
       "                                                          'checksum': '17d3efcfca3bbbc7334d33c4c8fe0f15',\n",
       "                                                          'data_category': 'Simple '\n",
       "                                                                           'Nucleotide '\n",
       "                                                                           'Variation',\n",
       "                                                          'data_type': 'Masked '\n",
       "                                                                       'Annotated '\n",
       "                                                                       'Somatic '\n",
       "                                                                       'Mutation',\n",
       "                                                          'drs_uri': 'drs://dg.4DFC:e2240e0a-8c24-49a6-a257-2d645912c5b0',\n",
       "                                                          'file_format': None,\n",
       "                                                          'id': 'e2240e0a-8c24-49a6-a257-2d645912c5b0',\n",
       "                                                          'identifier': [{'system': 'GDC',\n",
       "                                                                          'value': 'e2240e0a-8c24-49a6-a257-2d645912c5b0'}],\n",
       "                                                          'label': '0878c062-d2da-4e98-8d47-cd1c6fb55336.genie.aliquot.maf.gz',\n",
       "                                                          'type': None}],\n",
       "                                                'age_at_collection': None,\n",
       "                                                'anatomical_site': None,\n",
       "                                                'associated_project': 'GENIE-MDA',\n",
       "                                                'derived_from_specimen': 'Initial '\n",
       "                                                                         'sample',\n",
       "                                                'derived_from_subject': 'GENIE-MDA-2875',\n",
       "                                                'id': '505259c1-e8b1-438b-9d86-82fb5c78b82f',\n",
       "                                                'identifier': [{'system': 'GDC',\n",
       "                                                                'value': '505259c1-e8b1-438b-9d86-82fb5c78b82f'}],\n",
       "                                                'primary_disease_type': 'Neoplasms, '\n",
       "                                                                        'NOS',\n",
       "                                                'source_material_type': 'Primary '\n",
       "                                                                        'Tumor',\n",
       "                                                'specimen_type': 'sample'},\n",
       "                                               {'File': [],\n",
       "                                                'age_at_collection': None,\n",
       "                                                'anatomical_site': None,\n",
       "                                                'associated_project': 'GENIE-MDA',\n",
       "                                                'derived_from_specimen': '505259c1-e8b1-438b-9d86-82fb5c78b82f',\n",
       "                                                'derived_from_subject': 'GENIE-MDA-2875',\n",
       "                                                'id': 'd511c993-754d-46f7-ac9e-c07758ced332',\n",
       "                                                'identifier': [{'system': 'GDC',\n",
       "                                                                'value': 'd511c993-754d-46f7-ac9e-c07758ced332'}],\n",
       "                                                'primary_disease_type': 'Neoplasms, '\n",
       "                                                                        'NOS',\n",
       "                                                'source_material_type': 'Primary '\n",
       "                                                                        'Tumor',\n",
       "                                                'specimen_type': 'portion'},\n",
       "                                               {'File': [],\n",
       "                                                'age_at_collection': None,\n",
       "                                                'anatomical_site': None,\n",
       "                                                'associated_project': 'GENIE-MDA',\n",
       "                                                'derived_from_specimen': 'd511c993-754d-46f7-ac9e-c07758ced332',\n",
       "                                                'derived_from_subject': 'GENIE-MDA-2875',\n",
       "                                                'id': '1a505be1-762b-406d-bfd3-f43054ec9237',\n",
       "                                                'identifier': [{'system': 'GDC',\n",
       "                                                                'value': '1a505be1-762b-406d-bfd3-f43054ec9237'}],\n",
       "                                                'primary_disease_type': 'Neoplasms, '\n",
       "                                                                        'NOS',\n",
       "                                                'source_material_type': 'Primary '\n",
       "                                                                        'Tumor',\n",
       "                                                'specimen_type': 'analyte'},\n",
       "                                               {'File': [],\n",
       "                                                'age_at_collection': None,\n",
       "                                                'anatomical_site': None,\n",
       "                                                'associated_project': 'GENIE-MDA',\n",
       "                                                'derived_from_specimen': '1a505be1-762b-406d-bfd3-f43054ec9237',\n",
       "                                                'derived_from_subject': 'GENIE-MDA-2875',\n",
       "                                                'id': 'fb6d2bcb-ba99-4591-af19-58151837a7da',\n",
       "                                                'identifier': [{'system': 'GDC',\n",
       "                                                                'value': 'fb6d2bcb-ba99-4591-af19-58151837a7da'}],\n",
       "                                                'primary_disease_type': 'Neoplasms, '\n",
       "                                                                        'NOS',\n",
       "                                                'source_material_type': 'Primary '\n",
       "                                                                        'Tumor',\n",
       "                                                'specimen_type': 'aliquot'}],\n",
       "                                  'associated_project': 'GENIE-MDA',\n",
       "                                  'id': '2e5b4df4-f008-43eb-9b8e-ebf0d0dd373c',\n",
       "                                  'identifier': [{'system': 'GDC',\n",
       "                                                  'value': '2e5b4df4-f008-43eb-9b8e-ebf0d0dd373c'}],\n",
       "                                  'primary_disease_site': 'Unknown',\n",
       "                                  'primary_disease_type': 'Neoplasms, NOS'}],\n",
       "             'days_to_birth': -9131,\n",
       "             'ethnicity': 'not reported',\n",
       "             'id': 'GENIE-MDA-2875',\n",
       "             'race': 'white',\n",
       "             'sex': 'male'}]}"
      ]
     },
     "execution_count": 51,
     "metadata": {},
     "output_type": "execute_result"
    }
   ],
   "source": [
    "api_instance.sql_query('v3',\n",
    "                             '''select p.*\n",
    "    FROM gdc-bq-sample.cda_mvp.v3 p\n",
    "    where id = 'GENIE-MDA-2875' ''',\n",
    "                      limit=100)"
   ]
  },
  {
   "cell_type": "markdown",
   "metadata": {},
   "source": [
    "check count when we also nest Treatment"
   ]
  },
  {
   "cell_type": "code",
   "execution_count": 55,
   "metadata": {},
   "outputs": [
    {
     "data": {
      "text/plain": [
       "12560"
      ]
     },
     "execution_count": 55,
     "metadata": {},
     "output_type": "execute_result"
    }
   ],
   "source": [
    "res = api_instance.sql_query('v3',\n",
    "                             '''select count(distinct p.id) row_count\n",
    "    FROM gdc-bq-sample.cda_mvp.v3 p,\n",
    "    unnest(ResearchSubject) as s1,\n",
    "    UNNEST(s1.Diagnosis) as d1,\n",
    "    unnest(d1.Treatment) as t1 ''')\n",
    "total_unique_patients_w_treatment = res.result[0]['row_count']\n",
    "total_unique_patients_w_treatment"
   ]
  },
  {
   "cell_type": "code",
   "execution_count": 57,
   "metadata": {},
   "outputs": [],
   "source": [
    "def queryModV3(api_instance, query, limit=None):\n",
    "    modQuery = '''\n",
    "    with new_v3 as (select p.*,  d1.Treatment as treatment\n",
    "    FROM gdc-bq-sample.cda_mvp.v3 p,\n",
    "    unnest(ResearchSubject) as s1,\n",
    "    UNNEST(s1.identifier) as i1,\n",
    "    UNNEST(s1.Diagnosis) as d1\n",
    "    where i1.system = 'GDC') \n",
    "    {}\n",
    "    '''.format(query)\n",
    "    return api_instance.sql_query('v3',modQuery, limit=10)"
   ]
  },
  {
   "cell_type": "code",
   "execution_count": 62,
   "metadata": {
    "scrolled": true
   },
   "outputs": [
    {
     "data": {
      "text/plain": [
       "{'next_url': None,\n",
       " 'previous_url': None,\n",
       " 'query_sql': '\\n'\n",
       "              '    with new_v3 as (select p.*,  d1.Treatment as treatment\\n'\n",
       "              '    FROM gdc-bq-sample.cda_mvp.v3 p,\\n'\n",
       "              '    unnest(ResearchSubject) as s1,\\n'\n",
       "              '    UNNEST(s1.identifier) as i1,\\n'\n",
       "              '    UNNEST(s1.Diagnosis) as d1\\n'\n",
       "              \"    where i1.system = 'GDC') \\n\"\n",
       "              '    select count(distinct pa.id) from new_v3 pa\\n'\n",
       "              '    ',\n",
       " 'result': [{'': 84152}]}"
      ]
     },
     "execution_count": 62,
     "metadata": {},
     "output_type": "execute_result"
    }
   ],
   "source": [
    "queryModV3(api_instance, 'select count(distinct pa.id) from new_v3 pa')"
   ]
  },
  {
   "cell_type": "code",
   "execution_count": null,
   "metadata": {},
   "outputs": [],
   "source": []
  },
  {
   "cell_type": "code",
   "execution_count": 61,
   "metadata": {},
   "outputs": [
    {
     "data": {
      "text/plain": [
       "{'next_url': None,\n",
       " 'previous_url': None,\n",
       " 'query_sql': '\\n'\n",
       "              '    select count(distinct p.id)\\n'\n",
       "              '    FROM gdc-bq-sample.cda_mvp.v3 p,\\n'\n",
       "              '    unnest(ResearchSubject) as s1,\\n'\n",
       "              '    UNNEST(s1.identifier) as i1,\\n'\n",
       "              '    UNNEST(s1.Diagnosis) as d1 ',\n",
       " 'result': [{'': 84775}]}"
      ]
     },
     "execution_count": 61,
     "metadata": {},
     "output_type": "execute_result"
    }
   ],
   "source": [
    "api_instance.sql_query('v3',\n",
    "                             '''\n",
    "    select count(distinct p.id)\n",
    "    FROM gdc-bq-sample.cda_mvp.v3 p,\n",
    "    unnest(ResearchSubject) as s1,\n",
    "    UNNEST(s1.identifier) as i1,\n",
    "    UNNEST(s1.Diagnosis) as d1 ''')"
   ]
  },
  {
   "cell_type": "markdown",
   "metadata": {},
   "source": [
    "We don't want to filter this down to cases where there is a diagnosis.\n",
    "\n",
    "Is there a way to do an outer join with diagnosis?\n",
    "\n",
    "The above is essentially the same as a cross join against each unnested table. Reriting the query to include cross joins gives the same result."
   ]
  },
  {
   "cell_type": "code",
   "execution_count": 69,
   "metadata": {},
   "outputs": [
    {
     "data": {
      "text/plain": [
       "{'next_url': None,\n",
       " 'previous_url': None,\n",
       " 'query_sql': '\\n'\n",
       "              '    select count(distinct p.id) res_count\\n'\n",
       "              '    FROM gdc-bq-sample.cda_mvp.v3 p\\n'\n",
       "              '    cross join unnest(ResearchSubject) as s1\\n'\n",
       "              '    cross join UNNEST(s1.identifier) as i1\\n'\n",
       "              '    cross join UNNEST(s1.Diagnosis) as d1 \\n'\n",
       "              '    ',\n",
       " 'result': [{'res_count': 84775}]}"
      ]
     },
     "execution_count": 69,
     "metadata": {},
     "output_type": "execute_result"
    }
   ],
   "source": [
    "api_instance.sql_query('v3',\n",
    "                             '''\n",
    "    select count(distinct p.id) res_count\n",
    "    FROM gdc-bq-sample.cda_mvp.v3 p\n",
    "    cross join unnest(ResearchSubject) as s1\n",
    "    cross join UNNEST(s1.identifier) as i1\n",
    "    cross join UNNEST(s1.Diagnosis) as d1 \n",
    "    ''')"
   ]
  },
  {
   "cell_type": "markdown",
   "metadata": {},
   "source": [
    "Thhough it gives the same result it suggests the possibility of changing the join type. As some of the research subjects are missing diagnosis we can try a left outer join when unnesting diagnosis."
   ]
  },
  {
   "cell_type": "code",
   "execution_count": 68,
   "metadata": {
    "scrolled": true
   },
   "outputs": [
    {
     "data": {
      "text/plain": [
       "{'next_url': None,\n",
       " 'previous_url': None,\n",
       " 'query_sql': '\\n'\n",
       "              '    select count(distinct p.id)\\n'\n",
       "              '    FROM gdc-bq-sample.cda_mvp.v3 p\\n'\n",
       "              '    cross join unnest(ResearchSubject) as s1\\n'\n",
       "              '    cross join UNNEST(s1.identifier) as i1\\n'\n",
       "              '    left outer join UNNEST(s1.Diagnosis) as d1 \\n'\n",
       "              '    ',\n",
       " 'result': [{'': 85111}]}"
      ]
     },
     "execution_count": 68,
     "metadata": {},
     "output_type": "execute_result"
    }
   ],
   "source": [
    "api_instance.sql_query('v3',\n",
    "                             '''\n",
    "    select count(distinct p.id) res_count\n",
    "    FROM gdc-bq-sample.cda_mvp.v3 p\n",
    "    cross join unnest(ResearchSubject) as s1\n",
    "    cross join UNNEST(s1.identifier) as i1\n",
    "    left outer join UNNEST(s1.Diagnosis) as d1 \n",
    "    ''')"
   ]
  },
  {
   "cell_type": "markdown",
   "metadata": {},
   "source": [
    "That restores the proper count of patients.\n",
    "\n",
    "We expect that the following would give the count which accounts for the difference i.e. the 336 rows that are added by the outer join."
   ]
  },
  {
   "cell_type": "code",
   "execution_count": 79,
   "metadata": {
    "scrolled": true
   },
   "outputs": [
    {
     "data": {
      "text/plain": [
       "{'next_url': None,\n",
       " 'previous_url': None,\n",
       " 'query_sql': '\\n'\n",
       "              '    select count(distinct p.id) res_count\\n'\n",
       "              '    FROM gdc-bq-sample.cda_mvp.v3 p\\n'\n",
       "              '    cross join unnest(ResearchSubject) as s1\\n'\n",
       "              '    cross join UNNEST(s1.identifier) as i1\\n'\n",
       "              '    left outer join UNNEST(s1.Diagnosis) as d1 \\n'\n",
       "              '    where d1 is  null\\n'\n",
       "              '\\n'\n",
       "              '    ',\n",
       " 'result': [{'res_count': 398}]}"
      ]
     },
     "execution_count": 79,
     "metadata": {},
     "output_type": "execute_result"
    }
   ],
   "source": [
    "api_instance.sql_query('v3',\n",
    "                             '''\n",
    "    select count(distinct p.id) res_count\n",
    "    FROM gdc-bq-sample.cda_mvp.v3 p\n",
    "    cross join unnest(ResearchSubject) as s1\n",
    "    cross join UNNEST(s1.identifier) as i1\n",
    "    left outer join UNNEST(s1.Diagnosis) as d1 \n",
    "    where d1 is  null\n",
    "\n",
    "    ''')"
   ]
  },
  {
   "cell_type": "markdown",
   "metadata": {},
   "source": [
    "That's not the case. We'll assume for now that the difference is that there are some patients with more than one research subject one of which has a diagnosis and another that does not."
   ]
  },
  {
   "cell_type": "code",
   "execution_count": 91,
   "metadata": {},
   "outputs": [
    {
     "data": {
      "text/plain": [
       "336"
      ]
     },
     "execution_count": 91,
     "metadata": {},
     "output_type": "execute_result"
    }
   ],
   "source": [
    "ids1 = [ sub['id'] for sub in unique_patients_w_subject_ids ]\n",
    "len(ids1)"
   ]
  },
  {
   "cell_type": "code",
   "execution_count": 90,
   "metadata": {},
   "outputs": [
    {
     "data": {
      "text/plain": [
       "398"
      ]
     },
     "execution_count": 90,
     "metadata": {},
     "output_type": "execute_result"
    }
   ],
   "source": [
    "res2 = api_instance.sql_query('v3',\n",
    "                             '''\n",
    "    select distinct p.id\n",
    "    FROM gdc-bq-sample.cda_mvp.v3 p\n",
    "    cross join unnest(ResearchSubject) as s1\n",
    "    cross join UNNEST(s1.identifier) as i1\n",
    "    left outer join UNNEST(s1.Diagnosis) as d1 \n",
    "    where d1 is  null\n",
    "\n",
    "    ''', limit=1000)\n",
    "ids2 = [ sub['id'] for sub in res2.result ]\n",
    "len(ids2)"
   ]
  },
  {
   "cell_type": "code",
   "execution_count": 100,
   "metadata": {
    "scrolled": false
   },
   "outputs": [
    {
     "name": "stdout",
     "output_type": "stream",
     "text": [
      "62\n",
      "0\n"
     ]
    },
    {
     "data": {
      "text/plain": [
       "['TARGET-10-PAPAJU',\n",
       " 'TARGET-10-PAPIGH',\n",
       " 'TARGET-10-PARXLS',\n",
       " 'GTEX-UTHO-0011-R10A-SM-HAKY2',\n",
       " 'GTEX-NPJ7-0011-R10A-SM-HAKXW',\n",
       " 'TARGET-10-PARTPW',\n",
       " 'TARGET-10-PARUEU',\n",
       " 'C3L-07035',\n",
       " 'TARGET-10-PARTBP',\n",
       " 'TARGET-10-PATKVD',\n",
       " 'TARGET-10-PAPGMC',\n",
       " 'TARGET-10-PATGWP',\n",
       " 'TARGET-10-PASZJW',\n",
       " 'TARGET-10-PASWFN',\n",
       " 'TARGET-10-PAPEWV',\n",
       " 'TARGET-10-PAPDAU',\n",
       " 'TARGET-10-PAPEZX',\n",
       " 'TARGET-10-PASJYI',\n",
       " 'TARGET-10-PASHNK',\n",
       " 'TARGET-10-PARXMV',\n",
       " 'TARGET-10-PAPAWY',\n",
       " 'TARGET-10-PAPDCR',\n",
       " 'TARGET-10-PAPIGX',\n",
       " 'TARGET-10-PANYHW',\n",
       " 'TARGET-10-PANYXC',\n",
       " 'TARGET-10-PANJRD',\n",
       " 'TARGET-10-PANRIM',\n",
       " 'GTEX-P44H-0011-R10A-SM-HAKXX',\n",
       " 'TARGET-10-PATGBY',\n",
       " 'TARGET-10-PARPYJ',\n",
       " 'C3L-07033',\n",
       " 'TARGET-10-PARSET',\n",
       " 'TARGET-10-PATFWF',\n",
       " 'TARGET-10-PANWPI',\n",
       " 'GTEX-WVLH-0011-R10A-SM-HAKXZ',\n",
       " 'TARGET-10-PASHUP',\n",
       " 'C3L-07032',\n",
       " 'GTEX-RN5K-0011-R10A-SM-HAKXU',\n",
       " 'TARGET-10-PANKMB',\n",
       " 'C3L-07034',\n",
       " 'TARGET-10-PAPGPJ',\n",
       " 'GTEX-R55F-0011-R10A-SM-HAKXY',\n",
       " 'TARGET-10-PATGYH',\n",
       " 'TARGET-10-PATALJ',\n",
       " 'TARGET-10-PASJJR',\n",
       " 'TARGET-10-PASZEW',\n",
       " 'GTEX-Y8DK-0011-R10A-SM-HAKY1',\n",
       " 'TARGET-10-PASFLK',\n",
       " 'GTEX-RU72-0011-R10A-SM-HAKXS',\n",
       " 'TARGET-10-PASRCV',\n",
       " 'C3L-03513',\n",
       " 'TARGET-10-PATBGC',\n",
       " 'TARGET-10-PASNTZ',\n",
       " 'TARGET-10-PASJLN',\n",
       " 'TARGET-10-PASIIY',\n",
       " 'TARGET-10-PATRGV',\n",
       " 'C3L-07036',\n",
       " 'TARGET-10-PASRMM',\n",
       " 'TARGET-10-PATHBG',\n",
       " 'TARGET-10-PATCNI',\n",
       " 'TARGET-10-PAPHGD',\n",
       " 'GTEX-QVJO-0011-R10A-SM-HAKXV']"
      ]
     },
     "execution_count": 100,
     "metadata": {},
     "output_type": "execute_result"
    }
   ],
   "source": [
    "print(len(list(set(ids2)-set(ids1))))\n",
    "print(len(list(set(ids1)-set(ids2))))\n",
    "list(set(ids2)-set(ids1))"
   ]
  },
  {
   "cell_type": "markdown",
   "metadata": {},
   "source": [
    "List one of them"
   ]
  },
  {
   "cell_type": "code",
   "execution_count": 108,
   "metadata": {},
   "outputs": [
    {
     "name": "stdout",
     "output_type": "stream",
     "text": [
      "patient TARGET-10-PATCNI\n",
      "subject 9e229e56-f7e1-58f9-984b-a9453be5dc9a\n",
      "Diagnosis [{'morphology': '9837/3', 'tumor_stage': 'unknown', 'tumor_grade': 'Not Reported', 'Treatment': [], 'id': '63c6c7a2-c3e6-5e2b-9dd6-03bfabef5178', 'primary_diagnosis': 'T lymphoblastic leukemia/lymphoma', 'age_at_diagnosis': 1682}]\n",
      "subject 7eeced68-1717-4116-bcee-328ac70a9682\n",
      "Diagnosis []\n"
     ]
    }
   ],
   "source": [
    "res = api_instance.sql_query('v3',\n",
    "                             '''select p.*\n",
    "    FROM gdc-bq-sample.cda_mvp.v3 p\n",
    "    where id = 'TARGET-10-PATCNI' ''',\n",
    "                      limit=100)\n",
    "for p in res.result:\n",
    "    print ('patient {}'.format(p['id']))\n",
    "    for s in p['ResearchSubject']:\n",
    "        print ('subject {}'.format(s['id']))\n",
    "        print('Diagnosis {}'.format(s['Diagnosis']))"
   ]
  },
  {
   "cell_type": "code",
   "execution_count": 44,
   "metadata": {},
   "outputs": [
    {
     "data": {
      "text/plain": [
       "{'next_url': None,\n",
       " 'previous_url': None,\n",
       " 'query_sql': 'select p.id,  d1.Treatment as treatment\\n'\n",
       "              '    FROM gdc-bq-sample.cda_mvp.v3 p,\\n'\n",
       "              '    unnest(ResearchSubject) as s1,\\n'\n",
       "              '    UNNEST(s1.identifier) as i1,\\n'\n",
       "              '    UNNEST(s1.Diagnosis) as d1\\n'\n",
       "              \"    where i1.system ='PDC' \\n\"\n",
       "              '    order by p.id ',\n",
       " 'result': [{'id': '01BR001', 'treatment': []},\n",
       "            {'id': '01BR008', 'treatment': []},\n",
       "            {'id': '01BR009', 'treatment': []},\n",
       "            {'id': '01BR010', 'treatment': []},\n",
       "            {'id': '01BR015', 'treatment': []},\n",
       "            {'id': '01BR017', 'treatment': []},\n",
       "            {'id': '01BR018', 'treatment': []},\n",
       "            {'id': '01BR020', 'treatment': []},\n",
       "            {'id': '01BR023', 'treatment': []},\n",
       "            {'id': '01BR025', 'treatment': []},\n",
       "            {'id': '01BR026', 'treatment': []},\n",
       "            {'id': '01BR027', 'treatment': []},\n",
       "            {'id': '01BR030', 'treatment': []},\n",
       "            {'id': '01BR031', 'treatment': []},\n",
       "            {'id': '01BR032', 'treatment': []},\n",
       "            {'id': '01BR033', 'treatment': []},\n",
       "            {'id': '01BR040', 'treatment': []},\n",
       "            {'id': '01BR042', 'treatment': []},\n",
       "            {'id': '01BR043', 'treatment': []},\n",
       "            {'id': '01BR044', 'treatment': []},\n",
       "            {'id': '01CO001', 'treatment': []},\n",
       "            {'id': '01CO005', 'treatment': []},\n",
       "            {'id': '01CO006', 'treatment': []},\n",
       "            {'id': '01CO008', 'treatment': []},\n",
       "            {'id': '01CO013', 'treatment': []},\n",
       "            {'id': '01CO014', 'treatment': []},\n",
       "            {'id': '01CO015', 'treatment': []},\n",
       "            {'id': '01CO019', 'treatment': []},\n",
       "            {'id': '01CO022', 'treatment': []},\n",
       "            {'id': '01OV007', 'treatment': []},\n",
       "            {'id': '01OV008', 'treatment': []},\n",
       "            {'id': '01OV010', 'treatment': []},\n",
       "            {'id': '01OV013', 'treatment': []},\n",
       "            {'id': '01OV017', 'treatment': []},\n",
       "            {'id': '01OV018', 'treatment': []},\n",
       "            {'id': '01OV019', 'treatment': []},\n",
       "            {'id': '01OV023', 'treatment': []},\n",
       "            {'id': '01OV024', 'treatment': []},\n",
       "            {'id': '01OV026', 'treatment': []},\n",
       "            {'id': '01OV029', 'treatment': []},\n",
       "            {'id': '01OV030', 'treatment': []},\n",
       "            {'id': '01OV039', 'treatment': []},\n",
       "            {'id': '01OV041', 'treatment': []},\n",
       "            {'id': '01OV045', 'treatment': []},\n",
       "            {'id': '01OV046', 'treatment': []},\n",
       "            {'id': '01OV047', 'treatment': []},\n",
       "            {'id': '01OV049', 'treatment': []},\n",
       "            {'id': '02OV001', 'treatment': []},\n",
       "            {'id': '02OV005', 'treatment': []},\n",
       "            {'id': '02OV006', 'treatment': []},\n",
       "            {'id': '02OV008', 'treatment': []},\n",
       "            {'id': '02OV015', 'treatment': []},\n",
       "            {'id': '02OV022', 'treatment': []},\n",
       "            {'id': '02OV023', 'treatment': []},\n",
       "            {'id': '02OV029', 'treatment': []},\n",
       "            {'id': '02OV032', 'treatment': []},\n",
       "            {'id': '02OV035', 'treatment': []},\n",
       "            {'id': '02OV036', 'treatment': []},\n",
       "            {'id': '02OV040', 'treatment': []},\n",
       "            {'id': '02OV041', 'treatment': []},\n",
       "            {'id': '02OV042', 'treatment': []},\n",
       "            {'id': '02OV044', 'treatment': []},\n",
       "            {'id': '02OV045', 'treatment': []},\n",
       "            {'id': '02OV046', 'treatment': []},\n",
       "            {'id': '03BR002', 'treatment': []},\n",
       "            {'id': '03BR004', 'treatment': []},\n",
       "            {'id': '03BR005', 'treatment': []},\n",
       "            {'id': '03BR006', 'treatment': []},\n",
       "            {'id': '03BR010', 'treatment': []},\n",
       "            {'id': '03BR011', 'treatment': []},\n",
       "            {'id': '03BR013', 'treatment': []},\n",
       "            {'id': '04OV001', 'treatment': []},\n",
       "            {'id': '04OV004', 'treatment': []},\n",
       "            {'id': '04OV005', 'treatment': []},\n",
       "            {'id': '04OV008', 'treatment': []},\n",
       "            {'id': '04OV011', 'treatment': []},\n",
       "            {'id': '04OV012', 'treatment': []},\n",
       "            {'id': '04OV013', 'treatment': []},\n",
       "            {'id': '04OV017', 'treatment': []},\n",
       "            {'id': '04OV018', 'treatment': []},\n",
       "            {'id': '04OV021', 'treatment': []},\n",
       "            {'id': '04OV023', 'treatment': []},\n",
       "            {'id': '04OV024', 'treatment': []},\n",
       "            {'id': '04OV027', 'treatment': []},\n",
       "            {'id': '04OV028', 'treatment': []},\n",
       "            {'id': '04OV031', 'treatment': []},\n",
       "            {'id': '04OV033', 'treatment': []},\n",
       "            {'id': '04OV036', 'treatment': []},\n",
       "            {'id': '04OV037', 'treatment': []},\n",
       "            {'id': '04OV039', 'treatment': []},\n",
       "            {'id': '04OV040', 'treatment': []},\n",
       "            {'id': '04OV041', 'treatment': []},\n",
       "            {'id': '04OV044', 'treatment': []},\n",
       "            {'id': '04OV045', 'treatment': []},\n",
       "            {'id': '04OV048', 'treatment': []},\n",
       "            {'id': '04OV049', 'treatment': []},\n",
       "            {'id': '04OV050', 'treatment': []},\n",
       "            {'id': '04OV051', 'treatment': []},\n",
       "            {'id': '04OV053', 'treatment': []},\n",
       "            {'id': '04OV054', 'treatment': []}]}"
      ]
     },
     "execution_count": 44,
     "metadata": {},
     "output_type": "execute_result"
    }
   ],
   "source": [
    "api_instance.sql_query('v3','''select p.id,  d1.Treatment as treatment\n",
    "    FROM gdc-bq-sample.cda_mvp.v3 p,\n",
    "    unnest(ResearchSubject) as s1,\n",
    "    UNNEST(s1.identifier) as i1,\n",
    "    UNNEST(s1.Diagnosis) as d1\n",
    "    where i1.system ='PDC' \n",
    "    order by p.id ''')\n",
    "#print ('result count: {}'.format(len(res.result)))\n",
    "#print (res)"
   ]
  },
  {
   "cell_type": "code",
   "execution_count": 112,
   "metadata": {},
   "outputs": [
    {
     "data": {
      "text/plain": [
       "{'next_url': None,\n",
       " 'previous_url': None,\n",
       " 'query_sql': 'select p.id ,  s1.id\\n'\n",
       "              '    FROM gdc-bq-sample.cda_mvp.v3 p,\\n'\n",
       "              '    unnest(ResearchSubject) as s1,\\n'\n",
       "              '    UNNEST(s1.identifier) as i1,\\n'\n",
       "              '    UNNEST(s1.Diagnosis) as d1\\n'\n",
       "              \"    where i1.system ='GDC' \\n\"\n",
       "              '    order by p.id ',\n",
       " 'result': [{'id': 'be37f1f7-2f98-4f74-bc04-6dd2ae2afcad'},\n",
       "            {'id': 'e6915db0-7c89-484d-8f9f-15cca68b82fc'},\n",
       "            {'id': '16614d46-172b-479c-992b-e80a8e9a2c59'},\n",
       "            {'id': '567fc9e3-17a6-42b1-a896-5e9a9507d1d8'},\n",
       "            {'id': '54e89878-a1bc-4f5a-9d68-4842a469586e'},\n",
       "            {'id': 'a1c7b7b9-b8c8-48c3-9420-55497f9318fd'},\n",
       "            {'id': 'ce3c8b98-e275-4cfd-a379-940d675a564b'},\n",
       "            {'id': 'e4ce89ef-bcaa-418a-8a6b-3602793b9bbf'},\n",
       "            {'id': '19d3c861-8a5f-49a2-acc0-b55b25465c35'},\n",
       "            {'id': 'afae8dce-294a-4108-bb28-376f804ae5c4'}]}"
      ]
     },
     "execution_count": 112,
     "metadata": {},
     "output_type": "execute_result"
    }
   ],
   "source": [
    "two_id_query = '''select p.id ,  s1.id\n",
    "    FROM gdc-bq-sample.cda_mvp.v3 p,\n",
    "    unnest(ResearchSubject) as s1,\n",
    "    UNNEST(s1.identifier) as i1,\n",
    "    UNNEST(s1.Diagnosis) as d1\n",
    "    where i1.system ='GDC' \n",
    "    order by p.id '''\n",
    "api_instance.sql_query('v3',two_id_query,\n",
    "                      limit=10)"
   ]
  },
  {
   "cell_type": "code",
   "execution_count": 113,
   "metadata": {},
   "outputs": [],
   "source": [
    "import requests\n",
    "def runAPIQuery(querystring, limit=None):\n",
    "    cdaURL = 'https://cda.cda-dev.broadinstitute.org/api/v1/sql-query/v3'\n",
    "    #Using a limit:\n",
    "    if limit is not None:\n",
    "        cdaURL = \"{}?limit={}\".format(cdaURL, str(limit))\n",
    "        \n",
    "    headers = {'accept' : 'application/json', 'Content-Type' : 'text/plain'}\n",
    "\n",
    "    request = requests.post(cdaURL, headers = headers, data = querystring)\n",
    "\n",
    "    if request.status_code == 200:\n",
    "        return request.json()\n",
    "    else:\n",
    "        raise Exception (\"Query failed code {}. {}\".format(request.status_code,query))"
   ]
  },
  {
   "cell_type": "code",
   "execution_count": 115,
   "metadata": {},
   "outputs": [
    {
     "data": {
      "text/plain": [
       "{'query_sql': \"select p.id ,  s1.id\\n    FROM gdc-bq-sample.cda_mvp.v3 p,\\n    unnest(ResearchSubject) as s1,\\n    UNNEST(s1.identifier) as i1,\\n    UNNEST(s1.Diagnosis) as d1\\n    where i1.system ='GDC' \\n    order by p.id \",\n",
       " 'result': [{'id': 'be37f1f7-2f98-4f74-bc04-6dd2ae2afcad'},\n",
       "  {'id': 'e6915db0-7c89-484d-8f9f-15cca68b82fc'},\n",
       "  {'id': '16614d46-172b-479c-992b-e80a8e9a2c59'},\n",
       "  {'id': '567fc9e3-17a6-42b1-a896-5e9a9507d1d8'},\n",
       "  {'id': '54e89878-a1bc-4f5a-9d68-4842a469586e'},\n",
       "  {'id': 'a1c7b7b9-b8c8-48c3-9420-55497f9318fd'},\n",
       "  {'id': 'ce3c8b98-e275-4cfd-a379-940d675a564b'},\n",
       "  {'id': 'e4ce89ef-bcaa-418a-8a6b-3602793b9bbf'},\n",
       "  {'id': '19d3c861-8a5f-49a2-acc0-b55b25465c35'},\n",
       "  {'id': 'afae8dce-294a-4108-bb28-376f804ae5c4'}],\n",
       " 'previous_url': None,\n",
       " 'next_url': None}"
      ]
     },
     "execution_count": 115,
     "metadata": {},
     "output_type": "execute_result"
    }
   ],
   "source": []
  },
  {
   "cell_type": "code",
   "execution_count": null,
   "metadata": {},
   "outputs": [],
   "source": []
  }
 ],
 "metadata": {
  "kernelspec": {
   "display_name": "cda-env",
   "language": "python",
   "name": "cda-env"
  },
  "language_info": {
   "codemirror_mode": {
    "name": "ipython",
    "version": 3
   },
   "file_extension": ".py",
   "mimetype": "text/x-python",
   "name": "python",
   "nbconvert_exporter": "python",
   "pygments_lexer": "ipython3",
   "version": "3.7.3"
  }
 },
 "nbformat": 4,
 "nbformat_minor": 4
}
