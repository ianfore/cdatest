{
 "cells": [
  {
   "cell_type": "markdown",
   "id": "afeb0f89",
   "metadata": {},
   "source": [
    "### Comparison of DICOM approaches in two Gen3 implementations\n",
    "Other notebooks with CDA tests have shown that the flat DICOM structure provides limited information to effectively navigate and manage the large numbers of files in DICOM *studies* and *series*.\n",
    "\n",
    "Some of the work of the Medical Imaging and Data Resource Center (MIDRC) https://www.midrc.org was recently shared.\n",
    "\n",
    "Like much of CRDC the MIDRC data portal (https://data.midrc.org) is also based on Gen3, and MIDRC handles DICOM. Some studies are present in both CDA and MIDRC. \n",
    "\n",
    "The following examines how each of these Gen3 instances handle the data from the same study and the accessibility they provide to the files. This can help inform CDA functionality.\n",
    "\n",
    "### Using CDA to look at MIDRC studies\n"
   ]
  },
  {
   "cell_type": "code",
   "execution_count": 1,
   "id": "3973435f",
   "metadata": {},
   "outputs": [],
   "source": [
    "from cdapython import Q\n",
    "import json"
   ]
  },
  {
   "cell_type": "markdown",
   "id": "a66bba9e",
   "metadata": {},
   "source": [
    "First run a query against the CDA to count files per IDC project"
   ]
  },
  {
   "cell_type": "code",
   "execution_count": 2,
   "id": "6bb7159f",
   "metadata": {
    "scrolled": true
   },
   "outputs": [
    {
     "data": {
      "text/plain": [
       "\n",
       "QueryID: 814c750a-3013-473e-a1fd-703de8428ec9\n",
       "Query: SELECT f.associated_project,count(*) file_count\n",
       "from gdc-bq-sample.integration.all_v2 AS su,\n",
       "unnest(File) AS f,\n",
       "unnest(f.identifier) as id\n",
       "where (id.system = 'IDC')\n",
       "group by f.associated_project \n",
       "Offset: 0\n",
       "Count: 107\n",
       "Total Row Count: 107\n",
       "More pages: False"
      ]
     },
     "execution_count": 2,
     "metadata": {},
     "output_type": "execute_result"
    }
   ],
   "source": [
    "query1 = \"\"\"SELECT f.associated_project,count(*) file_count\n",
    "from gdc-bq-sample.integration.all_v2 AS su,\n",
    "unnest(File) AS f,\n",
    "unnest(f.identifier) as id\n",
    "where (id.system = 'IDC')\n",
    "group by f.associated_project \"\"\"\n",
    "\n",
    "r1 = Q.sql(query1, limit=200)\n",
    "r1"
   ]
  },
  {
   "cell_type": "markdown",
   "id": "a0203471",
   "metadata": {},
   "source": [
    "### List MIDRC project image counts that are in IDC\n",
    "The query above includes a lot of projects so we'll confine the listing of the results to those that have some relationship to MIDRC."
   ]
  },
  {
   "cell_type": "code",
   "execution_count": 3,
   "id": "3993968c",
   "metadata": {},
   "outputs": [
    {
     "name": "stderr",
     "output_type": "stream",
     "text": [
      "/Users/forei/imfenvs/cda2/lib/python3.9/site-packages/pandas/compat/__init__.py:124: UserWarning: Could not import the lzma module. Your installed Python is incomplete. Attempting to use lzma compression will result in a RuntimeError.\n",
      "  warnings.warn(msg)\n"
     ]
    },
    {
     "data": {
      "text/html": [
       "<div>\n",
       "<style scoped>\n",
       "    .dataframe tbody tr th:only-of-type {\n",
       "        vertical-align: middle;\n",
       "    }\n",
       "\n",
       "    .dataframe tbody tr th {\n",
       "        vertical-align: top;\n",
       "    }\n",
       "\n",
       "    .dataframe thead th {\n",
       "        text-align: right;\n",
       "    }\n",
       "</style>\n",
       "<table border=\"1\" class=\"dataframe\">\n",
       "  <thead>\n",
       "    <tr style=\"text-align: right;\">\n",
       "      <th></th>\n",
       "      <th>project</th>\n",
       "      <th>file count</th>\n",
       "    </tr>\n",
       "  </thead>\n",
       "  <tbody>\n",
       "    <tr>\n",
       "      <th>0</th>\n",
       "      <td>covid_19_ar</td>\n",
       "      <td>31935</td>\n",
       "    </tr>\n",
       "    <tr>\n",
       "      <th>1</th>\n",
       "      <td>midrc_ricord_1b</td>\n",
       "      <td>21220</td>\n",
       "    </tr>\n",
       "    <tr>\n",
       "      <th>2</th>\n",
       "      <td>midrc_ricord_1c</td>\n",
       "      <td>1257</td>\n",
       "    </tr>\n",
       "    <tr>\n",
       "      <th>3</th>\n",
       "      <td>midrc_ricord_1a</td>\n",
       "      <td>31856</td>\n",
       "    </tr>\n",
       "  </tbody>\n",
       "</table>\n",
       "</div>"
      ],
      "text/plain": [
       "           project file count\n",
       "0      covid_19_ar      31935\n",
       "1  midrc_ricord_1b      21220\n",
       "2  midrc_ricord_1c       1257\n",
       "3  midrc_ricord_1a      31856"
      ]
     },
     "metadata": {},
     "output_type": "display_data"
    }
   ],
   "source": [
    "import pandas as pd\n",
    "file_counts = []\n",
    "for proj in r1:\n",
    "    if proj['associated_project'].startswith('covid') or proj['associated_project'].startswith('midrc'):\n",
    "        file_counts.append({'project':proj['associated_project'], 'file count':proj['file_count']})\n",
    "display(pd.DataFrame(file_counts))"
   ]
  },
  {
   "cell_type": "markdown",
   "id": "6a95d519",
   "metadata": {},
   "source": [
    "### Files per subject\n",
    "There are at least four studies that are in both MIDRC and the Imaging Data Commons.\n",
    "\n",
    "Working with the the covid_19_ar data, we can run a query to list the file counts per subject."
   ]
  },
  {
   "cell_type": "code",
   "execution_count": 4,
   "id": "3019be05",
   "metadata": {},
   "outputs": [
    {
     "data": {
      "text/plain": [
       "\n",
       "QueryID: 88b72300-7bb8-46f8-a09e-0b22748dd336\n",
       "Query: SELECT su.id subject_id, count(*) file_count\n",
       "from gdc-bq-sample.integration.all_v2 AS su,\n",
       "unnest(File) AS f,\n",
       "unnest(f.identifier) as id\n",
       "where (id.system = 'IDC')\n",
       "and f.associated_project = 'covid_19_ar' \n",
       "group by su.id\n",
       "Offset: 0\n",
       "Count: 105\n",
       "Total Row Count: 105\n",
       "More pages: False"
      ]
     },
     "execution_count": 4,
     "metadata": {},
     "output_type": "execute_result"
    }
   ],
   "source": [
    "import json\n",
    "\n",
    "query2 = \"\"\"SELECT su.id subject_id, count(*) file_count\n",
    "from gdc-bq-sample.integration.all_v2 AS su,\n",
    "unnest(File) AS f,\n",
    "unnest(f.identifier) as id\n",
    "where (id.system = 'IDC')\n",
    "and f.associated_project = 'covid_19_ar' \n",
    "group by su.id\"\"\"\n",
    "\n",
    "r2 = Q.sql(query2, limit=200)\n",
    "r2"
   ]
  },
  {
   "cell_type": "markdown",
   "id": "7601eabb",
   "metadata": {},
   "source": [
    "And tabulate the results for display"
   ]
  },
  {
   "cell_type": "code",
   "execution_count": 5,
   "id": "cd14655d",
   "metadata": {
    "scrolled": true
   },
   "outputs": [
    {
     "data": {
      "text/html": [
       "<div>\n",
       "<style scoped>\n",
       "    .dataframe tbody tr th:only-of-type {\n",
       "        vertical-align: middle;\n",
       "    }\n",
       "\n",
       "    .dataframe tbody tr th {\n",
       "        vertical-align: top;\n",
       "    }\n",
       "\n",
       "    .dataframe thead th {\n",
       "        text-align: right;\n",
       "    }\n",
       "</style>\n",
       "<table border=\"1\" class=\"dataframe\">\n",
       "  <thead>\n",
       "    <tr style=\"text-align: right;\">\n",
       "      <th></th>\n",
       "      <th>subject</th>\n",
       "      <th>file count</th>\n",
       "    </tr>\n",
       "  </thead>\n",
       "  <tbody>\n",
       "    <tr>\n",
       "      <th>0</th>\n",
       "      <td>COVID-19-AR-16424103</td>\n",
       "      <td>5</td>\n",
       "    </tr>\n",
       "    <tr>\n",
       "      <th>1</th>\n",
       "      <td>COVID-19-AR-16434399</td>\n",
       "      <td>1</td>\n",
       "    </tr>\n",
       "    <tr>\n",
       "      <th>2</th>\n",
       "      <td>COVID-19-AR-16406496</td>\n",
       "      <td>3</td>\n",
       "    </tr>\n",
       "    <tr>\n",
       "      <th>3</th>\n",
       "      <td>COVID-19-AR-16406504</td>\n",
       "      <td>2</td>\n",
       "    </tr>\n",
       "    <tr>\n",
       "      <th>4</th>\n",
       "      <td>COVID-19-AR-16406522</td>\n",
       "      <td>2</td>\n",
       "    </tr>\n",
       "    <tr>\n",
       "      <th>...</th>\n",
       "      <td>...</td>\n",
       "      <td>...</td>\n",
       "    </tr>\n",
       "    <tr>\n",
       "      <th>100</th>\n",
       "      <td>COVID-19-AR-16406559</td>\n",
       "      <td>3</td>\n",
       "    </tr>\n",
       "    <tr>\n",
       "      <th>101</th>\n",
       "      <td>COVID-19-AR-16424071</td>\n",
       "      <td>1020</td>\n",
       "    </tr>\n",
       "    <tr>\n",
       "      <th>102</th>\n",
       "      <td>COVID-19-AR-16434453</td>\n",
       "      <td>1465</td>\n",
       "    </tr>\n",
       "    <tr>\n",
       "      <th>103</th>\n",
       "      <td>COVID-19-AR-16434395</td>\n",
       "      <td>7</td>\n",
       "    </tr>\n",
       "    <tr>\n",
       "      <th>104</th>\n",
       "      <td>COVID-19-AR-16439192</td>\n",
       "      <td>9</td>\n",
       "    </tr>\n",
       "  </tbody>\n",
       "</table>\n",
       "<p>105 rows × 2 columns</p>\n",
       "</div>"
      ],
      "text/plain": [
       "                  subject file count\n",
       "0    COVID-19-AR-16424103          5\n",
       "1    COVID-19-AR-16434399          1\n",
       "2    COVID-19-AR-16406496          3\n",
       "3    COVID-19-AR-16406504          2\n",
       "4    COVID-19-AR-16406522          2\n",
       "..                    ...        ...\n",
       "100  COVID-19-AR-16406559          3\n",
       "101  COVID-19-AR-16424071       1020\n",
       "102  COVID-19-AR-16434453       1465\n",
       "103  COVID-19-AR-16434395          7\n",
       "104  COVID-19-AR-16439192          9\n",
       "\n",
       "[105 rows x 2 columns]"
      ]
     },
     "metadata": {},
     "output_type": "display_data"
    }
   ],
   "source": [
    "su_file_counts = []\n",
    "for su in r2:\n",
    "    su_file_counts.append({'subject':su['subject_id'], 'file count':su['file_count']})\n",
    "display(pd.DataFrame(su_file_counts))"
   ]
  },
  {
   "cell_type": "markdown",
   "id": "7aadedf2",
   "metadata": {},
   "source": [
    "The table above just tops and tails the full list of subjects but we can see that there is a wide range in the number of image files for each subject. This is likely reflects that different imaging procedures were performed on different subjects - some procedures generating many more files than others.\n",
    "\n",
    "This however gets to the issues raised above. To attempt to illustrate we can drill down on the 5 files for the first subject \"COVID-19-AR-16424103\"."
   ]
  },
  {
   "cell_type": "code",
   "execution_count": 6,
   "id": "28c5d859",
   "metadata": {},
   "outputs": [
    {
     "name": "stdout",
     "output_type": "stream",
     "text": [
      "Getting results from database\n",
      "\n",
      "Total execution time: 958 ms\n"
     ]
    }
   ],
   "source": [
    "q1 = Q('id = \"COVID-19-AR-16424103\"')\n",
    "r = q1.run()"
   ]
  },
  {
   "cell_type": "markdown",
   "id": "1e17b6af",
   "metadata": {},
   "source": [
    "A simple dump, while not a good for general user consumption, shows us everything CDA can tell us about these files in a way which is good enough for our exploratory purposes."
   ]
  },
  {
   "cell_type": "code",
   "execution_count": 7,
   "id": "e95a041a",
   "metadata": {
    "scrolled": false
   },
   "outputs": [
    {
     "name": "stdout",
     "output_type": "stream",
     "text": [
      "[\n",
      "   {\n",
      "      \"id\": \"6eea85b8-924e-4c9f-abe3-a6c1b9d65670\",\n",
      "      \"identifier\": [\n",
      "         {\n",
      "            \"system\": \"IDC\",\n",
      "            \"value\": \"6eea85b8-924e-4c9f-abe3-a6c1b9d65670\"\n",
      "         }\n",
      "      ],\n",
      "      \"label\": \"6eea85b8-924e-4c9f-abe3-a6c1b9d65670.dcm\",\n",
      "      \"data_category\": \"Imaging\",\n",
      "      \"data_type\": \"DX\",\n",
      "      \"file_format\": \"DICOM\",\n",
      "      \"associated_project\": \"covid_19_ar\",\n",
      "      \"drs_uri\": \"gs://idc-open/6eea85b8-924e-4c9f-abe3-a6c1b9d65670.dcm\",\n",
      "      \"byte_size\": null,\n",
      "      \"checksum\": null\n",
      "   },\n",
      "   {\n",
      "      \"id\": \"aefa0c17-aae9-48fa-8f67-16688817a22e\",\n",
      "      \"identifier\": [\n",
      "         {\n",
      "            \"system\": \"IDC\",\n",
      "            \"value\": \"aefa0c17-aae9-48fa-8f67-16688817a22e\"\n",
      "         }\n",
      "      ],\n",
      "      \"label\": \"aefa0c17-aae9-48fa-8f67-16688817a22e.dcm\",\n",
      "      \"data_category\": \"Imaging\",\n",
      "      \"data_type\": \"DX\",\n",
      "      \"file_format\": \"DICOM\",\n",
      "      \"associated_project\": \"covid_19_ar\",\n",
      "      \"drs_uri\": \"gs://idc-open/aefa0c17-aae9-48fa-8f67-16688817a22e.dcm\",\n",
      "      \"byte_size\": null,\n",
      "      \"checksum\": null\n",
      "   },\n",
      "   {\n",
      "      \"id\": \"1f0824de-bd57-49af-ac48-2fb5b99aa5e6\",\n",
      "      \"identifier\": [\n",
      "         {\n",
      "            \"system\": \"IDC\",\n",
      "            \"value\": \"1f0824de-bd57-49af-ac48-2fb5b99aa5e6\"\n",
      "         }\n",
      "      ],\n",
      "      \"label\": \"1f0824de-bd57-49af-ac48-2fb5b99aa5e6.dcm\",\n",
      "      \"data_category\": \"Imaging\",\n",
      "      \"data_type\": \"DX\",\n",
      "      \"file_format\": \"DICOM\",\n",
      "      \"associated_project\": \"covid_19_ar\",\n",
      "      \"drs_uri\": \"gs://idc-open/1f0824de-bd57-49af-ac48-2fb5b99aa5e6.dcm\",\n",
      "      \"byte_size\": null,\n",
      "      \"checksum\": null\n",
      "   },\n",
      "   {\n",
      "      \"id\": \"265f75a5-43f7-4825-915d-8fbc70994a7c\",\n",
      "      \"identifier\": [\n",
      "         {\n",
      "            \"system\": \"IDC\",\n",
      "            \"value\": \"265f75a5-43f7-4825-915d-8fbc70994a7c\"\n",
      "         }\n",
      "      ],\n",
      "      \"label\": \"265f75a5-43f7-4825-915d-8fbc70994a7c.dcm\",\n",
      "      \"data_category\": \"Imaging\",\n",
      "      \"data_type\": \"DX\",\n",
      "      \"file_format\": \"DICOM\",\n",
      "      \"associated_project\": \"covid_19_ar\",\n",
      "      \"drs_uri\": \"gs://idc-open/265f75a5-43f7-4825-915d-8fbc70994a7c.dcm\",\n",
      "      \"byte_size\": null,\n",
      "      \"checksum\": null\n",
      "   },\n",
      "   {\n",
      "      \"id\": \"3560076c-58a5-4a4f-bcd6-4b6a0c792b45\",\n",
      "      \"identifier\": [\n",
      "         {\n",
      "            \"system\": \"IDC\",\n",
      "            \"value\": \"3560076c-58a5-4a4f-bcd6-4b6a0c792b45\"\n",
      "         }\n",
      "      ],\n",
      "      \"label\": \"3560076c-58a5-4a4f-bcd6-4b6a0c792b45.dcm\",\n",
      "      \"data_category\": \"Imaging\",\n",
      "      \"data_type\": \"DX\",\n",
      "      \"file_format\": \"DICOM\",\n",
      "      \"associated_project\": \"covid_19_ar\",\n",
      "      \"drs_uri\": \"gs://idc-open/3560076c-58a5-4a4f-bcd6-4b6a0c792b45.dcm\",\n",
      "      \"byte_size\": null,\n",
      "      \"checksum\": null\n",
      "   }\n",
      "]\n"
     ]
    }
   ],
   "source": [
    "print(json.dumps(r[0]['File'], indent=3))"
   ]
  },
  {
   "cell_type": "markdown",
   "id": "253edbea",
   "metadata": {},
   "source": [
    "There is no indication of the DICOM structure in the above. This example, with only 5 files, might be easy to drill into manually. Other cases such as those with nearly 1500 files for a single subject would be harder to deal with. We know tha the DICOM model provides the underlying structure via which these images can be managed in way that would allow meaningful compute on them. \n",
    "\n",
    "The Imaging Data Commons reported recently that their BigQuery tables are the recommended route via which files would be selected.\n",
    "\n",
    "Looking at MIDRC shows that it can manage the DICOM structure in a similar way. In this case \n",
    "\n",
    "### How is the DICOM structure represented in MIDRC itself?\n",
    "\n",
    "The first encouraging sign is that the MIDRC data portal user interface shows 105 subjects for this study, just as we saw in CDA/IDC above.\n",
    "\n",
    "Screenshots aren't ideal for this and may include protected health information (checking). We can show things more compactly with extracts from a download of the \"Case Metadata\" for these 105 cases. \n",
    "\n",
    "#### The first case (5 files)\n",
    "Looking in MIDRC for the first case we looked at in CDA/IDC.\n",
    "\n",
    "```\n",
    "  {\n",
    "    \"submitter_id\": \"COVID-19-AR-16424103\",\n",
    "    \"sex\": \"Female\",\n",
    "    \"age_at_index\": 48,\n",
    "    \"index_event\": null,\n",
    "    \"race\": \"Masked for this notebook\",\n",
    "    \"zip\": 999,\n",
    "    \"covid19_positive\": \"Yes\",\n",
    "    \"_imaging_studies_count\": 4,\n",
    "    \"_ct_scans_count\": 0,\n",
    "    \"_radiography_exams_count\": 4,\n",
    "    \"_ct_series_count\": 0,\n",
    "    \"_ct_instances_count\": 0,\n",
    "    \"_dx_series_count\": 5,\n",
    "    \"_dx_instances_count\": 5,\n",
    "    \"_cr_series_count\": 0,\n",
    "    \"_cr_instances_count\": 0,\n",
    "    \"project_id\": \"TCIA-COVID-19-AR\"\n",
    "  }\n",
    "  ```\n",
    "  \n",
    "We can tell that the MIDRC system has retained about the DICOM structure we are dealing with. There are 4 *studies* (where *study* has its specific DICOM meaning). That there are 5 *series*, suggesting 4 *studies* with 1 *series* and one *study* with 2 *series*. Each *series* must have only one *instance* (image) in it. As we expected, this was a pretty simple example.\n",
    "  \n",
    "\n",
    "#### The second case (1465 files)\n",
    "Here's the breakdown that the MDRIC Data Portal gives us for COVID-19-AR-16434453\n",
    "\n",
    "```\n",
    "  {\n",
    "    \"submitter_id\": \"COVID-19-AR-16434453\",\n",
    "    \"sex\": \"Male\",\n",
    "    \"age_at_index\": 62,\n",
    "    \"index_event\": null,\n",
    "    \"race\": \"Masked for this notebook\",\n",
    "    \"zip\": 901,\n",
    "    \"covid19_positive\": \"Yes\",\n",
    "    \"_imaging_studies_count\": 4,\n",
    "    \"_ct_scans_count\": 1,\n",
    "    \"_radiography_exams_count\": 3,\n",
    "    \"_ct_series_count\": 8,\n",
    "    \"_ct_instances_count\": 1460,\n",
    "    \"_dx_series_count\": 5,\n",
    "    \"_dx_instances_count\": 5,\n",
    "    \"_cr_series_count\": 0,\n",
    "    \"_cr_instances_count\": 0,\n",
    "    \"project_id\": \"TCIA-COVID-19-AR\"\n",
    "  }\n",
    " ```\n",
    "Here we have:\n",
    "* 4 *studies* made up of 1 CT scan and 3 radiography exams\n",
    "* The CT Scan has 8 *series*\n",
    "* The 5 diagnostic *series* are spread across the 3 radiography *studies* \n",
    "* We can see that there is only one *instance* per diagnostic series.\n",
    "\n",
    "We can't infer any more than that from the above which is only a list of counts. But can the MIDRC Gen3 model do more? Does it give us the specifics we could not infer from the counts?\n",
    "\n",
    "Again we could take a UI or the API approach. Have begun to investigate but have put on hold for now. The model shown in MIDRC  indicates that the full DICOM model is present. See https://data.midrc.org/DD, particularly the graph view. Every indication is that we could fully navigate the images via the DICOM model.\n",
    "\n"
   ]
  },
  {
   "cell_type": "markdown",
   "id": "688e6a62",
   "metadata": {},
   "source": [
    "### CDA shows us part of this\n",
    "CDA and the CRDC-H model can tell us part of this."
   ]
  },
  {
   "cell_type": "code",
   "execution_count": 8,
   "id": "1001361e",
   "metadata": {
    "scrolled": true
   },
   "outputs": [
    {
     "name": "stdout",
     "output_type": "stream",
     "text": [
      "Subject:COVID-19-AR-16424103\n"
     ]
    },
    {
     "data": {
      "text/html": [
       "<div>\n",
       "<style scoped>\n",
       "    .dataframe tbody tr th:only-of-type {\n",
       "        vertical-align: middle;\n",
       "    }\n",
       "\n",
       "    .dataframe tbody tr th {\n",
       "        vertical-align: top;\n",
       "    }\n",
       "\n",
       "    .dataframe thead th {\n",
       "        text-align: right;\n",
       "    }\n",
       "</style>\n",
       "<table border=\"1\" class=\"dataframe\">\n",
       "  <thead>\n",
       "    <tr style=\"text-align: right;\">\n",
       "      <th></th>\n",
       "      <th>data_category</th>\n",
       "      <th>data_type</th>\n",
       "      <th>file_format</th>\n",
       "      <th>file_count</th>\n",
       "    </tr>\n",
       "  </thead>\n",
       "  <tbody>\n",
       "    <tr>\n",
       "      <th>0</th>\n",
       "      <td>Imaging</td>\n",
       "      <td>DX</td>\n",
       "      <td>DICOM</td>\n",
       "      <td>5</td>\n",
       "    </tr>\n",
       "  </tbody>\n",
       "</table>\n",
       "</div>"
      ],
      "text/plain": [
       "  data_category data_type file_format file_count\n",
       "0       Imaging        DX       DICOM          5"
      ]
     },
     "metadata": {},
     "output_type": "display_data"
    },
    {
     "name": "stdout",
     "output_type": "stream",
     "text": [
      "Subject:COVID-19-AR-16434453\n"
     ]
    },
    {
     "data": {
      "text/html": [
       "<div>\n",
       "<style scoped>\n",
       "    .dataframe tbody tr th:only-of-type {\n",
       "        vertical-align: middle;\n",
       "    }\n",
       "\n",
       "    .dataframe tbody tr th {\n",
       "        vertical-align: top;\n",
       "    }\n",
       "\n",
       "    .dataframe thead th {\n",
       "        text-align: right;\n",
       "    }\n",
       "</style>\n",
       "<table border=\"1\" class=\"dataframe\">\n",
       "  <thead>\n",
       "    <tr style=\"text-align: right;\">\n",
       "      <th></th>\n",
       "      <th>data_category</th>\n",
       "      <th>data_type</th>\n",
       "      <th>file_format</th>\n",
       "      <th>file_count</th>\n",
       "    </tr>\n",
       "  </thead>\n",
       "  <tbody>\n",
       "    <tr>\n",
       "      <th>0</th>\n",
       "      <td>Imaging</td>\n",
       "      <td>DX</td>\n",
       "      <td>DICOM</td>\n",
       "      <td>5</td>\n",
       "    </tr>\n",
       "    <tr>\n",
       "      <th>1</th>\n",
       "      <td>Imaging</td>\n",
       "      <td>CT</td>\n",
       "      <td>DICOM</td>\n",
       "      <td>1460</td>\n",
       "    </tr>\n",
       "  </tbody>\n",
       "</table>\n",
       "</div>"
      ],
      "text/plain": [
       "  data_category data_type file_format file_count\n",
       "0       Imaging        DX       DICOM          5\n",
       "1       Imaging        CT       DICOM       1460"
      ]
     },
     "metadata": {},
     "output_type": "display_data"
    }
   ],
   "source": [
    "subject_ids = [\"COVID-19-AR-16424103\", \"COVID-19-AR-16434453\"]\n",
    "\n",
    "for sid in subject_ids:\n",
    "    dicom_type_query = \"\"\"SELECT data_category, data_type, file_format, count(*) file_count\n",
    "from gdc-bq-sample.integration.all_v2 AS su,\n",
    "unnest(File) AS f\n",
    "where (su.id = '{}')\n",
    "group by data_category, data_type, file_format\"\"\".format(sid)\n",
    "\n",
    "    r3 = Q.sql(dicom_type_query, limit=200)\n",
    "    print(\"Subject:{}\".format(sid))\n",
    "    file_counts = []\n",
    "    for row in r3:\n",
    "        file_counts.append(row)\n",
    "    display(pd.DataFrame(file_counts))"
   ]
  },
  {
   "cell_type": "markdown",
   "id": "1eda3c0f",
   "metadata": {},
   "source": [
    "### Conclusions for CDA and CRDC-H purposes\n",
    "1. Both the Imaging Data Commons and MIDRC provide ways of querying and retrieving data stored in the DICOM model.\n",
    "2. Making that model available via CDA/CRDC-H would benefit CDA users who wish to aggregate particular files.\n",
    "3. This could be a good pilot for federated query in place of ETL into the CDA BigQuery tables.\n",
    "4. GA4GH Data Connect may have some relevance to these concerns."
   ]
  },
  {
   "cell_type": "markdown",
   "id": "27ab1b8e",
   "metadata": {},
   "source": [
    "### Also of relevance: Does MIDRC Gen3 support the GA4GH DRS protocol?\n",
    "\n",
    "Having seen object_id's such as this example in the file manifest it seems like it's a possibility.\n",
    "\n",
    "```\n",
    "  {\n",
    "    \"md5sum\": \"65c8709ab293e89a625d989c0061b13b\",\n",
    "    \"file_name\": \"COVID-19-AR/COVID-19-AR-16434368/02-17-2012-CT CHEST ABDOMEN PELVIS W-73530/80485.000000-MPR SAG Sagittal-39582/1-007.dcm\",\n",
    "    \"_case_id\": [\n",
    "      \"eda2a2ca-f524-4466-9fb5-56bb407821f0\"\n",
    "    ],\n",
    "    \"object_id\": \"dg.MD1R/f55b8fed-a938-4cd7-8f39-5ee3cb75c218\",\n",
    "    \"file_size\": 527322\n",
    "  }\n",
    " ```\n",
    " \n",
    " Taking that id and what one would expect for the DRS endpoint..."
   ]
  },
  {
   "cell_type": "code",
   "execution_count": 9,
   "id": "853e69a3",
   "metadata": {},
   "outputs": [],
   "source": [
    "drs_id = \"f55b8fed-a938-4cd7-8f39-5ee3cb75c218\"\n",
    "url = \"https://data.midrc.org/ga4gh/drs/v1/objects/{}\".format(drs_id)"
   ]
  },
  {
   "cell_type": "markdown",
   "id": "83b67961",
   "metadata": {},
   "source": [
    "We can try submitting a DRS request"
   ]
  },
  {
   "cell_type": "code",
   "execution_count": 10,
   "id": "56ccee6f",
   "metadata": {},
   "outputs": [
    {
     "name": "stdout",
     "output_type": "stream",
     "text": [
      "{\n",
      "   \"access_methods\": [\n",
      "      {\n",
      "         \"access_id\": \"s3\",\n",
      "         \"access_url\": {\n",
      "            \"url\": \"s3://midrcprod-default-813684607867-upload/dg.XXXX/f55b8fed-a938-4cd7-8f39-5ee3cb75c218/1-007.dcm\"\n",
      "         },\n",
      "         \"region\": \"\",\n",
      "         \"type\": \"s3\"\n",
      "      }\n",
      "   ],\n",
      "   \"aliases\": [],\n",
      "   \"checksums\": [\n",
      "      {\n",
      "         \"checksum\": \"d139aa1e\",\n",
      "         \"type\": \"crc\"\n",
      "      },\n",
      "      {\n",
      "         \"checksum\": \"c645ce0823b0014b9511d104a4bb0dbd363cbd2eaaae8223490488af99f4f8f03c8ab1f47fad7e5d7232a4b36f21c2e00f4373ecdf628f594fd5a0e43c58f074\",\n",
      "         \"type\": \"sha512\"\n",
      "      },\n",
      "      {\n",
      "         \"checksum\": \"5457ef7bf73998457ec660481d33c4ef64ed8d792154cd2dd65f6f20ead909c2\",\n",
      "         \"type\": \"sha256\"\n",
      "      },\n",
      "      {\n",
      "         \"checksum\": \"8bbba3d324e29efe580ff7f3681baacb8dc4f716\",\n",
      "         \"type\": \"sha1\"\n",
      "      },\n",
      "      {\n",
      "         \"checksum\": \"65c8709ab293e89a625d989c0061b13b\",\n",
      "         \"type\": \"md5\"\n",
      "      }\n",
      "   ],\n",
      "   \"contents\": [],\n",
      "   \"created_time\": \"2020-10-01T05:53:16.260332\",\n",
      "   \"description\": null,\n",
      "   \"form\": null,\n",
      "   \"id\": \"dg.MD1R/f55b8fed-a938-4cd7-8f39-5ee3cb75c218\",\n",
      "   \"mime_type\": \"application/json\",\n",
      "   \"name\": \"COVID-19-AR/COVID-19-AR-16434368/02-17-2012-CT CHEST ABDOMEN PELVIS W-73530/80485.000000-MPR SAG Sagittal-39582/1-007.dcm\",\n",
      "   \"self_uri\": \"drs://data.midrc.org/dg.MD1R/f55b8fed-a938-4cd7-8f39-5ee3cb75c218\",\n",
      "   \"size\": 527322,\n",
      "   \"updated_time\": \"2020-11-23T23:26:18.824357\",\n",
      "   \"version\": \"2268cc24\"\n",
      "}\n"
     ]
    }
   ],
   "source": [
    "import requests\n",
    "\n",
    "response = requests.get(url)\n",
    "\n",
    "if(response.ok):\n",
    "    print(json.dumps(response.json(), indent=3))\n",
    "else:\n",
    "    response.raise_for_status()\n"
   ]
  },
  {
   "cell_type": "markdown",
   "id": "0116f436",
   "metadata": {},
   "source": [
    "That is a valid DRS response. That a url can be obtained via DRS for downloading the file has also been validated.\n",
    "\n",
    "So, yes, the MIDRC Gen3 instance does support the GA4GH protocol.\n",
    "\n",
    "\n",
    "Further questions for exploration:\n",
    "Does the IDC point to the same cloud copy of the file?"
   ]
  },
  {
   "cell_type": "code",
   "execution_count": null,
   "id": "822b2b69",
   "metadata": {},
   "outputs": [],
   "source": []
  }
 ],
 "metadata": {
  "kernelspec": {
   "display_name": "Python 3 (ipykernel)",
   "language": "python",
   "name": "python3"
  },
  "language_info": {
   "codemirror_mode": {
    "name": "ipython",
    "version": 3
   },
   "file_extension": ".py",
   "mimetype": "text/x-python",
   "name": "python",
   "nbconvert_exporter": "python",
   "pygments_lexer": "ipython3",
   "version": "3.9.7"
  }
 },
 "nbformat": 4,
 "nbformat_minor": 5
}
