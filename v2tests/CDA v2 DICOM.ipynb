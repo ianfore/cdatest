{
 "cells": [
  {
   "cell_type": "code",
   "execution_count": 1,
   "id": "3973435f",
   "metadata": {},
   "outputs": [],
   "source": [
    "from cdapython import Q\n",
    "import json"
   ]
  },
  {
   "cell_type": "markdown",
   "id": "2a4f0e58",
   "metadata": {},
   "source": [
    "### Image files for a single subject"
   ]
  },
  {
   "cell_type": "code",
   "execution_count": 2,
   "id": "56b76968",
   "metadata": {},
   "outputs": [
    {
     "name": "stdout",
     "output_type": "stream",
     "text": [
      "Getting results from database\n",
      "\n",
      "Total execution time: 9338 ms\n",
      "\n",
      "QueryID: af1a129e-e481-4edc-bf37-9fdc85561a0b\n",
      "Query: SELECT all_v2.* FROM gdc-bq-sample.integration.all_v2 AS all_v2 WHERE (all_v2.id = 'TCGA-13-1504')\n",
      "Offset: 0\n",
      "Count: 1\n",
      "Total Row Count: 1\n",
      "More pages: False\n",
      "\n"
     ]
    }
   ],
   "source": [
    "\n",
    "q1 = Q('id = \"TCGA-13-1504\"')\n",
    "r = q1.run()\n",
    "print(r)\n"
   ]
  },
  {
   "cell_type": "code",
   "execution_count": 3,
   "id": "cade7560",
   "metadata": {},
   "outputs": [
    {
     "name": "stdout",
     "output_type": "stream",
     "text": [
      "Counter({'Imaging': 226, 'Peptide Spectral Matches': 55, 'Raw Mass Spectra': 28, 'Processed Mass Spectra': 27, 'Simple Nucleotide Variation': 16, 'Biospecimen': 12, 'Clinical': 8, 'Copy Number Variation': 7, 'Sequencing Reads': 3, 'Transcriptome Profiling': 2, 'DNA Methylation': 1, 'Proteome Profiling': 1})\n",
      "\n",
      "Imaging type/format\n",
      "Counter({'CT/DICOM': 226})\n"
     ]
    }
   ],
   "source": [
    "from collections import Counter\n",
    "categories = Counter()\n",
    "imaging_types = Counter()\n",
    "for f in r[0]['File']:\n",
    "    dc = f['data_category']\n",
    "    categories[dc] += 1\n",
    "    if f['data_category'] == \"Imaging\":\n",
    "        imaging_types[f['data_type']+'/'+f['file_format']] += 1\n",
    "print(categories)\n",
    "print(\"\\nImaging type/format\")\n",
    "print(imaging_types)"
   ]
  },
  {
   "cell_type": "markdown",
   "id": "b803af42",
   "metadata": {},
   "source": [
    "### Use DRS to get some details of each file\n",
    "For illustration here's what DRS can tell us about one Imaging file"
   ]
  },
  {
   "cell_type": "code",
   "execution_count": 4,
   "id": "10ee0c5c",
   "metadata": {},
   "outputs": [
    {
     "name": "stdout",
     "output_type": "stream",
     "text": [
      "f5027f67-011b-4f8e-a9bd-de73eaaf2fc0\n"
     ]
    }
   ],
   "source": [
    "for f in r[0]['File'] :\n",
    "    if f['data_category'] == \"Imaging\":\n",
    "        drs_id = f['id']\n",
    "        print(drs_id)\n",
    "        break"
   ]
  },
  {
   "cell_type": "code",
   "execution_count": 5,
   "id": "32430ea4",
   "metadata": {
    "scrolled": true
   },
   "outputs": [
    {
     "data": {
      "text/plain": [
       "{'access_methods': [{'access_id': 'gs',\n",
       "   'access_url': {'url': 'gs://idc-tcia-tcga-ov/dicom/1.3.6.1.4.1.14519.5.2.1.9203.4007.107225085018428492152614916489/1.3.6.1.4.1.14519.5.2.1.9203.4007.133576245722946348511732255420/1.3.6.1.4.1.14519.5.2.1.9203.4007.472644011742805252569503604125.dcm#1592638563565092'},\n",
       "   'region': '',\n",
       "   'type': 'gs'}],\n",
       " 'aliases': [],\n",
       " 'checksums': [{'checksum': '51f38e0cd236104a0a88a1a88b371155',\n",
       "   'type': 'md5'}],\n",
       " 'contents': [],\n",
       " 'created_time': '2020-09-18T20:21:07.664086',\n",
       " 'description': None,\n",
       " 'form': 'object',\n",
       " 'id': 'dg.4DFC/f5027f67-011b-4f8e-a9bd-de73eaaf2fc0',\n",
       " 'mime_type': 'application/json',\n",
       " 'name': None,\n",
       " 'self_uri': 'drs://nci-crdc.datacommons.io/dg.4DFC/f5027f67-011b-4f8e-a9bd-de73eaaf2fc0',\n",
       " 'size': 527958,\n",
       " 'updated_time': '2020-09-18T20:21:07.664091',\n",
       " 'version': 'e2be4764'}"
      ]
     },
     "execution_count": 5,
     "metadata": {},
     "output_type": "execute_result"
    }
   ],
   "source": [
    "from fasp.loc import crdcDRSClient\n",
    "drsClient = crdcDRSClient()\n",
    "drsClient.getObject(drs_id)"
   ]
  },
  {
   "cell_type": "markdown",
   "id": "f86eadb0",
   "metadata": {},
   "source": [
    "To someone with some knowledge of dicom the access url field gives us a clue. This looks like a path to  nested directories named with dicom instance ids. The nesting of those directories reflects the dicom data model. That data model gives meaning to the files which is otherwise absent. In fact the full meaning is only within the files.\n",
    "\n",
    "We can also see that there is a specific GCS bucket for the TCGA OV study (spoiler: study is overloaded, as we shall shortly discover :-)\n",
    "\n",
    "Note the use of the word 'clue'. This is indeed detective work. Users should not have to do detective work."
   ]
  },
  {
   "cell_type": "code",
   "execution_count": null,
   "id": "a8dd209f",
   "metadata": {},
   "outputs": [],
   "source": []
  },
  {
   "cell_type": "code",
   "execution_count": 6,
   "id": "53d239d9",
   "metadata": {},
   "outputs": [
    {
     "name": "stdout",
     "output_type": "stream",
     "text": [
      "crdc:f5027f67-011b-4f8e-a9bd-de73eaaf2fc0\n"
     ]
    },
    {
     "ename": "NameError",
     "evalue": "name 'mr' is not defined",
     "output_type": "error",
     "traceback": [
      "\u001b[0;31m---------------------------------------------------------------------------\u001b[0m",
      "\u001b[0;31mNameError\u001b[0m                                 Traceback (most recent call last)",
      "\u001b[0;32m/var/folders/wz/jjbxsnr13v7dkw2jkbpmqd_dly65gq/T/ipykernel_65772/3622828942.py\u001b[0m in \u001b[0;36m<module>\u001b[0;34m\u001b[0m\n\u001b[1;32m      7\u001b[0m         \u001b[0mdrs_id\u001b[0m\u001b[0;34m=\u001b[0m \u001b[0;34m'crdc:'\u001b[0m\u001b[0;34m+\u001b[0m\u001b[0mf\u001b[0m\u001b[0;34m[\u001b[0m\u001b[0;34m'id'\u001b[0m\u001b[0;34m]\u001b[0m\u001b[0;34m\u001b[0m\u001b[0;34m\u001b[0m\u001b[0m\n\u001b[1;32m      8\u001b[0m         \u001b[0mprint\u001b[0m\u001b[0;34m(\u001b[0m\u001b[0mdrs_id\u001b[0m\u001b[0;34m)\u001b[0m\u001b[0;34m\u001b[0m\u001b[0;34m\u001b[0m\u001b[0m\n\u001b[0;32m----> 9\u001b[0;31m         \u001b[0mdrs_list\u001b[0m\u001b[0;34m.\u001b[0m\u001b[0mappend\u001b[0m\u001b[0;34m(\u001b[0m\u001b[0mmr\u001b[0m\u001b[0;34m.\u001b[0m\u001b[0mgetObject\u001b[0m\u001b[0;34m(\u001b[0m\u001b[0mdrs_id\u001b[0m\u001b[0;34m)\u001b[0m\u001b[0;34m)\u001b[0m\u001b[0;34m\u001b[0m\u001b[0;34m\u001b[0m\u001b[0m\n\u001b[0m\u001b[1;32m     10\u001b[0m         \u001b[0mnn\u001b[0m \u001b[0;34m+=\u001b[0m \u001b[0;36m1\u001b[0m\u001b[0;34m\u001b[0m\u001b[0;34m\u001b[0m\u001b[0m\n\u001b[1;32m     11\u001b[0m     \u001b[0;32mif\u001b[0m \u001b[0mnn\u001b[0m \u001b[0;34m>\u001b[0m \u001b[0mnmax\u001b[0m\u001b[0;34m:\u001b[0m\u001b[0;34m\u001b[0m\u001b[0;34m\u001b[0m\u001b[0m\n",
      "\u001b[0;31mNameError\u001b[0m: name 'mr' is not defined"
     ]
    }
   ],
   "source": [
    "import json\n",
    "nn = 1\n",
    "nmax = 1000\n",
    "drs_list = []\n",
    "for f in r[0]['File'] :\n",
    "    if f['data_category'] == \"Imaging\":\n",
    "        drs_id= 'crdc:'+f['id']\n",
    "        print(drs_id)\n",
    "        drs_list.append(mr.getObject(drs_id))\n",
    "        nn += 1\n",
    "    if nn > nmax:\n",
    "        break\n",
    "with open('drs_list.json', 'w') as outfile:\n",
    "    json.dump(drs_list, outfile)"
   ]
  },
  {
   "cell_type": "markdown",
   "id": "c72d9b75",
   "metadata": {},
   "source": [
    "Write a tab delimited file containing the elements of the file path. i.e. extract the DICOM structure. If the path does not fit the pattern of 7 elements list it out."
   ]
  },
  {
   "cell_type": "code",
   "execution_count": null,
   "id": "7d4fae0d",
   "metadata": {},
   "outputs": [],
   "source": [
    "import pandas as pd\n",
    "dicom_lst = []\n",
    "with open('dicom_list2.txt', 'w') as outfile:\n",
    "    for d in drs_list:\n",
    "        url = d['access_methods'][0]['access_url']['url']\n",
    "        parts = url.split(\"/\")\n",
    "        if len(parts) == 7: \n",
    "            dicom_lst.append(parts[2:7])\n",
    "        else:\n",
    "            print(parts)\n",
    "            print(json.dumps(d, indent=3))\n",
    "        outstr = '\\t'.join(parts)\n",
    "        outfile.write(outstr+'\\n')\n",
    "        \n",
    "df = pd.DataFrame(dicom_lst, columns =['bucket', 'folder', 'study', 'series', 'instance'])\n",
    "df"
   ]
  },
  {
   "cell_type": "markdown",
   "id": "6245f77a",
   "metadata": {},
   "source": [
    "How many studies?"
   ]
  },
  {
   "cell_type": "code",
   "execution_count": null,
   "id": "764aa812",
   "metadata": {},
   "outputs": [],
   "source": [
    "df.groupby('study').size()"
   ]
  },
  {
   "cell_type": "markdown",
   "id": "4d9db47f",
   "metadata": {},
   "source": [
    "Just one study. So what series does it have within it, and how many instances (images) within each series?"
   ]
  },
  {
   "cell_type": "code",
   "execution_count": null,
   "id": "b2dcc563",
   "metadata": {},
   "outputs": [],
   "source": [
    "df.groupby('series').size()"
   ]
  },
  {
   "cell_type": "markdown",
   "id": "8b457ccd",
   "metadata": {},
   "source": [
    "There are 4 series each with widely varying numbers of instances within them. What a dicom instance is varies according to the imaging modality. The most common case is that an instance is a image.\n",
    "\n",
    "What each series is is not clear from the ids above (btw these ids are dicom instance ids).\n",
    "\n",
    "Note that we had to go through detective work to do this.\n"
   ]
  },
  {
   "cell_type": "code",
   "execution_count": null,
   "id": "8c3996c7",
   "metadata": {},
   "outputs": [],
   "source": [
    "import requests\n",
    "import os\n",
    "def download(url, file_path):\n",
    "    with open(os.path.expanduser(file_path), \"wb\") as file:\n",
    "        response = requests.get(url)\n",
    "        file.write(response.content)"
   ]
  },
  {
   "cell_type": "code",
   "execution_count": null,
   "id": "aec1e0c1",
   "metadata": {},
   "outputs": [],
   "source": [
    "drs_id = 'crdc:72eacf56-f87d-4af4-8128-47a6897d1506'\n",
    "drs_url = mr.getAccessURL(drs_id, 'gs')\n",
    "download(drs_url, '/Users/forei/Downloads/72eacf56-f87d-4af4-8128-47a6897d1506.dcm')"
   ]
  },
  {
   "cell_type": "code",
   "execution_count": null,
   "id": "05550543",
   "metadata": {},
   "outputs": [],
   "source": [
    "mr.getObject(drs_id)"
   ]
  },
  {
   "cell_type": "markdown",
   "id": "743efd12",
   "metadata": {},
   "source": [
    "What if we do this across the whole study?\n"
   ]
  },
  {
   "cell_type": "code",
   "execution_count": null,
   "id": "c9372bc7",
   "metadata": {},
   "outputs": [],
   "source": [
    "q1 = Q('id = \"TCGA-13-1504\"')\n",
    "r = q1.run()\n",
    "print(r)"
   ]
  },
  {
   "cell_type": "markdown",
   "id": "74b28bba",
   "metadata": {},
   "source": [
    "### TCGA-06-0118\n",
    "Have previously downloaded dicom files from NBIA for this patient."
   ]
  },
  {
   "cell_type": "code",
   "execution_count": null,
   "id": "a6d42b24",
   "metadata": {},
   "outputs": [],
   "source": [
    "q1 = Q('subject_associated_project = \"TCGA-OV\"')\n",
    "r = q1.run()\n",
    "print(r)"
   ]
  },
  {
   "cell_type": "code",
   "execution_count": null,
   "id": "e1dd0579",
   "metadata": {},
   "outputs": [],
   "source": [
    "q1 = Q('ResearchSubject.associated_project = \"TCGA-OV\"')\n",
    "r = q1.run()\n",
    "print(r)\n"
   ]
  },
  {
   "cell_type": "code",
   "execution_count": null,
   "id": "84cbbad6",
   "metadata": {},
   "outputs": [],
   "source": [
    "query1 = \"\"\"SELECT su.id sid , rs.identifier rsid, fi.drs_uri\n",
    "from gdc-bq-sample.integration.all_v2 AS su,\n",
    "unnest(ResearchSubject) AS rs,\n",
    "unnest(rs.File) as fi\n",
    "where (su.id = 'TCGA-13-1504')\n",
    "and file_format = 'BAM' \"\"\"\n",
    "\n",
    "r1 = Q.sql(query1)\n",
    "r1"
   ]
  },
  {
   "cell_type": "code",
   "execution_count": null,
   "id": "dce10ac7",
   "metadata": {},
   "outputs": [],
   "source": [
    "for res in r1:\n",
    "    print(json.dumps(res, indent=3))"
   ]
  },
  {
   "cell_type": "code",
   "execution_count": null,
   "id": "d73fa61f",
   "metadata": {},
   "outputs": [],
   "source": [
    "query2 = \"\"\"SELECT su.id sid , rs.identifier rsid, fi.*\n",
    "from gdc-bq-sample.integration.all_v2 AS su,\n",
    "unnest(ResearchSubject) AS rs,\n",
    "unnest(rs.File) as fi\n",
    "where (su.id = 'TCGA-13-1504')\n",
    "and file_format = 'BAM' \"\"\"\n",
    "\n",
    "r2 = Q.sql(query2)\n",
    "r2"
   ]
  },
  {
   "cell_type": "code",
   "execution_count": null,
   "id": "86c5c70e",
   "metadata": {},
   "outputs": [],
   "source": [
    "for res in r2:\n",
    "    print(json.dumps(res, indent=3))"
   ]
  },
  {
   "cell_type": "code",
   "execution_count": null,
   "id": "a5536ae4",
   "metadata": {},
   "outputs": [],
   "source": []
  }
 ],
 "metadata": {
  "kernelspec": {
   "display_name": "Python 3 (ipykernel)",
   "language": "python",
   "name": "python3"
  },
  "language_info": {
   "codemirror_mode": {
    "name": "ipython",
    "version": 3
   },
   "file_extension": ".py",
   "mimetype": "text/x-python",
   "name": "python",
   "nbconvert_exporter": "python",
   "pygments_lexer": "ipython3",
   "version": "3.9.7"
  }
 },
 "nbformat": 4,
 "nbformat_minor": 5
}
