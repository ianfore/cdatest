{
 "cells": [
  {
   "cell_type": "code",
   "execution_count": 47,
   "id": "3973435f",
   "metadata": {},
   "outputs": [],
   "source": [
    "from cdapython import Q, columns, unique_terms, query\n"
   ]
  },
  {
   "cell_type": "markdown",
   "id": "2a4f0e58",
   "metadata": {},
   "source": [
    "### Image files for a single subject"
   ]
  },
  {
   "cell_type": "code",
   "execution_count": 48,
   "id": "56b76968",
   "metadata": {},
   "outputs": [
    {
     "name": "stdout",
     "output_type": "stream",
     "text": [
      "Getting results from database\n",
      "\n",
      "Total execution time: 1386 ms\n",
      "\n",
      "QueryID: b1f4bc35-95ff-43ba-9f95-8b9830f0e8a0\n",
      "Query: SELECT all_v2.* FROM gdc-bq-sample.integration.all_v2 AS all_v2 WHERE (all_v2.id = 'TCGA-13-1504')\n",
      "Offset: 0\n",
      "Count: 1\n",
      "Total Row Count: 1\n",
      "More pages: False\n",
      "\n"
     ]
    }
   ],
   "source": [
    "import json\n",
    "q1 = Q('id = \"TCGA-13-1504\"')\n",
    "r = q1.run()\n",
    "print(r)\n"
   ]
  },
  {
   "cell_type": "code",
   "execution_count": 52,
   "id": "cade7560",
   "metadata": {},
   "outputs": [
    {
     "name": "stdout",
     "output_type": "stream",
     "text": [
      "Counter({'Imaging': 226, 'Peptide Spectral Matches': 55, 'Raw Mass Spectra': 28, 'Processed Mass Spectra': 27, 'Simple Nucleotide Variation': 16, 'Biospecimen': 12, 'Clinical': 8, 'Copy Number Variation': 7, 'Sequencing Reads': 3, 'Transcriptome Profiling': 2, 'DNA Methylation': 1, 'Proteome Profiling': 1})\n",
      "\n",
      "Imaging type/format\n",
      "Counter({'CT/DICOM': 226})\n"
     ]
    }
   ],
   "source": [
    "from collections import Counter\n",
    "categories = Counter()\n",
    "imaging_types = Counter()\n",
    "for f in r[0]['File']:\n",
    "    dc = f['data_category']\n",
    "    categories[dc] += 1\n",
    "    if f['data_category'] == \"Imaging\":\n",
    "        imaging_types[f['data_type']+'/'+f['file_format']] += 1\n",
    "print(categories)\n",
    "print(\"\\nImaging type/format\")\n",
    "print(imaging_types)"
   ]
  },
  {
   "cell_type": "markdown",
   "id": "b803af42",
   "metadata": {},
   "source": [
    "### Use DRS to get some details of each file\n",
    "For illustration here's what DRS can tell us about one Imaging file"
   ]
  },
  {
   "cell_type": "code",
   "execution_count": 66,
   "id": "10ee0c5c",
   "metadata": {},
   "outputs": [
    {
     "name": "stdout",
     "output_type": "stream",
     "text": [
      "f5027f67-011b-4f8e-a9bd-de73eaaf2fc0\n"
     ]
    }
   ],
   "source": [
    "for f in r[0]['File'] :\n",
    "    if f['data_category'] == \"Imaging\":\n",
    "        drs_id = f['id']\n",
    "        print(drs_id)\n",
    "        break"
   ]
  },
  {
   "cell_type": "code",
   "execution_count": 67,
   "id": "32430ea4",
   "metadata": {
    "scrolled": true
   },
   "outputs": [
    {
     "data": {
      "text/plain": [
       "{'access_methods': [{'access_id': 'gs',\n",
       "   'access_url': {'url': 'gs://idc-tcia-tcga-ov/dicom/1.3.6.1.4.1.14519.5.2.1.9203.4007.107225085018428492152614916489/1.3.6.1.4.1.14519.5.2.1.9203.4007.133576245722946348511732255420/1.3.6.1.4.1.14519.5.2.1.9203.4007.472644011742805252569503604125.dcm#1592638563565092'},\n",
       "   'region': '',\n",
       "   'type': 'gs'}],\n",
       " 'aliases': [],\n",
       " 'checksums': [{'checksum': '51f38e0cd236104a0a88a1a88b371155',\n",
       "   'type': 'md5'}],\n",
       " 'contents': [],\n",
       " 'created_time': '2020-09-18T20:21:07.664086',\n",
       " 'description': None,\n",
       " 'form': 'object',\n",
       " 'id': 'dg.4DFC/f5027f67-011b-4f8e-a9bd-de73eaaf2fc0',\n",
       " 'mime_type': 'application/json',\n",
       " 'name': None,\n",
       " 'self_uri': 'drs://nci-crdc.datacommons.io/dg.4DFC/f5027f67-011b-4f8e-a9bd-de73eaaf2fc0',\n",
       " 'size': 527958,\n",
       " 'updated_time': '2020-09-18T20:21:07.664091',\n",
       " 'version': 'e2be4764'}"
      ]
     },
     "execution_count": 67,
     "metadata": {},
     "output_type": "execute_result"
    }
   ],
   "source": [
    "from fasp.loc import crdcDRSClient\n",
    "drsClient = crdcDRSClient()\n",
    "drsClient.getObject(drs_id)"
   ]
  },
  {
   "cell_type": "markdown",
   "id": "f86eadb0",
   "metadata": {},
   "source": [
    "To someone with some knowledge of dicom the access url field gives us a clue. This looks like a path to  nested directories named with dicom instance ids. The nesting of those directories reflects the dicom data model. That data model gives meaning to the files which is otherwise absent. In fact the full meaning is only within the files.\n",
    "\n",
    "We can also see that there is a specific GCS bucket for the TCGA OV study (spoiler: study is overloaded, as we shall shortly discover :-)\n",
    "\n",
    "Note the use of the word 'clue'. This is indeed detective work. Users should not have to do detective work."
   ]
  },
  {
   "cell_type": "code",
   "execution_count": null,
   "id": "a8dd209f",
   "metadata": {},
   "outputs": [],
   "source": []
  },
  {
   "cell_type": "code",
   "execution_count": 54,
   "id": "53d239d9",
   "metadata": {},
   "outputs": [
    {
     "name": "stdout",
     "output_type": "stream",
     "text": [
      "crdc:f5027f67-011b-4f8e-a9bd-de73eaaf2fc0\n",
      "crdc:bd32819d-7ec5-49ee-800a-60b89c388cce\n",
      "crdc:2a11facd-6043-4b8b-a746-5c66e4247c4b\n",
      "crdc:9e0f0311-2fd7-46fc-8e53-6ee03596d81c\n",
      "crdc:547cdc0a-c8b3-4fe4-a445-9ef71a6ce89a\n",
      "crdc:87591dfe-2f8d-4fdc-812c-e719b09ce3f4\n",
      "crdc:1f21ee2d-3414-4fd0-bce2-82ace64ffcef\n",
      "crdc:95d03605-a111-4ace-8f99-0724e4124e97\n",
      "crdc:018f936c-67b8-4750-900a-364bea5447f9\n",
      "crdc:9280c959-4321-4b54-baea-cea72fa4cd87\n",
      "crdc:41135e2f-349d-4362-8ad5-ccc0160e9c47\n",
      "crdc:41846291-1236-4888-af28-ac421f325f3a\n",
      "crdc:eca33c2a-b921-4091-a1dd-44d37486d921\n",
      "crdc:d27da835-31b9-4622-88c9-58b8592118ed\n",
      "crdc:8bb34822-1553-43b2-95a9-3b2b1ce2851e\n",
      "crdc:74ebc760-d0bb-4668-bb81-db164a313add\n",
      "crdc:16294e32-6bbf-4407-b01f-b62dac2561e7\n",
      "crdc:2440372e-618f-494c-9f40-5d5c0a0be26b\n",
      "crdc:a699ba7a-5991-44e7-9e83-5f6fc89995b5\n",
      "crdc:6ff90873-e25a-42d7-b52c-7965414c3892\n",
      "crdc:428a13ac-f50f-4634-8cd3-85cedf6f2800\n",
      "crdc:9d039d61-3828-4df7-8263-83bc08819b7e\n",
      "crdc:2ca61bc4-ea09-428a-a95f-246911a75189\n",
      "crdc:42d1898a-03bc-4e2d-9c11-4d6414a6dc9e\n",
      "crdc:1bbaf5cb-a6e5-4288-913c-683d8036a7c9\n",
      "crdc:cff7523a-ac6a-444c-bcb1-74a4bd4c8523\n",
      "crdc:812d7767-bdec-4ab6-8703-7f8329a91394\n",
      "crdc:f8e40369-9ebb-46be-a5f9-40059b10fd66\n",
      "crdc:f21746f7-976f-44c8-bd5c-c90050ffa3e2\n",
      "crdc:fd5aa944-2d4d-4ed6-a3e6-03a3d7d4c5a1\n",
      "crdc:05bbabe5-8e25-4a82-b2db-a8be6ba53407\n",
      "crdc:e6ec2d41-8ed9-4fa6-87a3-6c0923db262f\n",
      "crdc:047806ff-9bde-4ec8-a4b5-53e8be1be5e0\n",
      "crdc:ba75de22-40f8-4b44-af82-453471722d03\n",
      "crdc:8fce6d34-d6ea-4a8b-ba59-8e2c4d9848e3\n",
      "crdc:b98ea332-867a-48dc-9486-d8c6b7f7d62c\n",
      "crdc:855885af-146f-4fd2-8d3c-cf2058af91fb\n",
      "crdc:36ae911a-7ae4-45d8-aa26-736022da86d9\n",
      "crdc:9714c613-053a-42f6-843f-23a78ebbc0aa\n",
      "crdc:783beeaf-6d0f-41c6-990f-429e53c606ea\n",
      "crdc:1b249cb5-c755-482c-85ed-b9b888c7d522\n",
      "crdc:9e597675-7137-4d74-a4a2-049d6175ac15\n",
      "crdc:44fcc9a5-205f-45a5-a0ba-f67f4758a1b7\n",
      "crdc:e04cf17f-b809-455c-9dd4-eec84ec7808c\n",
      "crdc:46ed0668-3f13-44a6-aa5e-4ad45cd65f56\n",
      "crdc:48e23a7e-fc1a-49ff-95cf-eb9aa2a411ed\n",
      "crdc:9b40260d-28ea-4038-b283-15eae1b6e5d1\n",
      "crdc:dde90fcf-6739-4f93-a268-03d753f8bd6b\n",
      "crdc:f7ba5fa2-e15e-45bc-a781-0aa9337b0de0\n",
      "crdc:f8e129a7-3a3c-4f71-b3bd-551dfab1ab8f\n",
      "crdc:a1d2f0f4-c99b-457e-97ea-2b099b321353\n",
      "crdc:0a7df338-a776-4277-8163-c014cce3815c\n",
      "crdc:6c57cf62-d580-4691-923f-dcaa8c1a4a97\n",
      "crdc:c61f1763-cd52-4644-bfa2-1966baf2eace\n",
      "crdc:f34477ae-bfa8-40be-954b-9b8aa96bdb04\n",
      "crdc:264d063f-45db-433f-8157-901730fad3a1\n",
      "crdc:bdc83e7d-a968-4c3a-9c98-23c20f8e879e\n",
      "crdc:e07e03a2-2f5c-44a8-9f85-d1c73395e1eb\n",
      "crdc:5a99fdc8-83f2-449d-b48f-dc8a82a4c511\n",
      "crdc:d41da605-6f24-41a8-b609-2aefdf306830\n",
      "crdc:4fe5ebf1-0063-4ae9-9f03-8dcc5c0f8cc1\n",
      "crdc:3600bc32-2ee2-45af-9823-8ae0c6b5e96c\n",
      "crdc:54da1bb7-87a6-4ba8-bdeb-4b1700eb5292\n",
      "crdc:8092bad4-df90-4fdd-8102-6e55b53bc2ca\n",
      "crdc:62d5a10c-fac2-4829-9cce-7916f2ba24d7\n",
      "crdc:becda6c7-776a-4a03-892d-4dbcc50bece4\n",
      "crdc:e7267a51-a28d-419b-9b04-397a0e4e9f38\n",
      "crdc:7d1ca951-7570-4e38-bf4f-15cdd946a3df\n",
      "crdc:c354cd89-e2fa-43e6-ae3e-3a5e1d4c07d0\n",
      "crdc:09622c60-0008-40a1-9d21-91eaa19126c5\n",
      "crdc:eab065ac-79f1-42d2-a67c-526a4161f0b8\n",
      "crdc:00f17aa1-5122-4a11-abf7-15f0cc29b39f\n",
      "crdc:f6ecb5ca-ba83-42ac-b31b-3e782e67ea22\n",
      "crdc:0836bf53-f7c0-4d79-a809-ba796e13e37e\n",
      "crdc:f9bb3ae9-6fef-4265-a4ba-ff2e6494a510\n",
      "crdc:cee2f7d3-987a-4613-b9b8-e6c1b890ce33\n",
      "crdc:edab1410-e22c-4b65-a2d3-cc8848314838\n",
      "crdc:6ab8b42a-d77b-4db4-a3df-d234dea39f11\n",
      "crdc:47c86d60-2d77-4f65-86d1-e0f8a99150f8\n",
      "crdc:c714a4c9-9985-4c44-83de-3774df7b8fd2\n",
      "crdc:36ededbf-2bc5-4dc4-88d9-d5e5119c4184\n",
      "crdc:521d7315-2184-4a10-aff9-2b4e8332ef54\n",
      "crdc:b87c4992-857a-4de9-a49c-1562d64aeb2f\n",
      "crdc:37aff76e-0198-43d1-a702-dd22e23e43f0\n",
      "crdc:2bfcceb3-5207-4117-9e42-f5b7287ce952\n",
      "crdc:b0568439-4eaa-4d4f-b115-305015f6a38c\n",
      "crdc:71c6aed5-8504-4432-9de3-be16e850035f\n",
      "crdc:b9838bcc-4889-492a-99cf-7b19f9312cf2\n",
      "crdc:5ff61591-e7ab-4d63-9da6-4122bdced333\n",
      "crdc:4e394fdd-ea16-4fd6-a327-ef50ee2c8c9a\n",
      "crdc:6b5efee3-9240-4471-bcf1-9b545da66a44\n",
      "crdc:18cec806-313a-4381-a0e9-955c50307cdc\n",
      "crdc:73f3ff2e-21b4-42be-b0b2-c61864bd3c24\n",
      "crdc:b0526e62-2e89-42ab-8c48-eb774e6cd8fa\n",
      "crdc:4c4c63d3-4a2f-476c-8770-52fd3e5b5652\n",
      "crdc:6d19d8a5-3ec3-481d-b0a9-33144123eea0\n",
      "crdc:acdca506-7027-40d0-b4b9-2b434c37564f\n",
      "crdc:02cdbf4a-dc1c-4fe0-a395-9cb745634165\n",
      "crdc:804f41b5-c7b2-4ad0-b4c7-ab79d3896ef7\n",
      "crdc:1a88d120-70e2-4e1a-8929-9343f15ee72f\n",
      "crdc:9dc60a7c-e404-4da0-b8fb-92af873e48c7\n",
      "crdc:9615c474-680f-4be5-b0aa-d25081a6ad6a\n",
      "crdc:69a535fb-76e3-451e-9c04-603102c81723\n",
      "crdc:72eacf56-f87d-4af4-8128-47a6897d1506\n",
      "crdc:15a828b6-89fe-46b5-ac92-1b6d85a3b0c1\n",
      "crdc:131bc115-dff3-44dc-aa9e-295c9726a50f\n",
      "crdc:26382a67-149c-492d-8ef5-c0ded653035c\n",
      "crdc:43eff9d7-9038-49a8-8c6a-af268facefb1\n",
      "crdc:325b7a41-1680-477f-813d-8d08c7d9f0c1\n",
      "crdc:de29329a-05e3-476d-8d9e-d7973aa301b3\n",
      "crdc:a37c6ebf-b8ab-4708-a818-4f12224ce87f\n",
      "crdc:926f3638-07a4-4bb7-ba11-a70a74c3ff92\n",
      "crdc:8e29a989-182f-4027-aa4d-dcbf6aaa1376\n",
      "crdc:556bab45-13b4-47bc-bf6d-b46e6570036a\n",
      "crdc:c7b05bfc-f329-4ae5-a51a-6c360f3d5e61\n",
      "crdc:7c64221c-75d7-4beb-b277-0e6b02692fe7\n",
      "crdc:7096616a-2632-4343-ae58-59a18e2dc1c6\n",
      "crdc:d0c49a12-e899-4cd4-a323-b1cc75bde8fb\n",
      "crdc:196a1fae-fb7a-40b0-8558-c75c32dedd2d\n",
      "crdc:9cf9fc0c-7b0b-45a9-8fa6-f0032d119a14\n",
      "crdc:1e24282c-fe5e-4ee6-971c-63e4d657000d\n",
      "crdc:aa181cd8-b9e0-4926-a469-7b097ffeb4b5\n",
      "crdc:f3c83129-936b-4510-b2ef-012f9f00e826\n",
      "crdc:689a1bc2-8580-4942-92a9-6dd8eb9a21f8\n",
      "crdc:37042e61-47aa-4def-8a40-9f7cbc9fcaf0\n",
      "crdc:dbd9dfbd-81f0-4e33-98c3-27a4d1d0046f\n",
      "crdc:dab91e06-1daf-444d-8c79-d100ede7d2c3\n",
      "crdc:dc1876bf-1042-42ac-ac6f-ff64874f6eab\n",
      "crdc:b5ad7575-ee4f-4a02-bed5-6cc57fe57f84\n",
      "crdc:cebcc5c7-8bae-48e9-8415-3eb07b178f54\n",
      "crdc:a213a821-f88a-4976-a5ad-4ed3e59ab436\n",
      "crdc:4c763450-fc99-432c-b0f1-2e0f928ba009\n",
      "crdc:83e36522-7e2b-47be-ad2d-468942afb3c2\n",
      "crdc:e72c20ec-4299-4d39-91f3-2d67433dfd5d\n",
      "crdc:41f277a7-25c0-4042-bc4f-d9beeb120947\n",
      "crdc:5bed5fad-46f3-4a90-81b6-deaeeece38f9\n",
      "crdc:28d4900c-d18b-4a82-a9e1-0486fb4642c2\n",
      "crdc:4b59b697-063e-44a8-b5a7-98e21190fb9c\n",
      "crdc:a07c285b-958d-4077-a8cf-79b09536eb22\n",
      "crdc:cfc56a1a-fc70-49c8-901c-7b344ef096a9\n",
      "crdc:f5b8ee8a-a607-488e-974f-9e47cff242c6\n",
      "crdc:562b6ba2-5aff-413a-b5f0-bc71be147f3b\n",
      "crdc:97376965-2579-42d3-884f-64a2b3b5381f\n",
      "crdc:53500bcc-c255-4824-8d29-886d2f520636\n",
      "crdc:e9717d67-d63d-45b8-b26a-787d2ce24ade\n",
      "crdc:3fb7ff24-5b0a-486e-afb4-b294555c44f4\n",
      "crdc:8d838564-be3a-4ab2-8d01-c378fcbca6f3\n",
      "crdc:c48a05ce-4d8a-4c0e-b73d-935b80e7019b\n",
      "crdc:efb30a00-48c3-47b8-b879-0b71b7c52dfa\n",
      "crdc:f9d7d8b0-9457-4ed1-976f-89d3d69a9a34\n",
      "crdc:b79a9dce-fd42-471e-b6f8-5967d0906fc5\n",
      "crdc:a82d33ae-c4d3-4023-b59f-1deab89d0abc\n",
      "crdc:c6fb697c-4414-4549-9052-466a8fc56f57\n",
      "crdc:c17fde2c-147f-428c-b16e-2cbcf7d07e1d\n",
      "crdc:2a73a455-1f67-475a-a0d6-72c2e56241ee\n",
      "crdc:fe9a8f43-0af5-4871-ab1e-a3b1d5367185\n",
      "crdc:f13cb78b-1377-4830-aa58-33576018c4bf\n",
      "crdc:7cbe79f2-607b-460a-95a9-e84976517893\n",
      "crdc:1cf24e7c-42cf-48b6-bb9f-19743a00ae21\n",
      "crdc:5854c35f-4f31-4046-b3ef-4a82edb89b88\n",
      "crdc:a360693b-2807-4e73-a527-af618189a194\n",
      "crdc:63e1f062-d22b-4c05-8a51-6be7bbde7c7a\n",
      "crdc:651e8a5f-bc55-451f-a17d-46cc6a88c767\n",
      "crdc:019bde45-c4e1-4322-b32a-1fc0f7b70f19\n",
      "crdc:5869f12f-0414-4f84-8f0c-3007a7b76486\n",
      "crdc:23ba441a-b433-4731-938d-d8a7b170cda2\n",
      "crdc:fd4c86c6-f94c-4bdc-ad09-7862a5fa69a8\n",
      "crdc:ab1cccdc-fbca-4764-8dcb-4440abe7c85a\n",
      "crdc:233e9cd5-0741-4365-a653-f122c1eca17b\n",
      "crdc:d80e5c32-f7ba-46cf-8deb-755d657038a6\n",
      "crdc:9d7ee367-acd8-4e1f-a158-133f9fb958f9\n",
      "crdc:7d17b188-f5bc-46df-9d65-19456205abc4\n",
      "crdc:81fb4632-a7a6-44d8-9f18-1718b86fa55c\n",
      "crdc:dc2481e5-94a0-47a0-84b3-f9972089e7b2\n",
      "crdc:d2e231df-6a27-40fd-aaa3-aa13338be54e\n",
      "crdc:f7b518ea-b761-4c28-82b4-ee8553184445\n",
      "crdc:16d8a7db-816e-41c0-8341-ab67a7ef3aab\n",
      "crdc:f8f78be2-9403-4875-b252-c0cdd2020ab6\n",
      "crdc:55fb6402-dcd7-4420-9775-e8eaf99d813d\n",
      "crdc:fd60f7af-27ce-405e-879d-1e06df7725cb\n",
      "crdc:0e4b2c9e-7baf-487a-a6a5-25a2e0802e9f\n",
      "crdc:73069193-1553-4331-8aaf-8467de2e2c12\n",
      "crdc:f76ebb63-3545-416d-8354-c220cbae5699\n",
      "crdc:8ecb1e31-ba62-413b-8245-fcba8ab482e2\n",
      "crdc:d988b811-a075-46ed-bfbf-26c599716062\n",
      "crdc:a7e305bd-df12-444a-9833-82ef15196e9a\n",
      "crdc:468fee4a-63e7-4614-9901-333a7312050c\n",
      "crdc:541bbea1-29d7-4139-a74f-0d6f27f58108\n",
      "crdc:32254cdc-c40e-4a98-bc19-c8162df999f9\n",
      "crdc:b9380170-18c6-4eff-ab80-fddbe78eab34\n",
      "crdc:b640632d-781b-493d-9742-f12297193c1d\n",
      "crdc:e60f134b-0042-4800-94b2-507054b5c57d\n",
      "crdc:a2eaabf0-a1cb-4191-b5cf-dbf26a1b40e6\n",
      "crdc:775f1188-4429-41ee-a8cc-b5fc3589653e\n",
      "crdc:766a5b48-e4db-4ee4-999e-2425dccedde5\n",
      "crdc:e6b7c1d5-0cde-4aa2-8ac3-e1109cf6d075\n",
      "crdc:ae7c22a7-3e2e-4dfa-aec6-987d0b818fc9\n"
     ]
    },
    {
     "name": "stdout",
     "output_type": "stream",
     "text": [
      "crdc:f7897efc-5282-46b7-afc3-1b3510c11438\n",
      "crdc:e869dc79-89ab-4b99-8ff7-525a25ae9a62\n",
      "crdc:3e28439d-a61b-45eb-858a-d67025e59157\n",
      "crdc:9f37cef7-a80e-4753-97ed-8b6ff097b985\n",
      "crdc:48a71fc5-c1bd-42ad-8d52-6e87b523c858\n",
      "crdc:0faa0395-465f-4ecc-95ca-b1fe98fd1a62\n",
      "crdc:76dcc698-d4ed-45bd-84a6-f440d6684329\n",
      "crdc:3b7a4c27-30dd-4901-b7c9-f84f67d68e0c\n",
      "crdc:4d486cbe-b166-4270-b477-74726ba85e2f\n",
      "crdc:3627d545-9968-40c2-9207-4fd5be27f247\n",
      "crdc:7379270f-3855-4539-a46f-a1e48b7a35e4\n",
      "crdc:e5863f26-2ed9-4000-98d9-3fb590ccbea9\n",
      "crdc:4c4b06b8-aad9-4c43-89dc-0a9cf983f8f1\n",
      "crdc:db296715-279b-4907-909a-b434cdf02e11\n",
      "crdc:093f50b4-3566-4a93-87c9-748f567bbefa\n",
      "crdc:4c733655-32ba-4d7e-855d-bb543f847396\n",
      "crdc:4edcf735-e61d-4795-b01a-d00e4a0ed951\n",
      "crdc:3fbd40d2-de15-47eb-9de0-e2874f575702\n",
      "crdc:b52d1ddf-15ca-4b85-8d23-a86efc940e30\n",
      "crdc:fc5ce77e-e282-4da0-a0c2-e2b7bdd7e0e8\n",
      "crdc:76829ecb-a6ce-4bca-9c29-0bdaa9c63b08\n",
      "crdc:89cf6edd-1ca9-445c-8776-89241a469cee\n",
      "crdc:a8644f45-e4c3-43fd-a15f-c1b25803f12a\n",
      "crdc:60d5fc65-1754-4a1b-90ea-2c0846e8d8c9\n",
      "crdc:b608297a-069c-4920-b647-bd3800539873\n",
      "crdc:74f43d1c-0cf6-44a2-a138-fc545c27b7b5\n",
      "crdc:516ce892-80c7-4111-9bd5-7f09709afc78\n",
      "crdc:e7ce67cb-32ba-49dc-b736-e124d19418bf\n",
      "crdc:ecb5ac58-f573-4f31-ab7c-4b5acbaccebf\n"
     ]
    }
   ],
   "source": [
    "import json\n",
    "nn = 1\n",
    "nmax = 1000\n",
    "drs_list = []\n",
    "for f in r[0]['File'] :\n",
    "    if f['data_category'] == \"Imaging\":\n",
    "        drs_id= 'crdc:'+f['id']\n",
    "        print(drs_id)\n",
    "        drs_list.append(mr.getObject(drs_id))\n",
    "        nn += 1\n",
    "    if nn > nmax:\n",
    "        break\n",
    "with open('drs_list.json', 'w') as outfile:\n",
    "    json.dump(drs_list, outfile)"
   ]
  },
  {
   "cell_type": "markdown",
   "id": "c72d9b75",
   "metadata": {},
   "source": [
    "Write a tab delimited file containing the elements of the file path. i.e. extract the DICOM structure. If the path does not fit the pattern of 7 elements list it out."
   ]
  },
  {
   "cell_type": "code",
   "execution_count": 56,
   "id": "7d4fae0d",
   "metadata": {},
   "outputs": [
    {
     "name": "stdout",
     "output_type": "stream",
     "text": [
      "['gs:', '', 'idc-open', '72eacf56-f87d-4af4-8128-47a6897d1506.dcm']\n",
      "{\n",
      "   \"access_methods\": [\n",
      "      {\n",
      "         \"access_id\": \"gs\",\n",
      "         \"access_url\": {\n",
      "            \"url\": \"gs://idc-open/72eacf56-f87d-4af4-8128-47a6897d1506.dcm\"\n",
      "         },\n",
      "         \"region\": \"\",\n",
      "         \"type\": \"gs\"\n",
      "      }\n",
      "   ],\n",
      "   \"aliases\": [],\n",
      "   \"checksums\": [\n",
      "      {\n",
      "         \"checksum\": \"da66bb0bccad300977e2c16762777868\",\n",
      "         \"type\": \"md5\"\n",
      "      }\n",
      "   ],\n",
      "   \"contents\": [],\n",
      "   \"created_time\": \"2020-09-18T05:21:01.520509\",\n",
      "   \"description\": null,\n",
      "   \"form\": \"object\",\n",
      "   \"id\": \"dg.4DFC/72eacf56-f87d-4af4-8128-47a6897d1506\",\n",
      "   \"mime_type\": \"application/json\",\n",
      "   \"name\": null,\n",
      "   \"self_uri\": \"drs://nci-crdc.datacommons.io/dg.4DFC/72eacf56-f87d-4af4-8128-47a6897d1506\",\n",
      "   \"size\": 527968,\n",
      "   \"updated_time\": \"2021-11-15T19:04:09.450068\",\n",
      "   \"version\": \"f2030c4c\"\n",
      "}\n"
     ]
    },
    {
     "name": "stderr",
     "output_type": "stream",
     "text": [
      "/Users/forei/imfenvs/cda2/lib/python3.9/site-packages/pandas/compat/__init__.py:124: UserWarning: Could not import the lzma module. Your installed Python is incomplete. Attempting to use lzma compression will result in a RuntimeError.\n",
      "  warnings.warn(msg)\n"
     ]
    },
    {
     "data": {
      "text/html": [
       "<div>\n",
       "<style scoped>\n",
       "    .dataframe tbody tr th:only-of-type {\n",
       "        vertical-align: middle;\n",
       "    }\n",
       "\n",
       "    .dataframe tbody tr th {\n",
       "        vertical-align: top;\n",
       "    }\n",
       "\n",
       "    .dataframe thead th {\n",
       "        text-align: right;\n",
       "    }\n",
       "</style>\n",
       "<table border=\"1\" class=\"dataframe\">\n",
       "  <thead>\n",
       "    <tr style=\"text-align: right;\">\n",
       "      <th></th>\n",
       "      <th>bucket</th>\n",
       "      <th>folder</th>\n",
       "      <th>study</th>\n",
       "      <th>series</th>\n",
       "      <th>instance</th>\n",
       "    </tr>\n",
       "  </thead>\n",
       "  <tbody>\n",
       "    <tr>\n",
       "      <th>0</th>\n",
       "      <td>idc-tcia-tcga-ov</td>\n",
       "      <td>dicom</td>\n",
       "      <td>1.3.6.1.4.1.14519.5.2.1.9203.4007.107225085018...</td>\n",
       "      <td>1.3.6.1.4.1.14519.5.2.1.9203.4007.133576245722...</td>\n",
       "      <td>1.3.6.1.4.1.14519.5.2.1.9203.4007.472644011742...</td>\n",
       "    </tr>\n",
       "    <tr>\n",
       "      <th>1</th>\n",
       "      <td>idc-tcia-tcga-ov</td>\n",
       "      <td>dicom</td>\n",
       "      <td>1.3.6.1.4.1.14519.5.2.1.9203.4007.107225085018...</td>\n",
       "      <td>1.3.6.1.4.1.14519.5.2.1.9203.4007.133576245722...</td>\n",
       "      <td>1.3.6.1.4.1.14519.5.2.1.9203.4007.203477636916...</td>\n",
       "    </tr>\n",
       "    <tr>\n",
       "      <th>2</th>\n",
       "      <td>idc-tcia-tcga-ov</td>\n",
       "      <td>dicom</td>\n",
       "      <td>1.3.6.1.4.1.14519.5.2.1.9203.4007.107225085018...</td>\n",
       "      <td>1.3.6.1.4.1.14519.5.2.1.9203.4007.148602785422...</td>\n",
       "      <td>1.3.6.1.4.1.14519.5.2.1.9203.4007.299208847780...</td>\n",
       "    </tr>\n",
       "    <tr>\n",
       "      <th>3</th>\n",
       "      <td>idc-tcia-tcga-ov</td>\n",
       "      <td>dicom</td>\n",
       "      <td>1.3.6.1.4.1.14519.5.2.1.9203.4007.107225085018...</td>\n",
       "      <td>1.3.6.1.4.1.14519.5.2.1.9203.4007.148602785422...</td>\n",
       "      <td>1.3.6.1.4.1.14519.5.2.1.9203.4007.308330171168...</td>\n",
       "    </tr>\n",
       "    <tr>\n",
       "      <th>4</th>\n",
       "      <td>idc-tcia-tcga-ov</td>\n",
       "      <td>dicom</td>\n",
       "      <td>1.3.6.1.4.1.14519.5.2.1.9203.4007.107225085018...</td>\n",
       "      <td>1.3.6.1.4.1.14519.5.2.1.9203.4007.148602785422...</td>\n",
       "      <td>1.3.6.1.4.1.14519.5.2.1.9203.4007.313603968394...</td>\n",
       "    </tr>\n",
       "    <tr>\n",
       "      <th>...</th>\n",
       "      <td>...</td>\n",
       "      <td>...</td>\n",
       "      <td>...</td>\n",
       "      <td>...</td>\n",
       "      <td>...</td>\n",
       "    </tr>\n",
       "    <tr>\n",
       "      <th>220</th>\n",
       "      <td>idc-tcia-tcga-ov</td>\n",
       "      <td>dicom</td>\n",
       "      <td>1.3.6.1.4.1.14519.5.2.1.9203.4007.107225085018...</td>\n",
       "      <td>1.3.6.1.4.1.14519.5.2.1.9203.4007.304277390592...</td>\n",
       "      <td>1.3.6.1.4.1.14519.5.2.1.9203.4007.797048602863...</td>\n",
       "    </tr>\n",
       "    <tr>\n",
       "      <th>221</th>\n",
       "      <td>idc-tcia-tcga-ov</td>\n",
       "      <td>dicom</td>\n",
       "      <td>1.3.6.1.4.1.14519.5.2.1.9203.4007.107225085018...</td>\n",
       "      <td>1.3.6.1.4.1.14519.5.2.1.9203.4007.133576245722...</td>\n",
       "      <td>1.3.6.1.4.1.14519.5.2.1.9203.4007.961053664838...</td>\n",
       "    </tr>\n",
       "    <tr>\n",
       "      <th>222</th>\n",
       "      <td>idc-tcia-tcga-ov</td>\n",
       "      <td>dicom</td>\n",
       "      <td>1.3.6.1.4.1.14519.5.2.1.9203.4007.107225085018...</td>\n",
       "      <td>1.3.6.1.4.1.14519.5.2.1.9203.4007.133576245722...</td>\n",
       "      <td>1.3.6.1.4.1.14519.5.2.1.9203.4007.354650146540...</td>\n",
       "    </tr>\n",
       "    <tr>\n",
       "      <th>223</th>\n",
       "      <td>idc-tcia-tcga-ov</td>\n",
       "      <td>dicom</td>\n",
       "      <td>1.3.6.1.4.1.14519.5.2.1.9203.4007.107225085018...</td>\n",
       "      <td>1.3.6.1.4.1.14519.5.2.1.9203.4007.304277390592...</td>\n",
       "      <td>1.3.6.1.4.1.14519.5.2.1.9203.4007.194304478572...</td>\n",
       "    </tr>\n",
       "    <tr>\n",
       "      <th>224</th>\n",
       "      <td>idc-tcia-tcga-ov</td>\n",
       "      <td>dicom</td>\n",
       "      <td>1.3.6.1.4.1.14519.5.2.1.9203.4007.107225085018...</td>\n",
       "      <td>1.3.6.1.4.1.14519.5.2.1.9203.4007.304277390592...</td>\n",
       "      <td>1.3.6.1.4.1.14519.5.2.1.9203.4007.432732347039...</td>\n",
       "    </tr>\n",
       "  </tbody>\n",
       "</table>\n",
       "<p>225 rows × 5 columns</p>\n",
       "</div>"
      ],
      "text/plain": [
       "               bucket folder  \\\n",
       "0    idc-tcia-tcga-ov  dicom   \n",
       "1    idc-tcia-tcga-ov  dicom   \n",
       "2    idc-tcia-tcga-ov  dicom   \n",
       "3    idc-tcia-tcga-ov  dicom   \n",
       "4    idc-tcia-tcga-ov  dicom   \n",
       "..                ...    ...   \n",
       "220  idc-tcia-tcga-ov  dicom   \n",
       "221  idc-tcia-tcga-ov  dicom   \n",
       "222  idc-tcia-tcga-ov  dicom   \n",
       "223  idc-tcia-tcga-ov  dicom   \n",
       "224  idc-tcia-tcga-ov  dicom   \n",
       "\n",
       "                                                 study  \\\n",
       "0    1.3.6.1.4.1.14519.5.2.1.9203.4007.107225085018...   \n",
       "1    1.3.6.1.4.1.14519.5.2.1.9203.4007.107225085018...   \n",
       "2    1.3.6.1.4.1.14519.5.2.1.9203.4007.107225085018...   \n",
       "3    1.3.6.1.4.1.14519.5.2.1.9203.4007.107225085018...   \n",
       "4    1.3.6.1.4.1.14519.5.2.1.9203.4007.107225085018...   \n",
       "..                                                 ...   \n",
       "220  1.3.6.1.4.1.14519.5.2.1.9203.4007.107225085018...   \n",
       "221  1.3.6.1.4.1.14519.5.2.1.9203.4007.107225085018...   \n",
       "222  1.3.6.1.4.1.14519.5.2.1.9203.4007.107225085018...   \n",
       "223  1.3.6.1.4.1.14519.5.2.1.9203.4007.107225085018...   \n",
       "224  1.3.6.1.4.1.14519.5.2.1.9203.4007.107225085018...   \n",
       "\n",
       "                                                series  \\\n",
       "0    1.3.6.1.4.1.14519.5.2.1.9203.4007.133576245722...   \n",
       "1    1.3.6.1.4.1.14519.5.2.1.9203.4007.133576245722...   \n",
       "2    1.3.6.1.4.1.14519.5.2.1.9203.4007.148602785422...   \n",
       "3    1.3.6.1.4.1.14519.5.2.1.9203.4007.148602785422...   \n",
       "4    1.3.6.1.4.1.14519.5.2.1.9203.4007.148602785422...   \n",
       "..                                                 ...   \n",
       "220  1.3.6.1.4.1.14519.5.2.1.9203.4007.304277390592...   \n",
       "221  1.3.6.1.4.1.14519.5.2.1.9203.4007.133576245722...   \n",
       "222  1.3.6.1.4.1.14519.5.2.1.9203.4007.133576245722...   \n",
       "223  1.3.6.1.4.1.14519.5.2.1.9203.4007.304277390592...   \n",
       "224  1.3.6.1.4.1.14519.5.2.1.9203.4007.304277390592...   \n",
       "\n",
       "                                              instance  \n",
       "0    1.3.6.1.4.1.14519.5.2.1.9203.4007.472644011742...  \n",
       "1    1.3.6.1.4.1.14519.5.2.1.9203.4007.203477636916...  \n",
       "2    1.3.6.1.4.1.14519.5.2.1.9203.4007.299208847780...  \n",
       "3    1.3.6.1.4.1.14519.5.2.1.9203.4007.308330171168...  \n",
       "4    1.3.6.1.4.1.14519.5.2.1.9203.4007.313603968394...  \n",
       "..                                                 ...  \n",
       "220  1.3.6.1.4.1.14519.5.2.1.9203.4007.797048602863...  \n",
       "221  1.3.6.1.4.1.14519.5.2.1.9203.4007.961053664838...  \n",
       "222  1.3.6.1.4.1.14519.5.2.1.9203.4007.354650146540...  \n",
       "223  1.3.6.1.4.1.14519.5.2.1.9203.4007.194304478572...  \n",
       "224  1.3.6.1.4.1.14519.5.2.1.9203.4007.432732347039...  \n",
       "\n",
       "[225 rows x 5 columns]"
      ]
     },
     "execution_count": 56,
     "metadata": {},
     "output_type": "execute_result"
    }
   ],
   "source": [
    "import pandas as pd\n",
    "dicom_lst = []\n",
    "with open('dicom_list2.txt', 'w') as outfile:\n",
    "    for d in drs_list:\n",
    "        url = d['access_methods'][0]['access_url']['url']\n",
    "        parts = url.split(\"/\")\n",
    "        if len(parts) == 7: \n",
    "            dicom_lst.append(parts[2:7])\n",
    "        else:\n",
    "            print(parts)\n",
    "            print(json.dumps(d, indent=3))\n",
    "        outstr = '\\t'.join(parts)\n",
    "        outfile.write(outstr+'\\n')\n",
    "        \n",
    "df = pd.DataFrame(dicom_lst, columns =['bucket', 'folder', 'study', 'series', 'instance'])\n",
    "df"
   ]
  },
  {
   "cell_type": "markdown",
   "id": "6245f77a",
   "metadata": {},
   "source": [
    "How many studies?"
   ]
  },
  {
   "cell_type": "code",
   "execution_count": 61,
   "id": "764aa812",
   "metadata": {},
   "outputs": [
    {
     "data": {
      "text/plain": [
       "study\n",
       "1.3.6.1.4.1.14519.5.2.1.9203.4007.107225085018428492152614916489    225\n",
       "dtype: int64"
      ]
     },
     "execution_count": 61,
     "metadata": {},
     "output_type": "execute_result"
    }
   ],
   "source": [
    "df.groupby('study').size()"
   ]
  },
  {
   "cell_type": "markdown",
   "id": "4d9db47f",
   "metadata": {},
   "source": [
    "Just one study. So what series does it have within it, and how many instances (images) within each series?"
   ]
  },
  {
   "cell_type": "code",
   "execution_count": 62,
   "id": "b2dcc563",
   "metadata": {},
   "outputs": [
    {
     "data": {
      "text/plain": [
       "series\n",
       "1.3.6.1.4.1.14519.5.2.1.9203.4007.133576245722946348511732255420     71\n",
       "1.3.6.1.4.1.14519.5.2.1.9203.4007.148602785422578671396982235234     40\n",
       "1.3.6.1.4.1.14519.5.2.1.9203.4007.304277390592235054246172081167    112\n",
       "1.3.6.1.4.1.14519.5.2.1.9203.4007.327004617190337044238532022530      2\n",
       "dtype: int64"
      ]
     },
     "execution_count": 62,
     "metadata": {},
     "output_type": "execute_result"
    }
   ],
   "source": [
    "df.groupby('series').size()"
   ]
  },
  {
   "cell_type": "markdown",
   "id": "8b457ccd",
   "metadata": {},
   "source": [
    "There are 4 series each with widely varying numbers of instances within them. What a dicom instance is varies according to the imaging modality. The most common case is that an instance is a image.\n",
    "\n",
    "What each series is is not clear from the ids above (btw these ids are dicom instance ids).\n",
    "\n",
    "Note that we had to go through detective work to do this.\n"
   ]
  },
  {
   "cell_type": "code",
   "execution_count": 36,
   "id": "8c3996c7",
   "metadata": {},
   "outputs": [],
   "source": [
    "import requests\n",
    "import os\n",
    "def download(url, file_path):\n",
    "    with open(os.path.expanduser(file_path), \"wb\") as file:\n",
    "        response = requests.get(url)\n",
    "        file.write(response.content)"
   ]
  },
  {
   "cell_type": "code",
   "execution_count": 40,
   "id": "aec1e0c1",
   "metadata": {},
   "outputs": [],
   "source": [
    "drs_id = 'crdc:72eacf56-f87d-4af4-8128-47a6897d1506'\n",
    "drs_url = mr.getAccessURL(drs_id, 'gs')\n",
    "download(drs_url, '/Users/forei/Downloads/72eacf56-f87d-4af4-8128-47a6897d1506.dcm')"
   ]
  },
  {
   "cell_type": "code",
   "execution_count": 41,
   "id": "05550543",
   "metadata": {},
   "outputs": [
    {
     "data": {
      "text/plain": [
       "{'access_methods': [{'access_id': 'gs',\n",
       "   'access_url': {'url': 'gs://idc-open/72eacf56-f87d-4af4-8128-47a6897d1506.dcm'},\n",
       "   'region': '',\n",
       "   'type': 'gs'}],\n",
       " 'aliases': [],\n",
       " 'checksums': [{'checksum': 'da66bb0bccad300977e2c16762777868',\n",
       "   'type': 'md5'}],\n",
       " 'contents': [],\n",
       " 'created_time': '2020-09-18T05:21:01.520509',\n",
       " 'description': None,\n",
       " 'form': 'object',\n",
       " 'id': 'dg.4DFC/72eacf56-f87d-4af4-8128-47a6897d1506',\n",
       " 'mime_type': 'application/json',\n",
       " 'name': None,\n",
       " 'self_uri': 'drs://nci-crdc.datacommons.io/dg.4DFC/72eacf56-f87d-4af4-8128-47a6897d1506',\n",
       " 'size': 527968,\n",
       " 'updated_time': '2021-11-15T19:04:09.450068',\n",
       " 'version': 'f2030c4c'}"
      ]
     },
     "execution_count": 41,
     "metadata": {},
     "output_type": "execute_result"
    }
   ],
   "source": [
    "mr.getObject(drs_id)"
   ]
  },
  {
   "cell_type": "markdown",
   "id": "743efd12",
   "metadata": {},
   "source": [
    "What if we do this across the whole study?\n"
   ]
  },
  {
   "cell_type": "code",
   "execution_count": null,
   "id": "c9372bc7",
   "metadata": {},
   "outputs": [],
   "source": [
    "q1 = Q('id = \"TCGA-13-1504\"')\n",
    "r = q1.run()\n",
    "print(r)"
   ]
  },
  {
   "cell_type": "markdown",
   "id": "74b28bba",
   "metadata": {},
   "source": [
    "### TCGA-06-0118\n",
    "Have previously downloaded dicom files from NBIA for this patient."
   ]
  },
  {
   "cell_type": "code",
   "execution_count": 75,
   "id": "a6d42b24",
   "metadata": {},
   "outputs": [
    {
     "name": "stdout",
     "output_type": "stream",
     "text": [
      "Getting results from database\n",
      "\n"
     ]
    },
    {
     "name": "stderr",
     "output_type": "stream",
     "text": [
      "ERROR:root:\n",
      "            Http Status: 500\n",
      "            Error Message: No matching signature for operator = for argument types: ARRAY<STRING>, STRING. Supported signature: ANY = ANY at [1:72]\n",
      "            \n"
     ]
    },
    {
     "name": "stdout",
     "output_type": "stream",
     "text": [
      "Total execution time: 880 ms\n",
      "None\n"
     ]
    }
   ],
   "source": [
    "q1 = Q('subject_associated_project = \"TCGA-OV\"')\n",
    "r = q1.run()\n",
    "print(r)"
   ]
  },
  {
   "cell_type": "code",
   "execution_count": 73,
   "id": "e1dd0579",
   "metadata": {},
   "outputs": [
    {
     "name": "stdout",
     "output_type": "stream",
     "text": [
      "Getting results from database\n",
      "\n",
      "Total execution time: 24808 ms\n",
      "\n",
      "QueryID: baa7ae6d-bc80-4582-ac24-e132d6752a5d\n",
      "Query: SELECT all_v2.* FROM gdc-bq-sample.integration.all_v2 AS all_v2, UNNEST(ResearchSubject) AS _ResearchSubject WHERE (_ResearchSubject.associated_project = 'TCGA-OV')\n",
      "Offset: 0\n",
      "Count: 100\n",
      "Total Row Count: 608\n",
      "More pages: True\n",
      "\n"
     ]
    }
   ],
   "source": [
    "q1 = Q('ResearchSubject.associated_project = \"TCGA-OV\"')\n",
    "r = q1.run()\n",
    "print(r)\n"
   ]
  },
  {
   "cell_type": "code",
   "execution_count": 99,
   "id": "84cbbad6",
   "metadata": {},
   "outputs": [
    {
     "data": {
      "text/plain": [
       "\n",
       "QueryID: b59500f3-cf74-4e51-abf8-a659b12cc873\n",
       "Query: SELECT su.id sid , rs.identifier rsid, fi.drs_uri\n",
       "from gdc-bq-sample.integration.all_v2 AS su,\n",
       "unnest(ResearchSubject) AS rs,\n",
       "unnest(rs.File) as fi\n",
       "where (su.id = 'TCGA-13-1504')\n",
       "and file_format = 'BAM' \n",
       "Offset: 0\n",
       "Count: 3\n",
       "Total Row Count: 3\n",
       "More pages: False"
      ]
     },
     "execution_count": 99,
     "metadata": {},
     "output_type": "execute_result"
    }
   ],
   "source": [
    "query1 = \"\"\"SELECT su.id sid , rs.identifier rsid, fi.drs_uri\n",
    "from gdc-bq-sample.integration.all_v2 AS su,\n",
    "unnest(ResearchSubject) AS rs,\n",
    "unnest(rs.File) as fi\n",
    "where (su.id = 'TCGA-13-1504')\n",
    "and file_format = 'BAM' \"\"\"\n",
    "\n",
    "r1 = Q.sql(query1)\n",
    "r1"
   ]
  },
  {
   "cell_type": "code",
   "execution_count": 100,
   "id": "dce10ac7",
   "metadata": {},
   "outputs": [
    {
     "name": "stdout",
     "output_type": "stream",
     "text": [
      "{\n",
      "   \"sid\": \"TCGA-13-1504\",\n",
      "   \"rsid\": [\n",
      "      {\n",
      "         \"system\": \"GDC\",\n",
      "         \"value\": \"cd49126a-ec15-43fa-9e43-3f7460d43f2b\"\n",
      "      }\n",
      "   ],\n",
      "   \"drs_uri\": \"drs://dg.4DFC:8b7859ed-395a-449d-8e4b-7d385d0ffa43\"\n",
      "}\n",
      "{\n",
      "   \"sid\": \"TCGA-13-1504\",\n",
      "   \"rsid\": [\n",
      "      {\n",
      "         \"system\": \"GDC\",\n",
      "         \"value\": \"cd49126a-ec15-43fa-9e43-3f7460d43f2b\"\n",
      "      }\n",
      "   ],\n",
      "   \"drs_uri\": \"drs://dg.4DFC:698994fe-b22a-4723-b9f0-23551fd3bb0e\"\n",
      "}\n",
      "{\n",
      "   \"sid\": \"TCGA-13-1504\",\n",
      "   \"rsid\": [\n",
      "      {\n",
      "         \"system\": \"GDC\",\n",
      "         \"value\": \"cd49126a-ec15-43fa-9e43-3f7460d43f2b\"\n",
      "      }\n",
      "   ],\n",
      "   \"drs_uri\": \"drs://dg.4DFC:07a9e595-023d-47d5-97fa-3fcc62f5d0c6\"\n",
      "}\n"
     ]
    }
   ],
   "source": [
    "for res in r1:\n",
    "    print(json.dumps(res, indent=3))"
   ]
  },
  {
   "cell_type": "code",
   "execution_count": 101,
   "id": "d73fa61f",
   "metadata": {},
   "outputs": [
    {
     "data": {
      "text/plain": [
       "\n",
       "QueryID: b92d262a-8b86-4f1e-ada7-61123750661a\n",
       "Query: SELECT su.id sid , rs.identifier rsid, fi.*\n",
       "from gdc-bq-sample.integration.all_v2 AS su,\n",
       "unnest(ResearchSubject) AS rs,\n",
       "unnest(rs.File) as fi\n",
       "where (su.id = 'TCGA-13-1504')\n",
       "and file_format = 'BAM' \n",
       "Offset: 0\n",
       "Count: 3\n",
       "Total Row Count: 3\n",
       "More pages: False"
      ]
     },
     "execution_count": 101,
     "metadata": {},
     "output_type": "execute_result"
    }
   ],
   "source": [
    "query2 = \"\"\"SELECT su.id sid , rs.identifier rsid, fi.*\n",
    "from gdc-bq-sample.integration.all_v2 AS su,\n",
    "unnest(ResearchSubject) AS rs,\n",
    "unnest(rs.File) as fi\n",
    "where (su.id = 'TCGA-13-1504')\n",
    "and file_format = 'BAM' \"\"\"\n",
    "\n",
    "r2 = Q.sql(query2)\n",
    "r2"
   ]
  },
  {
   "cell_type": "code",
   "execution_count": 102,
   "id": "86c5c70e",
   "metadata": {},
   "outputs": [
    {
     "name": "stdout",
     "output_type": "stream",
     "text": [
      "{\n",
      "   \"sid\": \"TCGA-13-1504\",\n",
      "   \"rsid\": [\n",
      "      {\n",
      "         \"system\": \"GDC\",\n",
      "         \"value\": \"cd49126a-ec15-43fa-9e43-3f7460d43f2b\"\n",
      "      }\n",
      "   ],\n",
      "   \"id\": \"8b7859ed-395a-449d-8e4b-7d385d0ffa43\",\n",
      "   \"identifier\": [\n",
      "      {\n",
      "         \"system\": \"GDC\",\n",
      "         \"value\": \"8b7859ed-395a-449d-8e4b-7d385d0ffa43\"\n",
      "      }\n",
      "   ],\n",
      "   \"label\": \"TCGA-13-1504-01A-01R-1565-13_mirna_gdc_realn.bam\",\n",
      "   \"data_category\": \"Sequencing Reads\",\n",
      "   \"data_type\": \"Aligned Reads\",\n",
      "   \"file_format\": \"BAM\",\n",
      "   \"associated_project\": \"TCGA-OV\",\n",
      "   \"drs_uri\": \"drs://dg.4DFC:8b7859ed-395a-449d-8e4b-7d385d0ffa43\",\n",
      "   \"byte_size\": \"617903851\",\n",
      "   \"checksum\": \"42b51bf61122b716cd02a628da9b7d89\"\n",
      "}\n",
      "{\n",
      "   \"sid\": \"TCGA-13-1504\",\n",
      "   \"rsid\": [\n",
      "      {\n",
      "         \"system\": \"GDC\",\n",
      "         \"value\": \"cd49126a-ec15-43fa-9e43-3f7460d43f2b\"\n",
      "      }\n",
      "   ],\n",
      "   \"id\": \"698994fe-b22a-4723-b9f0-23551fd3bb0e\",\n",
      "   \"identifier\": [\n",
      "      {\n",
      "         \"system\": \"GDC\",\n",
      "         \"value\": \"698994fe-b22a-4723-b9f0-23551fd3bb0e\"\n",
      "      }\n",
      "   ],\n",
      "   \"label\": \"C239.TCGA-13-1504-01A-01W.5_gdc_realn.bam\",\n",
      "   \"data_category\": \"Sequencing Reads\",\n",
      "   \"data_type\": \"Aligned Reads\",\n",
      "   \"file_format\": \"BAM\",\n",
      "   \"associated_project\": \"TCGA-OV\",\n",
      "   \"drs_uri\": \"drs://dg.4DFC:698994fe-b22a-4723-b9f0-23551fd3bb0e\",\n",
      "   \"byte_size\": \"32100267850\",\n",
      "   \"checksum\": \"81412db2d755379b4d0d24c860013ec2\"\n",
      "}\n",
      "{\n",
      "   \"sid\": \"TCGA-13-1504\",\n",
      "   \"rsid\": [\n",
      "      {\n",
      "         \"system\": \"GDC\",\n",
      "         \"value\": \"cd49126a-ec15-43fa-9e43-3f7460d43f2b\"\n",
      "      }\n",
      "   ],\n",
      "   \"id\": \"07a9e595-023d-47d5-97fa-3fcc62f5d0c6\",\n",
      "   \"identifier\": [\n",
      "      {\n",
      "         \"system\": \"GDC\",\n",
      "         \"value\": \"07a9e595-023d-47d5-97fa-3fcc62f5d0c6\"\n",
      "      }\n",
      "   ],\n",
      "   \"label\": \"C239.TCGA-13-1504-10A-01W.6_gdc_realn.bam\",\n",
      "   \"data_category\": \"Sequencing Reads\",\n",
      "   \"data_type\": \"Aligned Reads\",\n",
      "   \"file_format\": \"BAM\",\n",
      "   \"associated_project\": \"TCGA-OV\",\n",
      "   \"drs_uri\": \"drs://dg.4DFC:07a9e595-023d-47d5-97fa-3fcc62f5d0c6\",\n",
      "   \"byte_size\": \"35466456040\",\n",
      "   \"checksum\": \"74451615312647e65cc6e6e69c0a9e0b\"\n",
      "}\n"
     ]
    }
   ],
   "source": [
    "for res in r2:\n",
    "    print(json.dumps(res, indent=3))"
   ]
  },
  {
   "cell_type": "code",
   "execution_count": null,
   "id": "a5536ae4",
   "metadata": {},
   "outputs": [],
   "source": []
  }
 ],
 "metadata": {
  "kernelspec": {
   "display_name": "Python 3 (ipykernel)",
   "language": "python",
   "name": "python3"
  },
  "language_info": {
   "codemirror_mode": {
    "name": "ipython",
    "version": 3
   },
   "file_extension": ".py",
   "mimetype": "text/x-python",
   "name": "python",
   "nbconvert_exporter": "python",
   "pygments_lexer": "ipython3",
   "version": "3.9.7"
  }
 },
 "nbformat": 4,
 "nbformat_minor": 5
}
