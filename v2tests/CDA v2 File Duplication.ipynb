{
 "cells": [
  {
   "cell_type": "code",
   "execution_count": 1,
   "id": "3973435f",
   "metadata": {},
   "outputs": [],
   "source": [
    "from cdapython import Q, columns, unique_terms, query\n"
   ]
  },
  {
   "cell_type": "markdown",
   "id": "2a4f0e58",
   "metadata": {},
   "source": [
    "### Top level files for a single subject"
   ]
  },
  {
   "cell_type": "code",
   "execution_count": 2,
   "id": "56b76968",
   "metadata": {},
   "outputs": [
    {
     "name": "stdout",
     "output_type": "stream",
     "text": [
      "Getting results from database\n",
      "\n",
      "Total execution time: 9490 ms\n",
      "\n",
      "QueryID: 63a5d612-8725-4ff0-a431-b298ef700193\n",
      "Query: SELECT all_v2.* FROM gdc-bq-sample.integration.all_v2 AS all_v2 WHERE (all_v2.id = 'TCGA-13-1504')\n",
      "Offset: 0\n",
      "Count: 1\n",
      "Total Row Count: 1\n",
      "More pages: False\n",
      "\n"
     ]
    }
   ],
   "source": [
    "import json\n",
    "q1 = Q('id = \"TCGA-13-1504\"')\n",
    "r = q1.run()\n",
    "print(r)\n"
   ]
  },
  {
   "cell_type": "code",
   "execution_count": 3,
   "id": "cade7560",
   "metadata": {},
   "outputs": [
    {
     "name": "stdout",
     "output_type": "stream",
     "text": [
      "Counter({'Imaging': 226, 'Peptide Spectral Matches': 55, 'Raw Mass Spectra': 28, 'Processed Mass Spectra': 27, 'Simple Nucleotide Variation': 16, 'Biospecimen': 12, 'Clinical': 8, 'Copy Number Variation': 7, 'Sequencing Reads': 3, 'Transcriptome Profiling': 2, 'DNA Methylation': 1, 'Proteome Profiling': 1})\n"
     ]
    }
   ],
   "source": [
    "from collections import Counter\n",
    "fileCounter = Counter()\n",
    "for f in r[0]['File']:\n",
    "    fileCounter[f['data_category']] +=1\n",
    "print(fileCounter)"
   ]
  },
  {
   "cell_type": "markdown",
   "id": "494687ff",
   "metadata": {},
   "source": [
    "Looking at the top level Sequencing Reads files"
   ]
  },
  {
   "cell_type": "code",
   "execution_count": 4,
   "id": "c831820d",
   "metadata": {
    "scrolled": true
   },
   "outputs": [
    {
     "name": "stdout",
     "output_type": "stream",
     "text": [
      "{\n",
      "   \"id\": \"8b7859ed-395a-449d-8e4b-7d385d0ffa43\",\n",
      "   \"identifier\": [\n",
      "      {\n",
      "         \"system\": \"GDC\",\n",
      "         \"value\": \"8b7859ed-395a-449d-8e4b-7d385d0ffa43\"\n",
      "      }\n",
      "   ],\n",
      "   \"label\": \"TCGA-13-1504-01A-01R-1565-13_mirna_gdc_realn.bam\",\n",
      "   \"data_category\": \"Sequencing Reads\",\n",
      "   \"data_type\": \"Aligned Reads\",\n",
      "   \"file_format\": \"BAM\",\n",
      "   \"associated_project\": \"TCGA-OV\",\n",
      "   \"drs_uri\": \"drs://dg.4DFC:8b7859ed-395a-449d-8e4b-7d385d0ffa43\",\n",
      "   \"byte_size\": \"617903851\",\n",
      "   \"checksum\": \"42b51bf61122b716cd02a628da9b7d89\"\n",
      "}\n",
      "{\n",
      "   \"id\": \"698994fe-b22a-4723-b9f0-23551fd3bb0e\",\n",
      "   \"identifier\": [\n",
      "      {\n",
      "         \"system\": \"GDC\",\n",
      "         \"value\": \"698994fe-b22a-4723-b9f0-23551fd3bb0e\"\n",
      "      }\n",
      "   ],\n",
      "   \"label\": \"C239.TCGA-13-1504-01A-01W.5_gdc_realn.bam\",\n",
      "   \"data_category\": \"Sequencing Reads\",\n",
      "   \"data_type\": \"Aligned Reads\",\n",
      "   \"file_format\": \"BAM\",\n",
      "   \"associated_project\": \"TCGA-OV\",\n",
      "   \"drs_uri\": \"drs://dg.4DFC:698994fe-b22a-4723-b9f0-23551fd3bb0e\",\n",
      "   \"byte_size\": \"32100267850\",\n",
      "   \"checksum\": \"81412db2d755379b4d0d24c860013ec2\"\n",
      "}\n",
      "{\n",
      "   \"id\": \"07a9e595-023d-47d5-97fa-3fcc62f5d0c6\",\n",
      "   \"identifier\": [\n",
      "      {\n",
      "         \"system\": \"GDC\",\n",
      "         \"value\": \"07a9e595-023d-47d5-97fa-3fcc62f5d0c6\"\n",
      "      }\n",
      "   ],\n",
      "   \"label\": \"C239.TCGA-13-1504-10A-01W.6_gdc_realn.bam\",\n",
      "   \"data_category\": \"Sequencing Reads\",\n",
      "   \"data_type\": \"Aligned Reads\",\n",
      "   \"file_format\": \"BAM\",\n",
      "   \"associated_project\": \"TCGA-OV\",\n",
      "   \"drs_uri\": \"drs://dg.4DFC:07a9e595-023d-47d5-97fa-3fcc62f5d0c6\",\n",
      "   \"byte_size\": \"35466456040\",\n",
      "   \"checksum\": \"74451615312647e65cc6e6e69c0a9e0b\"\n",
      "}\n"
     ]
    }
   ],
   "source": [
    "for f in r[0]['File']:\n",
    "    if f['data_category'] == \"Sequencing Reads\":\n",
    "        print(json.dumps(f,indent=3))"
   ]
  },
  {
   "cell_type": "markdown",
   "id": "ec85799d",
   "metadata": {},
   "source": [
    "### Examine the files within ResearchSubjects and Specimens"
   ]
  },
  {
   "cell_type": "code",
   "execution_count": 5,
   "id": "fcca72fe",
   "metadata": {
    "scrolled": false
   },
   "outputs": [
    {
     "name": "stdout",
     "output_type": "stream",
     "text": [
      "Counter({'TCGA-13-1504-01A-01R-1565-13_mirna_gdc_realn.bam': 7, 'C239.TCGA-13-1504-01A-01W.5_gdc_realn.bam': 7, 'C239.TCGA-13-1504-10A-01W.6_gdc_realn.bam': 5})\n"
     ]
    }
   ],
   "source": [
    "from collections import Counter\n",
    "fileCounts = Counter()\n",
    "fileReferences = {}\n",
    "data_cat = \"Sequencing Reads\"\n",
    "for su in r[0]['ResearchSubject']:\n",
    "    for f in su['File']:\n",
    "        if f['data_category'] == data_cat:        \n",
    "            fileCounts[f['label']] +=1\n",
    "            fileReferences[f['label']] = {'referenced_by':[{\"type\":\"subject\",\"id\":su['id']}]}\n",
    "    for sp in su['Specimen']:\n",
    "         for f in sp['File']:\n",
    "            if f['data_category'] == data_cat:\n",
    "                fileCounts[f['label']] +=1\n",
    "                specDetails = {k: sp[k] for k in ('id', 'source_material_type', 'specimen_type', 'derived_from_specimen')}\n",
    "                specDetails['type']= 'specimen'\n",
    "                fileReferences[f['label']]['referenced_by'].append(specDetails)\n",
    "print(fileCounts)"
   ]
  },
  {
   "cell_type": "code",
   "execution_count": 6,
   "id": "dbc401a3",
   "metadata": {
    "scrolled": true
   },
   "outputs": [
    {
     "name": "stdout",
     "output_type": "stream",
     "text": [
      "File:TCGA-13-1504-01A-01R-1565-13_mirna_gdc_realn.bam\n",
      "File is included in the following objects\n"
     ]
    },
    {
     "name": "stderr",
     "output_type": "stream",
     "text": [
      "/Users/forei/imfenvs/cda2/lib/python3.9/site-packages/pandas/compat/__init__.py:124: UserWarning: Could not import the lzma module. Your installed Python is incomplete. Attempting to use lzma compression will result in a RuntimeError.\n",
      "  warnings.warn(msg)\n"
     ]
    },
    {
     "data": {
      "text/html": [
       "<div>\n",
       "<style scoped>\n",
       "    .dataframe tbody tr th:only-of-type {\n",
       "        vertical-align: middle;\n",
       "    }\n",
       "\n",
       "    .dataframe tbody tr th {\n",
       "        vertical-align: top;\n",
       "    }\n",
       "\n",
       "    .dataframe thead th {\n",
       "        text-align: right;\n",
       "    }\n",
       "</style>\n",
       "<table border=\"1\" class=\"dataframe\">\n",
       "  <thead>\n",
       "    <tr style=\"text-align: right;\">\n",
       "      <th></th>\n",
       "      <th>type</th>\n",
       "      <th>id</th>\n",
       "      <th>source_material_type</th>\n",
       "      <th>specimen_type</th>\n",
       "      <th>derived_from_specimen</th>\n",
       "    </tr>\n",
       "  </thead>\n",
       "  <tbody>\n",
       "    <tr>\n",
       "      <th>0</th>\n",
       "      <td>subject</td>\n",
       "      <td>cd49126a-ec15-43fa-9e43-3f7460d43f2b</td>\n",
       "      <td>NaN</td>\n",
       "      <td>NaN</td>\n",
       "      <td>NaN</td>\n",
       "    </tr>\n",
       "    <tr>\n",
       "      <th>1</th>\n",
       "      <td>specimen</td>\n",
       "      <td>78fbf568-1a01-4725-8994-bf084b12e316</td>\n",
       "      <td>Primary Tumor</td>\n",
       "      <td>sample</td>\n",
       "      <td>initial specimen</td>\n",
       "    </tr>\n",
       "    <tr>\n",
       "      <th>2</th>\n",
       "      <td>specimen</td>\n",
       "      <td>5d4e2a9b-4960-4c07-9aab-f9a11c8d11df</td>\n",
       "      <td>Primary Tumor</td>\n",
       "      <td>portion</td>\n",
       "      <td>78fbf568-1a01-4725-8994-bf084b12e316</td>\n",
       "    </tr>\n",
       "    <tr>\n",
       "      <th>3</th>\n",
       "      <td>specimen</td>\n",
       "      <td>2224d488-a25a-4d13-bf62-6b8518cc67d4</td>\n",
       "      <td>Primary Tumor</td>\n",
       "      <td>slide</td>\n",
       "      <td>5d4e2a9b-4960-4c07-9aab-f9a11c8d11df</td>\n",
       "    </tr>\n",
       "    <tr>\n",
       "      <th>4</th>\n",
       "      <td>specimen</td>\n",
       "      <td>8b60e9fd-1119-4e92-a606-881b1daecbf6</td>\n",
       "      <td>Primary Tumor</td>\n",
       "      <td>slide</td>\n",
       "      <td>5d4e2a9b-4960-4c07-9aab-f9a11c8d11df</td>\n",
       "    </tr>\n",
       "    <tr>\n",
       "      <th>5</th>\n",
       "      <td>specimen</td>\n",
       "      <td>5f2d28ea-0750-4aa0-863c-9db59d93bfc5</td>\n",
       "      <td>Primary Tumor</td>\n",
       "      <td>analyte</td>\n",
       "      <td>5d4e2a9b-4960-4c07-9aab-f9a11c8d11df</td>\n",
       "    </tr>\n",
       "    <tr>\n",
       "      <th>6</th>\n",
       "      <td>specimen</td>\n",
       "      <td>4eb038e4-6e3c-40c5-abde-c446204e6cb6</td>\n",
       "      <td>Primary Tumor</td>\n",
       "      <td>aliquot</td>\n",
       "      <td>5f2d28ea-0750-4aa0-863c-9db59d93bfc5</td>\n",
       "    </tr>\n",
       "  </tbody>\n",
       "</table>\n",
       "</div>"
      ],
      "text/plain": [
       "       type                                    id source_material_type  \\\n",
       "0   subject  cd49126a-ec15-43fa-9e43-3f7460d43f2b                  NaN   \n",
       "1  specimen  78fbf568-1a01-4725-8994-bf084b12e316        Primary Tumor   \n",
       "2  specimen  5d4e2a9b-4960-4c07-9aab-f9a11c8d11df        Primary Tumor   \n",
       "3  specimen  2224d488-a25a-4d13-bf62-6b8518cc67d4        Primary Tumor   \n",
       "4  specimen  8b60e9fd-1119-4e92-a606-881b1daecbf6        Primary Tumor   \n",
       "5  specimen  5f2d28ea-0750-4aa0-863c-9db59d93bfc5        Primary Tumor   \n",
       "6  specimen  4eb038e4-6e3c-40c5-abde-c446204e6cb6        Primary Tumor   \n",
       "\n",
       "  specimen_type                 derived_from_specimen  \n",
       "0           NaN                                   NaN  \n",
       "1        sample                      initial specimen  \n",
       "2       portion  78fbf568-1a01-4725-8994-bf084b12e316  \n",
       "3         slide  5d4e2a9b-4960-4c07-9aab-f9a11c8d11df  \n",
       "4         slide  5d4e2a9b-4960-4c07-9aab-f9a11c8d11df  \n",
       "5       analyte  5d4e2a9b-4960-4c07-9aab-f9a11c8d11df  \n",
       "6       aliquot  5f2d28ea-0750-4aa0-863c-9db59d93bfc5  "
      ]
     },
     "metadata": {},
     "output_type": "display_data"
    },
    {
     "name": "stdout",
     "output_type": "stream",
     "text": [
      "________________________________________________________________________________\n",
      "\n",
      "File:C239.TCGA-13-1504-01A-01W.5_gdc_realn.bam\n",
      "File is included in the following objects\n"
     ]
    },
    {
     "data": {
      "text/html": [
       "<div>\n",
       "<style scoped>\n",
       "    .dataframe tbody tr th:only-of-type {\n",
       "        vertical-align: middle;\n",
       "    }\n",
       "\n",
       "    .dataframe tbody tr th {\n",
       "        vertical-align: top;\n",
       "    }\n",
       "\n",
       "    .dataframe thead th {\n",
       "        text-align: right;\n",
       "    }\n",
       "</style>\n",
       "<table border=\"1\" class=\"dataframe\">\n",
       "  <thead>\n",
       "    <tr style=\"text-align: right;\">\n",
       "      <th></th>\n",
       "      <th>type</th>\n",
       "      <th>id</th>\n",
       "      <th>source_material_type</th>\n",
       "      <th>specimen_type</th>\n",
       "      <th>derived_from_specimen</th>\n",
       "    </tr>\n",
       "  </thead>\n",
       "  <tbody>\n",
       "    <tr>\n",
       "      <th>0</th>\n",
       "      <td>subject</td>\n",
       "      <td>cd49126a-ec15-43fa-9e43-3f7460d43f2b</td>\n",
       "      <td>NaN</td>\n",
       "      <td>NaN</td>\n",
       "      <td>NaN</td>\n",
       "    </tr>\n",
       "    <tr>\n",
       "      <th>1</th>\n",
       "      <td>specimen</td>\n",
       "      <td>78fbf568-1a01-4725-8994-bf084b12e316</td>\n",
       "      <td>Primary Tumor</td>\n",
       "      <td>sample</td>\n",
       "      <td>initial specimen</td>\n",
       "    </tr>\n",
       "    <tr>\n",
       "      <th>2</th>\n",
       "      <td>specimen</td>\n",
       "      <td>5d4e2a9b-4960-4c07-9aab-f9a11c8d11df</td>\n",
       "      <td>Primary Tumor</td>\n",
       "      <td>portion</td>\n",
       "      <td>78fbf568-1a01-4725-8994-bf084b12e316</td>\n",
       "    </tr>\n",
       "    <tr>\n",
       "      <th>3</th>\n",
       "      <td>specimen</td>\n",
       "      <td>2224d488-a25a-4d13-bf62-6b8518cc67d4</td>\n",
       "      <td>Primary Tumor</td>\n",
       "      <td>slide</td>\n",
       "      <td>5d4e2a9b-4960-4c07-9aab-f9a11c8d11df</td>\n",
       "    </tr>\n",
       "    <tr>\n",
       "      <th>4</th>\n",
       "      <td>specimen</td>\n",
       "      <td>8b60e9fd-1119-4e92-a606-881b1daecbf6</td>\n",
       "      <td>Primary Tumor</td>\n",
       "      <td>slide</td>\n",
       "      <td>5d4e2a9b-4960-4c07-9aab-f9a11c8d11df</td>\n",
       "    </tr>\n",
       "    <tr>\n",
       "      <th>5</th>\n",
       "      <td>specimen</td>\n",
       "      <td>b05701a3-1ab8-46a1-a32e-cf6e58de519e</td>\n",
       "      <td>Primary Tumor</td>\n",
       "      <td>analyte</td>\n",
       "      <td>5d4e2a9b-4960-4c07-9aab-f9a11c8d11df</td>\n",
       "    </tr>\n",
       "    <tr>\n",
       "      <th>6</th>\n",
       "      <td>specimen</td>\n",
       "      <td>15c62cbb-78de-42a2-acd8-46599cd61986</td>\n",
       "      <td>Primary Tumor</td>\n",
       "      <td>aliquot</td>\n",
       "      <td>b05701a3-1ab8-46a1-a32e-cf6e58de519e</td>\n",
       "    </tr>\n",
       "  </tbody>\n",
       "</table>\n",
       "</div>"
      ],
      "text/plain": [
       "       type                                    id source_material_type  \\\n",
       "0   subject  cd49126a-ec15-43fa-9e43-3f7460d43f2b                  NaN   \n",
       "1  specimen  78fbf568-1a01-4725-8994-bf084b12e316        Primary Tumor   \n",
       "2  specimen  5d4e2a9b-4960-4c07-9aab-f9a11c8d11df        Primary Tumor   \n",
       "3  specimen  2224d488-a25a-4d13-bf62-6b8518cc67d4        Primary Tumor   \n",
       "4  specimen  8b60e9fd-1119-4e92-a606-881b1daecbf6        Primary Tumor   \n",
       "5  specimen  b05701a3-1ab8-46a1-a32e-cf6e58de519e        Primary Tumor   \n",
       "6  specimen  15c62cbb-78de-42a2-acd8-46599cd61986        Primary Tumor   \n",
       "\n",
       "  specimen_type                 derived_from_specimen  \n",
       "0           NaN                                   NaN  \n",
       "1        sample                      initial specimen  \n",
       "2       portion  78fbf568-1a01-4725-8994-bf084b12e316  \n",
       "3         slide  5d4e2a9b-4960-4c07-9aab-f9a11c8d11df  \n",
       "4         slide  5d4e2a9b-4960-4c07-9aab-f9a11c8d11df  \n",
       "5       analyte  5d4e2a9b-4960-4c07-9aab-f9a11c8d11df  \n",
       "6       aliquot  b05701a3-1ab8-46a1-a32e-cf6e58de519e  "
      ]
     },
     "metadata": {},
     "output_type": "display_data"
    },
    {
     "name": "stdout",
     "output_type": "stream",
     "text": [
      "________________________________________________________________________________\n",
      "\n",
      "File:C239.TCGA-13-1504-10A-01W.6_gdc_realn.bam\n",
      "File is included in the following objects\n"
     ]
    },
    {
     "data": {
      "text/html": [
       "<div>\n",
       "<style scoped>\n",
       "    .dataframe tbody tr th:only-of-type {\n",
       "        vertical-align: middle;\n",
       "    }\n",
       "\n",
       "    .dataframe tbody tr th {\n",
       "        vertical-align: top;\n",
       "    }\n",
       "\n",
       "    .dataframe thead th {\n",
       "        text-align: right;\n",
       "    }\n",
       "</style>\n",
       "<table border=\"1\" class=\"dataframe\">\n",
       "  <thead>\n",
       "    <tr style=\"text-align: right;\">\n",
       "      <th></th>\n",
       "      <th>type</th>\n",
       "      <th>id</th>\n",
       "      <th>source_material_type</th>\n",
       "      <th>specimen_type</th>\n",
       "      <th>derived_from_specimen</th>\n",
       "    </tr>\n",
       "  </thead>\n",
       "  <tbody>\n",
       "    <tr>\n",
       "      <th>0</th>\n",
       "      <td>subject</td>\n",
       "      <td>cd49126a-ec15-43fa-9e43-3f7460d43f2b</td>\n",
       "      <td>NaN</td>\n",
       "      <td>NaN</td>\n",
       "      <td>NaN</td>\n",
       "    </tr>\n",
       "    <tr>\n",
       "      <th>1</th>\n",
       "      <td>specimen</td>\n",
       "      <td>2d46dc86-53ca-4eba-989f-239951507ad7</td>\n",
       "      <td>Blood Derived Normal</td>\n",
       "      <td>sample</td>\n",
       "      <td>initial specimen</td>\n",
       "    </tr>\n",
       "    <tr>\n",
       "      <th>2</th>\n",
       "      <td>specimen</td>\n",
       "      <td>7cbe22ca-5491-48fd-835e-44466927ffdd</td>\n",
       "      <td>Blood Derived Normal</td>\n",
       "      <td>portion</td>\n",
       "      <td>2d46dc86-53ca-4eba-989f-239951507ad7</td>\n",
       "    </tr>\n",
       "    <tr>\n",
       "      <th>3</th>\n",
       "      <td>specimen</td>\n",
       "      <td>a5061825-bae8-4294-8366-67a260fa6f48</td>\n",
       "      <td>Blood Derived Normal</td>\n",
       "      <td>analyte</td>\n",
       "      <td>7cbe22ca-5491-48fd-835e-44466927ffdd</td>\n",
       "    </tr>\n",
       "    <tr>\n",
       "      <th>4</th>\n",
       "      <td>specimen</td>\n",
       "      <td>4a43a38c-892c-4478-b94f-318dbe282269</td>\n",
       "      <td>Blood Derived Normal</td>\n",
       "      <td>aliquot</td>\n",
       "      <td>a5061825-bae8-4294-8366-67a260fa6f48</td>\n",
       "    </tr>\n",
       "  </tbody>\n",
       "</table>\n",
       "</div>"
      ],
      "text/plain": [
       "       type                                    id  source_material_type  \\\n",
       "0   subject  cd49126a-ec15-43fa-9e43-3f7460d43f2b                   NaN   \n",
       "1  specimen  2d46dc86-53ca-4eba-989f-239951507ad7  Blood Derived Normal   \n",
       "2  specimen  7cbe22ca-5491-48fd-835e-44466927ffdd  Blood Derived Normal   \n",
       "3  specimen  a5061825-bae8-4294-8366-67a260fa6f48  Blood Derived Normal   \n",
       "4  specimen  4a43a38c-892c-4478-b94f-318dbe282269  Blood Derived Normal   \n",
       "\n",
       "  specimen_type                 derived_from_specimen  \n",
       "0           NaN                                   NaN  \n",
       "1        sample                      initial specimen  \n",
       "2       portion  2d46dc86-53ca-4eba-989f-239951507ad7  \n",
       "3       analyte  7cbe22ca-5491-48fd-835e-44466927ffdd  \n",
       "4       aliquot  a5061825-bae8-4294-8366-67a260fa6f48  "
      ]
     },
     "metadata": {},
     "output_type": "display_data"
    },
    {
     "name": "stdout",
     "output_type": "stream",
     "text": [
      "________________________________________________________________________________\n",
      "\n"
     ]
    }
   ],
   "source": [
    "import pandas as pd\n",
    "from IPython.display import display, HTML\n",
    "\n",
    "for f, v in fileReferences.items():\n",
    "    refs = v['referenced_by']\n",
    "    df = pd.DataFrame(refs)\n",
    "    print(\"File:{}\".format(f))\n",
    "    print(\"File is included in the following objects\")\n",
    "    display(df)\n",
    "    print('_'*80)\n",
    "    print()"
   ]
  },
  {
   "cell_type": "markdown",
   "id": "12713b5d",
   "metadata": {},
   "source": [
    "One particularly odd thing is that the files are referenced from the Slide. The actual physical relationship between these objects is as follows\n",
    "\n",
    "```\n",
    "Portion 5d4e2a9b-4960-4c07-9aab-f9a11c8d11df\n",
    "--->Analyte 5f2d28ea-0750-4aa0-863c-9db59d93bfc5\n",
    "------>Aliquot 4eb038e4-6e3c-40c5-abde-c446204e6cb6\t\n",
    "--------->File TCGA-13-1504-01A-01R-1565-13_mirna_gdc_realn.bam\n",
    "--->Slide 2224d488-a25a-4d13-bf62-6b8518cc67d4\n",
    "--->Slide 8b60e9fd-1119-4e92-a606-881b1daecbf6\n",
    "```\n",
    "\n",
    "It is misleading to represent the file as associated with the slides."
   ]
  },
  {
   "cell_type": "markdown",
   "id": "9f364d6f",
   "metadata": {},
   "source": [
    "### Use the GDC API to see what entities are associated with the files\n",
    "\n",
    "The following queries the Genomic Data Commons to see what entity each of these three files is associated with.\n"
   ]
  },
  {
   "cell_type": "code",
   "execution_count": 7,
   "id": "ca7d432d",
   "metadata": {},
   "outputs": [
    {
     "name": "stdout",
     "output_type": "stream",
     "text": [
      "{'id': '8b7859ed-395a-449d-8e4b-7d385d0ffa43', 'associated_entities': [{'entity_type': 'aliquot', 'entity_id': '4eb038e4-6e3c-40c5-abde-c446204e6cb6'}], 'file_name': 'TCGA-13-1504-01A-01R-1565-13_mirna_gdc_realn.bam'}\n",
      "\n",
      "{'id': '698994fe-b22a-4723-b9f0-23551fd3bb0e', 'associated_entities': [{'entity_type': 'aliquot', 'entity_id': '15c62cbb-78de-42a2-acd8-46599cd61986'}], 'file_name': 'C239.TCGA-13-1504-01A-01W.5_gdc_realn.bam'}\n",
      "\n",
      "{'id': '07a9e595-023d-47d5-97fa-3fcc62f5d0c6', 'associated_entities': [{'entity_type': 'aliquot', 'entity_id': '4a43a38c-892c-4478-b94f-318dbe282269'}], 'file_name': 'C239.TCGA-13-1504-10A-01W.6_gdc_realn.bam'}\n",
      "\n"
     ]
    }
   ],
   "source": [
    "import requests\n",
    "\n",
    "gdc_api_file_endpt = 'https://api.gdc.cancer.gov/files/'\n",
    "headers = {'Content-Type': 'application/json'}\n",
    "fields = \"file_name,associated_entities.entity_id,associated_entities.entity_type\"\n",
    "\n",
    "for f in fileReferences.keys():\n",
    "    body = {\n",
    "        \"filters\":{\n",
    "                \"op\":\"=\",\n",
    "                \"content\":{\n",
    "                    \"field\":\"file_name\",\n",
    "                    \"value\":f\n",
    "                }\n",
    "\n",
    "        },\n",
    "        \"fields\":fields,\n",
    "        \"format\":\"json\",\n",
    "    }\n",
    "    resp = requests.post(gdc_api_file_endpt, data=json.dumps(body), headers=headers)\n",
    "    print(resp.json()['data']['hits'][0])\n",
    "    print()\n",
    "\n"
   ]
  },
  {
   "cell_type": "markdown",
   "id": "267271c0",
   "metadata": {},
   "source": [
    "The GDC associates these files only with the aliquot entity."
   ]
  }
 ],
 "metadata": {
  "kernelspec": {
   "display_name": "Python 3 (ipykernel)",
   "language": "python",
   "name": "python3"
  },
  "language_info": {
   "codemirror_mode": {
    "name": "ipython",
    "version": 3
   },
   "file_extension": ".py",
   "mimetype": "text/x-python",
   "name": "python",
   "nbconvert_exporter": "python",
   "pygments_lexer": "ipython3",
   "version": "3.9.7"
  }
 },
 "nbformat": 4,
 "nbformat_minor": 5
}
