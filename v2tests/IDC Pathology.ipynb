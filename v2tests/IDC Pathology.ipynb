{
 "cells": [
  {
   "cell_type": "markdown",
   "id": "5fa8b429",
   "metadata": {},
   "source": [
    "### Retrieving pathology image files in CDA, and their relationship to specimens\n",
    "\n",
    "This notebook explores some considerations related to querying and making effective use of pathology image files via the Cancer Data Aggregator API.\n",
    "\n",
    "Apparently the following studies include pathology in a DICOM format (thanks Keyvan).\n",
    "\n",
    "* CPTAC-LUAD (case IDs: 11LU013 through 11LU035, and C3L-0001 through 00093)\n",
    "* CPTAC-LSCC\n",
    "\n",
    "It is not certain that either of the above also have radiology images, but that can easily be determined by a query<sup>1</sup>.\n",
    "\n",
    "<sup>1</sup>The fault in that logic is that the query would merely say whether there are radiology images present. It would not address the question of whether there are radiology images on these cases that should be present."
   ]
  },
  {
   "cell_type": "markdown",
   "id": "01ac6311",
   "metadata": {},
   "source": [
    "### Some questions for investigation - and what is expected\n",
    "* Pathology images would generally expected to be attached to the specific specimen from which material was prepared for imaging. \n",
    "    *  The histopathology would provide useful information about the specimens from which proteomics or genomic data were obtained. For example, does the pathology image confirm that the proteomic data is likely to have come from tumor cells?\n",
    "    * Can the pathology images be associated with proteomic or genomic data?\n",
    "* Whole slide pathology images are stored as numerous DICOM files.\n",
    "    * Structure - These reflect both different tiles in a grid, and multiple layered grids representing different levels of magnification. That structure is mapped into the DICOM model (study-series-image) in a specific way.\n",
    "   * Does the CDA representation of IDC pathology image files allow navigation of the levels of magnification and location of images within the grid?\n",
    "    * A large number of files has to be managed. Does CDA make that convenient for a user?\n",
    "* How does all of the above compare with the representation of pathology images in certain studies in the GDC. In these studies a whole slide image is represented as an SVS file\n"
   ]
  },
  {
   "cell_type": "markdown",
   "id": "adbd7274",
   "metadata": {},
   "source": [
    "### 1. Are pathology images attached to the appropriate specimen?\n",
    "On the way to that we have some more mundane questions\n",
    "\n",
    "#### For the studies and cases above how many image files are there?\n",
    "\n",
    "Define a function to list imaging files at the top (Subject) level of the CDA/CRDC-H model"
   ]
  },
  {
   "cell_type": "code",
   "execution_count": 1,
   "id": "b3f06566",
   "metadata": {},
   "outputs": [
    {
     "name": "stderr",
     "output_type": "stream",
     "text": [
      "/Users/forei/imfenvs/cda2/lib/python3.9/site-packages/pandas/compat/__init__.py:124: UserWarning: Could not import the lzma module. Your installed Python is incomplete. Attempting to use lzma compression will result in a RuntimeError.\n",
      "  warnings.warn(msg)\n"
     ]
    }
   ],
   "source": [
    "from cdapython import Q\n",
    "import json\n",
    "from collections import Counter\n",
    "import pandas as pd\n",
    "\n",
    "def listCaseImages(case_id):\n",
    "    q1 = Q('id = \"{}\"'.format(case_id))\n",
    "    r = q1.run()\n",
    "    #print(r)\n",
    "    if r.count > 0:\n",
    "        categories = Counter()\n",
    "        imaging_types = Counter()\n",
    "        for f in r[0]['File']:\n",
    "            dc = f['data_category']\n",
    "            categories[dc] += 1\n",
    "            if f['data_category'] == \"Imaging\":\n",
    "                imaging_types[f['data_type']+'/'+f['file_format']] += 1\n",
    "        #print(categories)\n",
    "        print (\"\\nCase:{} Image counts and types at top (Subject) level\".format(case_id))\n",
    "        tcounts = []\n",
    "        for t,c in imaging_types.items():\n",
    "            l = t.split(\"/\")\n",
    "            tcounts.append([l[0],l[1],c])            \n",
    "        df = pd.DataFrame(tcounts, columns=['Data type','File format','File count'])\n",
    "        df.set_index('Data type', inplace=True)\n",
    "        display(df)"
   ]
  },
  {
   "cell_type": "markdown",
   "id": "ebed1f08",
   "metadata": {},
   "source": [
    "Call our function on a number of specimens from the CPTAC-LUAD project."
   ]
  },
  {
   "cell_type": "code",
   "execution_count": 2,
   "id": "6073c8a1",
   "metadata": {},
   "outputs": [
    {
     "name": "stdout",
     "output_type": "stream",
     "text": [
      "Case id:11LU013\n",
      "Getting results from database\n",
      "\n",
      "Total execution time: 1205 ms\n",
      "\n",
      "Case:11LU013 Image counts and types at top (Subject) level\n"
     ]
    },
    {
     "data": {
      "text/html": [
       "<div>\n",
       "<style scoped>\n",
       "    .dataframe tbody tr th:only-of-type {\n",
       "        vertical-align: middle;\n",
       "    }\n",
       "\n",
       "    .dataframe tbody tr th {\n",
       "        vertical-align: top;\n",
       "    }\n",
       "\n",
       "    .dataframe thead th {\n",
       "        text-align: right;\n",
       "    }\n",
       "</style>\n",
       "<table border=\"1\" class=\"dataframe\">\n",
       "  <thead>\n",
       "    <tr style=\"text-align: right;\">\n",
       "      <th></th>\n",
       "      <th>File format</th>\n",
       "      <th>File count</th>\n",
       "    </tr>\n",
       "    <tr>\n",
       "      <th>Data type</th>\n",
       "      <th></th>\n",
       "      <th></th>\n",
       "    </tr>\n",
       "  </thead>\n",
       "  <tbody>\n",
       "    <tr>\n",
       "      <th>SM</th>\n",
       "      <td>DICOM</td>\n",
       "      <td>5</td>\n",
       "    </tr>\n",
       "  </tbody>\n",
       "</table>\n",
       "</div>"
      ],
      "text/plain": [
       "          File format  File count\n",
       "Data type                        \n",
       "SM              DICOM           5"
      ]
     },
     "metadata": {},
     "output_type": "display_data"
    },
    {
     "name": "stdout",
     "output_type": "stream",
     "text": [
      "________________________________________________________________________________\n",
      "Case id:11LU016\n",
      "Getting results from database\n",
      "\n",
      "Total execution time: 1172 ms\n",
      "\n",
      "Case:11LU016 Image counts and types at top (Subject) level\n"
     ]
    },
    {
     "data": {
      "text/html": [
       "<div>\n",
       "<style scoped>\n",
       "    .dataframe tbody tr th:only-of-type {\n",
       "        vertical-align: middle;\n",
       "    }\n",
       "\n",
       "    .dataframe tbody tr th {\n",
       "        vertical-align: top;\n",
       "    }\n",
       "\n",
       "    .dataframe thead th {\n",
       "        text-align: right;\n",
       "    }\n",
       "</style>\n",
       "<table border=\"1\" class=\"dataframe\">\n",
       "  <thead>\n",
       "    <tr style=\"text-align: right;\">\n",
       "      <th></th>\n",
       "      <th>File format</th>\n",
       "      <th>File count</th>\n",
       "    </tr>\n",
       "    <tr>\n",
       "      <th>Data type</th>\n",
       "      <th></th>\n",
       "      <th></th>\n",
       "    </tr>\n",
       "  </thead>\n",
       "  <tbody>\n",
       "    <tr>\n",
       "      <th>SM</th>\n",
       "      <td>DICOM</td>\n",
       "      <td>5</td>\n",
       "    </tr>\n",
       "  </tbody>\n",
       "</table>\n",
       "</div>"
      ],
      "text/plain": [
       "          File format  File count\n",
       "Data type                        \n",
       "SM              DICOM           5"
      ]
     },
     "metadata": {},
     "output_type": "display_data"
    },
    {
     "name": "stdout",
     "output_type": "stream",
     "text": [
      "________________________________________________________________________________\n",
      "Case id:11LU022\n",
      "Getting results from database\n",
      "\n",
      "Total execution time: 1342 ms\n",
      "\n",
      "Case:11LU022 Image counts and types at top (Subject) level\n"
     ]
    },
    {
     "data": {
      "text/html": [
       "<div>\n",
       "<style scoped>\n",
       "    .dataframe tbody tr th:only-of-type {\n",
       "        vertical-align: middle;\n",
       "    }\n",
       "\n",
       "    .dataframe tbody tr th {\n",
       "        vertical-align: top;\n",
       "    }\n",
       "\n",
       "    .dataframe thead th {\n",
       "        text-align: right;\n",
       "    }\n",
       "</style>\n",
       "<table border=\"1\" class=\"dataframe\">\n",
       "  <thead>\n",
       "    <tr style=\"text-align: right;\">\n",
       "      <th></th>\n",
       "      <th>File format</th>\n",
       "      <th>File count</th>\n",
       "    </tr>\n",
       "    <tr>\n",
       "      <th>Data type</th>\n",
       "      <th></th>\n",
       "      <th></th>\n",
       "    </tr>\n",
       "  </thead>\n",
       "  <tbody>\n",
       "    <tr>\n",
       "      <th>SM</th>\n",
       "      <td>DICOM</td>\n",
       "      <td>5</td>\n",
       "    </tr>\n",
       "  </tbody>\n",
       "</table>\n",
       "</div>"
      ],
      "text/plain": [
       "          File format  File count\n",
       "Data type                        \n",
       "SM              DICOM           5"
      ]
     },
     "metadata": {},
     "output_type": "display_data"
    },
    {
     "name": "stdout",
     "output_type": "stream",
     "text": [
      "________________________________________________________________________________\n",
      "Case id:11LU035\n",
      "Getting results from database\n",
      "\n",
      "Total execution time: 1063 ms\n",
      "\n",
      "Case:11LU035 Image counts and types at top (Subject) level\n"
     ]
    },
    {
     "data": {
      "text/html": [
       "<div>\n",
       "<style scoped>\n",
       "    .dataframe tbody tr th:only-of-type {\n",
       "        vertical-align: middle;\n",
       "    }\n",
       "\n",
       "    .dataframe tbody tr th {\n",
       "        vertical-align: top;\n",
       "    }\n",
       "\n",
       "    .dataframe thead th {\n",
       "        text-align: right;\n",
       "    }\n",
       "</style>\n",
       "<table border=\"1\" class=\"dataframe\">\n",
       "  <thead>\n",
       "    <tr style=\"text-align: right;\">\n",
       "      <th></th>\n",
       "      <th>File format</th>\n",
       "      <th>File count</th>\n",
       "    </tr>\n",
       "    <tr>\n",
       "      <th>Data type</th>\n",
       "      <th></th>\n",
       "      <th></th>\n",
       "    </tr>\n",
       "  </thead>\n",
       "  <tbody>\n",
       "    <tr>\n",
       "      <th>SM</th>\n",
       "      <td>DICOM</td>\n",
       "      <td>5</td>\n",
       "    </tr>\n",
       "  </tbody>\n",
       "</table>\n",
       "</div>"
      ],
      "text/plain": [
       "          File format  File count\n",
       "Data type                        \n",
       "SM              DICOM           5"
      ]
     },
     "metadata": {},
     "output_type": "display_data"
    },
    {
     "name": "stdout",
     "output_type": "stream",
     "text": [
      "________________________________________________________________________________\n"
     ]
    }
   ],
   "source": [
    "for case_id in ['11LU013','11LU016','11LU022','11LU035']:\n",
    "    print(\"Case id:{}\".format(case_id))\n",
    "    matches = listCaseImages(case_id)\n",
    "    print('_'*80)"
   ]
  },
  {
   "cell_type": "markdown",
   "id": "524b9f5f",
   "metadata": {},
   "source": [
    "Per the details about image type codes [here](https://wiki.cancerimagingarchive.net/display/Public/DICOM+Modality+Abbreviations)<sup>2</sup> each of the above cases has 5 Slide Microscopy DICOM images.\n",
    "\n",
    "\n",
    "\n",
    "These cases do indeed have pathology images\n",
    "There are 5 per case.\n",
    "They are associated with the case. As we have seen elsewhere in CDA, file references are rolled up to the higher level from lower levels (subject, specimen). They may well also exist at lower levels.\n",
    "\n",
    "<sup>2</sup> Is there an EVS list for that? Or a CCDH service?\n",
    "For now the following dictionary will be useful for decoding"
   ]
  },
  {
   "cell_type": "code",
   "execution_count": 3,
   "id": "9fcafa65",
   "metadata": {},
   "outputs": [
    {
     "data": {
      "text/plain": [
       "'Slide Microscopy'"
      ]
     },
     "execution_count": 3,
     "metadata": {},
     "output_type": "execute_result"
    }
   ],
   "source": [
    "import json\n",
    "with open('./data/image_type_codes.json') as f:\n",
    "    image_type_codes = json.loads(f.read())\n",
    "    \n",
    "image_type_codes['SM']"
   ]
  },
  {
   "cell_type": "markdown",
   "id": "42bce08d",
   "metadata": {},
   "source": [
    "Are there any files at a lower level?\n",
    "\n",
    "First are there any IDC ResearchSubjects?"
   ]
  },
  {
   "cell_type": "markdown",
   "id": "a82e8eba",
   "metadata": {},
   "source": [
    "#### Are there imaging files within ResearchSubject?"
   ]
  },
  {
   "cell_type": "code",
   "execution_count": 4,
   "id": "fad10768",
   "metadata": {},
   "outputs": [
    {
     "name": "stdout",
     "output_type": "stream",
     "text": [
      "Getting results from database\n",
      "\n",
      "Total execution time: 1103 ms\n",
      "system:GDC object count:319\n",
      "system:PDC object count:486\n"
     ]
    }
   ],
   "source": [
    "class sysCounter:\n",
    "    \"\"\"A class to count the system from which CDA objects originate\"\"\"\n",
    "    def __init__(self):\n",
    "        self.systemCounter = Counter()\n",
    "\n",
    "    def add(self, obj):\n",
    "        for i in obj['identifier']:\n",
    "            self.systemCounter[i['system']] += 1\n",
    "    \n",
    "    \n",
    "myCounter = sysCounter()\n",
    "q1 = Q('id = \"11LU022\"')\n",
    "r = q1.run()\n",
    "for res in r[0]['ResearchSubject']:\n",
    "    myCounter.add(res)\n",
    "    for f in res['File']:\n",
    "        myCounter.add(f)\n",
    "    for sp in res['Specimen']:\n",
    "        myCounter.add(sp)\n",
    "        for sf in sp['File']:\n",
    "            myCounter.add(sf)\n",
    "\n",
    "for t,c in myCounter.systemCounter.items():\n",
    "    print(\"system:{} object count:{}\".format(t,c))"
   ]
  },
  {
   "cell_type": "markdown",
   "id": "df687ff4",
   "metadata": {},
   "source": [
    "The only Research Subjects and Specimens are for GDC and PDC.\n",
    "\n",
    "Issue: Pathology image files are not associated with the specific specimen they were derived from. Reported as [cda-python/issues/102](https://github.com/CancerDataAggregator/cda-python/issues/102)\n",
    "\n",
    "Notes for the model:\n",
    "It is possible that the pathology image(s) was(were) associated with a specimen from which both proteomic and genomic data were obtained. This would be good to know.\n",
    "\n",
    "If these images were subject to quantitative image analysis (e.g. in QIN) which extracted particular measurements which genomic or proteomic data could they legitimately be associated with?\n",
    "\n",
    "Onwards. \n",
    "\n",
    "### 2. A large number of imaging files have to be managed. Does CDA make that convenient for a user?\n",
    "The next reasonable question it what are these five images?\n",
    "\n",
    "What can CDA tell us about that?\n",
    "Unfortunately the following will be verbose - but we want to see everyting CDA can tell us."
   ]
  },
  {
   "cell_type": "code",
   "execution_count": 5,
   "id": "b9341776",
   "metadata": {
    "scrolled": true
   },
   "outputs": [
    {
     "name": "stdout",
     "output_type": "stream",
     "text": [
      "[\n",
      "   {\n",
      "      \"id\": \"e22612ad-f70a-4901-b7e9-b04f225b3d8d\",\n",
      "      \"identifier\": [\n",
      "         {\n",
      "            \"system\": \"IDC\",\n",
      "            \"value\": \"e22612ad-f70a-4901-b7e9-b04f225b3d8d\"\n",
      "         }\n",
      "      ],\n",
      "      \"label\": \"e22612ad-f70a-4901-b7e9-b04f225b3d8d.dcm\",\n",
      "      \"data_category\": \"Imaging\",\n",
      "      \"data_type\": \"SM\",\n",
      "      \"file_format\": \"DICOM\",\n",
      "      \"associated_project\": \"cptac_luad\",\n",
      "      \"drs_uri\": \"gs://idc-open/e22612ad-f70a-4901-b7e9-b04f225b3d8d.dcm\",\n",
      "      \"byte_size\": null,\n",
      "      \"checksum\": null\n",
      "   },\n",
      "   {\n",
      "      \"id\": \"b8c662fc-ac1e-4e64-b05b-bf47432cc135\",\n",
      "      \"identifier\": [\n",
      "         {\n",
      "            \"system\": \"IDC\",\n",
      "            \"value\": \"b8c662fc-ac1e-4e64-b05b-bf47432cc135\"\n",
      "         }\n",
      "      ],\n",
      "      \"label\": \"b8c662fc-ac1e-4e64-b05b-bf47432cc135.dcm\",\n",
      "      \"data_category\": \"Imaging\",\n",
      "      \"data_type\": \"SM\",\n",
      "      \"file_format\": \"DICOM\",\n",
      "      \"associated_project\": \"cptac_luad\",\n",
      "      \"drs_uri\": \"gs://idc-open/b8c662fc-ac1e-4e64-b05b-bf47432cc135.dcm\",\n",
      "      \"byte_size\": null,\n",
      "      \"checksum\": null\n",
      "   },\n",
      "   {\n",
      "      \"id\": \"9423b8b4-d48c-4055-8993-37781d0ba826\",\n",
      "      \"identifier\": [\n",
      "         {\n",
      "            \"system\": \"IDC\",\n",
      "            \"value\": \"9423b8b4-d48c-4055-8993-37781d0ba826\"\n",
      "         }\n",
      "      ],\n",
      "      \"label\": \"9423b8b4-d48c-4055-8993-37781d0ba826.dcm\",\n",
      "      \"data_category\": \"Imaging\",\n",
      "      \"data_type\": \"SM\",\n",
      "      \"file_format\": \"DICOM\",\n",
      "      \"associated_project\": \"cptac_luad\",\n",
      "      \"drs_uri\": \"gs://idc-open/9423b8b4-d48c-4055-8993-37781d0ba826.dcm\",\n",
      "      \"byte_size\": null,\n",
      "      \"checksum\": null\n",
      "   },\n",
      "   {\n",
      "      \"id\": \"2347b384-2572-472c-beba-26e8ed14f4ab\",\n",
      "      \"identifier\": [\n",
      "         {\n",
      "            \"system\": \"IDC\",\n",
      "            \"value\": \"2347b384-2572-472c-beba-26e8ed14f4ab\"\n",
      "         }\n",
      "      ],\n",
      "      \"label\": \"2347b384-2572-472c-beba-26e8ed14f4ab.dcm\",\n",
      "      \"data_category\": \"Imaging\",\n",
      "      \"data_type\": \"SM\",\n",
      "      \"file_format\": \"DICOM\",\n",
      "      \"associated_project\": \"cptac_luad\",\n",
      "      \"drs_uri\": \"gs://idc-open/2347b384-2572-472c-beba-26e8ed14f4ab.dcm\",\n",
      "      \"byte_size\": null,\n",
      "      \"checksum\": null\n",
      "   },\n",
      "   {\n",
      "      \"id\": \"99e89c28-a3a1-42ce-a00b-64fba1bff973\",\n",
      "      \"identifier\": [\n",
      "         {\n",
      "            \"system\": \"IDC\",\n",
      "            \"value\": \"99e89c28-a3a1-42ce-a00b-64fba1bff973\"\n",
      "         }\n",
      "      ],\n",
      "      \"label\": \"99e89c28-a3a1-42ce-a00b-64fba1bff973.dcm\",\n",
      "      \"data_category\": \"Imaging\",\n",
      "      \"data_type\": \"SM\",\n",
      "      \"file_format\": \"DICOM\",\n",
      "      \"associated_project\": \"cptac_luad\",\n",
      "      \"drs_uri\": \"gs://idc-open/99e89c28-a3a1-42ce-a00b-64fba1bff973.dcm\",\n",
      "      \"byte_size\": null,\n",
      "      \"checksum\": null\n",
      "   }\n",
      "]\n"
     ]
    }
   ],
   "source": [
    "sm_files = []\n",
    "for file in r[0]['File']:\n",
    "    if file['data_type'] == 'SM':\n",
    "        sm_files.append(file)\n",
    "print(json.dumps(sm_files, indent=3))"
   ]
  },
  {
   "cell_type": "markdown",
   "id": "2f9cc22f",
   "metadata": {},
   "source": [
    "There's nothing really very specific there to help us manage things. The only thing that varies across the five files is the id.\n",
    "\n",
    "DRS may come to our assistance here. What can it tell us about these five files?\n",
    "\n",
    "We can take the same approach as we did in another notebook."
   ]
  },
  {
   "cell_type": "code",
   "execution_count": 6,
   "id": "90dc5ad3",
   "metadata": {},
   "outputs": [
    {
     "name": "stdout",
     "output_type": "stream",
     "text": [
      "e22612ad-f70a-4901-b7e9-b04f225b3d8d\n",
      "{\"msg\":\"No bundle found\",\"status_code\":404}\n",
      "\n"
     ]
    },
    {
     "data": {
      "text/plain": [
       "404"
      ]
     },
     "execution_count": 6,
     "metadata": {},
     "output_type": "execute_result"
    }
   ],
   "source": [
    "from fasp.loc import crdcDRSClient\n",
    "drsClient = crdcDRSClient()\n",
    "drs_id = sm_files[0]['id']\n",
    "print(drs_id)\n",
    "drsClient.getObject(drs_id)"
   ]
  },
  {
   "cell_type": "markdown",
   "id": "c0f4a0ad",
   "metadata": {},
   "source": [
    "DRS does not actually know about these ids. However, there is a direct gs:// URI, and its name suggests it is open\n",
    "    \n",
    "We can use the Google cloud to look at these.\n",
    "\n",
    "It's outside the scope of what we can show in this notebook, but when those five files were downloaded and opened in a DICOM viewer it turned out that there were actually 3297 images present. CDA makes the management of the large number of files manageable by the user by not exposing that level of granularity. In actuality it likely inherits that encapsulation from IDC, but hold that thought.\n",
    "\n",
    "### 3. Does the CDA representation of IDC pathology image files allow navigation of the levels of magnification and location of images within the grid?\n",
    "\n",
    "No it doesn't, but that is a good level of isolation. That the large number of pathology tiles is hidden from the CDA user is useful. The navigation of the image pyramid is best left to a dedicated DICOM viewer. \n",
    "\n",
    "There still seem to be five files per slide though. The useful level of granularity for CDA pathology may well be the DICOM study. One study representing one slide image. This would correspond to the slide/svs granularity in GDC."
   ]
  },
  {
   "cell_type": "markdown",
   "id": "ed6ac76d",
   "metadata": {},
   "source": [
    "What can the IDC tell us about these files?"
   ]
  },
  {
   "cell_type": "markdown",
   "id": "0f016011",
   "metadata": {},
   "source": [
    "Looking at a number of other files.\n",
    "\n",
    "Here is a screenshot of a number of "
   ]
  },
  {
   "cell_type": "code",
   "execution_count": 7,
   "id": "453984fe",
   "metadata": {
    "scrolled": true
   },
   "outputs": [
    {
     "name": "stdout",
     "output_type": "stream",
     "text": [
      "Getting results from database\n",
      "\n",
      "Total execution time: 1107 ms\n",
      "\n",
      "Case:C3L-00001 Image counts and types at top (Subject) level\n"
     ]
    },
    {
     "data": {
      "text/html": [
       "<div>\n",
       "<style scoped>\n",
       "    .dataframe tbody tr th:only-of-type {\n",
       "        vertical-align: middle;\n",
       "    }\n",
       "\n",
       "    .dataframe tbody tr th {\n",
       "        vertical-align: top;\n",
       "    }\n",
       "\n",
       "    .dataframe thead th {\n",
       "        text-align: right;\n",
       "    }\n",
       "</style>\n",
       "<table border=\"1\" class=\"dataframe\">\n",
       "  <thead>\n",
       "    <tr style=\"text-align: right;\">\n",
       "      <th></th>\n",
       "      <th>File format</th>\n",
       "      <th>File count</th>\n",
       "    </tr>\n",
       "    <tr>\n",
       "      <th>Data type</th>\n",
       "      <th></th>\n",
       "      <th></th>\n",
       "    </tr>\n",
       "  </thead>\n",
       "  <tbody>\n",
       "    <tr>\n",
       "      <th>SM</th>\n",
       "      <td>DICOM</td>\n",
       "      <td>10</td>\n",
       "    </tr>\n",
       "  </tbody>\n",
       "</table>\n",
       "</div>"
      ],
      "text/plain": [
       "          File format  File count\n",
       "Data type                        \n",
       "SM              DICOM          10"
      ]
     },
     "metadata": {},
     "output_type": "display_data"
    }
   ],
   "source": [
    "listCaseImages(\"C3L-00001\")"
   ]
  },
  {
   "cell_type": "markdown",
   "id": "cca9a467",
   "metadata": {},
   "source": [
    "We've seen a pattern where there are 5 images per case. Here we have 10 SM images and 2 series. This looks like we have two microscope slide images - each series representing one slide image.\n",
    "However, what do these images represent? How do they relate to the samples used for proteomics and genomics?\n",
    "\n",
    "Here is a screenshot from IDC which includes case C3L-00263.\n",
    "![09CO022](images/C3L-00263.jpg)\n",
    "What does CDA tell us about the images for this case?"
   ]
  },
  {
   "cell_type": "code",
   "execution_count": 8,
   "id": "5601cecb",
   "metadata": {},
   "outputs": [
    {
     "name": "stdout",
     "output_type": "stream",
     "text": [
      "Getting results from database\n",
      "\n",
      "Total execution time: 1119 ms\n",
      "\n",
      "Case:C3L-00263 Image counts and types at top (Subject) level\n"
     ]
    },
    {
     "data": {
      "text/html": [
       "<div>\n",
       "<style scoped>\n",
       "    .dataframe tbody tr th:only-of-type {\n",
       "        vertical-align: middle;\n",
       "    }\n",
       "\n",
       "    .dataframe tbody tr th {\n",
       "        vertical-align: top;\n",
       "    }\n",
       "\n",
       "    .dataframe thead th {\n",
       "        text-align: right;\n",
       "    }\n",
       "</style>\n",
       "<table border=\"1\" class=\"dataframe\">\n",
       "  <thead>\n",
       "    <tr style=\"text-align: right;\">\n",
       "      <th></th>\n",
       "      <th>File format</th>\n",
       "      <th>File count</th>\n",
       "    </tr>\n",
       "    <tr>\n",
       "      <th>Data type</th>\n",
       "      <th></th>\n",
       "      <th></th>\n",
       "    </tr>\n",
       "  </thead>\n",
       "  <tbody>\n",
       "    <tr>\n",
       "      <th>SM</th>\n",
       "      <td>DICOM</td>\n",
       "      <td>40</td>\n",
       "    </tr>\n",
       "    <tr>\n",
       "      <th>CR</th>\n",
       "      <td>DICOM</td>\n",
       "      <td>3</td>\n",
       "    </tr>\n",
       "  </tbody>\n",
       "</table>\n",
       "</div>"
      ],
      "text/plain": [
       "          File format  File count\n",
       "Data type                        \n",
       "SM              DICOM          40\n",
       "CR              DICOM           3"
      ]
     },
     "metadata": {},
     "output_type": "display_data"
    }
   ],
   "source": [
    "listCaseImages(\"C3L-00263\")"
   ]
  },
  {
   "cell_type": "markdown",
   "id": "ef2c0f86",
   "metadata": {},
   "source": [
    "11 studies, guessing this is \n",
    "8 slide studies (5 images each)\n",
    "3 CR studies\n",
    "\n",
    "Case C3L-02834 is more complicated still, there a total of four imaging data types."
   ]
  },
  {
   "cell_type": "code",
   "execution_count": 9,
   "id": "bc50fa91",
   "metadata": {},
   "outputs": [
    {
     "name": "stdout",
     "output_type": "stream",
     "text": [
      "Getting results from database\n",
      "\n",
      "Total execution time: 938 ms\n",
      "\n",
      "Case:C3L-02834 Image counts and types at top (Subject) level\n"
     ]
    },
    {
     "data": {
      "text/html": [
       "<div>\n",
       "<style scoped>\n",
       "    .dataframe tbody tr th:only-of-type {\n",
       "        vertical-align: middle;\n",
       "    }\n",
       "\n",
       "    .dataframe tbody tr th {\n",
       "        vertical-align: top;\n",
       "    }\n",
       "\n",
       "    .dataframe thead th {\n",
       "        text-align: right;\n",
       "    }\n",
       "</style>\n",
       "<table border=\"1\" class=\"dataframe\">\n",
       "  <thead>\n",
       "    <tr style=\"text-align: right;\">\n",
       "      <th></th>\n",
       "      <th>File format</th>\n",
       "      <th>File count</th>\n",
       "    </tr>\n",
       "    <tr>\n",
       "      <th>Data type</th>\n",
       "      <th></th>\n",
       "      <th></th>\n",
       "    </tr>\n",
       "  </thead>\n",
       "  <tbody>\n",
       "    <tr>\n",
       "      <th>SM</th>\n",
       "      <td>DICOM</td>\n",
       "      <td>30</td>\n",
       "    </tr>\n",
       "    <tr>\n",
       "      <th>CR</th>\n",
       "      <td>DICOM</td>\n",
       "      <td>9</td>\n",
       "    </tr>\n",
       "    <tr>\n",
       "      <th>NM</th>\n",
       "      <td>DICOM</td>\n",
       "      <td>27</td>\n",
       "    </tr>\n",
       "    <tr>\n",
       "      <th>DX</th>\n",
       "      <td>DICOM</td>\n",
       "      <td>2</td>\n",
       "    </tr>\n",
       "  </tbody>\n",
       "</table>\n",
       "</div>"
      ],
      "text/plain": [
       "          File format  File count\n",
       "Data type                        \n",
       "SM              DICOM          30\n",
       "CR              DICOM           9\n",
       "NM              DICOM          27\n",
       "DX              DICOM           2"
      ]
     },
     "metadata": {},
     "output_type": "display_data"
    }
   ],
   "source": [
    "listCaseImages(\"C3L-02834\")"
   ]
  },
  {
   "cell_type": "markdown",
   "id": "d3b9a59d",
   "metadata": {},
   "source": [
    "As a CDA user one is not necessarily an imaging expert which is where our custom decoder comes in handy:"
   ]
  },
  {
   "cell_type": "code",
   "execution_count": 10,
   "id": "b7803d72",
   "metadata": {},
   "outputs": [
    {
     "name": "stdout",
     "output_type": "stream",
     "text": [
      "SM Slide Microscopy\n",
      "CR Computed Radiography\n",
      "NM Nuclear Medicine\n",
      "DX Digital Radiography\n"
     ]
    }
   ],
   "source": [
    "for code in ['SM','CR','NM','DX']:\n",
    "    print(\"{} {}\".format(code,image_type_codes[code]))"
   ]
  },
  {
   "cell_type": "markdown",
   "id": "18838887",
   "metadata": {},
   "source": [
    "The above begs a number of questions from the CDA user's point of view.\n",
    "\n",
    "When were these imaging procedures performed in relation to other data types from the same subjects?\n",
    "If we have 6 or 8 microscopy slides how do we relate them to the specimens that CDA knows about?\n",
    "\n",
    "We can't do this because all the images are at the top level.\n",
    "\n",
    "How hard is it to do record things at the right level? How much does it need to complicate the model? Probably not very much, and the IDC (DICOM) model already has the details. This is worth some investigation, perhaps in another notebook.\n",
    "\n",
    "For now the issue is logged as [cda-python/issues/103](https://github.com/CancerDataAggregator/cda-python/issues/103)"
   ]
  },
  {
   "cell_type": "markdown",
   "id": "48498827",
   "metadata": {},
   "source": [
    "### 4. How CDA/IDC representation compare with the representation of pathology images in certain studies in the CDA/GDC.\n",
    "\n",
    "We know that there are pathology images stored in the GDC for TCGA cases. These can be used as follows to show\n",
    "* an alternate approach to relating pathology to the specific samples from which they came\n",
    "* that a similar approach is desirable whichever node (GDC, IDC) the pathology images are in\n",
    "\n",
    "Taking case TCGA-28-1750 as an example.\n",
    "\n",
    "First, as a cross check are there any IDC files for this case (at the top level)."
   ]
  },
  {
   "cell_type": "code",
   "execution_count": 11,
   "id": "4c9d8de7",
   "metadata": {
    "scrolled": false
   },
   "outputs": [
    {
     "name": "stdout",
     "output_type": "stream",
     "text": [
      "Getting results from database\n",
      "\n",
      "Total execution time: 1124 ms\n",
      "\n",
      "Case:TCGA-28-1750 Image counts and types at top (Subject) level\n"
     ]
    },
    {
     "data": {
      "text/html": [
       "<div>\n",
       "<style scoped>\n",
       "    .dataframe tbody tr th:only-of-type {\n",
       "        vertical-align: middle;\n",
       "    }\n",
       "\n",
       "    .dataframe tbody tr th {\n",
       "        vertical-align: top;\n",
       "    }\n",
       "\n",
       "    .dataframe thead th {\n",
       "        text-align: right;\n",
       "    }\n",
       "</style>\n",
       "<table border=\"1\" class=\"dataframe\">\n",
       "  <thead>\n",
       "    <tr style=\"text-align: right;\">\n",
       "      <th></th>\n",
       "      <th>File format</th>\n",
       "      <th>File count</th>\n",
       "    </tr>\n",
       "    <tr>\n",
       "      <th>Data type</th>\n",
       "      <th></th>\n",
       "      <th></th>\n",
       "    </tr>\n",
       "  </thead>\n",
       "  <tbody>\n",
       "  </tbody>\n",
       "</table>\n",
       "</div>"
      ],
      "text/plain": [
       "Empty DataFrame\n",
       "Columns: [File format, File count]\n",
       "Index: []"
      ]
     },
     "metadata": {},
     "output_type": "display_data"
    }
   ],
   "source": [
    "gbm_case = \"TCGA-28-1750\"\n",
    "listCaseImages(gbm_case)"
   ]
  },
  {
   "cell_type": "markdown",
   "id": "8e80faf8",
   "metadata": {},
   "source": [
    "No there are no IDC files for this case.\n",
    "\n",
    "Next we will look for the pathology images for this case within the what CDA returns."
   ]
  },
  {
   "cell_type": "code",
   "execution_count": 12,
   "id": "fa18356e",
   "metadata": {},
   "outputs": [
    {
     "name": "stdout",
     "output_type": "stream",
     "text": [
      "Getting results from database\n",
      "\n",
      "Total execution time: 1041 ms\n"
     ]
    },
    {
     "data": {
      "text/plain": [
       "Counter({'MAF': 96,\n",
       "         'BCR Biotab': 34,\n",
       "         'TXT': 68,\n",
       "         'VCF': 96,\n",
       "         'BCR XML': 4,\n",
       "         'BCR SSF XML': 2,\n",
       "         'BAM': 14,\n",
       "         'TSV': 4})"
      ]
     },
     "execution_count": 12,
     "metadata": {},
     "output_type": "execute_result"
    }
   ],
   "source": [
    "typeCounter = Counter()\n",
    "q1 = Q('id = \"{}\"'.format(gbm_case))\n",
    "r = q1.run()\n",
    "for subf in r[0]['File']:\n",
    "    typeCounter[subf['file_format']] += 1\n",
    "for res in r[0]['ResearchSubject']:\n",
    "    for f in res['File']:\n",
    "        typeCounter[f['file_format']] += 1\n",
    "    for sp in res['Specimen']:\n",
    "        for sf in sp['File']:\n",
    "            typeCounter[sf['file_format']] += 1\n",
    "typeCounter\n"
   ]
  },
  {
   "cell_type": "markdown",
   "id": "89c5377d",
   "metadata": {},
   "source": [
    "No Pathology images/SVS files there. It seems these files from GDC are not available through the CDA. Reported as [cda-python/issues/101](https://github.com/CancerDataAggregator/cda-python/issues/101)\n",
    "\n",
    "Nevertheless, the CDA does have the specimens with which those images should be properly associated. The following lists them."
   ]
  },
  {
   "cell_type": "code",
   "execution_count": 13,
   "id": "13b3abe7",
   "metadata": {},
   "outputs": [
    {
     "name": "stdout",
     "output_type": "stream",
     "text": [
      "106a0ec8-0e9d-40e9-a8b0-71b9c92c940c Primary Tumor\n",
      "61384423-4581-4ade-a904-a57e73e2654f Primary Tumor\n",
      "fb126dbb-0802-4150-9a66-fbe6265efd18 Primary Tumor\n"
     ]
    }
   ],
   "source": [
    "for res in r[0]['ResearchSubject']:\n",
    "    for sp in res['Specimen']:\n",
    "        if sp['specimen_type'] == 'slide':\n",
    "            print(sp['id'], sp['source_material_type'])"
   ]
  },
  {
   "cell_type": "markdown",
   "id": "31b836ab",
   "metadata": {},
   "source": [
    "### Dumping the whole output for a few cases\n",
    "For convenience the following prodcues full dumps to file of some of the cases explored in this workbook. The actual output has not been loaded to GitHub. Please run the notebook to produce your own copies."
   ]
  },
  {
   "cell_type": "code",
   "execution_count": 14,
   "id": "575e1c18",
   "metadata": {},
   "outputs": [],
   "source": [
    "def dumpSubject(subject_id):\n",
    "    q1 = Q('id = \"{}\"'.format(subject_id))\n",
    "    r = q1.run()\n",
    "    for res in r:\n",
    "        with open('./query_results/{}.json'.format(subject_id), 'w') as outfile:\n",
    "            json.dump(res, outfile)"
   ]
  },
  {
   "cell_type": "code",
   "execution_count": 15,
   "id": "a771eed6",
   "metadata": {},
   "outputs": [
    {
     "name": "stdout",
     "output_type": "stream",
     "text": [
      "Getting results from database\n",
      "\n",
      "Total execution time: 1301 ms\n"
     ]
    }
   ],
   "source": [
    "dumpSubject('11LU022')"
   ]
  },
  {
   "cell_type": "code",
   "execution_count": 16,
   "id": "0822f9c2",
   "metadata": {},
   "outputs": [
    {
     "name": "stdout",
     "output_type": "stream",
     "text": [
      "Getting results from database\n",
      "\n",
      "Total execution time: 679 ms\n"
     ]
    }
   ],
   "source": [
    "dumpSubject('C3L-0001')       "
   ]
  },
  {
   "cell_type": "code",
   "execution_count": 17,
   "id": "e6c4edf7",
   "metadata": {},
   "outputs": [
    {
     "name": "stdout",
     "output_type": "stream",
     "text": [
      "Getting results from database\n",
      "\n",
      "Total execution time: 1013 ms\n"
     ]
    }
   ],
   "source": [
    "dumpSubject(gbm_case)"
   ]
  },
  {
   "cell_type": "code",
   "execution_count": null,
   "id": "930aab00",
   "metadata": {},
   "outputs": [],
   "source": []
  }
 ],
 "metadata": {
  "kernelspec": {
   "display_name": "Python 3 (ipykernel)",
   "language": "python",
   "name": "python3"
  },
  "language_info": {
   "codemirror_mode": {
    "name": "ipython",
    "version": 3
   },
   "file_extension": ".py",
   "mimetype": "text/x-python",
   "name": "python",
   "nbconvert_exporter": "python",
   "pygments_lexer": "ipython3",
   "version": "3.9.7"
  }
 },
 "nbformat": 4,
 "nbformat_minor": 5
}
