{
 "cells": [
  {
   "cell_type": "code",
   "execution_count": 1,
   "id": "d3d936e4",
   "metadata": {},
   "outputs": [],
   "source": [
    "from cdapython import Q, columns, unique_terms, query"
   ]
  },
  {
   "cell_type": "code",
   "execution_count": 2,
   "id": "2f970241",
   "metadata": {},
   "outputs": [
    {
     "data": {
      "text/plain": [
       "['GDC', 'IDC', 'PDC']"
      ]
     },
     "execution_count": 2,
     "metadata": {},
     "output_type": "execute_result"
    }
   ],
   "source": [
    "unique_terms(\"identifier.system\")"
   ]
  },
  {
   "cell_type": "code",
   "execution_count": 3,
   "id": "7235e616",
   "metadata": {},
   "outputs": [
    {
     "name": "stdout",
     "output_type": "stream",
     "text": [
      "Getting results from database\n",
      "\n",
      "Total execution time: 24514 ms\n"
     ]
    },
    {
     "data": {
      "text/plain": [
       "\n",
       "QueryID: cd72a95b-77d9-4652-b735-353982d8c05a\n",
       "Query: SELECT all_v2.* FROM gdc-bq-sample.integration.all_v2 AS all_v2, UNNEST(identifier) AS _identifier WHERE (_identifier.system = 'GDC')\n",
       "Offset: 0\n",
       "Count: 100\n",
       "Total Row Count: 85326\n",
       "More pages: True"
      ]
     },
     "execution_count": 3,
     "metadata": {},
     "output_type": "execute_result"
    }
   ],
   "source": [
    "q1 = Q('identifier.system = \"GDC\"')\n",
    "r= q1.run()\n",
    "r"
   ]
  },
  {
   "cell_type": "markdown",
   "id": "9c52f744",
   "metadata": {},
   "source": [
    "According to the list File has unique terms. That seems odd. An indeed unique"
   ]
  },
  {
   "cell_type": "code",
   "execution_count": 5,
   "id": "252e8520",
   "metadata": {
    "scrolled": true
   },
   "outputs": [
    {
     "name": "stderr",
     "output_type": "stream",
     "text": [
      "ERROR:root:\n",
      "            Http Status: 500\n",
      "            Error Message: Column File of type ARRAY cannot be used in SELECT DISTINCT at [1:17]\n",
      "            \n"
     ]
    }
   ],
   "source": [
    "unique_terms(\"File\")"
   ]
  },
  {
   "cell_type": "code",
   "execution_count": 6,
   "id": "7375e730",
   "metadata": {},
   "outputs": [
    {
     "name": "stderr",
     "output_type": "stream",
     "text": [
      "ERROR:root:\n",
      "            Http Status: 500\n",
      "            Error Message: Column identifier of type ARRAY cannot be used in SELECT DISTINCT at [1:17]\n",
      "            \n"
     ]
    }
   ],
   "source": [
    "unique_terms(\"File.identifier\")"
   ]
  },
  {
   "cell_type": "code",
   "execution_count": 7,
   "id": "6933e1e3",
   "metadata": {},
   "outputs": [
    {
     "data": {
      "text/plain": [
       "['id',\n",
       " 'identifier',\n",
       " 'identifier.system',\n",
       " 'identifier.value',\n",
       " 'sex',\n",
       " 'race',\n",
       " 'ethnicity',\n",
       " 'days_to_birth',\n",
       " 'subject_associated_project',\n",
       " 'File',\n",
       " 'File.id',\n",
       " 'File.identifier',\n",
       " 'File.identifier.system',\n",
       " 'File.identifier.value',\n",
       " 'File.label',\n",
       " 'File.data_category',\n",
       " 'File.data_type',\n",
       " 'File.file_format',\n",
       " 'File.associated_project',\n",
       " 'File.drs_uri',\n",
       " 'File.byte_size',\n",
       " 'File.checksum',\n",
       " 'ResearchSubject',\n",
       " 'ResearchSubject.id',\n",
       " 'ResearchSubject.identifier',\n",
       " 'ResearchSubject.identifier.system',\n",
       " 'ResearchSubject.identifier.value',\n",
       " 'ResearchSubject.associated_project',\n",
       " 'ResearchSubject.primary_disease_type',\n",
       " 'ResearchSubject.primary_disease_site',\n",
       " 'ResearchSubject.Diagnosis',\n",
       " 'ResearchSubject.Diagnosis.id',\n",
       " 'ResearchSubject.Diagnosis.identifier',\n",
       " 'ResearchSubject.Diagnosis.identifier.system',\n",
       " 'ResearchSubject.Diagnosis.identifier.value',\n",
       " 'ResearchSubject.Diagnosis.primary_diagnosis',\n",
       " 'ResearchSubject.Diagnosis.age_at_diagnosis',\n",
       " 'ResearchSubject.Diagnosis.morphology',\n",
       " 'ResearchSubject.Diagnosis.stage',\n",
       " 'ResearchSubject.Diagnosis.grade',\n",
       " 'ResearchSubject.Diagnosis.Treatment',\n",
       " 'ResearchSubject.Diagnosis.Treatment.id',\n",
       " 'ResearchSubject.Diagnosis.Treatment.identifier',\n",
       " 'ResearchSubject.Diagnosis.Treatment.identifier.system',\n",
       " 'ResearchSubject.Diagnosis.Treatment.identifier.value',\n",
       " 'ResearchSubject.Diagnosis.Treatment.treatment_type',\n",
       " 'ResearchSubject.Diagnosis.Treatment.treatment_outcome',\n",
       " 'ResearchSubject.Diagnosis.Treatment.days_to_treatment_start',\n",
       " 'ResearchSubject.Diagnosis.Treatment.days_treatment_end',\n",
       " 'ResearchSubject.File',\n",
       " 'ResearchSubject.File.id',\n",
       " 'ResearchSubject.File.identifier',\n",
       " 'ResearchSubject.File.identifier.system',\n",
       " 'ResearchSubject.File.identifier.value',\n",
       " 'ResearchSubject.File.label',\n",
       " 'ResearchSubject.File.data_category',\n",
       " 'ResearchSubject.File.data_type',\n",
       " 'ResearchSubject.File.file_format',\n",
       " 'ResearchSubject.File.associated_project',\n",
       " 'ResearchSubject.File.drs_uri',\n",
       " 'ResearchSubject.File.byte_size',\n",
       " 'ResearchSubject.File.checksum',\n",
       " 'ResearchSubject.Specimen',\n",
       " 'ResearchSubject.Specimen.id',\n",
       " 'ResearchSubject.Specimen.identifier',\n",
       " 'ResearchSubject.Specimen.identifier.system',\n",
       " 'ResearchSubject.Specimen.identifier.value',\n",
       " 'ResearchSubject.Specimen.associated_project',\n",
       " 'ResearchSubject.Specimen.age_at_collection',\n",
       " 'ResearchSubject.Specimen.primary_disease_type',\n",
       " 'ResearchSubject.Specimen.anatomical_site',\n",
       " 'ResearchSubject.Specimen.source_material_type',\n",
       " 'ResearchSubject.Specimen.specimen_type',\n",
       " 'ResearchSubject.Specimen.derived_from_specimen',\n",
       " 'ResearchSubject.Specimen.derived_from_subject',\n",
       " 'ResearchSubject.Specimen.File',\n",
       " 'ResearchSubject.Specimen.File.id',\n",
       " 'ResearchSubject.Specimen.File.identifier',\n",
       " 'ResearchSubject.Specimen.File.identifier.system',\n",
       " 'ResearchSubject.Specimen.File.identifier.value',\n",
       " 'ResearchSubject.Specimen.File.label',\n",
       " 'ResearchSubject.Specimen.File.data_category',\n",
       " 'ResearchSubject.Specimen.File.data_type',\n",
       " 'ResearchSubject.Specimen.File.file_format',\n",
       " 'ResearchSubject.Specimen.File.associated_project',\n",
       " 'ResearchSubject.Specimen.File.drs_uri',\n",
       " 'ResearchSubject.Specimen.File.byte_size',\n",
       " 'ResearchSubject.Specimen.File.checksum']"
      ]
     },
     "execution_count": 7,
     "metadata": {},
     "output_type": "execute_result"
    }
   ],
   "source": [
    "columns()"
   ]
  },
  {
   "cell_type": "code",
   "execution_count": 8,
   "id": "5de68f4f",
   "metadata": {},
   "outputs": [
    {
     "name": "stdout",
     "output_type": "stream",
     "text": [
      "Unique terms for File.associated_project\n",
      "['4d_lung', 'Academia Sinica LUAD-100', 'BEATAML1.0-COHORT', 'BEATAML1.0-CRENOLANIB', 'CGCI-BLGSP', 'CGCI-HTMCP-CC', 'CMI-ASC', 'CMI-MBC', 'CMI-MPC', 'CPTAC-2', 'CPTAC-3', 'CPTAC-TCGA', 'CPTAC2 Retrospective', 'CPTAC2-Other', 'CPTAC3-Discovery', 'CPTAC3-Other', 'CTSP-DLBCL1', 'FM-AD', 'GENIE-DFCI', 'GENIE-GRCC', 'GENIE-JHU', 'GENIE-MDA', 'GENIE-MSK', 'GENIE-NKI', 'GENIE-UHN', 'GENIE-VICC', 'Georgetown Lung Cancer Proteomics Study', 'HCMI-CMDC', 'Human Early-Onset Gastric Cancer - Korea University', 'Integrated Proteogenomic Characterization of HBV-related Hepatocellular carcinoma', 'MMRF-COMMPASS', 'NCICCR-DLBCL', 'OHSU-CNL', 'ORGANOID-PANCREATIC', 'Oral Squamous Cell Carcinoma - Chang Gung University', 'PJ25730263', 'Proteogenomic Analysis of Pediatric Brain Cancer Tumors Pilot Study', 'Proteogenomic Translational Research Centers (PTRC)', 'REBC-THYR', 'TARGET-ALL-P1', 'TARGET-ALL-P2', 'TARGET-ALL-P3', 'TARGET-AML', 'TARGET-CCSK', 'TARGET-NBL', 'TARGET-OS', 'TARGET-RT', 'TARGET-WT', 'TCGA-ACC', 'TCGA-BLCA', 'TCGA-BRCA', 'TCGA-CESC', 'TCGA-CHOL', 'TCGA-COAD', 'TCGA-DLBC', 'TCGA-ESCA', 'TCGA-GBM', 'TCGA-HNSC', 'TCGA-KICH', 'TCGA-KIRC', 'TCGA-KIRP', 'TCGA-LAML', 'TCGA-LGG', 'TCGA-LIHC', 'TCGA-LUAD', 'TCGA-LUSC', 'TCGA-MESO', 'TCGA-OV', 'TCGA-PAAD', 'TCGA-PCPG', 'TCGA-PRAD', 'TCGA-READ', 'TCGA-SARC', 'TCGA-SKCM', 'TCGA-STAD', 'TCGA-TGCT', 'TCGA-THCA', 'TCGA-THYM', 'TCGA-UCEC', 'TCGA-UCS', 'TCGA-UVM', 'TRIO-CRU', 'VAREPOP-APOLLO', 'WCDT-MCRPC', 'aapm_rt_mac', 'acrin_dsc_mr_brain', 'acrin_flt_breast', 'acrin_fmiso_brain', 'acrin_nsclc_fdg_pet', 'anti_pd_1_lung', 'anti_pd_1_melanoma', 'apollo', 'brain_tumor_progression', 'breast_cancer_screening_dbt', 'breast_diagnosis', 'breast_mri_nact_pilot', 'c4kc_kits', 'covid_19_ar', 'cptac_ccrcc', 'cptac_cm']\n",
      "________________________________________________________________________________\n",
      "Unique terms for ResearchSubject.associated_project\n",
      "['Academia Sinica LUAD-100', 'BEATAML1.0-COHORT', 'BEATAML1.0-CRENOLANIB', 'CGCI-BLGSP', 'CGCI-HTMCP-CC', 'CMI-ASC', 'CMI-MBC', 'CMI-MPC', 'CPTAC-2', 'CPTAC-3', 'CPTAC-TCGA', 'CPTAC2 Retrospective', 'CPTAC2-Other', 'CPTAC3-Discovery', 'CPTAC3-Other', 'CTSP-DLBCL1', 'FM-AD', 'GENIE-DFCI', 'GENIE-GRCC', 'GENIE-JHU', 'GENIE-MDA', 'GENIE-MSK', 'GENIE-NKI', 'GENIE-UHN', 'GENIE-VICC', 'Georgetown Lung Cancer Proteomics Study', 'HCMI-CMDC', 'Human Early-Onset Gastric Cancer - Korea University', 'Integrated Proteogenomic Characterization of HBV-related Hepatocellular carcinoma', 'MMRF-COMMPASS', 'NCICCR-DLBCL', 'OHSU-CNL', 'ORGANOID-PANCREATIC', 'Oral Squamous Cell Carcinoma - Chang Gung University', 'PJ25730263', 'Proteogenomic Analysis of Pediatric Brain Cancer Tumors Pilot Study', 'Proteogenomic Translational Research Centers (PTRC)', 'REBC-THYR', 'TARGET-ALL-P1', 'TARGET-ALL-P2', 'TARGET-ALL-P3', 'TARGET-AML', 'TARGET-CCSK', 'TARGET-NBL', 'TARGET-OS', 'TARGET-RT', 'TARGET-WT', 'TCGA-ACC', 'TCGA-BLCA', 'TCGA-BRCA', 'TCGA-CESC', 'TCGA-CHOL', 'TCGA-COAD', 'TCGA-DLBC', 'TCGA-ESCA', 'TCGA-GBM', 'TCGA-HNSC', 'TCGA-KICH', 'TCGA-KIRC', 'TCGA-KIRP', 'TCGA-LAML', 'TCGA-LGG', 'TCGA-LIHC', 'TCGA-LUAD', 'TCGA-LUSC', 'TCGA-MESO', 'TCGA-OV', 'TCGA-PAAD', 'TCGA-PCPG', 'TCGA-PRAD', 'TCGA-READ', 'TCGA-SARC', 'TCGA-SKCM', 'TCGA-STAD', 'TCGA-TGCT', 'TCGA-THCA', 'TCGA-THYM', 'TCGA-UCEC', 'TCGA-UCS', 'TCGA-UVM', 'TRIO-CRU', 'VAREPOP-APOLLO', 'WCDT-MCRPC']\n",
      "________________________________________________________________________________\n",
      "Unique terms for ResearchSubject.File.associated_project\n",
      "['Academia Sinica LUAD-100', 'BEATAML1.0-COHORT', 'BEATAML1.0-CRENOLANIB', 'CGCI-BLGSP', 'CGCI-HTMCP-CC', 'CMI-ASC', 'CMI-MBC', 'CMI-MPC', 'CPTAC-2', 'CPTAC-3', 'CPTAC-TCGA', 'CPTAC2 Retrospective', 'CPTAC2-Other', 'CPTAC3-Discovery', 'CPTAC3-Other', 'CTSP-DLBCL1', 'FM-AD', 'GENIE-DFCI', 'GENIE-GRCC', 'GENIE-JHU', 'GENIE-MDA', 'GENIE-MSK', 'GENIE-NKI', 'GENIE-UHN', 'GENIE-VICC', 'Georgetown Lung Cancer Proteomics Study', 'HCMI-CMDC', 'Human Early-Onset Gastric Cancer - Korea University', 'Integrated Proteogenomic Characterization of HBV-related Hepatocellular carcinoma', 'MMRF-COMMPASS', 'NCICCR-DLBCL', 'OHSU-CNL', 'ORGANOID-PANCREATIC', 'Oral Squamous Cell Carcinoma - Chang Gung University', 'PJ25730263', 'Proteogenomic Analysis of Pediatric Brain Cancer Tumors Pilot Study', 'Proteogenomic Translational Research Centers (PTRC)', 'REBC-THYR', 'TARGET-ALL-P1', 'TARGET-ALL-P2', 'TARGET-ALL-P3', 'TARGET-AML', 'TARGET-CCSK', 'TARGET-NBL', 'TARGET-OS', 'TARGET-RT', 'TARGET-WT', 'TCGA-ACC', 'TCGA-BLCA', 'TCGA-BRCA', 'TCGA-CESC', 'TCGA-CHOL', 'TCGA-COAD', 'TCGA-DLBC', 'TCGA-ESCA', 'TCGA-GBM', 'TCGA-HNSC', 'TCGA-KICH', 'TCGA-KIRC', 'TCGA-KIRP', 'TCGA-LAML', 'TCGA-LGG', 'TCGA-LIHC', 'TCGA-LUAD', 'TCGA-LUSC', 'TCGA-MESO', 'TCGA-OV', 'TCGA-PAAD', 'TCGA-PCPG', 'TCGA-PRAD', 'TCGA-READ', 'TCGA-SARC', 'TCGA-SKCM', 'TCGA-STAD', 'TCGA-TGCT', 'TCGA-THCA', 'TCGA-THYM', 'TCGA-UCEC', 'TCGA-UCS', 'TCGA-UVM', 'TRIO-CRU', 'VAREPOP-APOLLO', 'WCDT-MCRPC']\n",
      "________________________________________________________________________________\n",
      "Unique terms for ResearchSubject.Specimen.associated_project\n",
      "['Academia Sinica LUAD-100', 'BEATAML1.0-COHORT', 'BEATAML1.0-CRENOLANIB', 'CGCI-BLGSP', 'CGCI-HTMCP-CC', 'CMI-ASC', 'CMI-MBC', 'CMI-MPC', 'CPTAC-2', 'CPTAC-3', 'CPTAC-TCGA', 'CPTAC2 Retrospective', 'CPTAC2-Other', 'CPTAC3-Discovery', 'CPTAC3-Other', 'CTSP-DLBCL1', 'FM-AD', 'GENIE-DFCI', 'GENIE-GRCC', 'GENIE-JHU', 'GENIE-MDA', 'GENIE-MSK', 'GENIE-NKI', 'GENIE-UHN', 'GENIE-VICC', 'Georgetown Lung Cancer Proteomics Study', 'HCMI-CMDC', 'Human Early-Onset Gastric Cancer - Korea University', 'Integrated Proteogenomic Characterization of HBV-related Hepatocellular carcinoma', 'MMRF-COMMPASS', 'NCICCR-DLBCL', 'OHSU-CNL', 'ORGANOID-PANCREATIC', 'Oral Squamous Cell Carcinoma - Chang Gung University', 'PJ25730263', 'Proteogenomic Analysis of Pediatric Brain Cancer Tumors Pilot Study', 'Proteogenomic Translational Research Centers (PTRC)', 'REBC-THYR', 'TARGET-ALL-P1', 'TARGET-ALL-P2', 'TARGET-ALL-P3', 'TARGET-AML', 'TARGET-CCSK', 'TARGET-NBL', 'TARGET-OS', 'TARGET-RT', 'TARGET-WT', 'TCGA-ACC', 'TCGA-BLCA', 'TCGA-BRCA', 'TCGA-CESC', 'TCGA-CHOL', 'TCGA-COAD', 'TCGA-DLBC', 'TCGA-ESCA', 'TCGA-GBM', 'TCGA-HNSC', 'TCGA-KICH', 'TCGA-KIRC', 'TCGA-KIRP', 'TCGA-LAML', 'TCGA-LGG', 'TCGA-LIHC', 'TCGA-LUAD', 'TCGA-LUSC', 'TCGA-MESO', 'TCGA-OV', 'TCGA-PAAD', 'TCGA-PCPG', 'TCGA-PRAD', 'TCGA-READ', 'TCGA-SARC', 'TCGA-SKCM', 'TCGA-STAD', 'TCGA-TGCT', 'TCGA-THCA', 'TCGA-THYM', 'TCGA-UCEC', 'TCGA-UCS', 'TCGA-UVM', 'TRIO-CRU', 'VAREPOP-APOLLO', 'WCDT-MCRPC']\n",
      "________________________________________________________________________________\n",
      "Unique terms for ResearchSubject.Specimen.File.associated_project\n",
      "['Academia Sinica LUAD-100', 'BEATAML1.0-COHORT', 'BEATAML1.0-CRENOLANIB', 'CGCI-BLGSP', 'CGCI-HTMCP-CC', 'CMI-ASC', 'CMI-MBC', 'CMI-MPC', 'CPTAC-2', 'CPTAC-3', 'CPTAC-TCGA', 'CPTAC2 Retrospective', 'CPTAC2-Other', 'CPTAC3-Discovery', 'CPTAC3-Other', 'CTSP-DLBCL1', 'FM-AD', 'GENIE-DFCI', 'GENIE-GRCC', 'GENIE-JHU', 'GENIE-MDA', 'GENIE-MSK', 'GENIE-NKI', 'GENIE-UHN', 'GENIE-VICC', 'Georgetown Lung Cancer Proteomics Study', 'HCMI-CMDC', 'Human Early-Onset Gastric Cancer - Korea University', 'Integrated Proteogenomic Characterization of HBV-related Hepatocellular carcinoma', 'MMRF-COMMPASS', 'NCICCR-DLBCL', 'OHSU-CNL', 'ORGANOID-PANCREATIC', 'Oral Squamous Cell Carcinoma - Chang Gung University', 'PJ25730263', 'Proteogenomic Analysis of Pediatric Brain Cancer Tumors Pilot Study', 'Proteogenomic Translational Research Centers (PTRC)', 'REBC-THYR', 'TARGET-ALL-P1', 'TARGET-ALL-P2', 'TARGET-ALL-P3', 'TARGET-AML', 'TARGET-CCSK', 'TARGET-NBL', 'TARGET-OS', 'TARGET-RT', 'TARGET-WT', 'TCGA-ACC', 'TCGA-BLCA', 'TCGA-BRCA', 'TCGA-CESC', 'TCGA-CHOL', 'TCGA-COAD', 'TCGA-DLBC', 'TCGA-ESCA', 'TCGA-GBM', 'TCGA-HNSC', 'TCGA-KICH', 'TCGA-KIRC', 'TCGA-KIRP', 'TCGA-LAML', 'TCGA-LGG', 'TCGA-LIHC', 'TCGA-LUAD', 'TCGA-LUSC', 'TCGA-MESO', 'TCGA-OV', 'TCGA-PAAD', 'TCGA-PCPG', 'TCGA-PRAD', 'TCGA-READ', 'TCGA-SARC', 'TCGA-SKCM', 'TCGA-STAD', 'TCGA-TGCT', 'TCGA-THCA', 'TCGA-THYM', 'TCGA-UCEC', 'TCGA-UCS', 'TCGA-UVM', 'TRIO-CRU', 'VAREPOP-APOLLO', 'WCDT-MCRPC']\n",
      "________________________________________________________________________________\n"
     ]
    }
   ],
   "source": [
    "fieldnames = ['File.associated_project',\n",
    "'ResearchSubject.associated_project',\n",
    "'ResearchSubject.File.associated_project',\n",
    "'ResearchSubject.Specimen.associated_project',\n",
    "'ResearchSubject.Specimen.File.associated_project']\n",
    "\n",
    "for fname in fieldnames:\n",
    "    print(\"Unique terms for {}\".format(fname))\n",
    "    print(unique_terms(fname))\n",
    "    print('_'*80)"
   ]
  },
  {
   "cell_type": "code",
   "execution_count": 9,
   "id": "f8afd7c0",
   "metadata": {},
   "outputs": [
    {
     "data": {
      "text/plain": [
       "['Academia Sinica LUAD-100',\n",
       " 'BEATAML1.0-COHORT',\n",
       " 'BEATAML1.0-CRENOLANIB',\n",
       " 'CGCI-BLGSP',\n",
       " 'CGCI-HTMCP-CC',\n",
       " 'CMI-ASC',\n",
       " 'CMI-MBC',\n",
       " 'CMI-MPC',\n",
       " 'CPTAC-2',\n",
       " 'CPTAC-3',\n",
       " 'CPTAC-TCGA',\n",
       " 'CPTAC2 Retrospective',\n",
       " 'CPTAC2-Other',\n",
       " 'CPTAC3-Discovery',\n",
       " 'CPTAC3-Other',\n",
       " 'CTSP-DLBCL1',\n",
       " 'FM-AD',\n",
       " 'GENIE-DFCI',\n",
       " 'GENIE-GRCC',\n",
       " 'GENIE-JHU',\n",
       " 'GENIE-MDA',\n",
       " 'GENIE-MSK',\n",
       " 'GENIE-NKI',\n",
       " 'GENIE-UHN',\n",
       " 'GENIE-VICC',\n",
       " 'Georgetown Lung Cancer Proteomics Study',\n",
       " 'HCMI-CMDC',\n",
       " 'Human Early-Onset Gastric Cancer - Korea University',\n",
       " 'Integrated Proteogenomic Characterization of HBV-related Hepatocellular carcinoma',\n",
       " 'MMRF-COMMPASS',\n",
       " 'NCICCR-DLBCL',\n",
       " 'OHSU-CNL',\n",
       " 'ORGANOID-PANCREATIC',\n",
       " 'Oral Squamous Cell Carcinoma - Chang Gung University',\n",
       " 'PJ25730263',\n",
       " 'Proteogenomic Analysis of Pediatric Brain Cancer Tumors Pilot Study',\n",
       " 'Proteogenomic Translational Research Centers (PTRC)',\n",
       " 'REBC-THYR',\n",
       " 'TARGET-ALL-P1',\n",
       " 'TARGET-ALL-P2',\n",
       " 'TARGET-ALL-P3',\n",
       " 'TARGET-AML',\n",
       " 'TARGET-CCSK',\n",
       " 'TARGET-NBL',\n",
       " 'TARGET-OS',\n",
       " 'TARGET-RT',\n",
       " 'TARGET-WT',\n",
       " 'TCGA-ACC',\n",
       " 'TCGA-BLCA',\n",
       " 'TCGA-BRCA',\n",
       " 'TCGA-CESC',\n",
       " 'TCGA-CHOL',\n",
       " 'TCGA-COAD',\n",
       " 'TCGA-DLBC',\n",
       " 'TCGA-ESCA',\n",
       " 'TCGA-GBM',\n",
       " 'TCGA-HNSC',\n",
       " 'TCGA-KICH',\n",
       " 'TCGA-KIRC',\n",
       " 'TCGA-KIRP',\n",
       " 'TCGA-LAML',\n",
       " 'TCGA-LGG',\n",
       " 'TCGA-LIHC',\n",
       " 'TCGA-LUAD',\n",
       " 'TCGA-LUSC',\n",
       " 'TCGA-MESO',\n",
       " 'TCGA-OV',\n",
       " 'TCGA-PAAD',\n",
       " 'TCGA-PCPG',\n",
       " 'TCGA-PRAD',\n",
       " 'TCGA-READ',\n",
       " 'TCGA-SARC',\n",
       " 'TCGA-SKCM',\n",
       " 'TCGA-STAD',\n",
       " 'TCGA-TGCT',\n",
       " 'TCGA-THCA',\n",
       " 'TCGA-THYM',\n",
       " 'TCGA-UCEC',\n",
       " 'TCGA-UCS',\n",
       " 'TCGA-UVM',\n",
       " 'TRIO-CRU',\n",
       " 'VAREPOP-APOLLO',\n",
       " 'WCDT-MCRPC']"
      ]
     },
     "execution_count": 9,
     "metadata": {},
     "output_type": "execute_result"
    }
   ],
   "source": [
    "unique_terms('ResearchSubject.Specimen.associated_project')"
   ]
  },
  {
   "cell_type": "code",
   "execution_count": null,
   "id": "60dc19d1",
   "metadata": {},
   "outputs": [],
   "source": []
  }
 ],
 "metadata": {
  "kernelspec": {
   "display_name": "Python 3 (ipykernel)",
   "language": "python",
   "name": "python3"
  },
  "language_info": {
   "codemirror_mode": {
    "name": "ipython",
    "version": 3
   },
   "file_extension": ".py",
   "mimetype": "text/x-python",
   "name": "python",
   "nbconvert_exporter": "python",
   "pygments_lexer": "ipython3",
   "version": "3.9.7"
  }
 },
 "nbformat": 4,
 "nbformat_minor": 5
}
